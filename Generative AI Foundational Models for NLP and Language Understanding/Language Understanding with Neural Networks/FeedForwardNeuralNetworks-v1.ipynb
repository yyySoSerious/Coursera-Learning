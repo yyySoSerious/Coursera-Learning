{
  "cells": [
    {
      "cell_type": "markdown",
      "metadata": {
        "id": "88940a8b-1030-4e5b-b4a8-819234760cb6"
      },
      "source": [
        "<p style=\"text-align:center\">\n",
        "    <a href=\"https://skills.network\" target=\"_blank\">\n",
        "    <img src=\"https://cf-courses-data.s3.us.cloud-object-storage.appdomain.cloud/assets/logos/SN_web_lightmode.png\" width=\"200\" alt=\"Skills Network Logo\">\n",
        "    </a>\n",
        "</p>\n"
      ]
    },
    {
      "cell_type": "markdown",
      "metadata": {
        "id": "80cf199f-0779-49d9-a5af-8875c9838c1c"
      },
      "source": [
        "# **Building and Training a Feedforward Neural Network for Language Modeling**\n",
        "\n",
        "Estimated time needed: **60** minutes\n",
        "\n",
        "This project explores the use of Feedforward Neural Networks (FNNs) in language modeling. The primary objective is to build a neural network that learns word relationships and generates meaningful text sequences. The implementation is done using PyTorch, covering key aspects of Natural Language Processing (NLP), such as:\n",
        "* Tokenization & Indexing: Converting text into numerical representations.\n",
        "* Embedding Layers: Mapping words to dense vector representations for efficient learning.\n",
        "* Context-Target Pair Generation (N-grams): Structuring training data for sequence prediction.\n",
        "* Multi-Class Neural Network: Designing a model to predict the next word in a sequence.\n",
        "\n",
        "The training process includes optimizing the model with loss functions and backpropagation techniques to improve accuracy and coherence in text generation. By the end of the project, you will have a working FNN-based language model capable of generating text sequences.\n",
        "<div style=\"text-align:center;\">\n",
        "    <img src=\"https://cf-courses-data.s3.us.cloud-object-storage.appdomain.cloud/IBM-GPXX0WSVEN/song%20%281%29.png\" alt=\"Image Description\">\n",
        "</div>\n"
      ]
    },
    {
      "cell_type": "markdown",
      "metadata": {
        "id": "1f409586-8c72-4318-9e8c-da8e810f1f9d"
      },
      "source": [
        "# __Table of Contents__\n",
        "\n",
        "<ol>\n",
        "    <li><a href=\"#Objectives\">Objectives</a></li>\n",
        "    <li>\n",
        "        <a href=\"#Setup\">Setup</a>\n",
        "        <ol>\n",
        "            <li><a href=\"#Installing-required-libraries\">Installing required libraries</a></li>\n",
        "            <li><a href=\"#Importing-required-libraries\">Importing required libraries</a></li>\n",
        "            <li><a href=\"#Defining-helper-functions\">Defining helper functions</a></li>\n",
        "        </ol>\n",
        "    </li>\n",
        "    <li>\n",
        "       <a href=\"#Feedforward-Neural-Networks-(FNNs)-for-language-models\">Feedforward Neural Networks (FNNs) for language models</a></li>\n",
        "        <ol>\n",
        "            <li><a href=\"#Tokenization-for-FNN\">Tokenization for FNN</a></li>\n",
        "            <li><a href=\"#Indexing\">Indexing</a></li>\n",
        "            <li><a href=\"#Embedding-layers\">Embedding layers</a></li>\n",
        "        </ol>\n",
        "</li>\n",
        "    <li><a href=\"#Generating-context-target-pairs-(n-grams)\">Generating context-target pairs (n-grams)</a></li>\n",
        "    <ol>\n",
        "        <li><a href=\"#Batch-function\">Batch function</a></li>\n",
        "        <li><a href=\"#Multi-class-neural-network\">Multi-class neural network</a></li>\n",
        "    </ol>\n",
        "    <li><a href=\"#Training\">Training</a></li>\n",
        "    </li>\n",
        "    <li><a href=\"#Exercises\">Exercises</a></li>\n",
        "    </li>\n",
        "</ol>\n"
      ]
    },
    {
      "cell_type": "markdown",
      "metadata": {
        "id": "79b52a70-c34e-4607-bf0b-94f43d6b17ff"
      },
      "source": [
        "---\n"
      ]
    },
    {
      "cell_type": "markdown",
      "metadata": {
        "id": "59c0e046-059c-4747-819d-2a6fb6076f09"
      },
      "source": [
        "# Objectives\n",
        "\n",
        "After completing this lab, you will be able to:\n",
        "\n",
        " - Implement a feedforward neural network using the PyTorch framework, including embedding layers, for language modeling tasks.\n",
        " - Fine-tune the output layer of the neural network for optimal performance in text generation.\n",
        " - Apply various training strategies and fundamental Natural Language Processing (NLP) techniques, such as tokenization and sequence analysis, to improve text generation.\n"
      ]
    },
    {
      "cell_type": "markdown",
      "metadata": {
        "id": "cc519a64-ae84-4d29-b2b8-e0a7bf80842c"
      },
      "source": [
        "---\n"
      ]
    },
    {
      "cell_type": "markdown",
      "metadata": {
        "id": "958e0271-d4ee-4ac9-8fff-c6d65783687d"
      },
      "source": [
        "# Setup\n"
      ]
    },
    {
      "cell_type": "markdown",
      "metadata": {
        "id": "e3189c4b-1a61-4978-b23f-692920b5ebac"
      },
      "source": [
        "For this lab, you will use the following libraries:\n",
        "\n",
        "*   [`pandas`](https://pandas.pydata.org/?utm_medium=Exinfluencer&utm_source=Exinfluencer&utm_content=000026UJ&utm_term=10006555&utm_id=NA-SkillsNetwork-Channel-SkillsNetworkCoursesIBMML0187ENSkillsNetwork31430127-2021-01-01) for managing the data.\n",
        "*   [`numpy`](https://numpy.org/?utm_medium=Exinfluencer&utm_source=Exinfluencer&utm_content=000026UJ&utm_term=10006555&utm_id=NA-SkillsNetwork-Channel-SkillsNetworkCoursesIBMML0187ENSkillsNetwork31430127-2021-01-01) for mathematical operations.\n",
        "*   [`sklearn`](https://scikit-learn.org/stable/?utm_medium=Exinfluencer&utm_source=Exinfluencer&utm_content=000026UJ&utm_term=10006555&utm_id=NA-SkillsNetwork-Channel-SkillsNetworkCoursesIBMML0187ENSkillsNetwork31430127-2021-01-01) for machine learning and machine-learning-pipeline related functions.\n",
        "*   [`seaborn`](https://seaborn.pydata.org/?utm_medium=Exinfluencer&utm_source=Exinfluencer&utm_content=000026UJ&utm_term=10006555&utm_id=NA-SkillsNetwork-Channel-SkillsNetworkCoursesIBMML0187ENSkillsNetwork31430127-2021-01-01) for visualizing the data.\n",
        "*   [`matplotlib`](https://matplotlib.org/?utm_medium=Exinfluencer&utm_source=Exinfluencer&utm_content=000026UJ&utm_term=10006555&utm_id=NA-SkillsNetwork-Channel-SkillsNetworkCoursesIBMML0187ENSkillsNetwork31430127-2021-01-01) for additional plotting tools.\n"
      ]
    },
    {
      "cell_type": "markdown",
      "metadata": {
        "id": "aace2687-d041-4e3a-ac9b-c1ca26219256"
      },
      "source": [
        "### Installing required libraries\n",
        "\n",
        "All the required libraries are pre-installed in the Skills Network Labs environment. However, if you run this notebook commands in a different Jupyter environment (e.g. Watson Studio or Ananconda), you will need to install these libraries using the code cell below.\n",
        "\n",
        "<h2 style=\"color:red;\">After installing the libraries below please RESTART THE KERNEL and run all cells.</h2>\n"
      ]
    },
    {
      "cell_type": "code",
      "metadata": {
        "id": "b1155ed8-ec2e-46c8-95f8-a2ba0af1296b"
      },
      "outputs": [],
      "source": [
        "%%capture\n",
        "!pip install nltk\n",
        "!pip install scikit-learn\n",
        "!pip install torch==2.6.0\n",
        "!pip install torchtext==0.17.2\n",
        "!pip install matplotlib\n",
        "!pip install pandas\n",
        "!pip install numpy==1.26.4"
      ],
      "execution_count": null
    },
    {
      "cell_type": "markdown",
      "metadata": {
        "id": "ffaea88a-b318-4268-b730-5e58c860402e"
      },
      "source": [
        "__Note__: The following required libraries are __not__ pre-installed in the Skills Network Labs environment. __You will need to run the following cell__ to install them:\n"
      ]
    },
    {
      "cell_type": "markdown",
      "metadata": {
        "id": "9da581ef-a910-4159-9e27-6dc9af90866a"
      },
      "source": [
        "### Importing required libraries\n",
        "\n",
        "_It is recommended that you import all required libraries in one place (here):_\n"
      ]
    },
    {
      "cell_type": "code",
      "source": [
        "!pip uninstall -y torch torchtext\n",
        "!pip install torch==2.2.0 torchtext==0.17.0"
      ],
      "metadata": {
        "colab": {
          "base_uri": "https://localhost:8080/",
          "height": 1000
        },
        "collapsed": true,
        "id": "7DUbCJ4qzGh6",
        "outputId": "36250e99-8193-4825-ed33-8f94e56b4c43"
      },
      "execution_count": 2,
      "outputs": [
        {
          "output_type": "stream",
          "name": "stdout",
          "text": [
            "Found existing installation: torch 2.6.0+cu124\n",
            "Uninstalling torch-2.6.0+cu124:\n",
            "  Successfully uninstalled torch-2.6.0+cu124\n",
            "\u001b[33mWARNING: Skipping torchtext as it is not installed.\u001b[0m\u001b[33m\n",
            "\u001b[0mCollecting torch==2.2.0\n",
            "  Downloading torch-2.2.0-cp311-cp311-manylinux1_x86_64.whl.metadata (25 kB)\n",
            "Collecting torchtext==0.17.0\n",
            "  Downloading torchtext-0.17.0-cp311-cp311-manylinux1_x86_64.whl.metadata (7.6 kB)\n",
            "Requirement already satisfied: filelock in /usr/local/lib/python3.11/dist-packages (from torch==2.2.0) (3.18.0)\n",
            "Requirement already satisfied: typing-extensions>=4.8.0 in /usr/local/lib/python3.11/dist-packages (from torch==2.2.0) (4.13.2)\n",
            "Requirement already satisfied: sympy in /usr/local/lib/python3.11/dist-packages (from torch==2.2.0) (1.13.1)\n",
            "Requirement already satisfied: networkx in /usr/local/lib/python3.11/dist-packages (from torch==2.2.0) (3.4.2)\n",
            "Requirement already satisfied: jinja2 in /usr/local/lib/python3.11/dist-packages (from torch==2.2.0) (3.1.6)\n",
            "Requirement already satisfied: fsspec in /usr/local/lib/python3.11/dist-packages (from torch==2.2.0) (2025.3.2)\n",
            "Collecting nvidia-cuda-nvrtc-cu12==12.1.105 (from torch==2.2.0)\n",
            "  Downloading nvidia_cuda_nvrtc_cu12-12.1.105-py3-none-manylinux1_x86_64.whl.metadata (1.5 kB)\n",
            "Collecting nvidia-cuda-runtime-cu12==12.1.105 (from torch==2.2.0)\n",
            "  Downloading nvidia_cuda_runtime_cu12-12.1.105-py3-none-manylinux1_x86_64.whl.metadata (1.5 kB)\n",
            "Collecting nvidia-cuda-cupti-cu12==12.1.105 (from torch==2.2.0)\n",
            "  Downloading nvidia_cuda_cupti_cu12-12.1.105-py3-none-manylinux1_x86_64.whl.metadata (1.6 kB)\n",
            "Collecting nvidia-cudnn-cu12==8.9.2.26 (from torch==2.2.0)\n",
            "  Downloading nvidia_cudnn_cu12-8.9.2.26-py3-none-manylinux1_x86_64.whl.metadata (1.6 kB)\n",
            "Collecting nvidia-cublas-cu12==12.1.3.1 (from torch==2.2.0)\n",
            "  Downloading nvidia_cublas_cu12-12.1.3.1-py3-none-manylinux1_x86_64.whl.metadata (1.5 kB)\n",
            "Collecting nvidia-cufft-cu12==11.0.2.54 (from torch==2.2.0)\n",
            "  Downloading nvidia_cufft_cu12-11.0.2.54-py3-none-manylinux1_x86_64.whl.metadata (1.5 kB)\n",
            "Collecting nvidia-curand-cu12==10.3.2.106 (from torch==2.2.0)\n",
            "  Downloading nvidia_curand_cu12-10.3.2.106-py3-none-manylinux1_x86_64.whl.metadata (1.5 kB)\n",
            "Collecting nvidia-cusolver-cu12==11.4.5.107 (from torch==2.2.0)\n",
            "  Downloading nvidia_cusolver_cu12-11.4.5.107-py3-none-manylinux1_x86_64.whl.metadata (1.6 kB)\n",
            "Collecting nvidia-cusparse-cu12==12.1.0.106 (from torch==2.2.0)\n",
            "  Downloading nvidia_cusparse_cu12-12.1.0.106-py3-none-manylinux1_x86_64.whl.metadata (1.6 kB)\n",
            "Collecting nvidia-nccl-cu12==2.19.3 (from torch==2.2.0)\n",
            "  Downloading nvidia_nccl_cu12-2.19.3-py3-none-manylinux1_x86_64.whl.metadata (1.8 kB)\n",
            "Collecting nvidia-nvtx-cu12==12.1.105 (from torch==2.2.0)\n",
            "  Downloading nvidia_nvtx_cu12-12.1.105-py3-none-manylinux1_x86_64.whl.metadata (1.7 kB)\n",
            "Collecting triton==2.2.0 (from torch==2.2.0)\n",
            "  Downloading triton-2.2.0-cp311-cp311-manylinux_2_17_x86_64.manylinux2014_x86_64.whl.metadata (1.4 kB)\n",
            "Requirement already satisfied: tqdm in /usr/local/lib/python3.11/dist-packages (from torchtext==0.17.0) (4.67.1)\n",
            "Requirement already satisfied: requests in /usr/local/lib/python3.11/dist-packages (from torchtext==0.17.0) (2.32.3)\n",
            "Requirement already satisfied: numpy in /usr/local/lib/python3.11/dist-packages (from torchtext==0.17.0) (2.0.2)\n",
            "Collecting torchdata==0.7.1 (from torchtext==0.17.0)\n",
            "  Downloading torchdata-0.7.1-cp311-cp311-manylinux_2_17_x86_64.manylinux2014_x86_64.whl.metadata (13 kB)\n",
            "Requirement already satisfied: nvidia-nvjitlink-cu12 in /usr/local/lib/python3.11/dist-packages (from nvidia-cusolver-cu12==11.4.5.107->torch==2.2.0) (12.5.82)\n",
            "Requirement already satisfied: urllib3>=1.25 in /usr/local/lib/python3.11/dist-packages (from torchdata==0.7.1->torchtext==0.17.0) (2.3.0)\n",
            "Requirement already satisfied: MarkupSafe>=2.0 in /usr/local/lib/python3.11/dist-packages (from jinja2->torch==2.2.0) (3.0.2)\n",
            "Requirement already satisfied: charset-normalizer<4,>=2 in /usr/local/lib/python3.11/dist-packages (from requests->torchtext==0.17.0) (3.4.1)\n",
            "Requirement already satisfied: idna<4,>=2.5 in /usr/local/lib/python3.11/dist-packages (from requests->torchtext==0.17.0) (3.10)\n",
            "Requirement already satisfied: certifi>=2017.4.17 in /usr/local/lib/python3.11/dist-packages (from requests->torchtext==0.17.0) (2025.1.31)\n",
            "Requirement already satisfied: mpmath<1.4,>=1.1.0 in /usr/local/lib/python3.11/dist-packages (from sympy->torch==2.2.0) (1.3.0)\n",
            "Downloading torch-2.2.0-cp311-cp311-manylinux1_x86_64.whl (755.5 MB)\n",
            "\u001b[2K   \u001b[90m━━━━━━━━━━━━━━━━━━━━━━━━━━━━━━━━━━━━━━━━\u001b[0m \u001b[32m755.5/755.5 MB\u001b[0m \u001b[31m2.0 MB/s\u001b[0m eta \u001b[36m0:00:00\u001b[0m\n",
            "\u001b[?25hDownloading torchtext-0.17.0-cp311-cp311-manylinux1_x86_64.whl (2.0 MB)\n",
            "\u001b[2K   \u001b[90m━━━━━━━━━━━━━━━━━━━━━━━━━━━━━━━━━━━━━━━━\u001b[0m \u001b[32m2.0/2.0 MB\u001b[0m \u001b[31m72.0 MB/s\u001b[0m eta \u001b[36m0:00:00\u001b[0m\n",
            "\u001b[?25hDownloading nvidia_cublas_cu12-12.1.3.1-py3-none-manylinux1_x86_64.whl (410.6 MB)\n",
            "\u001b[2K   \u001b[90m━━━━━━━━━━━━━━━━━━━━━━━━━━━━━━━━━━━━━━━━\u001b[0m \u001b[32m410.6/410.6 MB\u001b[0m \u001b[31m3.8 MB/s\u001b[0m eta \u001b[36m0:00:00\u001b[0m\n",
            "\u001b[?25hDownloading nvidia_cuda_cupti_cu12-12.1.105-py3-none-manylinux1_x86_64.whl (14.1 MB)\n",
            "\u001b[2K   \u001b[90m━━━━━━━━━━━━━━━━━━━━━━━━━━━━━━━━━━━━━━━━\u001b[0m \u001b[32m14.1/14.1 MB\u001b[0m \u001b[31m67.9 MB/s\u001b[0m eta \u001b[36m0:00:00\u001b[0m\n",
            "\u001b[?25hDownloading nvidia_cuda_nvrtc_cu12-12.1.105-py3-none-manylinux1_x86_64.whl (23.7 MB)\n",
            "\u001b[2K   \u001b[90m━━━━━━━━━━━━━━━━━━━━━━━━━━━━━━━━━━━━━━━━\u001b[0m \u001b[32m23.7/23.7 MB\u001b[0m \u001b[31m58.4 MB/s\u001b[0m eta \u001b[36m0:00:00\u001b[0m\n",
            "\u001b[?25hDownloading nvidia_cuda_runtime_cu12-12.1.105-py3-none-manylinux1_x86_64.whl (823 kB)\n",
            "\u001b[2K   \u001b[90m━━━━━━━━━━━━━━━━━━━━━━━━━━━━━━━━━━━━━━━━\u001b[0m \u001b[32m823.6/823.6 kB\u001b[0m \u001b[31m37.9 MB/s\u001b[0m eta \u001b[36m0:00:00\u001b[0m\n",
            "\u001b[?25hDownloading nvidia_cudnn_cu12-8.9.2.26-py3-none-manylinux1_x86_64.whl (731.7 MB)\n",
            "\u001b[2K   \u001b[90m━━━━━━━━━━━━━━━━━━━━━━━━━━━━━━━━━━━━━━━━\u001b[0m \u001b[32m731.7/731.7 MB\u001b[0m \u001b[31m1.3 MB/s\u001b[0m eta \u001b[36m0:00:00\u001b[0m\n",
            "\u001b[?25hDownloading nvidia_cufft_cu12-11.0.2.54-py3-none-manylinux1_x86_64.whl (121.6 MB)\n",
            "\u001b[2K   \u001b[90m━━━━━━━━━━━━━━━━━━━━━━━━━━━━━━━━━━━━━━━━\u001b[0m \u001b[32m121.6/121.6 MB\u001b[0m \u001b[31m7.9 MB/s\u001b[0m eta \u001b[36m0:00:00\u001b[0m\n",
            "\u001b[?25hDownloading nvidia_curand_cu12-10.3.2.106-py3-none-manylinux1_x86_64.whl (56.5 MB)\n",
            "\u001b[2K   \u001b[90m━━━━━━━━━━━━━━━━━━━━━━━━━━━━━━━━━━━━━━━━\u001b[0m \u001b[32m56.5/56.5 MB\u001b[0m \u001b[31m12.7 MB/s\u001b[0m eta \u001b[36m0:00:00\u001b[0m\n",
            "\u001b[?25hDownloading nvidia_cusolver_cu12-11.4.5.107-py3-none-manylinux1_x86_64.whl (124.2 MB)\n",
            "\u001b[2K   \u001b[90m━━━━━━━━━━━━━━━━━━━━━━━━━━━━━━━━━━━━━━━━\u001b[0m \u001b[32m124.2/124.2 MB\u001b[0m \u001b[31m8.5 MB/s\u001b[0m eta \u001b[36m0:00:00\u001b[0m\n",
            "\u001b[?25hDownloading nvidia_cusparse_cu12-12.1.0.106-py3-none-manylinux1_x86_64.whl (196.0 MB)\n",
            "\u001b[2K   \u001b[90m━━━━━━━━━━━━━━━━━━━━━━━━━━━━━━━━━━━━━━━━\u001b[0m \u001b[32m196.0/196.0 MB\u001b[0m \u001b[31m5.9 MB/s\u001b[0m eta \u001b[36m0:00:00\u001b[0m\n",
            "\u001b[?25hDownloading nvidia_nccl_cu12-2.19.3-py3-none-manylinux1_x86_64.whl (166.0 MB)\n",
            "\u001b[2K   \u001b[90m━━━━━━━━━━━━━━━━━━━━━━━━━━━━━━━━━━━━━━━━\u001b[0m \u001b[32m166.0/166.0 MB\u001b[0m \u001b[31m8.2 MB/s\u001b[0m eta \u001b[36m0:00:00\u001b[0m\n",
            "\u001b[?25hDownloading nvidia_nvtx_cu12-12.1.105-py3-none-manylinux1_x86_64.whl (99 kB)\n",
            "\u001b[2K   \u001b[90m━━━━━━━━━━━━━━━━━━━━━━━━━━━━━━━━━━━━━━━━\u001b[0m \u001b[32m99.1/99.1 kB\u001b[0m \u001b[31m7.5 MB/s\u001b[0m eta \u001b[36m0:00:00\u001b[0m\n",
            "\u001b[?25hDownloading torchdata-0.7.1-cp311-cp311-manylinux_2_17_x86_64.manylinux2014_x86_64.whl (4.7 MB)\n",
            "\u001b[2K   \u001b[90m━━━━━━━━━━━━━━━━━━━━━━━━━━━━━━━━━━━━━━━━\u001b[0m \u001b[32m4.7/4.7 MB\u001b[0m \u001b[31m88.4 MB/s\u001b[0m eta \u001b[36m0:00:00\u001b[0m\n",
            "\u001b[?25hDownloading triton-2.2.0-cp311-cp311-manylinux_2_17_x86_64.manylinux2014_x86_64.whl (167.9 MB)\n",
            "\u001b[2K   \u001b[90m━━━━━━━━━━━━━━━━━━━━━━━━━━━━━━━━━━━━━━━━\u001b[0m \u001b[32m167.9/167.9 MB\u001b[0m \u001b[31m6.7 MB/s\u001b[0m eta \u001b[36m0:00:00\u001b[0m\n",
            "\u001b[?25hInstalling collected packages: triton, nvidia-nvtx-cu12, nvidia-nccl-cu12, nvidia-cusparse-cu12, nvidia-curand-cu12, nvidia-cufft-cu12, nvidia-cuda-runtime-cu12, nvidia-cuda-nvrtc-cu12, nvidia-cuda-cupti-cu12, nvidia-cublas-cu12, nvidia-cusolver-cu12, nvidia-cudnn-cu12, torch, torchdata, torchtext\n",
            "  Attempting uninstall: triton\n",
            "    Found existing installation: triton 3.2.0\n",
            "    Uninstalling triton-3.2.0:\n",
            "      Successfully uninstalled triton-3.2.0\n",
            "  Attempting uninstall: nvidia-nvtx-cu12\n",
            "    Found existing installation: nvidia-nvtx-cu12 12.4.127\n",
            "    Uninstalling nvidia-nvtx-cu12-12.4.127:\n",
            "      Successfully uninstalled nvidia-nvtx-cu12-12.4.127\n",
            "  Attempting uninstall: nvidia-nccl-cu12\n",
            "    Found existing installation: nvidia-nccl-cu12 2.21.5\n",
            "    Uninstalling nvidia-nccl-cu12-2.21.5:\n",
            "      Successfully uninstalled nvidia-nccl-cu12-2.21.5\n",
            "  Attempting uninstall: nvidia-cusparse-cu12\n",
            "    Found existing installation: nvidia-cusparse-cu12 12.5.1.3\n",
            "    Uninstalling nvidia-cusparse-cu12-12.5.1.3:\n",
            "      Successfully uninstalled nvidia-cusparse-cu12-12.5.1.3\n",
            "  Attempting uninstall: nvidia-curand-cu12\n",
            "    Found existing installation: nvidia-curand-cu12 10.3.6.82\n",
            "    Uninstalling nvidia-curand-cu12-10.3.6.82:\n",
            "      Successfully uninstalled nvidia-curand-cu12-10.3.6.82\n",
            "  Attempting uninstall: nvidia-cufft-cu12\n",
            "    Found existing installation: nvidia-cufft-cu12 11.2.3.61\n",
            "    Uninstalling nvidia-cufft-cu12-11.2.3.61:\n",
            "      Successfully uninstalled nvidia-cufft-cu12-11.2.3.61\n",
            "  Attempting uninstall: nvidia-cuda-runtime-cu12\n",
            "    Found existing installation: nvidia-cuda-runtime-cu12 12.5.82\n",
            "    Uninstalling nvidia-cuda-runtime-cu12-12.5.82:\n",
            "      Successfully uninstalled nvidia-cuda-runtime-cu12-12.5.82\n",
            "  Attempting uninstall: nvidia-cuda-nvrtc-cu12\n",
            "    Found existing installation: nvidia-cuda-nvrtc-cu12 12.5.82\n",
            "    Uninstalling nvidia-cuda-nvrtc-cu12-12.5.82:\n",
            "      Successfully uninstalled nvidia-cuda-nvrtc-cu12-12.5.82\n",
            "  Attempting uninstall: nvidia-cuda-cupti-cu12\n",
            "    Found existing installation: nvidia-cuda-cupti-cu12 12.5.82\n",
            "    Uninstalling nvidia-cuda-cupti-cu12-12.5.82:\n",
            "      Successfully uninstalled nvidia-cuda-cupti-cu12-12.5.82\n",
            "  Attempting uninstall: nvidia-cublas-cu12\n",
            "    Found existing installation: nvidia-cublas-cu12 12.5.3.2\n",
            "    Uninstalling nvidia-cublas-cu12-12.5.3.2:\n",
            "      Successfully uninstalled nvidia-cublas-cu12-12.5.3.2\n",
            "  Attempting uninstall: nvidia-cusolver-cu12\n",
            "    Found existing installation: nvidia-cusolver-cu12 11.6.3.83\n",
            "    Uninstalling nvidia-cusolver-cu12-11.6.3.83:\n",
            "      Successfully uninstalled nvidia-cusolver-cu12-11.6.3.83\n",
            "  Attempting uninstall: nvidia-cudnn-cu12\n",
            "    Found existing installation: nvidia-cudnn-cu12 9.3.0.75\n",
            "    Uninstalling nvidia-cudnn-cu12-9.3.0.75:\n",
            "      Successfully uninstalled nvidia-cudnn-cu12-9.3.0.75\n",
            "\u001b[31mERROR: pip's dependency resolver does not currently take into account all the packages that are installed. This behaviour is the source of the following dependency conflicts.\n",
            "torchvision 0.21.0+cu124 requires torch==2.6.0, but you have torch 2.2.0 which is incompatible.\n",
            "torchaudio 2.6.0+cu124 requires torch==2.6.0, but you have torch 2.2.0 which is incompatible.\u001b[0m\u001b[31m\n",
            "\u001b[0mSuccessfully installed nvidia-cublas-cu12-12.1.3.1 nvidia-cuda-cupti-cu12-12.1.105 nvidia-cuda-nvrtc-cu12-12.1.105 nvidia-cuda-runtime-cu12-12.1.105 nvidia-cudnn-cu12-8.9.2.26 nvidia-cufft-cu12-11.0.2.54 nvidia-curand-cu12-10.3.2.106 nvidia-cusolver-cu12-11.4.5.107 nvidia-cusparse-cu12-12.1.0.106 nvidia-nccl-cu12-2.19.3 nvidia-nvtx-cu12-12.1.105 torch-2.2.0 torchdata-0.7.1 torchtext-0.17.0 triton-2.2.0\n"
          ]
        },
        {
          "output_type": "display_data",
          "data": {
            "application/vnd.colab-display-data+json": {
              "pip_warning": {
                "packages": [
                  "torch",
                  "torchgen"
                ]
              },
              "id": "8ffe409649084f61b1f4b70a31e073f4"
            }
          },
          "metadata": {}
        }
      ]
    },
    {
      "cell_type": "code",
      "source": [
        "!pip uninstall -y numpy\n",
        "!pip install numpy==1.26.4"
      ],
      "metadata": {
        "colab": {
          "base_uri": "https://localhost:8080/"
        },
        "collapsed": true,
        "id": "lkT6PnX5G8Dg",
        "outputId": "fda8ce38-59fb-4c9e-91fd-a0e9d11a82d7"
      },
      "execution_count": 50,
      "outputs": [
        {
          "output_type": "stream",
          "name": "stdout",
          "text": [
            "Found existing installation: numpy 2.0.2\n",
            "Uninstalling numpy-2.0.2:\n",
            "  Successfully uninstalled numpy-2.0.2\n",
            "Collecting numpy==1.26.4\n",
            "  Downloading numpy-1.26.4-cp311-cp311-manylinux_2_17_x86_64.manylinux2014_x86_64.whl.metadata (61 kB)\n",
            "\u001b[2K     \u001b[90m━━━━━━━━━━━━━━━━━━━━━━━━━━━━━━━━━━━━━━━━\u001b[0m \u001b[32m61.0/61.0 kB\u001b[0m \u001b[31m2.8 MB/s\u001b[0m eta \u001b[36m0:00:00\u001b[0m\n",
            "\u001b[?25hDownloading numpy-1.26.4-cp311-cp311-manylinux_2_17_x86_64.manylinux2014_x86_64.whl (18.3 MB)\n",
            "\u001b[2K   \u001b[90m━━━━━━━━━━━━━━━━━━━━━━━━━━━━━━━━━━━━━━━━\u001b[0m \u001b[32m18.3/18.3 MB\u001b[0m \u001b[31m71.2 MB/s\u001b[0m eta \u001b[36m0:00:00\u001b[0m\n",
            "\u001b[?25hInstalling collected packages: numpy\n",
            "\u001b[31mERROR: pip's dependency resolver does not currently take into account all the packages that are installed. This behaviour is the source of the following dependency conflicts.\n",
            "thinc 8.3.6 requires numpy<3.0.0,>=2.0.0, but you have numpy 1.26.4 which is incompatible.\n",
            "torchvision 0.21.0+cu124 requires torch==2.6.0, but you have torch 2.2.0 which is incompatible.\u001b[0m\u001b[31m\n",
            "\u001b[0mSuccessfully installed numpy-1.26.4\n"
          ]
        }
      ]
    },
    {
      "cell_type": "code",
      "metadata": {
        "id": "b0a82bf4-ed4a-4ff8-9ad1-c6dc6c4b51a9"
      },
      "outputs": [],
      "source": [
        "%%capture\n",
        "import warnings\n",
        "from tqdm import tqdm\n",
        "\n",
        "warnings.simplefilter('ignore')\n",
        "import time\n",
        "from collections import OrderedDict\n",
        "\n",
        "import re\n",
        "\n",
        "import numpy as np\n",
        "import matplotlib.pyplot as plt\n",
        "import pandas as pd\n",
        "import random\n",
        "\n",
        "import nltk\n",
        "nltk.download('punkt')\n",
        "nltk.download('punkt_tab')\n",
        "\n",
        "import torch\n",
        "import torch.nn as nn\n",
        "import torch.nn.functional as F\n",
        "import torch.optim as optim\n",
        "import string\n",
        "import time\n",
        "from torchtext.data.utils import get_tokenizer\n",
        "from torchtext.vocab import build_vocab_from_iterator\n",
        "from nltk.tokenize import word_tokenize\n",
        "\n",
        "import matplotlib.pyplot as plt\n",
        "from sklearn.manifold import TSNE\n",
        "\n",
        "# You can also use this section to suppress warnings generated by your code:\n",
        "def warn(*args, **kwargs):\n",
        "    pass\n",
        "import warnings\n",
        "warnings.warn = warn\n",
        "%capture"
      ],
      "execution_count": 1
    },
    {
      "cell_type": "markdown",
      "metadata": {
        "id": "3ffa0f5e-bfdd-4622-8aba-7f9ee448b150"
      },
      "source": [
        "---\n"
      ]
    },
    {
      "cell_type": "markdown",
      "metadata": {
        "id": "5093805c-38f1-47c7-a29d-d686427ba835"
      },
      "source": [
        "## Feedforward Neural Networks (FNNs) for language models\n",
        "\n",
        "FNNs, or Multi-Layer Perceptrons, serve as the foundational components for comprehending neural networks in natural language processing (NLP). In NLP tasks, FNNs process textual data by transforming it into numerical vectors known as embeddings. Subsequently, these embeddings are input to the network to predict language facets, such as the upcoming word in a sentence or the sentiment of a text.\n",
        "\n",
        "Let's consider the following song lyrics for our analysis.\n"
      ]
    },
    {
      "cell_type": "code",
      "metadata": {
        "id": "aacd21bf-6852-4ef8-b843-b1c01e054df1"
      },
      "outputs": [],
      "source": [
        "song= \"\"\"We are no strangers to love\n",
        "You know the rules and so do I\n",
        "A full commitments what Im thinking of\n",
        "You wouldnt get this from any other guy\n",
        "I just wanna tell you how Im feeling\n",
        "Gotta make you understand\n",
        "Never gonna give you up\n",
        "Never gonna let you down\n",
        "Never gonna run around and desert you\n",
        "Never gonna make you cry\n",
        "Never gonna say goodbye\n",
        "Never gonna tell a lie and hurt you\n",
        "Weve known each other for so long\n",
        "Your hearts been aching but youre too shy to say it\n",
        "Inside we both know whats been going on\n",
        "We know the game and were gonna play it\n",
        "And if you ask me how Im feeling\n",
        "Dont tell me youre too blind to see\n",
        "Never gonna give you up\n",
        "Never gonna let you down\n",
        "Never gonna run around and desert you\n",
        "Never gonna make you cry\n",
        "Never gonna say goodbye\n",
        "Never gonna tell a lie and hurt you\n",
        "Never gonna give you up\n",
        "Never gonna let you down\n",
        "Never gonna run around and desert you\n",
        "Never gonna make you cry\n",
        "Never gonna say goodbye\n",
        "Never gonna tell a lie and hurt you\n",
        "Weve known each other for so long\n",
        "Your hearts been aching but youre too shy to say it\n",
        "Inside we both know whats been going on\n",
        "We know the game and were gonna play it\n",
        "I just wanna tell you how Im feeling\n",
        "Gotta make you understand\n",
        "Never gonna give you up\n",
        "Never gonna let you down\n",
        "Never gonna run around and desert you\n",
        "Never gonna make you cry\n",
        "Never gonna say goodbye\n",
        "Never gonna tell a lie and hurt you\n",
        "Never gonna give you up\n",
        "Never gonna let you down\n",
        "Never gonna run around and desert you\n",
        "Never gonna make you cry\n",
        "Never gonna say goodbye\n",
        "Never gonna tell a lie and hurt you\n",
        "Never gonna give you up\n",
        "Never gonna let you down\n",
        "Never gonna run around and desert you\n",
        "Never gonna make you cry\n",
        "Never gonna say goodbye\n",
        "Never gonna tell a lie and hurt you\"\"\""
      ],
      "execution_count": 2
    },
    {
      "cell_type": "markdown",
      "metadata": {
        "id": "ad84ab97-a38e-49c9-bb9a-578a896ec561"
      },
      "source": [
        " ### Tokenization for FNN\n"
      ]
    },
    {
      "cell_type": "markdown",
      "metadata": {
        "id": "cb6316e4-d981-4f36-8aa5-dae175717d7d"
      },
      "source": [
        " This PyTorch function is used to obtain a tokenizer for text.\n"
      ]
    },
    {
      "cell_type": "code",
      "metadata": {
        "id": "4589618d-a310-4acb-a22d-a621141d1c67"
      },
      "outputs": [],
      "source": [
        "tokenizer = get_tokenizer(\"basic_english\")\n",
        "tokens=tokenizer(song)"
      ],
      "execution_count": 3
    },
    {
      "cell_type": "code",
      "metadata": {
        "id": "9609c525-fd92-494b-824e-274c591bbebf"
      },
      "outputs": [],
      "source": [
        "def preprocess_string(s):\n",
        "    \"\"\"\n",
        "    Preprocesses a given string by performing the following steps:\n",
        "\n",
        "    1. Removes all non-word characters (excluding letters and numbers).\n",
        "    2. Removes all whitespace characters.\n",
        "    3. Removes all numeric digits.\n",
        "\n",
        "    Parameters:\n",
        "    s (str): The input string to be cleaned.\n",
        "\n",
        "    Returns:\n",
        "    str: The processed string with only alphabetic characters, no spaces, and no digits.\n",
        "    \"\"\"\n",
        "\n",
        "    # Remove all non-word characters (everything except letters and numbers)\n",
        "    # \\w matches any word character (letters, numbers, and underscores)\n",
        "    # \\s matches any whitespace characters\n",
        "    # ^ inside [] negates the selection, so [^\\w\\s] matches anything that's NOT a word character or whitespace.\n",
        "    s = re.sub(r\"[^\\w\\s]\", '', s)\n",
        "\n",
        "    # Remove all whitespace characters (spaces, tabs, newlines)\n",
        "    # \\s+ matches one or more whitespace characters.\n",
        "    s = re.sub(r\"\\s+\", '', s)\n",
        "\n",
        "    # Remove all digits (0-9)\n",
        "    # \\d matches any digit character.\n",
        "    s = re.sub(r\"\\d\", '', s)\n",
        "\n",
        "    return s"
      ],
      "execution_count": 4
    },
    {
      "cell_type": "code",
      "metadata": {
        "id": "d84c7fbf-6596-4b0c-b52c-d79f9451571b"
      },
      "outputs": [],
      "source": [
        "def preprocess(words):\n",
        "    \"\"\"\n",
        "    Preprocesses a given text by tokenizing it, cleaning individual words, and\n",
        "    converting them to lowercase while removing empty or punctuation tokens.\n",
        "\n",
        "    Steps:\n",
        "    1. Tokenization: Splits the input text into individual word tokens.\n",
        "    2. Cleaning: Applies `preprocess_string()` to remove non-word characters,\n",
        "       spaces, and digits from each token.\n",
        "    3. Normalization: Converts all tokens to lowercase.\n",
        "    4. Filtering: Removes empty strings and punctuation tokens.\n",
        "\n",
        "    Parameters:\n",
        "    words (str): The input text to be tokenized and preprocessed.\n",
        "\n",
        "    Returns:\n",
        "    list: A list of cleaned, lowercase tokens.\n",
        "    \"\"\"\n",
        "\n",
        "    # Tokenize the input text into words\n",
        "    tokens = word_tokenize(words)\n",
        "\n",
        "    # Apply preprocessing to each token (removes unwanted characters)\n",
        "    tokens = [preprocess_string(w) for w in tokens]\n",
        "\n",
        "    # Convert tokens to lowercase and remove empty strings or punctuation\n",
        "    return [w.lower() for w in tokens if len(w) != 0 and w not in string.punctuation]\n",
        "\n",
        "# Example usage:\n",
        "tokens = preprocess(song)  # Preprocess the text in 'song'"
      ],
      "execution_count": 5
    },
    {
      "cell_type": "markdown",
      "metadata": {
        "id": "9de2f27a-c077-4146-b593-2f030966343c"
      },
      "source": [
        "### Indexing\n",
        "\n",
        "TorchText provides tools to tokenize text into individual words (tokens) and build a vocabulary, which maps tokens to unique integer indexes. This is a crucial step in preparing text data for  machine learning models that require numerical input.\n"
      ]
    },
    {
      "cell_type": "code",
      "metadata": {
        "id": "36954a72-8d06-43c0-b27c-ee171193dddf"
      },
      "outputs": [],
      "source": [
        "def tokenizetext(song):\n",
        "    \"\"\"\n",
        "    Tokenizes the input text (song) and builds a vocabulary from the tokens.\n",
        "\n",
        "    Steps:\n",
        "    1. Tokenization: The function splits the input text into words and applies\n",
        "       a tokenizer function to each word.\n",
        "    2. Vocabulary Building: Constructs a vocabulary from the tokenized words,\n",
        "       including a special \"<unk>\" token to handle out-of-vocabulary words.\n",
        "    3. Default Indexing: Sets the default index for unknown words, ensuring\n",
        "       that any unseen tokens are mapped to \"<unk>\".\n",
        "\n",
        "    Parameters:\n",
        "    song (str): The input text (song lyrics) to be tokenized and processed.\n",
        "\n",
        "    Returns:\n",
        "    vocab (Vocab): A vocabulary object mapping tokens to their corresponding indices.\n",
        "    \"\"\"\n",
        "\n",
        "    # Tokenize the text\n",
        "    # Split the input text into words and apply the tokenizer function to each word.\n",
        "    # The 'map' function ensures that each word is tokenized properly.\n",
        "    tokenized_song = map(tokenizer, song.split())\n",
        "\n",
        "    # Build vocabulary from tokenized text\n",
        "    # The function `build_vocab_from_iterator` constructs a vocabulary by iterating\n",
        "    # over the tokenized words. The special token \"<unk>\" is added to handle words\n",
        "    # that are not present in the vocabulary.\n",
        "    vocab = build_vocab_from_iterator(tokenized_song, specials=[\"<unk>\"])\n",
        "\n",
        "    # Set the default index for unknown words\n",
        "    # The default index is set to the index of \"<unk>\" so that any word not found\n",
        "    # in the vocabulary is mapped to this token, preventing errors during lookup.\n",
        "    vocab.set_default_index(vocab[\"<unk>\"])\n",
        "\n",
        "    return vocab\n"
      ],
      "execution_count": 6
    },
    {
      "cell_type": "markdown",
      "metadata": {
        "id": "ce469f8b-adc9-4ab1-8abf-35a55bf73a94"
      },
      "source": [
        "Convert the tokens to indices by applying the function as shown here:\n"
      ]
    },
    {
      "cell_type": "code",
      "metadata": {
        "colab": {
          "base_uri": "https://localhost:8080/"
        },
        "id": "92abcf7e-90c5-4703-b2c4-30cd03a0fb27",
        "outputId": "0bbe8e68-684f-445b-b5d5-28bc602184cf"
      },
      "outputs": [
        {
          "output_type": "execute_result",
          "data": {
            "text/plain": [
              "[21, 58, 70, 74, 25, 69, 2, 20, 31, 72]"
            ]
          },
          "metadata": {},
          "execution_count": 7
        }
      ],
      "source": [
        "vocab=tokenizetext(song)\n",
        "vocab(tokens[0:10])"
      ],
      "execution_count": 7
    },
    {
      "cell_type": "code",
      "metadata": {
        "colab": {
          "base_uri": "https://localhost:8080/"
        },
        "id": "4cd32017-9d7b-46bf-ba41-281aef742b48",
        "outputId": "f3a86839-90fe-4bdd-c84c-5d05938a3eff"
      },
      "outputs": [
        {
          "output_type": "execute_result",
          "data": {
            "text/plain": [
              "['we', 'are', 'no', 'strangers', 'to', 'love', 'you', 'know', 'the', 'rules']"
            ]
          },
          "metadata": {},
          "execution_count": 8
        }
      ],
      "source": [
        "tokens[0:10]"
      ],
      "execution_count": 8
    },
    {
      "cell_type": "markdown",
      "metadata": {
        "id": "b7e37490-bda3-4a2e-b7f8-13f820406e17"
      },
      "source": [
        "\n",
        "\n",
        "Write a text function that converts raw text into indexes.\n"
      ]
    },
    {
      "cell_type": "code",
      "metadata": {
        "colab": {
          "base_uri": "https://localhost:8080/"
        },
        "id": "7b4a329a-7960-4108-9023-b35b7eabff15",
        "outputId": "178318e7-b3ea-47e8-c288-8a05891358be"
      },
      "outputs": [
        {
          "output_type": "execute_result",
          "data": {
            "text/plain": [
              "[21, 58, 70, 74, 25, 69, 2, 20, 31, 72]"
            ]
          },
          "metadata": {},
          "execution_count": 9
        }
      ],
      "source": [
        "text_pipeline = lambda x: vocab(tokenizer(x))\n",
        "text_pipeline(song)[0:10]"
      ],
      "execution_count": 9
    },
    {
      "cell_type": "markdown",
      "metadata": {
        "id": "5e1b5994-3977-4c44-9e7f-c986f63a3d82"
      },
      "source": [
        "\n",
        "Find the word corresponding to an index using the```get_itos()```method. The result is a list where the index of the list corresponds to a word.\n"
      ]
    },
    {
      "cell_type": "code",
      "metadata": {
        "colab": {
          "base_uri": "https://localhost:8080/",
          "height": 36
        },
        "id": "858e8c77-9584-4c2c-9e99-686a65a41202",
        "outputId": "879c0a7e-79e2-47e8-a203-aa356fa0fb1d"
      },
      "outputs": [
        {
          "output_type": "execute_result",
          "data": {
            "text/plain": [
              "'are'"
            ],
            "application/vnd.google.colaboratory.intrinsic+json": {
              "type": "string"
            }
          },
          "metadata": {},
          "execution_count": 10
        }
      ],
      "source": [
        "index_to_token = vocab.get_itos()\n",
        "index_to_token[58]"
      ],
      "execution_count": 10
    },
    {
      "cell_type": "markdown",
      "metadata": {
        "id": "75d8cfcf-5047-41c3-b868-22bbcfcba780"
      },
      "source": [
        "## Embedding layers\n",
        "\n",
        "An embedding layer is a crucial element in natural language processing (NLP) and neural networks designed for sequential data. It serves to convert categorical variables, like words or discrete indexes representing tokens, into continuous vectors. This transformation facilitates training and enables the network to learn meaningful relationships among words.\n",
        "\n",
        "Let's consider a simple example involving a vocabulary of words\n",
        "- **Vocabulary**: {apple, banana, orange, pear}\n",
        "\n",
        "Each word in your vocabulary has a unique index assigned to it:\n",
        "- **Indices**: {0, 1, 2, 3}\n",
        "\n",
        "When using an embedding layer, you will initialize random continuous vectors for each index. For instance, the embedding vectors might look like:\n",
        "\n",
        "- Vector for index 0 (apple): [0.2, 0.8]\n",
        "- Vector for index 1 (banana): [0.6, -0.5]\n",
        "- Vector for index 2 (orange): [-0.3, 0.7]\n",
        "- Vector for index 3 (pear): [0.1, 0.4]\n",
        "In PyTorch, you can create an embedding layer.\n"
      ]
    },
    {
      "cell_type": "code",
      "metadata": {
        "id": "05b17004-41df-47ef-9662-4b58da4edec2"
      },
      "outputs": [],
      "source": [
        "def genembedding(vocab):\n",
        "    \"\"\"\n",
        "    Generates an embedding layer for the given vocabulary.\n",
        "\n",
        "    The embedding layer transforms words into dense vector representations,\n",
        "    allowing the model to learn semantic relationships between words.\n",
        "\n",
        "    Parameters:\n",
        "    vocab (Vocab): The vocabulary object containing unique words and their indices.\n",
        "\n",
        "    Returns:\n",
        "    nn.Embedding: A PyTorch embedding layer with a specified embedding dimension.\n",
        "    \"\"\"\n",
        "\n",
        "    # Define the embedding dimension (size of word vectors)\n",
        "    embedding_dim = 20  # Each word will be represented as a 20-dimensional vector\n",
        "\n",
        "    # Get the vocabulary size (number of unique words in the vocabulary)\n",
        "    vocab_size = len(vocab)\n",
        "\n",
        "    # Create an embedding layer\n",
        "    # The nn.Embedding module maps word indices to dense vector representations.\n",
        "    # It takes vocab_size as the number of words and embedding_dim as the vector size.\n",
        "    embeddings = nn.Embedding(vocab_size, embedding_dim)\n",
        "\n",
        "    return embeddings"
      ],
      "execution_count": 11
    },
    {
      "cell_type": "markdown",
      "metadata": {
        "id": "01b3c674-21e0-4fba-adc3-049f298640c6"
      },
      "source": [
        "\n",
        "**Embeddings**: Obtain the embedding for the first word with index 0 or 1. Don't forget that you have to convert the input into a tensor. The embeddings are initially initialized randomly, but as the model undergoes training, words with similar meanings gradually come to cluster closer together\n"
      ]
    },
    {
      "cell_type": "code",
      "metadata": {
        "colab": {
          "base_uri": "https://localhost:8080/"
        },
        "id": "1d136ccf-ad0f-4aba-bb85-a45c47bd2afa",
        "outputId": "81a6c7a5-8cb1-4b2c-9fff-1c2470189383"
      },
      "outputs": [
        {
          "output_type": "stream",
          "name": "stdout",
          "text": [
            "word <unk>\n",
            "index 0\n",
            "embedding tensor([-1.7589,  0.9957, -0.5897,  1.1486,  0.6900,  0.6856,  0.6611,  2.1310,\n",
            "         1.5471,  0.7231, -1.1883, -2.8667, -0.9367,  1.7280, -0.8557, -0.2363,\n",
            "        -1.7784, -0.3540, -2.0889, -1.3174], grad_fn=<EmbeddingBackward0>)\n",
            "embedding shape torch.Size([20])\n",
            "word gonna\n",
            "index 1\n",
            "embedding tensor([-6.2810e-01, -7.6119e-01, -1.6966e+00, -1.0415e+00,  1.2468e+00,\n",
            "        -1.0395e-03, -1.7572e+00,  5.1710e-01, -7.6209e-01,  8.8160e-01,\n",
            "         5.5987e-01, -8.0994e-01, -2.6536e-01, -1.0350e+00, -3.9429e-01,\n",
            "        -1.8512e+00, -7.1953e-01, -1.5245e+00,  6.6429e-01, -1.3425e+00],\n",
            "       grad_fn=<EmbeddingBackward0>)\n",
            "embedding shape torch.Size([20])\n"
          ]
        }
      ],
      "source": [
        "embeddings=genembedding(vocab)\n",
        "for n in range(2):\n",
        "    embedding=embeddings(torch.tensor(n))\n",
        "    print(\"word\",index_to_token[n])\n",
        "    print(\"index\",n)\n",
        "    print( \"embedding\", embedding)\n",
        "    print(\"embedding shape\", embedding.shape)"
      ],
      "execution_count": 12
    },
    {
      "cell_type": "markdown",
      "metadata": {
        "id": "631be104-7ae5-4088-82aa-e4668c4f8b8c"
      },
      "source": [
        "These vectors will serve as inputs for the next layer.\n"
      ]
    },
    {
      "cell_type": "markdown",
      "metadata": {
        "id": "b35a6aa6-ae6b-4770-a213-e260c69c5400"
      },
      "source": [
        "### Generating context-target pairs (n-grams)\n",
        "\n",
        "Organize words within a variable-size context using the following approach: Each word is denoted by 'i'.\n",
        "To establish the context, simply subtract 'j'. The size of the context is determined by the value of``CONTEXT_SIZE``.\n"
      ]
    },
    {
      "cell_type": "code",
      "metadata": {
        "id": "66de3230-f5c2-4ddf-903f-2434e4130e7e"
      },
      "outputs": [],
      "source": [
        "# Define the context size for generating n-grams\n",
        "CONTEXT_SIZE = 2  # The number of previous words used to predict the next word\n",
        "\n",
        "def genngrams(tokens):\n",
        "    \"\"\"\n",
        "    Generates n-grams from a list of tokens, where each n-gram consists of a\n",
        "    context (previous words) and a target (next word).\n",
        "\n",
        "    The function constructs a list of tuples where:\n",
        "    - The first element is a list of `CONTEXT_SIZE` previous words.\n",
        "    - The second element is the target word that follows the context.\n",
        "\n",
        "    Parameters:\n",
        "    tokens (list): A list of preprocessed word tokens.\n",
        "\n",
        "    Returns:\n",
        "    list: A list of tuples representing n-grams.\n",
        "          Each tuple contains (context_words, target_word).\n",
        "    \"\"\"\n",
        "\n",
        "    # Generate n-grams\n",
        "    # Iterate through the tokens starting from index CONTEXT_SIZE to the end\n",
        "    # For each token at position 'i', extract the previous CONTEXT_SIZE words as context\n",
        "    ngrams = [\n",
        "        (\n",
        "            [tokens[i - j - 1] for j in range(CONTEXT_SIZE)],  # Context words (previous words)\n",
        "            tokens[i]  # Target word (the word to predict)\n",
        "        )\n",
        "        for i in range(CONTEXT_SIZE, len(tokens))\n",
        "    ]\n",
        "\n",
        "    return ngrams\n"
      ],
      "execution_count": 13
    },
    {
      "cell_type": "markdown",
      "metadata": {
        "id": "fa3cf3db-846b-4325-be5c-9596f5c634ad"
      },
      "source": [
        "Output the first element, which results in a tuple. The initial element represents the context, and the index indicates the following word.\n"
      ]
    },
    {
      "cell_type": "code",
      "metadata": {
        "colab": {
          "base_uri": "https://localhost:8080/"
        },
        "id": "5e9f3646-3526-4375-a872-595a7809746f",
        "outputId": "77cbb920-7e95-40b9-9232-56a7e059b517"
      },
      "outputs": [
        {
          "output_type": "stream",
          "name": "stdout",
          "text": [
            "context ['are', 'we'] target no\n",
            "context index [58, 21] target index [70]\n"
          ]
        }
      ],
      "source": [
        "ngrams=genngrams(tokens)\n",
        "context, target=ngrams[0]\n",
        "print(\"context\",context,\"target\",target)\n",
        "print(\"context index\",vocab(context),\"target index\",vocab([target]))"
      ],
      "execution_count": 14
    },
    {
      "cell_type": "markdown",
      "metadata": {
        "id": "0fb8ccde-7337-423c-b152-4e8404fd33e8"
      },
      "source": [
        "In this context, there are multiple words. Aggregate the embeddings of each of these words and then adjust the input size of the subsequent layer accordingly. Then, create the next layer.\n"
      ]
    },
    {
      "cell_type": "code",
      "metadata": {
        "id": "ff202d40-4794-4ad6-9783-8a676e00a4db"
      },
      "outputs": [],
      "source": [
        "embedding_dim=20\n",
        "linear = nn.Linear(embedding_dim*CONTEXT_SIZE,128)"
      ],
      "execution_count": 15
    },
    {
      "cell_type": "markdown",
      "metadata": {
        "id": "962387f9-91b7-45f9-88ae-51760d897633"
      },
      "source": [
        "\n",
        "You have the two embeddings.\n"
      ]
    },
    {
      "cell_type": "code",
      "metadata": {
        "colab": {
          "base_uri": "https://localhost:8080/"
        },
        "id": "d5702c1f-50f4-4769-8174-864749938af4",
        "outputId": "243ac89e-a1fb-4f02-c19a-fd9431fc15f9"
      },
      "outputs": [
        {
          "output_type": "execute_result",
          "data": {
            "text/plain": [
              "torch.Size([2, 20])"
            ]
          },
          "metadata": {},
          "execution_count": 16
        }
      ],
      "source": [
        "embeddings=genembedding(vocab)\n",
        "my_embeddings=embeddings(torch.tensor(vocab(context)))\n",
        "my_embeddings.shape"
      ],
      "execution_count": 16
    },
    {
      "cell_type": "markdown",
      "metadata": {
        "id": "5a69e294-0ef0-4f39-b371-3fbc914d676f"
      },
      "source": [
        "Reshape the embeddings.\n"
      ]
    },
    {
      "cell_type": "code",
      "metadata": {
        "colab": {
          "base_uri": "https://localhost:8080/"
        },
        "id": "4236cd91-43e5-4fed-8102-b8f308b554da",
        "outputId": "a0efea04-5d8c-476d-d090-1a7050429265"
      },
      "outputs": [
        {
          "output_type": "execute_result",
          "data": {
            "text/plain": [
              "torch.Size([1, 40])"
            ]
          },
          "metadata": {},
          "execution_count": 17
        }
      ],
      "source": [
        "my_embeddings=my_embeddings.reshape(1,-1)\n",
        "my_embeddings.shape"
      ],
      "execution_count": 17
    },
    {
      "cell_type": "markdown",
      "metadata": {
        "id": "e5adbb6f-83ae-4b49-90f0-af8fa108955f"
      },
      "source": [
        "\n",
        "They can now be used as inputs in the next layer.\n"
      ]
    },
    {
      "cell_type": "code",
      "metadata": {
        "colab": {
          "base_uri": "https://localhost:8080/"
        },
        "id": "b4c52923-2369-4d5a-b03b-a3b52f89032d",
        "outputId": "cdefa268-b97b-4a3e-de55-758fd0f45c1c"
      },
      "outputs": [
        {
          "output_type": "execute_result",
          "data": {
            "text/plain": [
              "tensor([[-0.1102,  0.2851,  0.2421, -0.9951, -0.3763,  0.3635, -0.8453, -0.2896,\n",
              "         -0.1098, -0.0530, -0.3157,  0.4953,  0.0391,  1.8825, -0.7878, -0.2534,\n",
              "         -0.6397, -0.1313,  0.3856, -0.6626, -0.8792, -0.0038,  0.2233, -0.0895,\n",
              "          0.8055,  0.8990,  0.0236,  0.1394, -0.6733,  0.1884, -0.6518,  0.3493,\n",
              "          0.2456, -0.1510, -0.3709, -0.9549,  0.0186,  0.0079, -0.7875, -0.0112,\n",
              "          0.7440, -0.7716, -0.1068, -0.5709,  0.0564, -0.4122,  0.5183, -0.5726,\n",
              "          0.2987,  0.6858,  0.7383, -0.1482,  0.4217,  0.3959,  0.6673,  0.1320,\n",
              "         -0.5543, -1.0290, -0.4137, -0.0592, -0.4132,  0.6522,  0.4855,  0.8343,\n",
              "         -0.6712,  0.4269, -0.5864, -0.6757, -1.0460,  0.0539, -0.4273, -0.2711,\n",
              "         -0.5718,  0.1413,  0.2708, -0.0215, -0.4571,  0.3861,  0.7840,  0.1444,\n",
              "         -0.3418,  0.0544, -0.7143,  0.6762, -1.1894,  0.5986, -0.1153,  0.6410,\n",
              "         -0.7098,  0.8879,  0.4010, -0.3598, -0.2269,  0.1991, -0.3037,  0.4779,\n",
              "         -0.8672,  0.3281,  0.1185, -0.6391, -0.0812,  0.5160,  1.5131,  0.7703,\n",
              "          0.1335,  0.4012,  0.0955,  0.4463, -0.1024,  1.7962, -1.0631, -0.1542,\n",
              "          0.0116, -0.0966, -1.2624, -0.1418, -0.9428, -0.5482,  0.3513,  0.2135,\n",
              "          0.6499, -0.4244,  0.5656, -0.9914,  0.2680,  0.7359,  0.9593, -1.2606]],\n",
              "       grad_fn=<AddmmBackward0>)"
            ]
          },
          "metadata": {},
          "execution_count": 18
        }
      ],
      "source": [
        "linear(my_embeddings)"
      ],
      "execution_count": 18
    },
    {
      "cell_type": "markdown",
      "metadata": {
        "id": "9f6d20f5-ec2a-4826-b455-b5725fa41304"
      },
      "source": [
        "## Batch function\n",
        "\n",
        "Create a Batch function to interface with the data loader. Several adjustments are necessary to handle words that are part of a context in one batch and a predicted word in the following batch.\n"
      ]
    },
    {
      "cell_type": "code",
      "metadata": {
        "id": "281b3d49-c440-43c9-89a9-9ef7f3a12471"
      },
      "outputs": [],
      "source": [
        "from torch.utils.data import DataLoader  # Importing DataLoader for batch processing\n",
        "import torch  # Importing PyTorch\n",
        "\n",
        "# Set the device to GPU if available; otherwise, use CPU\n",
        "device = torch.device(\"cuda\" if torch.cuda.is_available() else \"cpu\")\n",
        "\n",
        "# Define hyperparameters\n",
        "CONTEXT_SIZE = 3   # Number of previous words used as context for prediction\n",
        "BATCH_SIZE = 10    # Number of samples per training batch\n",
        "EMBEDDING_DIM = 10 # Dimension of word embeddings\n",
        "\n",
        "def collate_batch(batch):\n",
        "    \"\"\"\n",
        "    Processes a batch of text data into input (context) and output (target) tensors\n",
        "    for training a language model.\n",
        "\n",
        "    The function extracts:\n",
        "    - `context`: A list of word indices representing the context words for each target word.\n",
        "    - `target`: A list of word indices representing the target word to predict.\n",
        "\n",
        "    Parameters:\n",
        "    batch (list): A list of tokenized words (strings).\n",
        "\n",
        "    Returns:\n",
        "    tuple: Two PyTorch tensors: (context_tensor, target_tensor)\n",
        "           - context_tensor: Tensor of shape (batch_size - CONTEXT_SIZE, CONTEXT_SIZE),\n",
        "             containing the word indices of context words.\n",
        "           - target_tensor: Tensor of shape (batch_size - CONTEXT_SIZE,),\n",
        "             containing the word indices of target words.\n",
        "    \"\"\"\n",
        "\n",
        "    batch_size = len(batch)  # Get the size of the batch\n",
        "    context, target = [], [] # Initialize lists for context and target words\n",
        "\n",
        "    # Loop through the batch, ensuring enough previous words exist for context\n",
        "    for i in range(CONTEXT_SIZE, batch_size):\n",
        "        # Convert the target word to its index using the vocabulary\n",
        "        target.append(vocab([batch[i]]))\n",
        "\n",
        "        # Convert the previous CONTEXT_SIZE words to indices using the vocabulary\n",
        "        context.append(vocab([batch[i - j - 1] for j in range(CONTEXT_SIZE)]))\n",
        "\n",
        "    # Convert lists to PyTorch tensors and move them to the appropriate device (CPU/GPU)\n",
        "    return torch.tensor(context).to(device), torch.tensor(target).to(device).reshape(-1)\n"
      ],
      "execution_count": 19
    },
    {
      "cell_type": "markdown",
      "metadata": {
        "id": "508b891a-0c74-491e-bda5-55946222849c"
      },
      "source": [
        "Similarly, it's important to highlight that the size of the last batch could deviate from that of the earlier batches. To tackle this, the approach involves adjusting the final batch to conform to the specified batch size, ensuring it becomes a multiple of the predetermined size. When necessary, you'll employ padding techniques to achieve this harmonization. One approach you'll use is appending the beginning of the song to the end of the batch.\n"
      ]
    },
    {
      "cell_type": "code",
      "metadata": {
        "id": "7785ecc3-92bc-434c-b5d9-5f01d1d0dc0d"
      },
      "outputs": [],
      "source": [
        "Padding=BATCH_SIZE-len(tokens)%BATCH_SIZE\n",
        "tokens_pad=tokens+tokens[0:Padding]\n"
      ],
      "execution_count": 20
    },
    {
      "cell_type": "markdown",
      "metadata": {
        "id": "f229f887-d8f8-4d0e-a755-fd0fa9ac44c7"
      },
      "source": [
        "Create the`DataLoader`.\n"
      ]
    },
    {
      "cell_type": "code",
      "metadata": {
        "id": "a3475dc7-2ae5-4c27-a046-fee1f7357ef8"
      },
      "outputs": [],
      "source": [
        "dataloader = DataLoader(\n",
        "     tokens_pad, batch_size=BATCH_SIZE, shuffle=False, collate_fn=collate_batch\n",
        ")"
      ],
      "execution_count": 21
    },
    {
      "cell_type": "markdown",
      "metadata": {
        "id": "b69fbe65-30ef-4418-ba1b-397f0696f634"
      },
      "source": [
        "## Multi-class neural network\n",
        "\n",
        "You have developed a PyTorch class for a multi-class neural network. The network's output is the probability of the next word within a given context. Therefore, the number of classes corresponds to the count of distinct words. The initial layer consists of embeddings, and in addition to the final layer, an extra hidden layer is incorporated.\n"
      ]
    },
    {
      "cell_type": "code",
      "metadata": {
        "id": "25b8ec64-308c-450f-99e9-d813a71e14e1"
      },
      "outputs": [],
      "source": [
        "class NGramLanguageModeler(nn.Module):\n",
        "    \"\"\"\n",
        "    A neural network-based n-gram language model that predicts the next word\n",
        "    given a sequence of context words.\n",
        "\n",
        "    This model consists of:\n",
        "    - An embedding layer that converts word indices into dense vector representations.\n",
        "    - A fully connected hidden layer with ReLU activation.\n",
        "    - An output layer that predicts the probability distribution over the vocabulary.\n",
        "\n",
        "    Parameters:\n",
        "    vocab_size (int): The number of unique words in the vocabulary.\n",
        "    embedding_dim (int): The size of the word embeddings (vector representation of words).\n",
        "    context_size (int): The number of previous words used as context to predict the next word.\n",
        "    \"\"\"\n",
        "\n",
        "    def __init__(self, vocab_size, embedding_dim, context_size):\n",
        "        super(NGramLanguageModeler, self).__init__()\n",
        "\n",
        "        # Store context size and embedding dimension\n",
        "        self.context_size = context_size\n",
        "        self.embedding_dim = embedding_dim\n",
        "\n",
        "        # Embedding layer: Maps word indices to dense vectors\n",
        "        self.embeddings = nn.Embedding(vocab_size, embedding_dim)\n",
        "\n",
        "        # Fully connected hidden layer: Maps the concatenated embeddings to a 128-dimensional space\n",
        "        self.linear1 = nn.Linear(context_size * embedding_dim, 128)\n",
        "\n",
        "        # Output layer: Maps the hidden layer output to vocabulary size (probability distribution over words)\n",
        "        self.linear2 = nn.Linear(128, vocab_size)\n",
        "\n",
        "    def forward(self, inputs):\n",
        "        \"\"\"\n",
        "        Forward pass of the model.\n",
        "\n",
        "        Parameters:\n",
        "        inputs (Tensor): A tensor of shape (batch_size, context_size) containing word indices.\n",
        "\n",
        "        Returns:\n",
        "        Tensor: A tensor of shape (batch_size, vocab_size) representing predicted probabilities for the next word.\n",
        "        \"\"\"\n",
        "\n",
        "        # Convert input word indices into dense vectors using the embedding layer\n",
        "        embeds = self.embeddings(inputs)  # Shape: (batch_size, context_size, embedding_dim)\n",
        "\n",
        "        # Reshape the embeddings into a single vector per input sample\n",
        "        embeds = torch.reshape(embeds, (-1, self.context_size * self.embedding_dim))\n",
        "        # New shape: (batch_size, context_size * embedding_dim)\n",
        "\n",
        "        # Apply first fully connected layer with ReLU activation\n",
        "        out = F.relu(self.linear1(embeds))  # Shape: (batch_size, 128)\n",
        "\n",
        "        # Apply second fully connected layer to generate vocabulary-size logits\n",
        "        out = self.linear2(out)  # Shape: (batch_size, vocab_size)\n",
        "\n",
        "        return out\n"
      ],
      "execution_count": 22
    },
    {
      "cell_type": "markdown",
      "metadata": {
        "id": "e12cbc37-42c2-47c5-a4e4-ed820b2b7c13"
      },
      "source": [
        "Create a model.\n"
      ]
    },
    {
      "cell_type": "code",
      "metadata": {
        "id": "1a6428f0-13fe-4d83-a0b5-9a1ebc7e0eaf"
      },
      "outputs": [],
      "source": [
        "model = NGramLanguageModeler(len(vocab), EMBEDDING_DIM, CONTEXT_SIZE).to(device)"
      ],
      "execution_count": 45
    },
    {
      "cell_type": "markdown",
      "metadata": {
        "id": "2142f22b-8e22-4ba7-91c8-0d4818b1a013"
      },
      "source": [
        "Retrieve samples from the data loader object and input them into the neural network.\n"
      ]
    },
    {
      "cell_type": "code",
      "metadata": {
        "colab": {
          "base_uri": "https://localhost:8080/"
        },
        "id": "1b091546-d31f-4531-ae88-5d1669dca869",
        "outputId": "e31b6a06-4b64-47e1-a5ed-3ba8e9a55686"
      },
      "outputs": [
        {
          "output_type": "stream",
          "name": "stdout",
          "text": [
            "tensor([[20,  2, 69, 25, 74, 70, 58, 21],\n",
            "        [31, 20,  2, 69, 25, 74, 70, 58]]) tensor([31, 72])\n"
          ]
        }
      ],
      "source": [
        "context, target=next(iter(dataloader))\n",
        "print(context, target)\n",
        "out=model(context)"
      ],
      "execution_count": 46
    },
    {
      "cell_type": "markdown",
      "metadata": {
        "id": "74013869-85e1-4816-afa9-f4c4e0600a98"
      },
      "source": [
        "While the model remains untrained, analyzing the output can provide us with a clearer understanding. In the output, the first dimension corresponds to the batch size, while the second dimension represents the probability associated with each class.\n"
      ]
    },
    {
      "cell_type": "code",
      "metadata": {
        "colab": {
          "base_uri": "https://localhost:8080/"
        },
        "id": "8fb3ce87-8dfc-47ff-beb0-132b506c7151",
        "outputId": "164dac56-6d63-4abc-e7ab-58c2b46e1817"
      },
      "outputs": [
        {
          "output_type": "execute_result",
          "data": {
            "text/plain": [
              "torch.Size([2, 79])"
            ]
          },
          "metadata": {},
          "execution_count": 47
        }
      ],
      "source": [
        "out.shape"
      ],
      "execution_count": 47
    },
    {
      "cell_type": "markdown",
      "metadata": {
        "id": "5b13d35c-853f-4896-b04c-74a0c2790b46"
      },
      "source": [
        "Find the index with the highest probability.\n"
      ]
    },
    {
      "cell_type": "code",
      "metadata": {
        "colab": {
          "base_uri": "https://localhost:8080/"
        },
        "id": "a3542539-6257-4553-a456-73d585d8af36",
        "outputId": "49ff7ad1-b4da-4434-f0f6-cf8a415ccb59"
      },
      "outputs": [
        {
          "output_type": "execute_result",
          "data": {
            "text/plain": [
              "tensor([6, 6])"
            ]
          },
          "metadata": {},
          "execution_count": 48
        }
      ],
      "source": [
        "predicted_index =torch.argmax(out,1)\n",
        "predicted_index"
      ],
      "execution_count": 48
    },
    {
      "cell_type": "markdown",
      "metadata": {
        "id": "73b10b7e-a17a-4c5e-8eaf-40e9b7a88178"
      },
      "source": [
        "Find the corresponding token.\n"
      ]
    },
    {
      "cell_type": "code",
      "metadata": {
        "colab": {
          "base_uri": "https://localhost:8080/"
        },
        "id": "96136b76-84b0-48b7-83bf-3447160bf4ae",
        "outputId": "ba4800b3-48fe-42ca-bb6c-55b982db61a5"
      },
      "outputs": [
        {
          "output_type": "execute_result",
          "data": {
            "text/plain": [
              "['make', 'make']"
            ]
          },
          "metadata": {},
          "execution_count": 49
        }
      ],
      "source": [
        "[index_to_token[i.item()] for i in  predicted_index]"
      ],
      "execution_count": 49
    },
    {
      "cell_type": "markdown",
      "metadata": {
        "id": "f6280af7-6898-419b-8678-2abc1e4c1eda"
      },
      "source": [
        "Create a function that accomplishes the same task for the tokens.\n"
      ]
    },
    {
      "cell_type": "code",
      "metadata": {
        "id": "d3f50cbf-f248-4a21-b9da-caa5268b34af"
      },
      "outputs": [],
      "source": [
        "def write_song(model, my_song, number_of_words=100):\n",
        "    \"\"\"\n",
        "    Generates text using a trained n-gram language model.\n",
        "\n",
        "    Given an initial text (`my_song`), the function generates additional words by\n",
        "    predicting the next word iteratively based on the trained model.\n",
        "\n",
        "    Parameters:\n",
        "    model (nn.Module): The trained n-gram language model.\n",
        "    my_song (str): The initial seed text to start generating words.\n",
        "    number_of_words (int): The number of words to generate (default: 100).\n",
        "\n",
        "    Returns:\n",
        "    str: The generated song lyrics as a string.\n",
        "    \"\"\"\n",
        "\n",
        "    # Get the mapping from index to word for decoding predictions\n",
        "    index_to_token = vocab.get_itos()\n",
        "\n",
        "    # Loop to generate the desired number of words\n",
        "    for i in range(number_of_words):\n",
        "\n",
        "        with torch.no_grad():  # Disable gradient computation for inference\n",
        "\n",
        "            # Prepare the input context by extracting the last CONTEXT_SIZE words from tokens\n",
        "            context = torch.tensor(\n",
        "                vocab([tokens[i - j - 1] for j in range(CONTEXT_SIZE)])\n",
        "            ).to(device)  # Move to CPU/GPU as required\n",
        "\n",
        "            # Predict the next word by selecting the word with the highest probability\n",
        "            word_idx = torch.argmax(model(context))  # Get index of the most likely next word\n",
        "\n",
        "            # Append the predicted word to the generated text\n",
        "            my_song += \" \" + index_to_token[word_idx.detach().item()]\n",
        "\n",
        "    return my_song  # Return the generated lyrics\n"
      ],
      "execution_count": 50
    },
    {
      "cell_type": "code",
      "metadata": {
        "colab": {
          "base_uri": "https://localhost:8080/"
        },
        "id": "055b96dc-c677-4a30-b269-fc52a6de9171",
        "outputId": "b810c9fd-4f20-4056-ede2-aac841cda68d"
      },
      "outputs": [
        {
          "output_type": "stream",
          "name": "stdout",
          "text": [
            "Never gonna run around and desert you each each from wouldnt love gotta each thinking make make each thinking each gotta make tell commitments do never weve make inside each other make give thinking each each each each each wanna thinking play inside do let thinking commitments each gotta each im lie each thinking each thinking each see each thinking each each each other each each thinking thinking each run each each each each im but play see and thinking each any see any each each each each tell strangers each each from do love love each make make each wouldnt each shy make each each im\n"
          ]
        }
      ],
      "source": [
        "def pickrandomline(song):\n",
        "    \"\"\"\n",
        "    Selects a random line from the given song text.\n",
        "\n",
        "    This function splits the song into separate lines and randomly picks one of them.\n",
        "\n",
        "    Parameters:\n",
        "    song (str): The song lyrics as a multi-line string.\n",
        "\n",
        "    Returns:\n",
        "    str: A randomly selected line from the song.\n",
        "    \"\"\"\n",
        "\n",
        "    # Split the song into individual lines\n",
        "    lines = song.split(\"\\n\")\n",
        "\n",
        "    # Randomly select a line and remove leading/trailing whitespace\n",
        "    selected_line = random.choice(lines).strip()\n",
        "\n",
        "    return selected_line  # Return the randomly selected line\n",
        "\n",
        "# Example usage:\n",
        "selected_line = pickrandomline(song)  # Pick a random line from the song\n",
        "\n",
        "# Generate a new song starting with the selected line\n",
        "generated_song = write_song(model, selected_line)\n",
        "\n",
        "# Print the generated lyrics\n",
        "print(generated_song)\n"
      ],
      "execution_count": 51
    },
    {
      "cell_type": "markdown",
      "metadata": {
        "id": "0d6cb903-f70a-4650-83ea-080bd3f1c45f"
      },
      "source": [
        "## Training\n",
        "\n",
        "Training a language model involves a multi-step process that leverages training and testing data to optimize model performance. In the realm of Natural Language Processing (NLP), this process often employs various metrics to gauge a model's accuracy, such as perplexity or accuracy on unseen data. However, in the context of your current exploration, you will embark on a slightly different journey. Instead of relying solely on conventional NLP metrics, the focus shifts to manual inspection of the results.\n",
        "\n",
        "You have the cross entropy loss between input logits and target:\n"
      ]
    },
    {
      "cell_type": "code",
      "metadata": {
        "id": "61de731f-6b9a-4b4f-bf57-921e37a6b5bd"
      },
      "outputs": [],
      "source": [
        "criterion = torch.nn.CrossEntropyLoss()"
      ],
      "execution_count": 52
    },
    {
      "cell_type": "markdown",
      "metadata": {
        "id": "23dd77eb-2edb-4840-b29e-efe14b466065"
      },
      "source": [
        "You have developed a function dedicated to training the model using the supplied data loader. In addition to training the model, the function's output includes predictions for each epoch, spanning context for the next 100 words.\n",
        "\n",
        "\n",
        ">**Note: Since the dataset used is relatively small and the model is trained for a limited number of epochs, the generated song may not always be fully coherent due to a restricted vocabulary. This example primarily serves to demonstrate the functionality of a feedforward neural network for language modeling.**\n"
      ]
    },
    {
      "cell_type": "code",
      "metadata": {
        "id": "c17b05d3-3c0c-4a53-a532-992f32078672"
      },
      "outputs": [],
      "source": [
        "def train(dataloader, model,song,number_of_epochs=100, show=10):\n",
        "    \"\"\"\n",
        "    Args:\n",
        "        dataloader (DataLoader): DataLoader containing training data.\n",
        "        model (nn.Module): Neural network model to be trained.\n",
        "        number_of_epochs (int, optional): Number of epochs for training. Default is 100.\n",
        "        show (int, optional): Interval for displaying progress. Default is 10.\n",
        "\n",
        "    Returns:\n",
        "        list: List containing loss values for each epoch.\n",
        "    \"\"\"\n",
        "\n",
        "    MY_LOSS = []  # List to store loss values for each epoch\n",
        "\n",
        "    # Iterate over the specified number of epochs\n",
        "    for epoch in tqdm(range(number_of_epochs)):\n",
        "        total_loss = 0  # Initialize total loss for the current epoch\n",
        "        my_song = \"\"    # Initialize a string to store the generated song\n",
        "\n",
        "        # Iterate over batches in the dataloader\n",
        "        for context, target in dataloader:\n",
        "            model.zero_grad()          # Zero the gradients to avoid accumulation\n",
        "            predicted = model(context)  # Forward pass through the model to get predictions\n",
        "            loss = criterion(predicted, target.reshape(-1))  # Calculate the loss\n",
        "            total_loss += loss.item()   # Accumulate the loss\n",
        "\n",
        "            loss.backward()    # Backpropagation to compute gradients\n",
        "            optimizer.step()   # Update model parameters using the optimizer\n",
        "\n",
        "        # Display progress and generate song at specified intervals\n",
        "        if epoch % show == 0:\n",
        "            selected_line=pickrandomline(song)\n",
        "            my_song += write_song(model, selected_line)    # Generate song using the model\n",
        "\n",
        "            print(\"Generated Song:\")\n",
        "            print(\"\\n\")\n",
        "            print(my_song)\n",
        "\n",
        "        MY_LOSS.append(total_loss/len(dataloader))  # Append the total loss for the epoch to MY_LOSS list\n",
        "\n",
        "    return MY_LOSS  # Return the list of  mean loss values for each epoch"
      ],
      "execution_count": 53
    },
    {
      "cell_type": "markdown",
      "metadata": {
        "id": "100815a5-b711-49cb-a799-eb6960cd4bd5"
      },
      "source": [
        "The following list will be used to store the loss for each model.\n"
      ]
    },
    {
      "cell_type": "code",
      "metadata": {
        "id": "c93eba0f-e771-40ba-a0ac-c31dd11484fa"
      },
      "outputs": [],
      "source": [
        "my_loss_list=[]"
      ],
      "execution_count": 54
    },
    {
      "cell_type": "markdown",
      "metadata": {
        "id": "098258f0-98e6-4010-8f86-83f3b1ae3ff9"
      },
      "source": [
        "This code segment initializes an n-gram language model with a context size of 2. The model, named `model_2`, is configured based on the provided vocabulary size, embedding dimension, and context size. The Stochastic Gradient Descent (SGD) optimizer is employed with a learning rate of 0.01 to manage model parameter updates. A learning rate scheduler, using a step-wise approach with a reduction factor of 0.1 per epoch, is set up to adapt the learning rate during the training process. These settings collectively establish the framework for training the n-gram language model with tailored optimization and learning rate adjustment.\n"
      ]
    },
    {
      "cell_type": "code",
      "metadata": {
        "id": "05277d65-1d84-427a-a243-5fd22327ee09"
      },
      "outputs": [],
      "source": [
        "# Define the context size for the n-gram model\n",
        "CONTEXT_SIZE = 2\n",
        "\n",
        "# Create an instance of the NGramLanguageModeler class with specified parameters\n",
        "model_2 = NGramLanguageModeler(len(vocab), EMBEDDING_DIM, CONTEXT_SIZE).to(device)\n",
        "\n",
        "# Define the optimizer for training the model, using stochastic gradient descent (SGD)\n",
        "optimizer = optim.SGD(model_2.parameters(), lr=0.01)\n",
        "\n",
        "# Set up a learning rate scheduler using StepLR to adjust the learning rate during training\n",
        "scheduler = torch.optim.lr_scheduler.StepLR(optimizer, step_size=1.0, gamma=0.1)"
      ],
      "execution_count": 55
    },
    {
      "cell_type": "markdown",
      "metadata": {
        "id": "c8db3a31-d665-4ecb-a7d6-92240a87b387"
      },
      "source": [
        "Now, you will train the model.\n"
      ]
    },
    {
      "cell_type": "code",
      "metadata": {
        "colab": {
          "base_uri": "https://localhost:8080/"
        },
        "id": "313a4253-e7fe-450d-8d25-8939f2af8436",
        "outputId": "c420bf6a-51da-4d4d-c593-954e1ba52f13"
      },
      "outputs": [
        {
          "output_type": "stream",
          "name": "stderr",
          "text": [
            "  6%|▌         | 6/100 [00:00<00:03, 27.89it/s]"
          ]
        },
        {
          "output_type": "stream",
          "name": "stdout",
          "text": [
            "Generated Song:\n",
            "\n",
            "\n",
            "Never gonna let you down <unk> <unk> of <unk> <unk> down <unk> <unk> you you <unk> <unk> you <unk> down <unk> you <unk> of game you you you you <unk> you give you <unk> you thinking you <unk> you you <unk> you you <unk> <unk> you you play <unk> <unk> <unk> you you <unk> <unk> <unk> <unk> you you <unk> <unk> <unk> <unk> you you you <unk> you <unk> <unk> <unk> you you play <unk> <unk> <unk> you you you <unk> <unk> you you <unk> you blind you <unk> <unk> <unk> you <unk> tell you <unk> blind <unk> <unk> <unk> down <unk> <unk> <unk> down\n"
          ]
        },
        {
          "output_type": "stream",
          "name": "stderr",
          "text": [
            " 16%|█▌        | 16/100 [00:00<00:02, 29.80it/s]"
          ]
        },
        {
          "output_type": "stream",
          "name": "stdout",
          "text": [
            "Generated Song:\n",
            "\n",
            "\n",
            "We know the game and were gonna play it <unk> <unk> <unk> <unk> <unk> you you never never never <unk> <unk> you you never <unk> you <unk> <unk> never you <unk> never never <unk> you never you <unk> you <unk> you <unk> tell you <unk> never <unk> <unk> <unk> tell you never <unk> <unk> <unk> tell you <unk> <unk> <unk> <unk> tell you <unk> never <unk> <unk> tell you and <unk> you never <unk> <unk> tell you never never <unk> <unk> tell you never <unk> <unk> tell you <unk> you <unk> you <unk> <unk> <unk> you <unk> you you <unk> you <unk> <unk> <unk> never <unk> <unk> you never\n"
          ]
        },
        {
          "output_type": "stream",
          "name": "stderr",
          "text": [
            " 24%|██▍       | 24/100 [00:00<00:02, 30.03it/s]"
          ]
        },
        {
          "output_type": "stream",
          "name": "stdout",
          "text": [
            "Generated Song:\n",
            "\n",
            "\n",
            "Never gonna tell a lie and hurt you never <unk> <unk> <unk> <unk> goodbye you never never never <unk> <unk> you and never <unk> you <unk> never never never and never never <unk> you and you never you never you <unk> tell you never never and <unk> <unk> tell you never never <unk> <unk> tell you never never <unk> <unk> tell you down never <unk> <unk> tell you and desert you never <unk> <unk> tell you never never <unk> <unk> tell goodbye never <unk> <unk> tell you <unk> and hurt you never never never and never <unk> you <unk> you down never <unk> never never <unk> and down\n"
          ]
        },
        {
          "output_type": "stream",
          "name": "stderr",
          "text": [
            " 35%|███▌      | 35/100 [00:01<00:02, 28.86it/s]"
          ]
        },
        {
          "output_type": "stream",
          "name": "stdout",
          "text": [
            "Generated Song:\n",
            "\n",
            "\n",
            "Never gonna say goodbye never <unk> know <unk> <unk> goodbye you never never never never <unk> you and never <unk> you <unk> never never you and down never <unk> you and you never you never never <unk> tell you down never feeling <unk> <unk> tell you never never <unk> <unk> tell you never never <unk> <unk> tell you down never <unk> <unk> tell you and desert you never <unk> <unk> tell you never never <unk> <unk> tell goodbye never <unk> <unk> tell you <unk> and hurt you never never never and never <unk> know <unk> you down never <unk> never never <unk> and down\n"
          ]
        },
        {
          "output_type": "stream",
          "name": "stderr",
          "text": [
            " 46%|████▌     | 46/100 [00:01<00:01, 30.18it/s]"
          ]
        },
        {
          "output_type": "stream",
          "name": "stdout",
          "text": [
            "Generated Song:\n",
            "\n",
            "\n",
            "Gotta make you understand never <unk> know <unk> to goodbye you never never never never <unk> you and and <unk> you <unk> im never you and down never <unk> you and you never you never never <unk> tell you down im feeling <unk> <unk> tell you never never <unk> <unk> tell you never never <unk> <unk> tell you down never <unk> <unk> tell you and desert you never <unk> <unk> tell you never never <unk> <unk> tell goodbye never <unk> <unk> tell you <unk> and hurt you never never each and for <unk> know and you down never <unk> never never shy and down\n"
          ]
        },
        {
          "output_type": "stream",
          "name": "stderr",
          "text": [
            " 54%|█████▍    | 54/100 [00:01<00:01, 29.91it/s]"
          ]
        },
        {
          "output_type": "stream",
          "name": "stdout",
          "text": [
            "Generated Song:\n",
            "\n",
            "\n",
            "Never gonna make you cry never <unk> know <unk> to goodbye you never never never never <unk> you and and <unk> <unk> <unk> im never you and down never down you and you never you been never <unk> tell you down im feeling <unk> <unk> tell you never never <unk> <unk> tell you never never <unk> <unk> tell you down never <unk> <unk> tell you and desert you never <unk> <unk> tell you never never <unk> <unk> tell goodbye never <unk> <unk> tell you <unk> and hurt you never never each and for tell know and you been never <unk> youre too shy to down\n"
          ]
        },
        {
          "output_type": "stream",
          "name": "stderr",
          "text": [
            " 66%|██████▌   | 66/100 [00:02<00:01, 29.44it/s]"
          ]
        },
        {
          "output_type": "stream",
          "name": "stdout",
          "text": [
            "Generated Song:\n",
            "\n",
            "\n",
            "You know the rules and so do I never <unk> know strangers to goodbye you never never game never <unk> you and been <unk> <unk> <unk> im youre you and down never down you and other for you been never <unk> tell you how im feeling <unk> <unk> tell you never never <unk> <unk> tell you never never <unk> <unk> tell you down never <unk> <unk> tell you and desert you never <unk> <unk> tell you never never <unk> <unk> tell goodbye never <unk> <unk> tell you <unk> and hurt you never known each other for tell know and and been never but youre too shy to down\n"
          ]
        },
        {
          "output_type": "stream",
          "name": "stderr",
          "text": [
            " 74%|███████▍  | 74/100 [00:02<00:00, 29.92it/s]"
          ]
        },
        {
          "output_type": "stream",
          "name": "stdout",
          "text": [
            "Generated Song:\n",
            "\n",
            "\n",
            "A full commitments what Im thinking of never <unk> know strangers to goodbye you how never game never <unk> you i been <unk> <unk> <unk> im youre you and how never down you and other for i been never <unk> tell you how im feeling <unk> <unk> tell you understand never <unk> <unk> tell you how never <unk> <unk> tell you down never <unk> <unk> tell you and desert you never <unk> <unk> tell you understand never <unk> <unk> tell goodbye never <unk> <unk> tell you <unk> and hurt you never known each other for tell know and goodbye been aching but youre too shy to down\n"
          ]
        },
        {
          "output_type": "stream",
          "name": "stderr",
          "text": [
            " 86%|████████▌ | 86/100 [00:02<00:00, 30.57it/s]"
          ]
        },
        {
          "output_type": "stream",
          "name": "stdout",
          "text": [
            "Generated Song:\n",
            "\n",
            "\n",
            "Never gonna say goodbye never <unk> no strangers to goodbye you how never game never <unk> you i been <unk> <unk> <unk> im the you and how never down from and other for i been never <unk> tell you how im feeling <unk> <unk> tell you understand never <unk> <unk> tell you how never <unk> <unk> tell you down never <unk> <unk> tell you and desert you never <unk> <unk> tell you understand never <unk> <unk> tell goodbye never <unk> <unk> tell you <unk> and hurt you never known each other for tell know and goodbye been aching but youre too shy to down\n"
          ]
        },
        {
          "output_type": "stream",
          "name": "stderr",
          "text": [
            " 94%|█████████▍| 94/100 [00:03<00:00, 30.08it/s]"
          ]
        },
        {
          "output_type": "stream",
          "name": "stdout",
          "text": [
            "Generated Song:\n",
            "\n",
            "\n",
            "Never gonna make you cry never are no strangers to goodbye you how never game never <unk> you i been <unk> <unk> <unk> im the other and how never down from any other for i been i <unk> tell you how im feeling <unk> <unk> tell you understand never <unk> <unk> tell you up never <unk> <unk> tell you down never <unk> <unk> tell you and desert you never <unk> <unk> tell you understand never <unk> <unk> tell goodbye never <unk> <unk> tell you desert and hurt you never known each other for so we me hearts been aching but youre too shy to down\n"
          ]
        },
        {
          "output_type": "stream",
          "name": "stderr",
          "text": [
            "100%|██████████| 100/100 [00:03<00:00, 29.88it/s]\n"
          ]
        }
      ],
      "source": [
        "my_loss=train(dataloader,model_2,song)"
      ],
      "execution_count": 56
    },
    {
      "cell_type": "markdown",
      "metadata": {
        "id": "36cf9384-ddaf-43d7-a789-f64b3004ddc2"
      },
      "source": [
        "Save the model.\n"
      ]
    },
    {
      "cell_type": "code",
      "metadata": {
        "id": "b15a0350-eef1-4e5b-b443-e20c68d3edd1"
      },
      "outputs": [],
      "source": [
        "save_path = '2gram.pth'\n",
        "torch.save(model_2.state_dict(), save_path)\n",
        "my_loss_list.append(my_loss)"
      ],
      "execution_count": 57
    },
    {
      "cell_type": "markdown",
      "metadata": {
        "id": "13207b40-610e-4d9d-bfb6-4b725ce7f964"
      },
      "source": [
        "The code provided below shows word embeddings from the created model, reduces their dimensionality to 2D using t-SNE, and then plots them as a scatter plot. Additionally, it annotates the first 20 points in the visualization with their corresponding words. This is used to visualize how similar words cluster together in a lower-dimensional space, revealing the structure of the word embeddings. Embeddings allow the model to represent words in a continuous vector space, capturing semantic relationships and similarities between words.\n"
      ]
    },
    {
      "cell_type": "code",
      "metadata": {
        "colab": {
          "base_uri": "https://localhost:8080/",
          "height": 467
        },
        "id": "4546af41-e543-4a21-9057-e37dea813449",
        "outputId": "af4d9d21-abe2-41f1-e8d9-6646aa93bbd3"
      },
      "outputs": [
        {
          "output_type": "display_data",
          "data": {
            "text/plain": [
              "<Figure size 640x480 with 1 Axes>"
            ],
            "image/png": "[encoded data removed]"
          },
          "metadata": {}
        }
      ],
      "source": [
        "X = model_2.embeddings.weight.cpu().detach().numpy()\n",
        "tsne = TSNE(n_components=2, random_state=42)\n",
        "X_2d = tsne.fit_transform(X)\n",
        "\n",
        "labels = []\n",
        "\n",
        "for j in range(len(X_2d)):\n",
        "    if j < 20:\n",
        "        plt.scatter(X_2d[j, 0], X_2d[j, 1], label=index_to_token[j])\n",
        "        labels.append(index_to_token[j])\n",
        "        # Add words as annotations\n",
        "        plt.annotate(index_to_token[j],\n",
        "                     (X_2d[j, 0], X_2d[j, 1]),\n",
        "                     textcoords=\"offset points\",\n",
        "                     xytext=(0, 10),\n",
        "                     ha='center')\n",
        "    else:\n",
        "        plt.scatter(X_2d[j, 0], X_2d[j, 1])\n",
        "\n",
        "plt.legend(labels, loc='upper left', bbox_to_anchor=(1, 1))\n",
        "plt.show()"
      ],
      "execution_count": 58
    },
    {
      "cell_type": "code",
      "metadata": {
        "colab": {
          "base_uri": "https://localhost:8080/"
        },
        "id": "26515a6f-c3d8-4691-ad8f-146f2f8a13cd",
        "outputId": "07f2538e-03d6-4e59-e10e-743589a779f1"
      },
      "outputs": [
        {
          "output_type": "stream",
          "name": "stdout",
          "text": [
            "1.26.4\n"
          ]
        }
      ],
      "source": [
        "import numpy as np\n",
        "print(np.__version__)"
      ],
      "execution_count": 59
    },
    {
      "cell_type": "markdown",
      "metadata": {
        "id": "91a3eb82-a6b1-497d-83a7-fb5fe66f3c4b"
      },
      "source": [
        "Repeat the process for a context of four.\n"
      ]
    },
    {
      "cell_type": "code",
      "metadata": {
        "colab": {
          "base_uri": "https://localhost:8080/"
        },
        "id": "82ed4033-612a-4559-8458-d5bfedd2f960",
        "outputId": "e25e1f4b-4192-49ab-b8a9-accdf6125344"
      },
      "outputs": [
        {
          "output_type": "stream",
          "name": "stderr",
          "text": [
            "  7%|▋         | 7/100 [00:00<00:03, 30.66it/s]"
          ]
        },
        {
          "output_type": "stream",
          "name": "stdout",
          "text": [
            "Generated Song:\n",
            "\n",
            "\n",
            "Weve known each other for so long <unk> <unk> <unk> never <unk> <unk> <unk> <unk> im <unk> <unk> <unk> never im <unk> never <unk> never <unk> never im <unk> <unk> im <unk> <unk> im <unk> <unk> <unk> never make <unk> <unk> <unk> <unk> <unk> <unk> never <unk> <unk> <unk> <unk> im <unk> <unk> <unk> you <unk> <unk> <unk> <unk> <unk> <unk> <unk> <unk> <unk> <unk> <unk> <unk> <unk> <unk> <unk> <unk> <unk> <unk> <unk> <unk> <unk> <unk> <unk> <unk> <unk> <unk> <unk> <unk> <unk> <unk> <unk> <unk> <unk> <unk> <unk> <unk> <unk> <unk> <unk> <unk> never long im never just just never <unk> never <unk> for never\n"
          ]
        },
        {
          "output_type": "stream",
          "name": "stderr",
          "text": [
            " 15%|█▌        | 15/100 [00:00<00:02, 30.30it/s]"
          ]
        },
        {
          "output_type": "stream",
          "name": "stdout",
          "text": [
            "Generated Song:\n",
            "\n",
            "\n",
            "A full commitments what Im thinking of never <unk> <unk> <unk> <unk> <unk> you <unk> you <unk> <unk> never you <unk> <unk> give never never you never you <unk> never you <unk> <unk> you <unk> <unk> <unk> <unk> you <unk> <unk> you never never you <unk> <unk> tell you never never <unk> <unk> give you never never <unk> <unk> tell you down never <unk> <unk> say you never never you never <unk> <unk> tell you never never <unk> <unk> tell you never <unk> <unk> tell you <unk> never you you never never <unk> <unk> <unk> never <unk> <unk> <unk> <unk> <unk> never you <unk> <unk> <unk> never\n"
          ]
        },
        {
          "output_type": "stream",
          "name": "stderr",
          "text": [
            " 26%|██▌       | 26/100 [00:00<00:02, 29.88it/s]"
          ]
        },
        {
          "output_type": "stream",
          "name": "stdout",
          "text": [
            "Generated Song:\n",
            "\n",
            "\n",
            "I just wanna tell you how Im feeling never <unk> you <unk> <unk> give you <unk> you <unk> never never you <unk> <unk> say how tell you never you <unk> never you never <unk> you <unk> <unk> <unk> <unk> you <unk> tell you down never you <unk> <unk> tell you never never <unk> <unk> give you never never <unk> <unk> let you down never <unk> <unk> say you never never you never <unk> <unk> make you never never <unk> <unk> say goodbye never <unk> <unk> tell you <unk> never you you never never <unk> <unk> <unk> never long <unk> <unk> <unk> <unk> but you <unk> <unk> <unk> say\n"
          ]
        },
        {
          "output_type": "stream",
          "name": "stderr",
          "text": [
            " 34%|███▍      | 34/100 [00:01<00:02, 30.02it/s]"
          ]
        },
        {
          "output_type": "stream",
          "name": "stdout",
          "text": [
            "Generated Song:\n",
            "\n",
            "\n",
            "I just wanna tell you how Im feeling never never you <unk> to tell you <unk> you <unk> never never you <unk> <unk> say how tell you never you <unk> play you never <unk> you <unk> <unk> we im you <unk> tell you how im feeling <unk> <unk> tell you never never <unk> <unk> give you never never <unk> <unk> let you down never <unk> <unk> let you never never you never <unk> <unk> make you never never <unk> <unk> say goodbye never <unk> <unk> tell you how im feeling you never never each <unk> for tell long <unk> but been shy but youre <unk> shy <unk> say\n"
          ]
        },
        {
          "output_type": "stream",
          "name": "stderr",
          "text": [
            " 46%|████▌     | 46/100 [00:01<00:01, 30.51it/s]"
          ]
        },
        {
          "output_type": "stream",
          "name": "stdout",
          "text": [
            "Generated Song:\n",
            "\n",
            "\n",
            "Never gonna make you cry never never you <unk> to tell you know you <unk> you never you <unk> <unk> say how tell you never you <unk> play you never <unk> you <unk> <unk> we im you <unk> tell you how im feeling <unk> <unk> tell you never never <unk> <unk> give you never never <unk> <unk> let you down never <unk> <unk> let you never never you never <unk> <unk> make you never never <unk> <unk> say goodbye never <unk> <unk> tell you how im feeling you never known each other for say long im but been shy but youre too shy to say\n"
          ]
        },
        {
          "output_type": "stream",
          "name": "stderr",
          "text": [
            " 57%|█████▋    | 57/100 [00:01<00:01, 29.67it/s]"
          ]
        },
        {
          "output_type": "stream",
          "name": "stdout",
          "text": [
            "Generated Song:\n",
            "\n",
            "\n",
            "You know the rules and so do I never known you other to tell you know you <unk> you never you <unk> tell say how tell im thinking you <unk> youre you never from any <unk> <unk> we im you <unk> tell you how im feeling <unk> <unk> tell you understand never <unk> <unk> give you down never <unk> <unk> let you down never <unk> <unk> let you never never you never <unk> <unk> make you understand never <unk> <unk> say goodbye never <unk> <unk> tell you how im feeling you never known each other for say long im but been aching but youre too shy to say\n"
          ]
        },
        {
          "output_type": "stream",
          "name": "stderr",
          "text": [
            " 65%|██████▌   | 65/100 [00:02<00:01, 30.24it/s]"
          ]
        },
        {
          "output_type": "stream",
          "name": "stdout",
          "text": [
            "Generated Song:\n",
            "\n",
            "\n",
            "Never gonna give you up never known you other to love you know the rules you and you <unk> tell say commitments tell im thinking been <unk> youre you this from any other <unk> we im you <unk> tell you how im feeling <unk> <unk> tell you understand never <unk> <unk> give you down never <unk> <unk> let you down never <unk> <unk> let you never never you never <unk> <unk> make you understand never <unk> <unk> say goodbye never <unk> <unk> tell you how im feeling you never known each other for so long youre but been aching but youre too shy to say\n"
          ]
        },
        {
          "output_type": "stream",
          "name": "stderr",
          "text": [
            " 77%|███████▋  | 77/100 [00:02<00:00, 30.37it/s]"
          ]
        },
        {
          "output_type": "stream",
          "name": "stdout",
          "text": [
            "Generated Song:\n",
            "\n",
            "\n",
            "Never gonna run around and desert you never known no strangers to love you know the rules you and you <unk> a full commitments what im thinking been <unk> a you this from any other guy i im know <unk> tell you how im feeling <unk> <unk> tell you understand never <unk> <unk> give you up never <unk> <unk> let you down never <unk> <unk> let you never never you never <unk> <unk> make you understand never <unk> <unk> say goodbye never <unk> <unk> tell you lie im feeling you never known each other for so long im but been aching but youre too shy to say\n"
          ]
        },
        {
          "output_type": "stream",
          "name": "stderr",
          "text": [
            " 85%|████████▌ | 85/100 [00:02<00:00, 29.34it/s]"
          ]
        },
        {
          "output_type": "stream",
          "name": "stdout",
          "text": [
            "Generated Song:\n",
            "\n",
            "\n",
            "And if you ask me how Im feeling never known no strangers to love you know the rules you and you <unk> a full commitments what im thinking been <unk> a you this from any other guy i im im <unk> tell you how im feeling <unk> <unk> tell you understand never <unk> <unk> give you up never <unk> <unk> let you down never <unk> <unk> run you never never you never <unk> <unk> make you understand never <unk> <unk> say goodbye never <unk> <unk> tell you lie im feeling you never known each other for so long im but been aching but youre too shy to say\n"
          ]
        },
        {
          "output_type": "stream",
          "name": "stderr",
          "text": [
            " 95%|█████████▌| 95/100 [00:03<00:00, 30.59it/s]"
          ]
        },
        {
          "output_type": "stream",
          "name": "stdout",
          "text": [
            "Generated Song:\n",
            "\n",
            "\n",
            "Never gonna tell a lie and hurt you never are no strangers to love you know the rules you and you <unk> a full commitments what im thinking been <unk> a you this from any other guy i im im <unk> tell you how im feeling <unk> <unk> tell you understand never <unk> <unk> give you up never <unk> <unk> let you down never <unk> <unk> run you never never you never <unk> <unk> make you understand never <unk> <unk> say goodbye never <unk> <unk> tell you lie im feeling you never known each other for so long im but been aching but youre too shy to say\n"
          ]
        },
        {
          "output_type": "stream",
          "name": "stderr",
          "text": [
            "100%|██████████| 100/100 [00:03<00:00, 29.96it/s]\n"
          ]
        }
      ],
      "source": [
        "CONTEXT_SIZE=4\n",
        "model_4 = NGramLanguageModeler(len(vocab), EMBEDDING_DIM, CONTEXT_SIZE).to(device)\n",
        "optimizer = optim.SGD(model_4.parameters(), lr=0.01)\n",
        "scheduler = torch.optim.lr_scheduler.StepLR(optimizer, 1.0, gamma=0.1)\n",
        "my_loss=train(dataloader,model_4,song)\n",
        "\n",
        "save_path = '4gram.pth'\n",
        "torch.save(model_4.state_dict(), save_path)\n",
        "\n",
        "my_loss_list.append(my_loss)"
      ],
      "execution_count": 60
    },
    {
      "cell_type": "markdown",
      "metadata": {
        "id": "2ea8e833-c40d-423b-a735-c6a5ba238a44"
      },
      "source": [
        "The code provided below shows word embeddings from the created model, reduces their dimensionality to 2d using t-SNE, and then plots them as a scatter plot. Additionally, it annotates the first 20 points in the visualization with their corresponding words. This is used to visualize how similar words cluster together in a lower-dimensional space, revealing the structure of the word embeddings. Embeddings allow the model to represent words in a continuous vector space, capturing semantic relationships and similarities between words.\n"
      ]
    },
    {
      "cell_type": "code",
      "metadata": {
        "colab": {
          "base_uri": "https://localhost:8080/",
          "height": 475
        },
        "id": "c428921c-79ec-462c-a01e-fce138f3f351",
        "outputId": "ee6f5b94-4cd6-4940-b08e-8adccbf73266"
      },
      "outputs": [
        {
          "output_type": "display_data",
          "data": {
            "text/plain": [
              "<Figure size 640x480 with 1 Axes>"
            ],
            "image/png": "[encoded data removed]"
          },
          "metadata": {}
        }
      ],
      "source": [
        "X = model_4.embeddings.weight.cpu().detach().numpy()\n",
        "tsne = TSNE(n_components=2, random_state=42)\n",
        "X_2d = tsne.fit_transform(X)\n",
        "\n",
        "labels = []\n",
        "\n",
        "for j in range(len(X_2d)):\n",
        "    if j < 20:\n",
        "        plt.scatter(X_2d[j, 0], X_2d[j, 1], label=index_to_token[j])\n",
        "        labels.append(index_to_token[j])\n",
        "        # Add words as annotations\n",
        "        plt.annotate(index_to_token[j],\n",
        "                     (X_2d[j, 0], X_2d[j, 1]),\n",
        "                     textcoords=\"offset points\",\n",
        "                     xytext=(0, 10),\n",
        "                     ha='center')\n",
        "    else:\n",
        "        plt.scatter(X_2d[j, 0], X_2d[j, 1])\n",
        "\n",
        "plt.legend(labels, loc='upper left', bbox_to_anchor=(1, 1))\n",
        "plt.show()"
      ],
      "execution_count": 61
    },
    {
      "cell_type": "markdown",
      "metadata": {
        "id": "52f16838-ae2a-4dba-8077-5661fb88d0c6"
      },
      "source": [
        "Finally, for a context of eight.\n"
      ]
    },
    {
      "cell_type": "code",
      "metadata": {
        "colab": {
          "base_uri": "https://localhost:8080/"
        },
        "id": "c2a97d3a-e365-4666-a7a2-4e1728da71fa",
        "outputId": "d84702ce-691b-4fd5-b6a3-7c9279d4e8c2"
      },
      "outputs": [
        {
          "output_type": "stream",
          "name": "stderr",
          "text": [
            "  5%|▌         | 5/100 [00:00<00:04, 21.74it/s]"
          ]
        },
        {
          "output_type": "stream",
          "name": "stdout",
          "text": [
            "Generated Song:\n",
            "\n",
            "\n",
            "Never gonna make you cry you <unk> been you you you you you you <unk> you you the me you you make you you you it im you around you you you you you you you you you you you you you <unk> you you you you you you never you <unk> you you you <unk> you <unk> you you you <unk> <unk> you you you you <unk> you you you make you you the you you you you you it <unk> tell you you the you you you <unk> you you you you you you you <unk> me you you you you you you\n"
          ]
        },
        {
          "output_type": "stream",
          "name": "stderr",
          "text": [
            " 14%|█▍        | 14/100 [00:00<00:03, 21.88it/s]"
          ]
        },
        {
          "output_type": "stream",
          "name": "stdout",
          "text": [
            "Generated Song:\n",
            "\n",
            "\n",
            "Never gonna give you up <unk> <unk> give give you you you <unk> <unk> <unk> <unk> you <unk> <unk> give you make you im thinking give <unk> give you <unk> you <unk> <unk> guy i you you you <unk> <unk> you you <unk> <unk> <unk> <unk> tell <unk> never <unk> <unk> give you you never <unk> <unk> give you you <unk> <unk> <unk> give you <unk> <unk> <unk> <unk> tell <unk> make you cry never <unk> <unk> tell you you <unk> <unk> tell you you <unk> <unk> tell <unk> <unk> <unk> give you <unk> tell you you <unk> <unk> <unk> you <unk> shy to you\n"
          ]
        },
        {
          "output_type": "stream",
          "name": "stderr",
          "text": [
            " 26%|██▌       | 26/100 [00:01<00:03, 24.06it/s]"
          ]
        },
        {
          "output_type": "stream",
          "name": "stdout",
          "text": [
            "Generated Song:\n",
            "\n",
            "\n",
            "Never gonna say goodbye <unk> <unk> give strangers to so you tell the rules tell you im <unk> play give strangers shy im thinking give im give im <unk> other im <unk> guy i you give you <unk> give you im feeling <unk> <unk> <unk> tell <unk> never <unk> <unk> give you up never <unk> <unk> give you you never <unk> <unk> run around <unk> <unk> <unk> <unk> the <unk> make you cry never <unk> <unk> give you you never <unk> tell a lie never <unk> tell <unk> <unk> give other for so long give too never <unk> give too too shy to say\n"
          ]
        },
        {
          "output_type": "stream",
          "name": "stderr",
          "text": [
            " 35%|███▌      | 35/100 [00:01<00:02, 23.61it/s]"
          ]
        },
        {
          "output_type": "stream",
          "name": "stdout",
          "text": [
            "Generated Song:\n",
            "\n",
            "\n",
            "Never gonna let you down <unk> <unk> give strangers to so you tell the rules tell you im <unk> play give strangers shy im thinking give im give im <unk> other around <unk> guy i you give you <unk> give you im feeling <unk> <unk> <unk> tell <unk> never <unk> <unk> give you up never <unk> <unk> give around up never <unk> <unk> run around <unk> never <unk> <unk> guy <unk> make you cry never <unk> <unk> give you you never <unk> tell a lie never <unk> tell <unk> <unk> give other for so long give lie never <unk> other too too shy to say\n"
          ]
        },
        {
          "output_type": "stream",
          "name": "stderr",
          "text": [
            " 44%|████▍     | 44/100 [00:01<00:02, 21.82it/s]"
          ]
        },
        {
          "output_type": "stream",
          "name": "stdout",
          "text": [
            "Generated Song:\n",
            "\n",
            "\n",
            "Never gonna give you up <unk> me give strangers to so you me the rules tell you im <unk> play give strangers shy im thinking give im give im <unk> other around <unk> guy i you give you thinking give you im feeling <unk> <unk> <unk> tell tell never <unk> <unk> give you up never <unk> <unk> give around up never <unk> <unk> run around <unk> never <unk> <unk> shy <unk> make you cry never <unk> <unk> give you you never <unk> tell a lie never <unk> tell <unk> <unk> give other for so long give lie never too other too too shy to say\n"
          ]
        },
        {
          "output_type": "stream",
          "name": "stderr",
          "text": [
            " 53%|█████▎    | 53/100 [00:02<00:02, 21.04it/s]"
          ]
        },
        {
          "output_type": "stream",
          "name": "stdout",
          "text": [
            "Generated Song:\n",
            "\n",
            "\n",
            "Never gonna run around and desert you <unk> me give strangers to so you me the rules tell you im <unk> play give strangers shy im thinking give im give im <unk> other around <unk> guy i you make you thinking give you im feeling <unk> <unk> <unk> tell cry never <unk> <unk> give you up never <unk> <unk> give around up never <unk> <unk> run around up never <unk> <unk> shy <unk> make you cry never <unk> <unk> give you you never <unk> tell a lie never <unk> tell <unk> <unk> give other for so long give lie never too other too too shy to say\n"
          ]
        },
        {
          "output_type": "stream",
          "name": "stderr",
          "text": [
            " 67%|██████▋   | 67/100 [00:02<00:01, 27.41it/s]"
          ]
        },
        {
          "output_type": "stream",
          "name": "stdout",
          "text": [
            "Generated Song:\n",
            "\n",
            "\n",
            "Never gonna let you down <unk> me give strangers to so you me the rules tell you im <unk> play give strangers shy im thinking give im give im <unk> other around <unk> guy i you say you thinking give you im feeling <unk> <unk> <unk> tell cry never <unk> <unk> give you up never <unk> <unk> give around up never <unk> <unk> run around up never <unk> <unk> shy <unk> make you cry never <unk> <unk> give you you never <unk> tell a lie never <unk> tell <unk> <unk> give other for so long give lie never too other too too shy to say\n"
          ]
        },
        {
          "output_type": "stream",
          "name": "stderr",
          "text": [
            " 75%|███████▌  | 75/100 [00:03<00:00, 29.61it/s]"
          ]
        },
        {
          "output_type": "stream",
          "name": "stdout",
          "text": [
            "Generated Song:\n",
            "\n",
            "\n",
            "Gotta make you understand <unk> me give strangers to so you me the rules tell you im <unk> play give strangers shy im thinking give im give im <unk> other around <unk> guy i say say you thinking give you im feeling <unk> <unk> <unk> tell cry never <unk> <unk> give you up never <unk> <unk> give around up never <unk> <unk> run around up never <unk> <unk> shy <unk> make you cry never <unk> <unk> give you you never <unk> tell a lie never <unk> tell <unk> <unk> give other for so long give lie never too other too too shy to say\n"
          ]
        },
        {
          "output_type": "stream",
          "name": "stderr",
          "text": [
            " 87%|████████▋ | 87/100 [00:03<00:00, 31.32it/s]"
          ]
        },
        {
          "output_type": "stream",
          "name": "stdout",
          "text": [
            "Generated Song:\n",
            "\n",
            "\n",
            "We know the game and were gonna play it <unk> me give strangers to so you me the rules tell you im <unk> play give strangers shy im thinking give im give im <unk> other around <unk> guy i say say you thinking give you im feeling <unk> <unk> <unk> tell cry never <unk> <unk> give you up never <unk> <unk> give around up never <unk> <unk> run around up never <unk> <unk> shy <unk> make you cry never <unk> <unk> give you you never <unk> tell a lie never <unk> tell <unk> <unk> give other for so long give lie never too other too too shy to say\n"
          ]
        },
        {
          "output_type": "stream",
          "name": "stderr",
          "text": [
            " 95%|█████████▌| 95/100 [00:03<00:00, 30.18it/s]"
          ]
        },
        {
          "output_type": "stream",
          "name": "stdout",
          "text": [
            "Generated Song:\n",
            "\n",
            "\n",
            "You know the rules and so do I <unk> me give strangers to so you me the rules tell you im <unk> play give strangers shy im thinking give im give im <unk> other around <unk> guy i say say im thinking give you im feeling <unk> <unk> <unk> tell cry never <unk> <unk> give you up never <unk> <unk> give around up never <unk> <unk> run around up never <unk> <unk> shy <unk> make you cry never <unk> <unk> give you you never <unk> tell a lie never <unk> tell <unk> <unk> give other for so long give lie never too other too too shy to say\n"
          ]
        },
        {
          "output_type": "stream",
          "name": "stderr",
          "text": [
            "100%|██████████| 100/100 [00:03<00:00, 25.39it/s]\n"
          ]
        }
      ],
      "source": [
        "CONTEXT_SIZE=8\n",
        "model_8 = NGramLanguageModeler(len(vocab), EMBEDDING_DIM, CONTEXT_SIZE).to(device)\n",
        "optimizer = optim.SGD(model_8.parameters(), lr=0.01)\n",
        "\n",
        "scheduler = torch.optim.lr_scheduler.StepLR(optimizer, 1.0, gamma=0.1)\n",
        "my_loss=train(dataloader,model_8,song)\n",
        "\n",
        "save_path = '8gram.pth'\n",
        "torch.save(model_8.state_dict(), save_path)\n",
        "\n",
        "my_loss_list.append(my_loss)"
      ],
      "execution_count": 62
    },
    {
      "cell_type": "markdown",
      "metadata": {
        "id": "9e91eb94-4a87-4e42-b6c8-9f4383bf62da"
      },
      "source": [
        "The code provided below shows word embeddings from the created model, reduces their dimensionality to 2D using t-SNE, and then plots them as a scatter plot. Additionally, it annotates the first 20 points in the visualization with their corresponding words. This is used to visualize how similar words cluster together in a lower-dimensional space, revealing the structure of the word embeddings. Embeddings allow the model to represent words in a continuous vector space, capturing semantic relationships and similarities between words.\n"
      ]
    },
    {
      "cell_type": "code",
      "metadata": {
        "colab": {
          "base_uri": "https://localhost:8080/",
          "height": 467
        },
        "id": "d60c24f6-2945-49bf-9891-d7a5e8b3cc07",
        "outputId": "99247246-9446-4a39-a666-3dfecaa0450c"
      },
      "outputs": [
        {
          "output_type": "display_data",
          "data": {
            "text/plain": [
              "<Figure size 640x480 with 1 Axes>"
            ],
            "image/png": "[encoded data removed]"
          },
          "metadata": {}
        }
      ],
      "source": [
        "X = model_8.embeddings.weight.cpu().detach().numpy()\n",
        "tsne = TSNE(n_components=2, random_state=42)\n",
        "X_2d = tsne.fit_transform(X)\n",
        "\n",
        "labels = []\n",
        "\n",
        "for j in range(len(X_2d)):\n",
        "    if j < 20:\n",
        "        plt.scatter(X_2d[j, 0], X_2d[j, 1], label=index_to_token[j])\n",
        "        labels.append(index_to_token[j])\n",
        "        # Add words as annotations\n",
        "        plt.annotate(index_to_token[j],\n",
        "                     (X_2d[j, 0], X_2d[j, 1]),\n",
        "                     textcoords=\"offset points\",\n",
        "                     xytext=(0, 10),\n",
        "                     ha='center')\n",
        "    else:\n",
        "        plt.scatter(X_2d[j, 0], X_2d[j, 1])\n",
        "\n",
        "plt.legend(labels, loc='upper left', bbox_to_anchor=(1, 1))\n",
        "plt.show()"
      ],
      "execution_count": 63
    },
    {
      "cell_type": "markdown",
      "metadata": {
        "id": "a37d1f85-163b-473a-8894-ff7bb7b02bf0"
      },
      "source": [
        "When considering the plotted loss for each model, a discernible trend emerges: an increase in context size correlates with a reduction in loss. While this specific approach lacks the inclusion of model validation or the utilization of conventional NLP evaluation metrics, the visual evidence substantiates its superior performance.\n"
      ]
    },
    {
      "cell_type": "code",
      "metadata": {
        "colab": {
          "base_uri": "https://localhost:8080/",
          "height": 430
        },
        "id": "9532304c-7773-4425-ad4d-b2ef1e28b011",
        "outputId": "c1c2fe33-fd23-4224-f36d-dccd36b0960a"
      },
      "outputs": [
        {
          "output_type": "display_data",
          "data": {
            "text/plain": [
              "<Figure size 640x480 with 1 Axes>"
            ],
            "image/png": "[encoded data removed]"
          },
          "metadata": {}
        }
      ],
      "source": [
        "for (my_loss, model_name)in zip(my_loss_list,[\"2-gram\",\"4-gram\",\"8-gram\"]):\n",
        "    plt.plot(my_loss,label=\"Cross-entropy Loss - {}\".format(model_name))\n",
        "    plt.legend()"
      ],
      "execution_count": 64
    },
    {
      "cell_type": "markdown",
      "metadata": {
        "id": "7c889ad3-cc00-47f8-9674-ef71f6fbbbee"
      },
      "source": [
        "## Perplexity\n",
        "Perplexity is a measurement used to evaluate the effectiveness of language models or probability models. It provides an indication of how well a model predicts a sample of data or the likelihood of an unseen event. Perplexity is commonly used in natural language processing tasks, such as machine translation, speech recognition, and language generation.\n",
        "\n",
        "Perplexity is derived from the concept of cross-entropy loss, which measures the dissimilarity between predicted probabilities and actual probabilities.\n",
        "\n",
        "$$\\text{Cross-Entropy Loss} = -\\sum_{i=1}^{N} y_i \\ln(p_i)$$\n",
        "The cross-entropy loss is calculated by taking the negative sum of the products of the true labels $y_i$ and the logarithm of the predicted probabilities $p_i$ over $N$ classes.\n",
        "\n",
        "Taking the exponential of the mean cross-entropy loss gives us the perplexity value.\n",
        "\n",
        "$$\\text{Perplexity} = e^{\\frac{1}{N} \\text{Cross-Entropy Loss}}$$\n",
        "\n",
        "\n",
        "A lower perplexity value indicates that the model is more confident and accurate in predicting the data. Conversely, a higher perplexity suggests that the model is less certain and less accurate in its predictions.\n",
        "\n",
        "Perplexity can be seen as an estimate of the average number of choices the model has for the next word or event in a sequence. A lower perplexity means that the model is more certain about the next word, while a higher perplexity means that there are more possible choices.\n"
      ]
    },
    {
      "cell_type": "code",
      "metadata": {
        "colab": {
          "base_uri": "https://localhost:8080/",
          "height": 430
        },
        "id": "e57d7326-b735-4f14-a54b-9b7155ddac21",
        "outputId": "a148497c-55e7-4fcc-f4f4-03b96a86529e"
      },
      "outputs": [
        {
          "output_type": "display_data",
          "data": {
            "text/plain": [
              "<Figure size 640x480 with 1 Axes>"
            ],
            "image/png": "[encoded data removed]"
          },
          "metadata": {}
        }
      ],
      "source": [
        "for (my_loss, model_name)in zip(my_loss_list,[\"2-gram\",\"4-gram\",\"8-gram\"]):\n",
        "    # Calculate perplexity using the loss\n",
        "    perplexity = np.exp(my_loss)\n",
        "    plt.plot(perplexity,label=\"Perplexity - {}\".format(model_name))\n",
        "    plt.legend()"
      ],
      "execution_count": 65
    },
    {
      "cell_type": "markdown",
      "metadata": {
        "id": "36ae2ea5-69be-427f-99b9-19a182d8e3a0"
      },
      "source": [
        "# Exercises\n"
      ]
    },
    {
      "cell_type": "markdown",
      "metadata": {
        "id": "7cae33f4-a079-4cfc-aac7-69499d9c63d8"
      },
      "source": [
        "### Exercise 1 - Source a collection of nursery rhymes and compile them into a single text variable.\n"
      ]
    },
    {
      "cell_type": "code",
      "metadata": {
        "id": "5c6ef6a9-94bc-4e2b-9853-27fe552eb495"
      },
      "outputs": [],
      "source": [
        "nursery_rhymes = \"\"\"\n",
        "Little Miss Muffet\n",
        "Sat on a tuffet,\n",
        "Eating her curds and whey;\n",
        "Along came a spider\n",
        "Who sat down beside her\n",
        "And frightened Miss Muffet away.\n",
        "\n",
        "Twinkle, twinkle, little star,\n",
        "How I wonder what you are!\n",
        "Up above the world so high,\n",
        "Like a diamond in the sky.\n",
        "\n",
        "Baa, baa, black sheep,\n",
        "Have you any wool?\n",
        "Yes sir, yes sir,\n",
        "Three bags full.\n",
        "\n",
        "Jack and Jill went up the hill\n",
        "To fetch a pail of water.\n",
        "Jack fell down and broke his crown,\n",
        "And Jill came tumbling after.\n",
        "\n",
        "Hickory dickory dock,\n",
        "The mouse ran up the clock.\n",
        "The clock struck one,\n",
        "The mouse ran down,\n",
        "Hickory dickory dock.\n",
        "\n",
        "Humpty Dumpty sat on a wall,\n",
        "Humpty Dumpty had a great fall.\n",
        "All the king's horses and all the king's men\n",
        "Couldn't put Humpty together again.\n",
        "\n",
        "Mary had a little lamb,\n",
        "Its fleece was white as snow;\n",
        "And everywhere that Mary went,\n",
        "The lamb was sure to go.\n",
        "\n",
        "Old MacDonald had a farm,\n",
        "E-I-E-I-O,\n",
        "And on his farm he had a cow,\n",
        "E-I-E-I-O.\n",
        "\n",
        "Itsy Bitsy Spider climbed up the waterspout.\n",
        "Down came the rain and washed the spider out.\n",
        "Out came the sun and dried up all the rain,\n",
        "And the Itsy Bitsy Spider climbed up the spout again.\n",
        "\n",
        "The wheels on the bus go round and round,\n",
        "Round and round,\n",
        "Round and round.\n",
        "The wheels on the bus go round and round,\n",
        "All through the town.\n",
        "\n",
        "\"\"\""
      ],
      "execution_count": 66
    },
    {
      "cell_type": "markdown",
      "metadata": {
        "id": "488af44c-4170-41f9-bfcc-5359f9d1839f"
      },
      "source": [
        "<details>\n",
        "    <summary>Click here for Solution</summary>\n",
        "\n",
        "```python\n",
        "nursery_rhymes = \"\"\"\n",
        "Little Miss Muffet\n",
        "Sat on a tuffet,\n",
        "Eating her curds and whey;\n",
        "Along came a spider\n",
        "Who sat down beside her\n",
        "And frightened Miss Muffet away.\n",
        "\n",
        "Twinkle, twinkle, little star,\n",
        "How I wonder what you are!\n",
        "Up above the world so high,\n",
        "Like a diamond in the sky.\n",
        "\n",
        "Baa, baa, black sheep,\n",
        "Have you any wool?\n",
        "Yes sir, yes sir,\n",
        "Three bags full.\n",
        "\n",
        "Jack and Jill went up the hill\n",
        "To fetch a pail of water.\n",
        "Jack fell down and broke his crown,\n",
        "And Jill came tumbling after.\n",
        "\n",
        "Hickory dickory dock,\n",
        "The mouse ran up the clock.\n",
        "The clock struck one,\n",
        "The mouse ran down,\n",
        "Hickory dickory dock.\n",
        "\n",
        "Humpty Dumpty sat on a wall,\n",
        "Humpty Dumpty had a great fall.\n",
        "All the king's horses and all the king's men\n",
        "Couldn't put Humpty together again.\n",
        "\n",
        "Mary had a little lamb,\n",
        "Its fleece was white as snow;\n",
        "And everywhere that Mary went,\n",
        "The lamb was sure to go.\n",
        "\n",
        "Old MacDonald had a farm,\n",
        "E-I-E-I-O,\n",
        "And on his farm he had a cow,\n",
        "E-I-E-I-O.\n",
        "\n",
        "Itsy Bitsy Spider climbed up the waterspout.\n",
        "Down came the rain and washed the spider out.\n",
        "Out came the sun and dried up all the rain,\n",
        "And the Itsy Bitsy Spider climbed up the spout again.\n",
        "\n",
        "The wheels on the bus go round and round,\n",
        "Round and round,\n",
        "Round and round.\n",
        "The wheels on the bus go round and round,\n",
        "All through the town.\n",
        "\n",
        "\"\"\"\n",
        "```\n",
        "\n",
        "</details>\n"
      ]
    },
    {
      "cell_type": "markdown",
      "metadata": {
        "id": "aa7dd6b8-5bb8-4ca3-bf49-18ad8b0d892e"
      },
      "source": [
        "### Exercise 2 - Preprocess the text data to tokenize and create n-grams.\n"
      ]
    },
    {
      "cell_type": "code",
      "metadata": {
        "id": "5239776a-002f-472d-be2d-fb828d983036"
      },
      "outputs": [],
      "source": [
        "# Define the value of N for N-grams (context size)\n",
        "N = 2\n",
        "\n",
        "# Preprocess the text (e.g., nursery rhymes) to tokenize and clean it\n",
        "tokens = preprocess(nursery_rhymes)  # Use the preprocess function to tokenize the text\n",
        "\n",
        "# Generate N-grams using the `genngrams` function\n",
        "ngrams = genngrams(tokens)\n",
        "\n",
        "# Extract the first context-target pair from the list of N-grams\n",
        "context, target = ngrams[0]"
      ],
      "execution_count": 67
    },
    {
      "cell_type": "markdown",
      "metadata": {
        "id": "c5301497-822b-4e75-99dd-ed386ce68fcd"
      },
      "source": [
        "<details>\n",
        "    <summary>Click here for Solution</summary>\n",
        "\n",
        "```python\n",
        "# Define the value of N for N-grams (context size)\n",
        "N = 2  \n",
        "\n",
        "# Preprocess the text (e.g., nursery rhymes) to tokenize and clean it\n",
        "tokens = preprocess(nursery_rhymes)  # Use the preprocess function to tokenize the text\n",
        "\n",
        "# Generate N-grams using the `genngrams` function\n",
        "ngrams = genngrams(tokens)  \n",
        "\n",
        "# Extract the first context-target pair from the list of N-grams\n",
        "context, target = ngrams[0]  \n",
        "```\n",
        "\n",
        "</details>\n"
      ]
    },
    {
      "cell_type": "markdown",
      "metadata": {
        "id": "c52e3c22-1c55-4fea-9a20-cc3d166f50ee"
      },
      "source": [
        "### Exercise 3 - Convert Context Words into Embeddings and Pass Them Through a Linear Layer\n"
      ]
    },
    {
      "cell_type": "code",
      "metadata": {
        "colab": {
          "base_uri": "https://localhost:8080/"
        },
        "id": "2f0d74c8-789c-4f2f-89bd-57fc7ef39794",
        "outputId": "23ebc8b6-91fd-4df6-9e1d-7fec68a11fb1"
      },
      "outputs": [
        {
          "output_type": "stream",
          "name": "stdout",
          "text": [
            "Output shape: torch.Size([1, 128])\n"
          ]
        }
      ],
      "source": [
        "# Write your code here.\n",
        "\n",
        "# Tokenize text and create vocabulary\n",
        "vocab = tokenizetext(nursery_rhymes)\n",
        "\n",
        "\n",
        "# Define embedding dimensions and create layers\n",
        "embedding_dim = 20  # Each word will be represented as a 20-dimensional vector\n",
        "linear = nn.Linear(embedding_dim * CONTEXT_SIZE, 128)\n",
        "\n",
        "\n",
        "# Generate embeddings using the custom embedding function\n",
        "embeddings = genembedding(vocab)\n",
        "\n",
        "\n",
        "# Convert context words into embeddings\n",
        "my_embeddings = embeddings(torch.tensor(vocab(context)))\n",
        "\n",
        "\n",
        "# Reshape embeddings to match the input shape required by the linear layer\n",
        "my_embeddings = my_embeddings.reshape(1, -1)\n",
        "\n",
        "\n",
        "# Pass embeddings through the linear layer\n",
        "output = linear(my_embeddings)\n",
        "\n",
        "\n",
        "# Print output shape for verification\n",
        "print(\"Output shape:\", output.shape)"
      ],
      "execution_count": 68
    },
    {
      "cell_type": "markdown",
      "metadata": {
        "id": "d3df92a4-0642-498d-8df9-e26847f007e0"
      },
      "source": [
        "<details>\n",
        "    <summary>Click here for Solution</summary>\n",
        "\n",
        "```python\n",
        "\n",
        "# Tokenize text and create vocabulary\n",
        "vocab = tokenizetext(nursery_rhymes)  \n",
        "\n",
        "\n",
        "# Define embedding dimensions and create layers\n",
        "embedding_dim = 20  # Each word will be represented as a 20-dimensional vector\n",
        "linear = nn.Linear(embedding_dim * CONTEXT_SIZE, 128)  \n",
        "\n",
        "\n",
        "# Generate embeddings using the custom embedding function\n",
        "embeddings = genembedding(vocab)  \n",
        "\n",
        "\n",
        "# Convert context words into embeddings\n",
        "my_embeddings = embeddings(torch.tensor(vocab(context)))  \n",
        "\n",
        "\n",
        "# Reshape embeddings to match the input shape required by the linear layer\n",
        "my_embeddings = my_embeddings.reshape(1, -1)  \n",
        "\n",
        "\n",
        "# Pass embeddings through the linear layer\n",
        "output = linear(my_embeddings)  \n",
        "\n",
        "\n",
        "# Print output shape for verification\n",
        "print(\"Output shape:\", output.shape)  \n",
        "\n",
        "\n",
        "\n",
        "```\n",
        "\n",
        "</details>\n"
      ]
    },
    {
      "cell_type": "markdown",
      "metadata": {
        "id": "7df7fb10-7037-4510-a2b3-f748778b0c84"
      },
      "source": [
        "### Exercise 4 -  Implement Batch Processing with Padding for Language Modeling.\n"
      ]
    },
    {
      "cell_type": "code",
      "metadata": {
        "colab": {
          "base_uri": "https://localhost:8080/"
        },
        "id": "4141a5dc-1209-4a68-94f2-b678381767b2",
        "outputId": "b538a1c6-2597-4eff-ee79-97f18072c1f0"
      },
      "outputs": [
        {
          "output_type": "stream",
          "name": "stdout",
          "text": [
            "Total tokens (after padding): 240\n"
          ]
        }
      ],
      "source": [
        "# Define constants for training\n",
        "CONTEXT_SIZE = 3  # The number of words in the context window\n",
        "BATCH_SIZE = 10   # The number of samples per batch\n",
        "EMBEDDING_DIM = 10  # The dimension of the word embeddings\n",
        "\n",
        "# Compute padding to ensure the number of tokens is evenly divisible by the batch size\n",
        "Padding = BATCH_SIZE - len(tokens) % BATCH_SIZE\n",
        "\n",
        "\n",
        "tokens_pad = tokens + tokens[0:Padding]\n",
        "\n",
        "\n",
        "# Define device (CPU/GPU) for computation\n",
        "device = torch.device(\"cuda\" if torch.cuda.is_available() else \"cpu\")\n",
        "\n",
        "\n",
        "# Create DataLoader for batch processing\n",
        "dataloader = DataLoader(\n",
        "    tokens_pad, batch_size=BATCH_SIZE, shuffle=False, collate_fn=collate_batch\n",
        ")\n",
        "\n",
        "\n",
        "# Print length of total tokens after padding\n",
        "print(f\"Total tokens (after padding): {len(tokens_pad)}\")"
      ],
      "execution_count": 69
    },
    {
      "cell_type": "markdown",
      "metadata": {
        "id": "5d1789fc-25a4-46f2-b494-b685a239c2bb"
      },
      "source": [
        "<details>\n",
        "    <summary>Click here for Solution</summary>\n",
        "\n",
        "```python\n",
        "# Define constants for training\n",
        "CONTEXT_SIZE = 3  # The number of words in the context window\n",
        "BATCH_SIZE = 10   # The number of samples per batch\n",
        "EMBEDDING_DIM = 10  # The dimension of the word embeddings\n",
        "\n",
        "# Compute padding to ensure the number of tokens is evenly divisible by the batch size\n",
        "Padding = BATCH_SIZE - len(tokens) % BATCH_SIZE  \n",
        "\n",
        "\n",
        "tokens_pad = tokens + tokens[0:Padding]  \n",
        "\n",
        "\n",
        "# Define device (CPU/GPU) for computation\n",
        "device = torch.device(\"cuda\" if torch.cuda.is_available() else \"cpu\")  \n",
        "\n",
        "\n",
        "# Create DataLoader for batch processing\n",
        "dataloader = DataLoader(\n",
        "    tokens_pad, batch_size=BATCH_SIZE, shuffle=False, collate_fn=collate_batch\n",
        ")  \n",
        "\n",
        "\n",
        "# Print length of total tokens after padding\n",
        "print(f\"Total tokens (after padding): {len(tokens_pad)}\")\n",
        "\n",
        "\n",
        "```\n",
        "\n",
        "</details>\n"
      ]
    },
    {
      "cell_type": "markdown",
      "metadata": {
        "id": "4255e7c6-336c-434b-8e7f-c5d4eb6d3218"
      },
      "source": [
        "### Exercise 5 - Train an N-gram language model using the provided code structure.\n"
      ]
    },
    {
      "cell_type": "code",
      "metadata": {
        "colab": {
          "base_uri": "https://localhost:8080/"
        },
        "id": "0dbe4c60-2635-43c2-b2c7-e9862dc9096f",
        "outputId": "ce5498e5-5a2c-4e74-b987-5113c60ad180"
      },
      "outputs": [
        {
          "output_type": "stream",
          "name": "stderr",
          "text": [
            " 10%|█         | 10/100 [00:00<00:01, 47.00it/s]"
          ]
        },
        {
          "output_type": "stream",
          "name": "stdout",
          "text": [
            "Generated Song:\n",
            "\n",
            "\n",
            "Eating her curds and whey; as jill as to along sure wool out after eating as along everywhere after as wool to fetch world along as as along up washed to along jack t along as fetch hill as beside ran sir pail hill ran along , after to that as as as , after along beside after as that after t along after wool after wool that fetch who along that as fetch hill after after fetch world along full to as eating waterspout along mary old that along that everywhere wool as wool after struck ran as star washed hill after after after\n"
          ]
        },
        {
          "output_type": "stream",
          "name": "stderr",
          "text": [
            " 20%|██        | 20/100 [00:00<00:01, 44.26it/s]"
          ]
        },
        {
          "output_type": "stream",
          "name": "stdout",
          "text": [
            "Generated Song:\n",
            "\n",
            "\n",
            " the the the the the the and the the the and the the the the the the the round the the the round the the the the the the the the the the the the the the the the the the the the the the the the the the the the the the the the the the the the the the the the the the the the the the the the the the the the the the the the the the the the the the the the and the the the the the the the the the the the the\n"
          ]
        },
        {
          "output_type": "stream",
          "name": "stderr",
          "text": [
            " 30%|███       | 30/100 [00:00<00:01, 44.23it/s]"
          ]
        },
        {
          "output_type": "stream",
          "name": "stdout",
          "text": [
            "Generated Song:\n",
            "\n",
            "\n",
            "Jack fell down and broke his crown, the the the the the the and the the the and round the the the the the the round the the the round the the the the the the the the the the the the and the the the the the the and the the the the the the the the the the the and the the the the the the the and the the the the the the the the the a the the the the the the the round the the and the the the and the the and the the the the the the the the the\n"
          ]
        },
        {
          "output_type": "stream",
          "name": "stderr",
          "text": [
            " 40%|████      | 40/100 [00:00<00:01, 44.64it/s]"
          ]
        },
        {
          "output_type": "stream",
          "name": "stdout",
          "text": [
            "Generated Song:\n",
            "\n",
            "\n",
            " the and the the round a and and and the and round the the the and and the round the the and round the the the and the the the the and the up the and the the the the the the and and the the the and the the round the the the and the the the the the the the and the the on the the the the round round a the round the the the the the round the the and round the the and and the and the the the up the the the the the\n"
          ]
        },
        {
          "output_type": "stream",
          "name": "stderr",
          "text": [
            "\r 45%|████▌     | 45/100 [00:01<00:01, 41.54it/s]"
          ]
        },
        {
          "output_type": "stream",
          "name": "stdout",
          "text": [
            "Generated Song:\n",
            "\n",
            "\n",
            "Eating her curds and whey; the and the the round a and up and and on round the the the and and the round the the and on the the the and the the up the and the up the and the the the the the the and and the the the and the and round the and and and the the the and the and the and the and on the the the the round round a the round and the and the the round the the and on the the and and the and the the the up the the the the the\n"
          ]
        },
        {
          "output_type": "stream",
          "name": "stderr",
          "text": [
            " 60%|██████    | 60/100 [00:01<00:00, 42.32it/s]"
          ]
        },
        {
          "output_type": "stream",
          "name": "stdout",
          "text": [
            "Generated Song:\n",
            "\n",
            "\n",
            "E-I-E-I-O, the and the the on a and up and and on jill the the the and and the round the the and on the the the and the the up and and the up the and the the the the the the and and up the a humpty the and round the and and and the the the and the and the and the and jill the the the the round round a and up all the and down and on the the and jill the the and hickory the and the the the down the the the the the\n"
          ]
        },
        {
          "output_type": "stream",
          "name": "stderr",
          "text": [
            " 70%|███████   | 70/100 [00:01<00:00, 43.87it/s]"
          ]
        },
        {
          "output_type": "stream",
          "name": "stdout",
          "text": [
            "Generated Song:\n",
            "\n",
            "\n",
            "Round and round, the and the the on a and up and and on jill the the the and and the round the up and on the the the twinkle and down up spider and the up the are the round the up the the and and up the a bus the and round the and and and the the the and the and the and the and jill the the the the round round a and up all jack and down and on round and and jill the the and hickory dickory and all the the down the the the the the\n"
          ]
        },
        {
          "output_type": "stream",
          "name": "stderr",
          "text": [
            " 80%|████████  | 80/100 [00:01<00:00, 45.28it/s]"
          ]
        },
        {
          "output_type": "stream",
          "name": "stdout",
          "text": [
            "Generated Song:\n",
            "\n",
            "\n",
            "And on his farm he had a cow, s and had sat on a bus up and and on jill the the the and and a down the up and on the the sat twinkle and down up spider and the spider the are the round the up the the and and up the a bus the and round a and and any the and the and the and the and jack and jill came up the the round humpty a and humpty all jack and down and on round and and jill came the and hickory dickory dock humpty the the down the the the the the\n"
          ]
        },
        {
          "output_type": "stream",
          "name": "stderr",
          "text": [
            " 90%|█████████ | 90/100 [00:02<00:00, 45.47it/s]"
          ]
        },
        {
          "output_type": "stream",
          "name": "stdout",
          "text": [
            "Generated Song:\n",
            "\n",
            "\n",
            "The mouse ran down, s and had sat on a bus eating and and on jill the the the and and a down the up and on the muffet sat twinkle twinkle down up spider climbed the spider you are the round the up the the and and up humpty the sky the baa all a and you any the and the yes the yes the and jack and jill came up the the up humpty a and humpty all jack and down and on round crown and jill came the after hickory dickory dock humpty mouse ran down the the the up the\n"
          ]
        },
        {
          "output_type": "stream",
          "name": "stderr",
          "text": [
            "100%|██████████| 100/100 [00:02<00:00, 43.95it/s]"
          ]
        },
        {
          "output_type": "stream",
          "name": "stdout",
          "text": [
            "Generated Song:\n",
            "\n",
            "\n",
            "Mary had a little lamb, s miss muffet sat on a wall eating her and on jill the the the and and up down the up and on the muffet sat twinkle twinkle little up spider climbed the spider you are the round the up the the and and up humpty the sky the baa all a have you any the and the yes the yes the and jack and jill came up the the up humpty a pail humpty all jack and down and on round crown and jill came the after hickory dickory dock humpty mouse ran down the the s up s\n",
            "Training started with 127 words in vocabulary.\n",
            "Optimizer: SGD (\n",
            "Parameter Group 0\n",
            "    dampening: 0\n",
            "    differentiable: False\n",
            "    foreach: None\n",
            "    initial_lr: 0.01\n",
            "    lr: 0.01\n",
            "    maximize: False\n",
            "    momentum: 0\n",
            "    nesterov: False\n",
            "    weight_decay: 0\n",
            ")\n",
            "Learning rate scheduler: <torch.optim.lr_scheduler.StepLR object at 0x7bf919f0fc50>\n"
          ]
        },
        {
          "output_type": "stream",
          "name": "stderr",
          "text": [
            "\n"
          ]
        }
      ],
      "source": [
        "# Define context size for N-gram modeling\n",
        "CONTEXT_SIZE = 2  # Number of previous words used as context for predicting the next word\n",
        "\n",
        "# Define the loss function\n",
        "criterion = torch.nn.CrossEntropyLoss()\n",
        "\n",
        "# Initialize the N-gram language model\n",
        "model3 = NGramLanguageModeler(len(vocab), EMBEDDING_DIM, CONTEXT_SIZE).to(device)\n",
        "\n",
        "\n",
        "# Define the optimizer (Stochastic Gradient Descent)\n",
        "optimizer = optim.SGD(model3.parameters(), lr=0.01)\n",
        "\n",
        "# Implement Learning Rate Scheduling\n",
        "scheduler = torch.optim.lr_scheduler.StepLR(optimizer, step_size=1, gamma=0.1)\n",
        "\n",
        "# Train the model and track loss history\n",
        "loss_history = train(dataloader, model3, nursery_rhymes)\n",
        "\n",
        "\n",
        "# Output expected behavior\n",
        "print(f\"Training started with {len(vocab)} words in vocabulary.\")\n",
        "print(f\"Optimizer: {optimizer}\")\n",
        "print(f\"Learning rate scheduler: {scheduler}\")"
      ],
      "execution_count": 70
    },
    {
      "cell_type": "markdown",
      "metadata": {
        "id": "9d731157-3fff-4aa7-92f8-904d1566b1f0"
      },
      "source": [
        "<details>\n",
        "    <summary>Click here for Solution</summary>\n",
        "\n",
        "```python\n",
        "# Define context size for N-gram modeling\n",
        "CONTEXT_SIZE = 2  # Number of previous words used as context for predicting the next word\n",
        "\n",
        "# Define the loss function\n",
        "criterion = torch.nn.CrossEntropyLoss()  \n",
        "\n",
        "# Initialize the N-gram language model\n",
        "model3 = NGramLanguageModeler(len(vocab), EMBEDDING_DIM, CONTEXT_SIZE).to(device)  \n",
        "\n",
        "\n",
        "# Define the optimizer (Stochastic Gradient Descent)\n",
        "optimizer = optim.SGD(model3.parameters(), lr=0.01)  \n",
        "\n",
        "# Implement Learning Rate Scheduling\n",
        "scheduler = torch.optim.lr_scheduler.StepLR(optimizer, step_size=1, gamma=0.1)  \n",
        "\n",
        "# Train the model and track loss history\n",
        "loss_history = train(dataloader, model3, nursery_rhymes)  \n",
        "\n",
        "\n",
        "# Output expected behavior\n",
        "print(f\"Training started with {len(vocab)} words in vocabulary.\")\n",
        "print(f\"Optimizer: {optimizer}\")\n",
        "print(f\"Learning rate scheduler: {scheduler}\")\n",
        "```\n",
        "\n",
        "</details>\n"
      ]
    },
    {
      "cell_type": "markdown",
      "metadata": {
        "id": "e2610908-96b9-492c-82b9-da3eb5da24ae"
      },
      "source": [
        "### Exercise 6 - After training, use the model to generate a new nursery rhyme and then print it.\n"
      ]
    },
    {
      "cell_type": "code",
      "metadata": {
        "colab": {
          "base_uri": "https://localhost:8080/"
        },
        "id": "de15600e-814a-46c0-a883-daa606f93302",
        "outputId": "7d8d1d67-c06e-45a8-d8b2-b75c756dd388"
      },
      "outputs": [
        {
          "output_type": "stream",
          "name": "stdout",
          "text": [
            "And everywhere that Mary went, s miss muffet sat on a wall eating her and and jill the the the and and up down the up and on the muffet sat twinkle twinkle little up spider climbed the spider you are the above the up the the like a up humpty the sky the baa all a have you any the and the yes sir yes the full jack and jill came up the hill up humpty a pail humpty water jack and down and jill round crown and jill came the after hickory dickory dock humpty mouse ran down the hill s up s\n"
          ]
        }
      ],
      "source": [
        "# Select a random line from the nursery rhymes dataset\n",
        "selected_line = pickrandomline(nursery_rhymes)\n",
        "\n",
        "\n",
        "# Generate a new rhyme using the trained language model\n",
        "generated_rhyme = write_song(model3, selected_line)\n",
        "\n",
        "\n",
        "# Print the generated rhyme\n",
        "print(generated_rhyme)"
      ],
      "execution_count": 71
    },
    {
      "cell_type": "markdown",
      "metadata": {
        "id": "4234eae0-2420-413b-96d5-0739bcaab095"
      },
      "source": [
        "<details>\n",
        "    <summary>Click here for Solution</summary>\n",
        "\n",
        "```python\n",
        "# Select a random line from the nursery rhymes dataset\n",
        "selected_line = pickrandomline(nursery_rhymes)  \n",
        "\n",
        "\n",
        "# Generate a new rhyme using the trained language model\n",
        "generated_rhyme = write_song(model3, selected_line)  \n",
        "\n",
        "\n",
        "# Print the generated rhyme\n",
        "print(generated_rhyme)\n",
        "\n",
        "```\n",
        "\n",
        "</details>\n"
      ]
    },
    {
      "cell_type": "markdown",
      "metadata": {
        "id": "74eb0d4b-593f-42df-b952-73309c981e91"
      },
      "source": [
        "---\n"
      ]
    },
    {
      "cell_type": "markdown",
      "metadata": {
        "id": "bf8bbe59-808a-4e4d-b305-4ebe14e16e87"
      },
      "source": [
        "# Congratulations! You have completed the lab\n"
      ]
    },
    {
      "cell_type": "markdown",
      "metadata": {
        "id": "8ba14461-3236-4c98-992d-5e24e2ac3808"
      },
      "source": [
        "## Authors\n"
      ]
    },
    {
      "cell_type": "markdown",
      "metadata": {
        "id": "64534287-f915-4729-a37d-fd48253c44a7"
      },
      "source": [
        "[Joseph Santarcangelo](https://www.linkedin.com/in/joseph-s-50398b136/) has a Ph.D. in Electrical Engineering, his research focused on using machine learning, signal processing, and computer vision to determine how videos impact human cognition. Joseph has been working for IBM since he completed his PhD.\n"
      ]
    },
    {
      "cell_type": "markdown",
      "metadata": {
        "id": "3438e9d1-b06a-4f85-a870-a1824f53b274"
      },
      "source": [
        "### Contributor\n",
        "\n",
        "[Roodra Kanwar](https://www.linkedin.com/in/roodrakanwar/) is completing his MS in CS specializing in big data from Simon Fraser University. He has previous experience working with machine learning and as a data engineer.\n"
      ]
    },
    {
      "cell_type": "markdown",
      "metadata": {
        "id": "1ace048c-ae7d-489d-82aa-abf180291f4a"
      },
      "source": [
        "```{## Change log}\n"
      ]
    },
    {
      "cell_type": "markdown",
      "metadata": {
        "id": "7ba6e9a2-e7e1-4823-a38d-63ed06ccecdd"
      },
      "source": [
        "```{|Date (YYYY-MM-DD)|Version|Changed By|Change Description||-|-|-|-||2023-09-01|0.1|Joseph|Created Lab Template & Guided Project||2023-09-03|0.1|Joseph|Updated Guided Project|}\n"
      ]
    },
    {
      "cell_type": "markdown",
      "metadata": {
        "id": "12d4c538-7b2b-46d0-a186-df2e82388639"
      },
      "source": [
        "© Copyright IBM Corporation. All rights reserved.\n"
      ]
    }
  ],
  "metadata": {
    "kernelspec": {
      "display_name": "Python 3 (ipykernel)",
      "language": "python",
      "name": "python3"
    },
    "language_info": {
      "codemirror_mode": {
        "name": "ipython",
        "version": 3
      },
      "file_extension": ".py",
      "mimetype": "text/x-python",
      "name": "python",
      "nbconvert_exporter": "python",
      "pygments_lexer": "ipython3",
      "version": "3.12.8"
    },
    "prev_pub_hash": "81020b346126e8268ecd0bbe106c525c2d52941722854700dee67a50af8be4b0",
    "colab": {
      "provenance": []
    }
  },
  "nbformat": 4,
  "nbformat_minor": 0
}