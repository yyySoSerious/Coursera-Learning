{
  "cells": [
    {
      "cell_type": "markdown",
      "metadata": {
        "id": "288bc758-26bb-443d-88e7-9d2fc9c4f863"
      },
      "source": [
        "<p style=\"text-align:center\">\n",
        "    <a href=\"https://skills.network\" target=\"_blank\">\n",
        "    <img src=\"https://cf-courses-data.s3.us.cloud-object-storage.appdomain.cloud/assets/logos/SN_web_lightmode.png\" width=\"200\" alt=\"Skills Network Logo\">\n",
        "    </a>\n",
        "</p>\n"
      ]
    },
    {
      "cell_type": "markdown",
      "metadata": {
        "id": "f5381a83-fa6f-44b4-a646-f31b64bd84e3"
      },
      "source": [
        "# **Building a Language Model Using Histogram N-Gram Analysis**\n",
        "\n",
        "Estimated time needed: **60** minutes\n",
        "\n",
        "This project introduces language modeling by focusing on generating 90s rap lyrics. You will implement histogram N-gram models using the Natural Language Toolkit (NLTK) to analyze and understand word frequencies and distributions. This approach helps reveal linguistic patterns and the rhythmic flow characteristic of 90s rap.\n",
        "\n",
        "By leveraging these techniques, you will gain insights into how words are structured and distributed in text, laying a foundation for more advanced Natural Language Processing (NLP) applications\n",
        "\n",
        "<div style=\"text-align:center;\">\n",
        "    <img src=\"https://cf-courses-data.s3.us.cloud-object-storage.appdomain.cloud/IBM-GPXX0WSVEN/song%20%281%29.png\" alt=\"Image Description\">\n",
        "</div>\n"
      ]
    },
    {
      "cell_type": "markdown",
      "metadata": {
        "id": "cc02ab06-c3f7-488b-bcc1-ec5db7ddc050"
      },
      "source": [
        "# __Table of Contents__\n",
        "\n",
        "<ol>\n",
        "    <li><a href=\"#Objectives\">Objectives</a></li>\n",
        "    <li>\n",
        "        <a href=\"#Setup\">Setup</a>\n",
        "        <ol>\n",
        "            <li><a href=\"#Installing-required-libraries\">Installing required libraries</a></li>\n",
        "            <li><a href=\"#Importing-required-libraries\">Importing required libraries</a></li>\n",
        "            <li><a href=\"#Defining-helper-functions\">Defining helper functions</a></li>\n",
        "        </ol>\n",
        "    </li>\n",
        "        <li><a href=\"#Language-modeling\">Language modeling</a></li>\n",
        "        <ol>\n",
        "            <li><a href=\"#Tokenization\">Tokenization</a></li>\n",
        "            <li><a href=\"#Unigram-model\">Unigram model</a></li>\n",
        "            <li><a href=\"#Bigram-model\">Bigram model</a></li>\n",
        "            <li><a href=\"#Trigram-Model\">Trigram model</a></li>\n",
        "        </ol>\n",
        "    </li>\n",
        "   \n",
        "</ol>\n"
      ]
    },
    {
      "cell_type": "markdown",
      "metadata": {
        "id": "7d226740-d3d5-41e1-a9a0-6f449bd3fc06"
      },
      "source": [
        "---\n"
      ]
    },
    {
      "cell_type": "markdown",
      "metadata": {
        "id": "ce320080-e1f0-4e40-85c9-4730392019bf"
      },
      "source": [
        "# Objectives\n",
        "\n",
        "After completing this lab, you will be able to:\n",
        "\n",
        " - Utilize histogram N-gram models, implemented through the Natural Language Toolkit (NLTK), to analyze and understand word frequencies and distributions.\n",
        "\n"
      ]
    },
    {
      "cell_type": "markdown",
      "metadata": {
        "id": "bea8f3b5-cfee-4ee5-9829-8738ab530a18"
      },
      "source": [
        "---\n"
      ]
    },
    {
      "cell_type": "markdown",
      "metadata": {
        "id": "d22ab585-6c73-458f-837a-031fef9fd887"
      },
      "source": [
        "# Setup\n"
      ]
    },
    {
      "cell_type": "markdown",
      "metadata": {
        "id": "5bd072b1-a7be-4690-a0fa-52472d962324"
      },
      "source": [
        "For this lab, you will use the following libraries:\n",
        "\n",
        "*   [`pandas`](https://pandas.pydata.org/?utm_medium=Exinfluencer&utm_source=Exinfluencer&utm_content=000026UJ&utm_term=10006555&utm_id=NA-SkillsNetwork-Channel-SkillsNetworkCoursesIBMML0187ENSkillsNetwork31430127-2021-01-01) for managing the data.\n",
        "*   [`numpy`](https://numpy.org/?utm_medium=Exinfluencer&utm_source=Exinfluencer&utm_content=000026UJ&utm_term=10006555&utm_id=NA-SkillsNetwork-Channel-SkillsNetworkCoursesIBMML0187ENSkillsNetwork31430127-2021-01-01) for mathematical operations.\n",
        "*   [`sklearn`](https://scikit-learn.org/stable/?utm_medium=Exinfluencer&utm_source=Exinfluencer&utm_content=000026UJ&utm_term=10006555&utm_id=NA-SkillsNetwork-Channel-SkillsNetworkCoursesIBMML0187ENSkillsNetwork31430127-2021-01-01) for machine learning and machine-learning-pipeline related functions.\n",
        "*   [`seaborn`](https://seaborn.pydata.org/?utm_medium=Exinfluencer&utm_source=Exinfluencer&utm_content=000026UJ&utm_term=10006555&utm_id=NA-SkillsNetwork-Channel-SkillsNetworkCoursesIBMML0187ENSkillsNetwork31430127-2021-01-01) for visualizing the data.\n",
        "*   [`matplotlib`](https://matplotlib.org/?utm_medium=Exinfluencer&utm_source=Exinfluencer&utm_content=000026UJ&utm_term=10006555&utm_id=NA-SkillsNetwork-Channel-SkillsNetworkCoursesIBMML0187ENSkillsNetwork31430127-2021-01-01) for additional plotting tools.\n"
      ]
    },
    {
      "cell_type": "markdown",
      "metadata": {
        "id": "f795efb6-a733-44ee-828e-250caf61d900"
      },
      "source": [
        "### Installing required libraries\n",
        "\n",
        "All the required libraries are pre-installed in the Skills Network Labs environment. However, if you run this notebook commands in a different Jupyter environment (e.g. Watson Studio or Ananconda), you will need to install these libraries using the code cell below.\n",
        "\n",
        "<h2 style=\"color:red;\">After installing the libraries below please RESTART THE KERNEL and run all cells.</h2>\n"
      ]
    },
    {
      "cell_type": "code",
      "metadata": {
        "id": "8212cbf4-400d-45f4-a64f-59412b7f28dd"
      },
      "outputs": [],
      "source": [
        "%%capture\n",
        "!pip install nltk\n",
        "!pip install scikit-learn\n",
        "!pip install torch==2.6.0\n",
        "!pip install torchtext==0.17.2\n",
        "!pip install matplotlib\n",
        "!pip install pandas\n",
        "!pip install numpy==1.26.4"
      ],
      "execution_count": null
    },
    {
      "cell_type": "markdown",
      "metadata": {
        "id": "61a80f31-dda5-492d-b5d4-aed1e373fb79"
      },
      "source": [
        "__Note__: The following required libraries are __not__ pre-installed in the Skills Network Labs environment. __You will need to run the following cell__ to install them:\n"
      ]
    },
    {
      "cell_type": "markdown",
      "metadata": {
        "id": "8db4bb75-7f84-45f3-ad87-47dd7e6a6f21"
      },
      "source": [
        "### Importing required libraries\n",
        "\n",
        "_It is recommended that you import all required libraries in one place (here):_\n"
      ]
    },
    {
      "cell_type": "code",
      "metadata": {
        "id": "b3a9ca41-4ac2-4412-b248-0baffe1a3033"
      },
      "outputs": [],
      "source": [
        "%%capture\n",
        "import warnings\n",
        "from tqdm import tqdm\n",
        "\n",
        "warnings.simplefilter('ignore')\n",
        "import time\n",
        "from collections import OrderedDict\n",
        "\n",
        "import re\n",
        "\n",
        "import numpy as np\n",
        "import matplotlib.pyplot as plt\n",
        "import pandas as pd\n",
        "\n",
        "\n",
        "import nltk\n",
        "nltk.download('punkt')\n",
        "nltk.download('punkt_tab')\n",
        "\n",
        "import torch\n",
        "import torch.nn as nn\n",
        "import torch.nn.functional as F\n",
        "import torch.optim as optim\n",
        "import string\n",
        "import time\n",
        "\n",
        "import matplotlib.pyplot as plt\n",
        "from sklearn.manifold import TSNE\n",
        "\n",
        "# You can also use this section to suppress warnings generated by your code:\n",
        "def warn(*args, **kwargs):\n",
        "    pass\n",
        "import warnings\n",
        "warnings.warn = warn\n",
        "%capture"
      ],
      "execution_count": 1
    },
    {
      "cell_type": "markdown",
      "metadata": {
        "id": "c8032022-7bcc-4f47-a2ee-1f416407cdbb"
      },
      "source": [
        "### Defining helper functions\n",
        "\n",
        "Remove all non-word characters (everything except numbers and letters)\n"
      ]
    },
    {
      "cell_type": "code",
      "metadata": {
        "id": "7d4fb424-3881-4d87-ab0c-61b5fafb5900"
      },
      "outputs": [],
      "source": [
        "def preprocess_string(s):\n",
        "    # Remove all non-word characters (everything except numbers and letters)\n",
        "    s = re.sub(r\"[^\\w\\s]\", '', s)\n",
        "    # Replace all runs of whitespaces with no space\n",
        "    s = re.sub(r\"\\s+\", '', s)\n",
        "    # replace digits with no space\n",
        "    s = re.sub(r\"\\d\", '', s)\n",
        "\n",
        "    return s"
      ],
      "execution_count": 2
    },
    {
      "cell_type": "markdown",
      "metadata": {
        "id": "da94d218-5c94-47c4-bbed-930112e17dbe"
      },
      "source": [
        "---\n"
      ]
    },
    {
      "cell_type": "markdown",
      "metadata": {
        "id": "28fd091e-a0be-4f71-9aa6-b779b1854cd9"
      },
      "source": [
        "## Language modeling\n",
        "\n",
        "Language modeling is a foundational concept within the field of natural language processing (NLP) and artificial intelligence. It involves the prediction of the likelihood of a sequence of words within a given language. This method is statistical in nature and seeks to capture the patterns, structures, and relationships that exist between words in a given text corpus.\n",
        "\n",
        "At its essence, a language model strives to comprehend the probabilities associated with sequences of words. This comprehension can be leveraged for a multitude of NLP tasks, including but not limited to text generation, machine translation, speech recognition, sentiment analysis, and more.\n",
        "\n",
        "Let's consider the following song lyrics to determine if you can generate similar output using a given word.\n"
      ]
    },
    {
      "cell_type": "code",
      "metadata": {
        "id": "8ce9e923-66cd-43fb-af24-eed23d8c47c7"
      },
      "outputs": [],
      "source": [
        "song= \"\"\"We are no strangers to love\n",
        "You know the rules and so do I\n",
        "A full commitments what Im thinking of\n",
        "You wouldnt get this from any other guy\n",
        "I just wanna tell you how Im feeling\n",
        "Gotta make you understand\n",
        "Never gonna give you up\n",
        "Never gonna let you down\n",
        "Never gonna run around and desert you\n",
        "Never gonna make you cry\n",
        "Never gonna say goodbye\n",
        "Never gonna tell a lie and hurt you\n",
        "Weve known each other for so long\n",
        "Your hearts been aching but youre too shy to say it\n",
        "Inside we both know whats been going on\n",
        "We know the game and were gonna play it\n",
        "And if you ask me how Im feeling\n",
        "Dont tell me youre too blind to see\n",
        "Never gonna give you up\n",
        "Never gonna let you down\n",
        "Never gonna run around and desert you\n",
        "Never gonna make you cry\n",
        "Never gonna say goodbye\n",
        "Never gonna tell a lie and hurt you\n",
        "Never gonna give you up\n",
        "Never gonna let you down\n",
        "Never gonna run around and desert you\n",
        "Never gonna make you cry\n",
        "Never gonna say goodbye\n",
        "Never gonna tell a lie and hurt you\n",
        "Weve known each other for so long\n",
        "Your hearts been aching but youre too shy to say it\n",
        "Inside we both know whats been going on\n",
        "We know the game and were gonna play it\n",
        "I just wanna tell you how Im feeling\n",
        "Gotta make you understand\n",
        "Never gonna give you up\n",
        "Never gonna let you down\n",
        "Never gonna run around and desert you\n",
        "Never gonna make you cry\n",
        "Never gonna say goodbye\n",
        "Never gonna tell a lie and hurt you\n",
        "Never gonna give you up\n",
        "Never gonna let you down\n",
        "Never gonna run around and desert you\n",
        "Never gonna make you cry\n",
        "Never gonna say goodbye\n",
        "Never gonna tell a lie and hurt you\n",
        "Never gonna give you up\n",
        "Never gonna let you down\n",
        "Never gonna run around and desert you\n",
        "Never gonna make you cry\n",
        "Never gonna say goodbye\n",
        "Never gonna tell a lie and hurt you\"\"\""
      ],
      "execution_count": 3
    },
    {
      "cell_type": "markdown",
      "metadata": {
        "id": "23417488-e2b4-4489-81db-f0af1ed75eab"
      },
      "source": [
        "### Natural Language Toolkit (NLTK)\n"
      ]
    },
    {
      "cell_type": "markdown",
      "metadata": {
        "id": "44130b8b-f4af-4193-a6eb-ae9001c3a18a"
      },
      "source": [
        "NLTK is indeed a widely-used open-source library in Python that is specifically designed for various natural language processing (NLP) tasks. It provides a comprehensive set of tools, resources, and algorithms that aid in the analysis and manipulation of human language data.\n"
      ]
    },
    {
      "cell_type": "markdown",
      "metadata": {
        "id": "d875757e-ca60-4871-b4c9-aa48f8f56b03"
      },
      "source": [
        "### Tokenization\n",
        "\n",
        "Tokenization, a fundamental concept within the realm of natural language processing (NLP), involves the intricate process of breaking down a body of text into discrete units known as tokens. These tokens can encompass words, phrases, sentences, or even individual characters, adapting based on the desired level of granularity for analysis. For the purpose of this project, you will focus on Word Tokenization, a prevalent technique. This technique treats each word in the text as an independent entity. Words, typically separated by spaces or punctuation marks, serve as the tokens in this approach. It's important to note that Word Tokenization exhibits versatile characteristics, including capitalization, symbols, and punctuation marks.\n",
        "\n",
        "To achieve the goal, you will utilize the```word_tokenize```function. During this process, you will remove punctuation, symbols, and capital letters.\n"
      ]
    },
    {
      "cell_type": "code",
      "metadata": {
        "id": "3743ef6c-16d3-433a-8e61-292ad6a9dd2c"
      },
      "outputs": [],
      "source": [
        "from nltk.tokenize import word_tokenize\n",
        "def preprocess(words):\n",
        "    tokens=word_tokenize(words)\n",
        "    tokens=[preprocess_string(w)   for w in tokens]\n",
        "    return [w.lower()  for w in tokens if len(w)!=0 or not(w in string.punctuation) ]\n",
        "\n",
        "tokens=preprocess(song)"
      ],
      "execution_count": 4
    },
    {
      "cell_type": "markdown",
      "metadata": {
        "id": "5be47994-803c-4465-973c-5a9271bcc360"
      },
      "source": [
        "The outcome is a collection of tokens, wherein each element of the```tokens```pertains to the lyrics of the song, arranged in sequential order.\n"
      ]
    },
    {
      "cell_type": "code",
      "metadata": {
        "colab": {
          "base_uri": "https://localhost:8080/"
        },
        "id": "afe89cbd-5645-45a6-b9b6-31b54feec089",
        "outputId": "7668fe01-456a-4dc7-e6c3-4b21c0e6db1e"
      },
      "outputs": [
        {
          "output_type": "execute_result",
          "data": {
            "text/plain": [
              "['we', 'are', 'no', 'strangers', 'to', 'love', 'you', 'know', 'the', 'rules']"
            ]
          },
          "metadata": {},
          "execution_count": 5
        }
      ],
      "source": [
        "tokens[0:10]"
      ],
      "execution_count": 5
    },
    {
      "cell_type": "markdown",
      "metadata": {
        "id": "81adc4e8-039c-4eab-a01a-00a9eb07b8e5"
      },
      "source": [
        "The frequency distribution of words in a sentence represents how often each word appears in that particular sentence. It provides a count of the occurrences of individual words, allowing you to understand which words are more common or frequent within the given sentence. Let's work with the following toy example:\n",
        "\n",
        "```Text```: **I like dogs and I kinda like cats**\n",
        "\n",
        "```Tokens```: **[I like, dogs, and, I, kinda, like, cats]**\n",
        "\n",
        "The function```Count```will tally the occurrences of words in the input text.\n"
      ]
    },
    {
      "cell_type": "markdown",
      "metadata": {
        "id": "7408ea8c-00b0-463f-b03f-9252db7a16be"
      },
      "source": [
        "$Count(\"I\")=2$\n",
        "\n",
        "$Count(\"like\")= 2$\n",
        "\n",
        "$Count(\"dogs\")=1$\n",
        "\n",
        "$Count(\"and\")=1$\n",
        "\n",
        "$Count(\"kinda\")=1$\n",
        "\n",
        "$Count(\"cats\")=1$\n",
        "\n",
        "$\\text{Total words} =8$\n"
      ]
    },
    {
      "cell_type": "markdown",
      "metadata": {
        "id": "357a9862-7f62-4b17-87b7-5bbd5f1cd261"
      },
      "source": [
        "Utilize```NLTK's FreqDist```to transform a frequency distribution of words. The outcome is a Python dictionary where the keys correspond to words, and the values indicate the frequency of each word's appearance. Please consider the provided example below.\n"
      ]
    },
    {
      "cell_type": "code",
      "metadata": {
        "colab": {
          "base_uri": "https://localhost:8080/"
        },
        "id": "b24a49bc-8d6b-40d9-8e81-3e2fbe19506e",
        "outputId": "3b0f2bc1-018d-4943-a9a0-934211d3be41"
      },
      "outputs": [
        {
          "output_type": "execute_result",
          "data": {
            "text/plain": [
              "FreqDist({'na': 40, 'gon': 38, 'you': 37, 'never': 36, 'and': 16, 'tell': 9, 'make': 8, 'say': 8, 'a': 7, 'give': 6, ...})"
            ]
          },
          "metadata": {},
          "execution_count": 13
        }
      ],
      "source": [
        "# Create a frequency distribution of words\n",
        "fdist = nltk.FreqDist(tokens)\n",
        "fdist"
      ],
      "execution_count": 13
    },
    {
      "cell_type": "markdown",
      "metadata": {
        "id": "00b0b2e8-e253-48c2-b5d9-5dba2cab5ada"
      },
      "source": [
        " Plot the words with the top ten frequencies.\n"
      ]
    },
    {
      "cell_type": "code",
      "metadata": {
        "colab": {
          "base_uri": "https://localhost:8080/",
          "height": 449
        },
        "id": "22513742-b694-4cf3-b529-636bfb022ea4",
        "outputId": "cc40d628-7ba2-4a92-c771-d3d407fbf840"
      },
      "outputs": [
        {
          "output_type": "display_data",
          "data": {
            "text/plain": [
              "<Figure size 640x480 with 1 Axes>"
            ],
            "image/png": "[encoded data removed]"
          },
          "metadata": {}
        }
      ],
      "source": [
        "fdist = dict(sorted(fdist.items(), key=lambda x: x[1], reverse=True))\n",
        "plt.bar(list(fdist.keys())[0:10],list(fdist.values())[0:10])\n",
        "plt.xlabel(\"Words\")\n",
        "plt.ylabel(\"Frequency\")\n",
        "plt.show()"
      ],
      "execution_count": 14
    },
    {
      "cell_type": "markdown",
      "metadata": {
        "id": "7e68d55f-9138-4e5d-9276-355bc899ea53"
      },
      "source": [
        "### Unigram model\n",
        "\n",
        "An unigram model is a simple type of language model that considers each word in a sequence independently, without taking into account the previous words. In other words, it models the probability of each word occurring in the text, regardless of what came before it. Unigram models can be seen as a special case of n-gram models, where n is 1.\n"
      ]
    },
    {
      "cell_type": "markdown",
      "metadata": {
        "id": "d520c0ac-eff8-46f5-a83f-129ef82e78d6"
      },
      "source": [
        "You can think that text follows patterns, and probabilities are used to measure how likely a sequence of words is. In a unigram model, each word is considered independent and doesn't rely on others. Let's calculate the probability of **'I like tiramisu but I love cheesecake more'**.\n",
        "\n",
        "$  P(\\text{\"I\"}) = \\frac{\\text{Count}(\\text{\"I\"})}{\\text{Total words}}=\\frac{2}{8} = 0.250  $\n",
        "\n",
        "$  P(\\text{\"like\"}) = \\frac{\\text{Count}(\\text{\"like\"})}{\\text{Total words}}=\\frac{1}{8} = 0.125  $\n",
        "\n",
        "$  P(\\text{\"tiramisu\"}) = \\frac{\\text{Count}(\\text{\"tiramisu\"})}{\\text{Total words}}=\\frac{1}{8} = 0.125  $\n",
        "\n",
        "$  P(\\text{\"but\"}) = \\frac{\\text{Count}(\\text{\"but\"})}{\\text{Total words}}=\\frac{1}{8} = 0.125  $\n",
        "\n",
        "$  P(\\text{\"I\"}) = \\frac{\\text{Count}(\\text{\"I\"})}{\\text{Total words}}=\\frac{2}{8} = 0.250  $\n",
        "\n",
        "$  P(\\text{\"love\"}) = \\frac{\\text{Count}(\\text{\"love\"})}{\\text{Total words}}=\\frac{1}{8} = 0.125  $\n",
        "\n",
        "$  P(\\text{\"cheesecake\"}) = \\frac{\\text{Count}(\\text{\"cheesecake\"})}{\\text{Total words}}=\\frac{1}{8} = 0.125  $\n",
        "\n",
        "$  P(\\text{\"more\"}) = \\frac{\\text{Count}(\\text{\"more\"})}{\\text{Total words}}=\\frac{1}{8} = 0.125  $\n",
        "\n",
        "$P(\\text{\"I\"}, \\text{\"like\"}, \\text{\"tiramisu\"}, \\text{\"but\"}, \\text{\"I\"}, \\text{\"love\"}, \\text{\"cheesecake\"}, \\text{\"more\"}) = P(\\text{\"I\"}) \\cdot P(\\text{\"like\"}) \\cdot P(\\text{\"tiramisu\"}) \\cdot P(\\text{\"but\"}) \\cdot P(\\text{\"I\"}) \\cdot P(\\text{\"love\"}) \\cdot P(\\text{\"cheesecake\"}) \\cdot P(\\text{\"more\"}) = 0.250 \\times 0.125 \\times 0.125 \\times 0.125 \\times 0.250 \\times 0.125 \\times 0.125 \\times 0.125$\n",
        "\n",
        "In general, language models boil down to predicting a sequence of length $t$: $P(W_t, W_{t-1}, ..., W_0)$. In this eight-word sequence, you have:\n",
        "\n",
        "$P(W_7=\\text{\"more\"}, W_6=\\text{\"cheesecake\"}, W_5=\\text{\"love\"}, W_4=\\text{\"I\"}, W_3=\\text{\"but\"}, W_2=\\text{\"tiramisu\"}, W_1=\\text{\"like\"}, W_0=\\text{\"I\"})$\n",
        "\n",
        "The subscript serves as a positional indicator in the sequence and does not impact the nature of $P(\\bullet)$. When formally expressing the sequence, the last word is positioned at the leftmost side, gradually descending as you move through the sequence.\n"
      ]
    },
    {
      "cell_type": "markdown",
      "metadata": {
        "id": "6cef3926-4026-4d46-a548-8adcf26eace9"
      },
      "source": [
        "Using NLTK you can normalize the frequency values by dividing them by the total count of each word to get a probability function. Now you will find the probability of each word.\n"
      ]
    },
    {
      "cell_type": "code",
      "metadata": {
        "colab": {
          "base_uri": "https://localhost:8080/"
        },
        "id": "5c99ebc7-cf97-4467-8e43-607076097688",
        "outputId": "40d4a000-5588-4b3b-fa82-44a5866e95b8"
      },
      "outputs": [
        {
          "output_type": "execute_result",
          "data": {
            "text/plain": [
              "385"
            ]
          },
          "metadata": {},
          "execution_count": 15
        }
      ],
      "source": [
        "#total count of each word\n",
        "C=sum(fdist.values())\n",
        "C"
      ],
      "execution_count": 15
    },
    {
      "cell_type": "markdown",
      "metadata": {
        "id": "e2369a7f-1b62-45d4-ad7a-3f41a4e05841"
      },
      "source": [
        "Find the probability of the word wish  i.w $P(strangers)$.\n"
      ]
    },
    {
      "cell_type": "code",
      "metadata": {
        "colab": {
          "base_uri": "https://localhost:8080/"
        },
        "id": "8facb74d-6a7e-4c8c-9f18-0fb50e9d9a3f",
        "outputId": "03d8ce9c-330c-4c07-b979-a250bce7318b"
      },
      "outputs": [
        {
          "output_type": "execute_result",
          "data": {
            "text/plain": [
              "0.0025974025974025974"
            ]
          },
          "metadata": {},
          "execution_count": 16
        }
      ],
      "source": [
        "fdist['strangers']/C"
      ],
      "execution_count": 16
    },
    {
      "cell_type": "markdown",
      "metadata": {
        "id": "86696066-2f4e-41bd-bca2-6a42cde3269b"
      },
      "source": [
        "Also, find each individual word by converting the tokens to a set.\n"
      ]
    },
    {
      "cell_type": "code",
      "metadata": {
        "id": "dfe8dcee-6096-42e6-a830-76df146f9334"
      },
      "outputs": [],
      "source": [
        "vocabulary=set(tokens)"
      ],
      "execution_count": 17
    },
    {
      "cell_type": "markdown",
      "metadata": {
        "id": "06c659ba-0796-4c95-b75b-3f09034811d6"
      },
      "source": [
        "#### How unigram model predicts the next likely word\n",
        "\n",
        "Let's consider a scenario from the above example **'I like tiramisu but I love cheesecake more'** where the unigram model is asked to predict the next word following the sequence **'I like'**.\n",
        "\n",
        "If the highest probability among all words is **\"I\"** with a probability  0.25, then according to the model, the most likely next word after **'I like'** would be **'I'**. However, this prediction doesn't make sense at all. This highlights a significant limitation of the unigram model—it lacks context, and its predictions are entirely dependent on the word with the highest probability \"I\" in this case\n",
        "\n",
        "Even if multiple words have the same highest probabilities, it will randomly choose any one word out of all the options.\n"
      ]
    },
    {
      "cell_type": "markdown",
      "metadata": {
        "id": "cc12f06f-ac35-4398-8909-178f52365731"
      },
      "source": [
        "### Bigram model\n",
        "\n",
        "Bigrams represent pairs of consecutive words in the given phrase, i.e., $(w_{t-1},w_t)$. Consider the following words from your example: \"I like dogs and I kinda like cats.\"\n",
        "\n",
        "The correct sequence of bigrams is:\n",
        "\n",
        "$(I, like)$\n",
        "\n",
        "$(like, dogs)$\n",
        "\n",
        "$(dogs, and)$\n",
        "\n",
        "$(and, I)$\n",
        "\n",
        "$(I, kinda)$\n",
        "\n",
        "$(kinda, like)$\n",
        "\n",
        "$(like, cats)$\n"
      ]
    },
    {
      "cell_type": "markdown",
      "metadata": {
        "id": "696051da-7537-4edc-a0c9-752c170efa36"
      },
      "source": [
        "**2-Gram models**: Bigram models use conditional probability. The probability of a word depends only on the previous word, i.e., the conditional probability $(W_{t}, W_{t-1})$ is used to predict the likelihood of word $(W_t)$ following word $W_{t-1}$ in a sequence. You can calculate the conditional probability for a bigram model using the following steps.\n"
      ]
    },
    {
      "cell_type": "markdown",
      "metadata": {
        "id": "9a0461ac-08d7-40f5-8229-04a4fc523fc3"
      },
      "source": [
        "\n",
        "Perform the bigram word count for each bigram: $Count(W_{t-1}, W_{t})$\n",
        "\n",
        "$Count(\\text{I, like}) = 1$\n",
        "\n",
        "$Count(\\text{like, dogs}) = 1$\n",
        "\n",
        "$Count(\\text{dogs, and}) = 1$\n",
        "\n",
        "$Count(\\text{and, I}) = 1$\n",
        "\n",
        "$Count(\\text{I, kinda}) = 1$\n",
        "\n",
        "$Count(\\text{kinda, like}) = 1$\n",
        "\n",
        "$Count(\\text{like, cats}) = 1$\n"
      ]
    },
    {
      "cell_type": "markdown",
      "metadata": {
        "id": "fa8468ab-9f17-4204-a399-fcbd2a6e1180"
      },
      "source": [
        "Now, let's calculate the conditional probability for each bigram in the form of $P(w_{t} | w_{t-1})$, where $w_{t-1}$ is the **context**, and the context size is one.\n",
        "\n",
        "$P(\\text{\"like\"} | \\text{\"I\"}) = \\frac{\\text{Count}(\\text{\"I, like\"})}{\\text{Total count of \"I\"}} = \\frac{1}{2} = 0.5$\n",
        "\n",
        "$P(\\text{\"dogs\"} | \\text{\"like\"}) = \\frac{\\text{Count}(\\text{\"like, dogs\"})}{\\text{Total count of \"like\"}} = \\frac{1}{2} = 0.5$\n",
        "\n",
        "$:$\n",
        "\n",
        "$P(\\text{\"like\"} | \\text{\"kinda\"}) = \\frac{\\text{Count}(\\text{\"kinda, like\"})}{\\text{Total count of \"kinda\"}} = \\frac{1}{1} = 1$\n",
        "\n",
        "$P(\\text{\"cats\"} | \\text{\"like\"}) = \\frac{\\text{Count}(\\text{\"like, cats\"})}{\\text{Total count of \"like\"}} = \\frac{1}{2} = 0.5$\n",
        "\n",
        "These probabilities represent the likelihood of encountering the second word in a bigram, given the presence of the first word.\n"
      ]
    },
    {
      "cell_type": "markdown",
      "metadata": {
        "id": "3671791a-6154-4700-ba5d-5cb4026c4f37"
      },
      "source": [
        "\n",
        "\n",
        "\n",
        "This approach is, in fact, an approximation used to determine the most likely word $W_t$, given the words $W_{t-1}, W_{t-2}, \\ldots, W_1$ in the sequence.\n",
        "\n",
        "$P(W_t | W_{t-1}, W_{t-2}, \\ldots, W_1) \\approx P(W_t | W_{t-1})$\n",
        "\n",
        "The conditional probability $P(W_t | W_{t-1})$ signifies the likelihood of encountering the word $W_t$, based on the context provided by the preceding word $W_{t-1}$. By employing this approximation, simplify the modeling process by assuming that the occurrence of the current word is mainly influenced by the most recent word in the sequence. In general, you have the capability to identify the most likely word.\n",
        "\n",
        "$\\hat{W_t} = \\arg\\max_{W_t} \\left( P(W_t | W_{t-1}) \\right)$\n"
      ]
    },
    {
      "cell_type": "markdown",
      "metadata": {
        "id": "90dcac80-7be1-4eec-bd97-861f7c6cd69a"
      },
      "source": [
        "```bigrams``` is a function provided by the Natural Language Toolkit (NLTK) library in Python. This function takes a sequence of tokens as input and returns an iterator over consecutive pairs of tokens, forming bigrams.\n"
      ]
    },
    {
      "cell_type": "code",
      "metadata": {
        "colab": {
          "base_uri": "https://localhost:8080/"
        },
        "id": "db545525-bd97-46c2-aad7-9467627d1e49",
        "outputId": "b80bca08-cce4-49a2-f2eb-da663ef8e2c7"
      },
      "outputs": [
        {
          "output_type": "execute_result",
          "data": {
            "text/plain": [
              "<generator object bigrams at 0x7be0412e1000>"
            ]
          },
          "metadata": {},
          "execution_count": 18
        }
      ],
      "source": [
        "bigrams = nltk.bigrams(tokens)\n",
        "bigrams"
      ],
      "execution_count": 18
    },
    {
      "cell_type": "markdown",
      "metadata": {
        "id": "cc159935-0f53-4a32-95c7-a30926fde6e9"
      },
      "source": [
        "Convert a generator into a list, where each element of the list is a bigram.\n"
      ]
    },
    {
      "cell_type": "code",
      "metadata": {
        "id": "ddc631e6-0004-4ba1-b697-d24290533dcf"
      },
      "outputs": [],
      "source": [
        "my_bigrams=list(nltk.bigrams(tokens))"
      ],
      "execution_count": 19
    },
    {
      "cell_type": "markdown",
      "metadata": {
        "id": "995f5c7f-71b5-428c-b5ea-c83fc8ea2ba4"
      },
      "source": [
        "\n",
        "You can see the first 10 bigrams.\n"
      ]
    },
    {
      "cell_type": "code",
      "metadata": {
        "colab": {
          "base_uri": "https://localhost:8080/"
        },
        "id": "0cbd55f3-57b7-4156-a576-ed227e439a79",
        "outputId": "915ed776-673c-4543-9432-04b7d23b70ea"
      },
      "outputs": [
        {
          "output_type": "execute_result",
          "data": {
            "text/plain": [
              "[('we', 'are'),\n",
              " ('are', 'no'),\n",
              " ('no', 'strangers'),\n",
              " ('strangers', 'to'),\n",
              " ('to', 'love'),\n",
              " ('love', 'you'),\n",
              " ('you', 'know'),\n",
              " ('know', 'the'),\n",
              " ('the', 'rules'),\n",
              " ('rules', 'and')]"
            ]
          },
          "metadata": {},
          "execution_count": 20
        }
      ],
      "source": [
        "my_bigrams[0:10]"
      ],
      "execution_count": 20
    },
    {
      "cell_type": "markdown",
      "metadata": {
        "id": "1a5facbf-be41-4663-b69f-36c2abf64831"
      },
      "source": [
        "Compute the frequency distribution of the bigram $C(w_{t},w_{t-1})$ using the NLTK function```bigrams```.\n"
      ]
    },
    {
      "cell_type": "code",
      "metadata": {
        "colab": {
          "base_uri": "https://localhost:8080/"
        },
        "id": "26c7d700-2c6d-453e-a48f-531a1ded454a",
        "outputId": "abf1967d-89d5-4c5a-d331-c4c839f36a61"
      },
      "outputs": [
        {
          "output_type": "execute_result",
          "data": {
            "text/plain": [
              "FreqDist({('gon', 'na'): 38, ('never', 'gon'): 36, ('you', 'never'): 9, ('na', 'tell'): 8, ('make', 'you'): 8, ('na', 'give'): 6, ('give', 'you'): 6, ('you', 'up'): 6, ('up', 'never'): 6, ('na', 'let'): 6, ...})"
            ]
          },
          "metadata": {},
          "execution_count": 21
        }
      ],
      "source": [
        "freq_bigrams  = nltk.FreqDist(nltk.bigrams(tokens))\n",
        "freq_bigrams"
      ],
      "execution_count": 21
    },
    {
      "cell_type": "markdown",
      "metadata": {
        "id": "8d49af69-9f18-4f47-af97-a901252a077a"
      },
      "source": [
        "The result is akin to a dictionary, where the key is a tuple containing the bigram.\n"
      ]
    },
    {
      "cell_type": "code",
      "metadata": {
        "colab": {
          "base_uri": "https://localhost:8080/"
        },
        "id": "33919397-3bb2-42de-93e2-96c2ea6132d9",
        "outputId": "3d060cd4-1600-45a4-8f07-562772b6892a"
      },
      "outputs": [
        {
          "output_type": "execute_result",
          "data": {
            "text/plain": [
              "1"
            ]
          },
          "metadata": {},
          "execution_count": 22
        }
      ],
      "source": [
        "\n",
        "freq_bigrams[('we', 'are')]"
      ],
      "execution_count": 22
    },
    {
      "cell_type": "markdown",
      "metadata": {
        "id": "17a98c87-348b-421a-83bf-445c09fff6fe"
      },
      "source": [
        "It is possible to provide you with the first 10 values of the frequency distribution.\n"
      ]
    },
    {
      "cell_type": "code",
      "metadata": {
        "colab": {
          "base_uri": "https://localhost:8080/"
        },
        "id": "8439b551-2c20-4b48-b3a4-bafe78fe9716",
        "outputId": "4acd6816-f9ab-48e6-c4cb-d8a74018394a"
      },
      "outputs": [
        {
          "output_type": "stream",
          "name": "stdout",
          "text": [
            "('we', 'are')\n",
            "1\n",
            "('are', 'no')\n",
            "1\n",
            "('no', 'strangers')\n",
            "1\n",
            "('strangers', 'to')\n",
            "1\n",
            "('to', 'love')\n",
            "1\n",
            "('love', 'you')\n",
            "1\n",
            "('you', 'know')\n",
            "1\n",
            "('know', 'the')\n",
            "3\n",
            "('the', 'rules')\n",
            "1\n",
            "('rules', 'and')\n",
            "1\n"
          ]
        }
      ],
      "source": [
        "for my_bigram in  my_bigrams[0:10]:\n",
        "    print(my_bigram)\n",
        "    print(freq_bigrams[my_bigram])"
      ],
      "execution_count": 23
    },
    {
      "cell_type": "markdown",
      "metadata": {
        "id": "1ef6b864-4d76-40d2-98fc-f7a9c37a4da1"
      },
      "source": [
        "Here, you can generate the conditional distribution by normalizing the frequency distribution of unigrams. In this case, you are doing it for the word 'strangers' and then sorting the results:\n"
      ]
    },
    {
      "cell_type": "code",
      "metadata": {
        "colab": {
          "base_uri": "https://localhost:8080/"
        },
        "id": "06e48e34-b5f0-41f1-9536-4f0915870a47",
        "outputId": "f46ed3e0-2c7d-4742-d93a-370ece38f39f"
      },
      "outputs": [
        {
          "output_type": "execute_result",
          "data": {
            "text/plain": [
              "[('to', 1.0),\n",
              " ('shy', 0.0),\n",
              " ('youre', 0.0),\n",
              " ('goodbye', 0.0),\n",
              " ('known', 0.0),\n",
              " ('no', 0.0),\n",
              " ('understand', 0.0),\n",
              " ('inside', 0.0),\n",
              " ('wouldnt', 0.0),\n",
              " ('me', 0.0),\n",
              " ('from', 0.0),\n",
              " ('of', 0.0),\n",
              " ('im', 0.0),\n",
              " ('feeling', 0.0),\n",
              " ('on', 0.0),\n",
              " ('say', 0.0),\n",
              " ('tell', 0.0),\n",
              " ('guy', 0.0),\n",
              " ('love', 0.0),\n",
              " ('we', 0.0),\n",
              " ('you', 0.0),\n",
              " ('wan', 0.0),\n",
              " ('strangers', 0.0),\n",
              " ('commitments', 0.0),\n",
              " ('lie', 0.0),\n",
              " ('down', 0.0),\n",
              " ('weve', 0.0),\n",
              " ('it', 0.0),\n",
              " ('were', 0.0),\n",
              " ('just', 0.0),\n",
              " ('this', 0.0),\n",
              " ('give', 0.0),\n",
              " ('been', 0.0),\n",
              " ('the', 0.0),\n",
              " ('play', 0.0),\n",
              " ('rules', 0.0),\n",
              " ('going', 0.0),\n",
              " ('if', 0.0),\n",
              " ('never', 0.0),\n",
              " ('make', 0.0),\n",
              " ('what', 0.0),\n",
              " ('other', 0.0),\n",
              " ('any', 0.0),\n",
              " ('both', 0.0),\n",
              " ('get', 0.0),\n",
              " ('aching', 0.0),\n",
              " ('ask', 0.0),\n",
              " ('run', 0.0),\n",
              " ('got', 0.0),\n",
              " ('see', 0.0),\n",
              " ('around', 0.0),\n",
              " ('too', 0.0),\n",
              " ('blind', 0.0),\n",
              " ('and', 0.0),\n",
              " ('thinking', 0.0),\n",
              " ('for', 0.0),\n",
              " ('whats', 0.0),\n",
              " ('hurt', 0.0),\n",
              " ('so', 0.0),\n",
              " ('let', 0.0),\n",
              " ('a', 0.0),\n",
              " ('long', 0.0),\n",
              " ('ta', 0.0),\n",
              " ('hearts', 0.0),\n",
              " ('but', 0.0),\n",
              " ('do', 0.0),\n",
              " ('na', 0.0),\n",
              " ('your', 0.0),\n",
              " ('are', 0.0),\n",
              " ('each', 0.0),\n",
              " ('up', 0.0),\n",
              " ('cry', 0.0),\n",
              " ('dont', 0.0),\n",
              " ('i', 0.0),\n",
              " ('gon', 0.0),\n",
              " ('game', 0.0),\n",
              " ('desert', 0.0),\n",
              " ('full', 0.0),\n",
              " ('how', 0.0),\n",
              " ('know', 0.0)]"
            ]
          },
          "metadata": {},
          "execution_count": 24
        }
      ],
      "source": [
        "word=\"strangers\"\n",
        "vocab_probabilities={}\n",
        "for next_word in vocabulary:\n",
        "    vocab_probabilities[next_word]=freq_bigrams[(word,next_word)]/fdist[word]\n",
        "\n",
        "vocab_probabilities=sorted(vocab_probabilities.items(), key=lambda x:x[1],reverse=True)\n",
        "vocab_probabilities"
      ],
      "execution_count": 24
    },
    {
      "cell_type": "markdown",
      "metadata": {
        "id": "ee049d20-7340-4e12-910d-83e2bad57db2"
      },
      "source": [
        "Print out the words that are more likely to occur.\n"
      ]
    },
    {
      "cell_type": "code",
      "metadata": {
        "colab": {
          "base_uri": "https://localhost:8080/"
        },
        "id": "29540d70-450d-469c-9284-c1c34b223904",
        "outputId": "bae20b57-7597-4cc4-e0cb-8520a3e8b244"
      },
      "outputs": [
        {
          "output_type": "execute_result",
          "data": {
            "text/plain": [
              "[('to', 1.0), ('shy', 0.0), ('youre', 0.0), ('goodbye', 0.0)]"
            ]
          },
          "metadata": {},
          "execution_count": 25
        }
      ],
      "source": [
        "vocab_probabilities[0:4]"
      ],
      "execution_count": 25
    },
    {
      "cell_type": "markdown",
      "metadata": {
        "id": "efafc2e5-ac16-4af8-8fc8-abc17ca72dc2"
      },
      "source": [
        "Create a function to calculate the conditional probability of $W_t$ given $W_{t-1}$, sort the results, and output them as a list.\n"
      ]
    },
    {
      "cell_type": "code",
      "metadata": {
        "id": "506b5861-b50f-4233-9611-53eab62a0637"
      },
      "outputs": [],
      "source": [
        "\n",
        "def make_predictions(my_words, freq_grams, normlize=1, vocabulary=vocabulary):\n",
        "    \"\"\"\n",
        "    Generate predictions for the conditional probability of the next word given a sequence.\n",
        "\n",
        "    Args:\n",
        "        my_words (list): A list of words in the input sequence.\n",
        "        freq_grams (dict): A dictionary containing frequency of n-grams.\n",
        "        normlize (int): A normalization factor for calculating probabilities.\n",
        "        vocabulary (list): A list of words in the vocabulary.\n",
        "\n",
        "    Returns:\n",
        "        list: A list of predicted words along with their probabilities, sorted in descending order.\n",
        "    \"\"\"\n",
        "\n",
        "    vocab_probabilities = {}  # Initialize a dictionary to store predicted word probabilities\n",
        "\n",
        "    context_size = len(list(freq_grams.keys())[0])  # Determine the context size from n-grams keys\n",
        "\n",
        "    # Preprocess input words and take only the relevant context words\n",
        "    my_tokens = preprocess(my_words)[-(context_size - 1):]\n",
        "\n",
        "    # Calculate probabilities for each word in the vocabulary given the context\n",
        "    for next_word in vocabulary:\n",
        "        temp = my_tokens.copy()\n",
        "        temp.append(next_word)  # Add the next word to the context\n",
        "\n",
        "        # Calculate the conditional probability using the frequency information\n",
        "        if normlize!=0:\n",
        "            vocab_probabilities[next_word] = freq_grams[tuple(temp)] / normlize\n",
        "        else:\n",
        "            vocab_probabilities[next_word] = freq_grams[tuple(temp)]\n",
        "    # Sort the predicted words based on their probabilities in descending order\n",
        "    vocab_probabilities = sorted(vocab_probabilities.items(), key=lambda x: x[1], reverse=True)\n",
        "\n",
        "    return vocab_probabilities  # Return the sorted list of predicted words and their probabilities"
      ],
      "execution_count": 34
    },
    {
      "cell_type": "markdown",
      "metadata": {
        "id": "cad5f343-256e-4600-8f36-4eec590773b3"
      },
      "source": [
        "Set $W_{t-1}$ to 'i' and then calculate all the values of $P(W_t | W_{t-1}=i)$.\n"
      ]
    },
    {
      "cell_type": "code",
      "metadata": {
        "id": "d9c898a8-51c0-47ef-a594-dd8411d24ce8"
      },
      "outputs": [],
      "source": [
        "my_words=\"are\"\n",
        "\n",
        "vocab_probabilities=make_predictions(my_words,freq_bigrams,normlize=fdist['are'])"
      ],
      "execution_count": 35
    },
    {
      "cell_type": "code",
      "metadata": {
        "colab": {
          "base_uri": "https://localhost:8080/"
        },
        "id": "9e7058d5-88da-4984-b6b9-3e11ffce48c9",
        "outputId": "93b1b5b4-900e-4f42-f1d1-bf5e36f226d7"
      },
      "outputs": [
        {
          "output_type": "execute_result",
          "data": {
            "text/plain": [
              "[('no', 1.0),\n",
              " ('shy', 0.0),\n",
              " ('youre', 0.0),\n",
              " ('goodbye', 0.0),\n",
              " ('known', 0.0),\n",
              " ('understand', 0.0),\n",
              " ('inside', 0.0),\n",
              " ('wouldnt', 0.0),\n",
              " ('me', 0.0),\n",
              " ('from', 0.0)]"
            ]
          },
          "metadata": {},
          "execution_count": 36
        }
      ],
      "source": [
        "vocab_probabilities[0:10]"
      ],
      "execution_count": 36
    },
    {
      "cell_type": "markdown",
      "metadata": {
        "id": "58a78ed0-f855-4894-bf9d-5194d18e5f51"
      },
      "source": [
        "The word with the highest probability, denoted as $\\hat{W}_t$, is given by the first element of the list, this can be used as a simple autocomplete:\n"
      ]
    },
    {
      "cell_type": "code",
      "metadata": {
        "colab": {
          "base_uri": "https://localhost:8080/",
          "height": 36
        },
        "id": "c270cc3c-b7a4-4a98-bf11-a8e8b573659f",
        "outputId": "667bafcc-0daa-4810-c05f-eecbcbab26c9"
      },
      "outputs": [
        {
          "output_type": "execute_result",
          "data": {
            "text/plain": [
              "'no'"
            ],
            "application/vnd.google.colaboratory.intrinsic+json": {
              "type": "string"
            }
          },
          "metadata": {},
          "execution_count": 37
        }
      ],
      "source": [
        "vocab_probabilities[0][0]"
      ],
      "execution_count": 37
    },
    {
      "cell_type": "markdown",
      "metadata": {
        "id": "c1a92205-3e06-45b5-bd69-23288489ce31"
      },
      "source": [
        "Generate a sequence using the bigram model by leveraging the preceding word (t-1) to predict and generate the subsequent word in the sequence.\n"
      ]
    },
    {
      "cell_type": "code",
      "metadata": {
        "id": "6b92efc3-014f-4a61-a063-6091484485d2"
      },
      "outputs": [],
      "source": [
        "my_song=\"\"\n",
        "for w in tokens[0:100]:\n",
        "  my_word=make_predictions(w,freq_bigrams)[0][0]\n",
        "  my_song+=\" \"+my_word"
      ],
      "execution_count": 38
    },
    {
      "cell_type": "code",
      "metadata": {
        "colab": {
          "base_uri": "https://localhost:8080/",
          "height": 109
        },
        "id": "0a126638-f142-4838-84ab-4762e98b3c9f",
        "outputId": "7f779447-3283-4cee-b7b2-7c3922765da7"
      },
      "outputs": [
        {
          "output_type": "execute_result",
          "data": {
            "text/plain": [
              "' both no strangers to say you never the game and hurt long i just lie commitments what im feeling of you never get this from any other for i just wan na tell a never im feeling got ta make you never never gon na tell you never never gon na tell you never never gon na tell around and hurt you never gon na tell you never never gon na tell goodbye never gon na tell a lie and hurt you never known each other for so long your hearts been going but youre too shy to say goodbye'"
            ],
            "application/vnd.google.colaboratory.intrinsic+json": {
              "type": "string"
            }
          },
          "metadata": {},
          "execution_count": 39
        }
      ],
      "source": [
        " my_song"
      ],
      "execution_count": 39
    },
    {
      "cell_type": "markdown",
      "metadata": {
        "id": "df96ad91-f75e-4e61-b3b0-26fd9a4ae083"
      },
      "source": [
        "Create a sequence using the n-gram model by initiating the process with the first word in the sequence and producing an initial output. Subsequently, utilize this output as the basis for generating the next word in the sequence, i.e., you will give your model a word, then use the output to predict the next word and repeat.\n"
      ]
    },
    {
      "cell_type": "code",
      "metadata": {
        "id": "1cf63f00-9c59-4656-806c-e6d0d63041c0"
      },
      "outputs": [],
      "source": [
        "my_song=\"i\"\n",
        "my_word=my_song\n",
        "for i in range(100):\n",
        "    my_word=make_predictions(my_word,freq_bigrams)[0][0]\n",
        "    my_song+=\" \"+my_word"
      ],
      "execution_count": 46
    },
    {
      "cell_type": "code",
      "metadata": {
        "colab": {
          "base_uri": "https://localhost:8080/",
          "height": 109
        },
        "id": "db220ba7-e764-40ce-abad-057b6684c3e5",
        "outputId": "7511ab2d-bbf0-4dc2-dd96-0e625fbaeffb"
      },
      "outputs": [
        {
          "output_type": "execute_result",
          "data": {
            "text/plain": [
              "'i just wan na tell a lie and hurt you never gon na tell a lie and hurt you never gon na tell a lie and hurt you never gon na tell a lie and hurt you never gon na tell a lie and hurt you never gon na tell a lie and hurt you never gon na tell a lie and hurt you never gon na tell a lie and hurt you never gon na tell a lie and hurt you never gon na tell a lie and hurt you never gon na tell a lie and hurt you never'"
            ],
            "application/vnd.google.colaboratory.intrinsic+json": {
              "type": "string"
            }
          },
          "metadata": {},
          "execution_count": 47
        }
      ],
      "source": [
        "my_song"
      ],
      "execution_count": 47
    },
    {
      "cell_type": "markdown",
      "metadata": {
        "id": "3f6d156e-3c62-4d83-9c12-3d6ca89e1aa3"
      },
      "source": [
        "This method may not yield optimal results; consider the following:\n",
        "\n",
        "$\\hat{W_1}=\\arg\\max{W_1} \\left( P(W_1 | W_{0}=\\text{like})\\right)$.\n",
        "\n",
        "Upon evaluation, observe that the result for $\\hat{W}_1$ includes both \"dogs\" and \"cats\" with equal likelihood.\n"
      ]
    },
    {
      "cell_type": "markdown",
      "metadata": {
        "id": "2835ba9b-c666-42bf-a243-aa7815308a58"
      },
      "source": [
        "## Trigram model\n",
        "For the given example sentence: 'I like dogs and I kinda like cats'\n",
        "\n",
        "$ (I, like, dogs) $\n",
        "\n",
        "$(like, dogs, and) $\n",
        "\n",
        "$(dogs, and, I)$\n",
        "\n",
        "$(and, I, kinda)$\n",
        "\n",
        "$(I, kinda, like)$\n",
        "\n",
        "$(kinda, like, cats)$\n",
        "\n",
        "Trigram models incorporate conditional probability as well. The probability of a word depends on the two preceding words. The conditional probability $P(W_t | W_{t-2}, W_{t-1})$ is utilized to predict the likelihood of word $W_t$ following the two previous words in a sequence. The context is $W_{t-2}, W_{t-1}$ and is of length 2. Let's compute the conditional probability for each trigram:\n",
        "\n",
        "Calculate the trigram frequencies for each trigram: $Count(W_{t-2}, W_{t-1}, W_t)$\n",
        "\n",
        "### Trigram frequency counts\n",
        "\n",
        "$ \\text{Count(I, like, dogs)} = 1 $\n",
        "\n",
        "$ \\text{Count(like, dogs, and)} = 1 $\n",
        "\n",
        "$\\text{Count(dogs, and, I)} = 1$\n",
        "\n",
        "$ \\text{Count(and, I, kinda)} = 1$\n",
        "\n",
        "$ \\text{Count(I, kinda, like)} = 1 $\n",
        "\n",
        "$ \\text{Count(kinda, like, cats)} = 1 $\n",
        "\n",
        "The conditional probability $ P(w_{t} | w_{t-1}, w_{t-2})$ where $w_{t-1}$ and $w_{t-2}$ form the context, and the context size is 2.\n",
        "\n",
        "To better understand how this outperforms the bigram model, let's compute the conditional probabilities with the context \"I like\":\n",
        "\n",
        "$\\hat{W_2}=\\arg\\max{W_2} \\left( P(W_2 | W_{1}=like,W_{0}=I)\\right)$\n",
        "\n",
        "and for the words \"cats\" and \"dogs\":\n",
        "\n",
        "$ P(\"dogs\" | \"like\", \"I\") = \\frac{Count(I, like, dogs)}{Total \\ count \\ of \\ \"I\", \"like\"} = \\frac{1}{1} = 1 $\n",
        "\n",
        "$ P(\"cats\" | \"like\", \"I\") = \\frac{Count(I, like, cats)}{Total \\ count \\ of \\ \"I\", \"like\"} = 0$\n",
        "\n",
        "These probabilities signify the likelihood of encountering the third word in a trigram. Notably, the result $\\hat{W}_2$ is \"dogs,\" which seems to align better with the sequence.\n",
        "\n",
        "The trigrams function is provided by the Natural Language Toolkit (NLTK) library in Python. This function takes a sequence of tokens as input, returns an iterator over consecutive token triplets, generating trigrams, and converts them into a frequency distribution.\n"
      ]
    },
    {
      "cell_type": "code",
      "metadata": {
        "colab": {
          "base_uri": "https://localhost:8080/"
        },
        "id": "04456ba3-0c6e-411d-af42-00b9c70eef19",
        "outputId": "0e372b71-6901-4cb1-d119-9ea907096c00"
      },
      "outputs": [
        {
          "output_type": "execute_result",
          "data": {
            "text/plain": [
              "FreqDist({('never', 'gon', 'na'): 36, ('you', 'never', 'gon'): 9, ('gon', 'na', 'give'): 6, ('na', 'give', 'you'): 6, ('give', 'you', 'up'): 6, ('you', 'up', 'never'): 6, ('up', 'never', 'gon'): 6, ('gon', 'na', 'let'): 6, ('na', 'let', 'you'): 6, ('let', 'you', 'down'): 6, ...})"
            ]
          },
          "metadata": {},
          "execution_count": 53
        }
      ],
      "source": [
        "freq_trigrams  = nltk.FreqDist(nltk.trigrams(tokens))\n",
        "freq_trigrams"
      ],
      "execution_count": 53
    },
    {
      "cell_type": "markdown",
      "metadata": {
        "id": "a659f601-80d0-4f2d-84a7-d19ef6b28a27"
      },
      "source": [
        "Find the probability for each of the next words.\n"
      ]
    },
    {
      "cell_type": "code",
      "metadata": {
        "colab": {
          "base_uri": "https://localhost:8080/"
        },
        "id": "b92afe15-449b-4166-bd2a-0c6ce29867cc",
        "outputId": "9b4cecc4-edfc-49db-a69e-7e36c9ff1942"
      },
      "outputs": [
        {
          "output_type": "execute_result",
          "data": {
            "text/plain": [
              "[('i', 1.0),\n",
              " ('shy', 0.0),\n",
              " ('youre', 0.0),\n",
              " ('goodbye', 0.0),\n",
              " ('known', 0.0),\n",
              " ('no', 0.0),\n",
              " ('understand', 0.0),\n",
              " ('inside', 0.0),\n",
              " ('wouldnt', 0.0),\n",
              " ('me', 0.0)]"
            ]
          },
          "metadata": {},
          "execution_count": 50
        }
      ],
      "source": [
        "make_predictions(\"so do\",freq_trigrams,normlize=freq_bigrams[('so','do')] )[0:10]"
      ],
      "execution_count": 50
    },
    {
      "cell_type": "markdown",
      "metadata": {
        "id": "0bbdede3-4072-4bcd-8e92-c64866bada7f"
      },
      "source": [
        "\n",
        "Find the probability for each of the next words.\n"
      ]
    },
    {
      "cell_type": "code",
      "metadata": {
        "id": "8c9aa060-5f1c-40db-9899-b9ca42816737"
      },
      "outputs": [],
      "source": [
        "my_song=\"\"\n",
        "\n",
        "w1=tokens[0]\n",
        "for w2 in tokens[0:100]:\n",
        "    gram=w1+' '+w2\n",
        "    my_word=make_predictions(gram,freq_trigrams )[0][0]\n",
        "    my_song+=\" \"+my_word\n",
        "    w1=w2"
      ],
      "execution_count": 70
    },
    {
      "cell_type": "code",
      "metadata": {
        "colab": {
          "base_uri": "https://localhost:8080/",
          "height": 109
        },
        "id": "2dfe42bb-de06-461d-bfa9-409367a7038c",
        "outputId": "d9a78166-d11f-4436-d1ef-10a502975f08"
      },
      "outputs": [
        {
          "output_type": "execute_result",
          "data": {
            "text/plain": [
              "' shy no strangers to love you know the game and so do i a full commitments what im thinking of you wouldnt get this from any other guy i just wan na tell a how im feeling got ta make you cry never gon na say you up never gon na say you down never gon na say around and desert you never gon na say you cry never gon na say goodbye never gon na say a lie and hurt you never known each other for so long your hearts been aching but youre too shy to say it'"
            ],
            "application/vnd.google.colaboratory.intrinsic+json": {
              "type": "string"
            }
          },
          "metadata": {},
          "execution_count": 71
        }
      ],
      "source": [
        "my_song"
      ],
      "execution_count": 71
    },
    {
      "cell_type": "markdown",
      "metadata": {
        "id": "d1d1a632-c793-42a0-9f4c-cbe9aa64a00a"
      },
      "source": [
        "There are various challenges associated with Histogram-Based Methods, some of which are quite straightforward. For instance, when considering the case of having N words in your vocabulary, a Unigram model would entail $N$ bins, while a Bigram model would result in $N^2$ bins and so forth.\n",
        "\n",
        "N-gram models also encounter limitations in terms of contextual understanding and their ability to capture intricate word relationships. For instance, let's consider the phrases `I hate dogs`, `I don’t like dogs`, and **don’t like** means **dislike**. Within this context, a histogram-based approach would fail to grasp the significance of the phrase **don’t like** means **dislike**, thereby missing out on the essential semantic relationship it encapsulates.\n"
      ]
    },
    {
      "cell_type": "markdown",
      "metadata": {
        "id": "923fe9bc-02c1-4f10-8a66-826484cab1a0"
      },
      "source": [
        "---\n"
      ]
    },
    {
      "cell_type": "markdown",
      "metadata": {
        "id": "867117b5-5f34-443a-ac0e-1738ef4d34b4"
      },
      "source": [
        "# Congratulations! You have completed the lab\n"
      ]
    },
    {
      "cell_type": "markdown",
      "metadata": {
        "id": "5703261f-fcc3-4866-9c8e-4d68da3f7aaf"
      },
      "source": [
        "## Authors\n"
      ]
    },
    {
      "cell_type": "markdown",
      "metadata": {
        "id": "e9b5b300-e164-4af3-ba0b-5dfa3385044b"
      },
      "source": [
        "[Joseph Santarcangelo](https://www.linkedin.com/in/joseph-s-50398b136/) has a Ph.D. in Electrical Engineering, his research focused on using machine learning, signal processing, and computer vision to determine how videos impact human cognition. Joseph has been working for IBM since he completed his PhD.\n"
      ]
    },
    {
      "cell_type": "markdown",
      "metadata": {
        "id": "5e08bf39-a6c1-48e6-8c74-5a58e729d82a"
      },
      "source": [
        "### Contributor\n",
        "\n",
        "[Roodra Kanwar](https://www.linkedin.com/in/roodrakanwar/) is completing his MS in CS specializing in big data from Simon Fraser University. He has previous experience working with machine learning and as a data engineer.\n"
      ]
    },
    {
      "cell_type": "markdown",
      "metadata": {
        "id": "fe1c26ad-fafd-45b3-abc3-8c1bd00ad09c"
      },
      "source": [
        "```{## Change log}\n"
      ]
    },
    {
      "cell_type": "markdown",
      "metadata": {
        "id": "f25bfb6e-632c-4c43-8dd7-9c4d923d2efa"
      },
      "source": [
        "```{|Date (YYYY-MM-DD)|Version|Changed By|Change Description||-|-|-|-||2023-09-01|0.1|Joseph|Created Lab Template & Guided Project||2023-09-03|0.1|Joseph|Updated Guided Project|}\n"
      ]
    },
    {
      "cell_type": "markdown",
      "metadata": {
        "id": "965b5224-dc3a-4065-83d1-75c3628a63ed"
      },
      "source": [
        "© Copyright IBM Corporation. All rights reserved.\n"
      ]
    }
  ],
  "metadata": {
    "kernelspec": {
      "display_name": "Python 3 (ipykernel)",
      "language": "python",
      "name": "python3"
    },
    "language_info": {
      "codemirror_mode": {
        "name": "ipython",
        "version": 3
      },
      "file_extension": ".py",
      "mimetype": "text/x-python",
      "name": "python",
      "nbconvert_exporter": "python",
      "pygments_lexer": "ipython3",
      "version": "3.12.8"
    },
    "prev_pub_hash": "02359477bd12265ce98e076f77deb1b8566db952a3145f2dcf718600e5ff5e91",
    "colab": {
      "provenance": []
    }
  },
  "nbformat": 4,
  "nbformat_minor": 0
}