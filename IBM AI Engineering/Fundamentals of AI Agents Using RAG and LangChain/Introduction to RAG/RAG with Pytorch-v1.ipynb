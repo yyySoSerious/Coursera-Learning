{
  "cells": [
    {
      "cell_type": "markdown",
      "metadata": {
        "id": "77227549-a69e-43c6-ad9f-26896509079d"
      },
      "source": [
        "<p style=\"text-align:center\">\n",
        "    <a href=\"https://skills.network\" target=\"_blank\">\n",
        "    <img src=\"https://cf-courses-data.s3.us.cloud-object-storage.appdomain.cloud/assets/logos/SN_web_lightmode.png\" width=\"200\" alt=\"Skills Network Logo\">\n",
        "    </a>\n",
        "</p>\n"
      ]
    },
    {
      "cell_type": "markdown",
      "metadata": {
        "id": "91f1f6dc-3983-423c-9a77-031082c7a3e8"
      },
      "source": [
        "# RAG with PyTorch\n",
        "Estimated time needed: **60** minutes\n",
        "\n",
        "\n",
        "\n",
        "## Introduction\n",
        "As a machine learning engineer hired by a social media company, your task is determining whether songs shared on the platform are appropriate for children. Given the high costs associated with processing each song using large language models (LLMs) for content evaluation, an alternative method using retrieval-augmented generation (RAG) is proposed. RAG combines the benefits of a retriever model, which fetches relevant information (in this case, embeddings of pre-answered content appropriateness questions), and a generator model, which uses this information to predict the appropriateness of new content. This approach efficiently scales the evaluation process while ensuring that each song's content is scrutinized for child safety without the overhead of running a full LLM for each song.\n",
        "\n",
        "![A big yellow bird puppet and a purple dinosaur puppet singing next to a rapper and a metal band singer](https://cf-courses-data.s3.us.cloud-object-storage.appdomain.cloud/MGy9JGkmyNnnTPqNlXk2uw/The%20scene%20is%20lively%20and%20colorful.jpg)\n"
      ]
    },
    {
      "cell_type": "markdown",
      "metadata": {
        "id": "e5e0707e-d573-4e2f-9b22-f7320e42c507"
      },
      "source": [
        "# __Table of Contents__\n",
        "\n",
        "<ol>\n",
        "    <li><a href=\"#Objectives\">Objectives</a></li>\n",
        "    <li>\n",
        "        <a href=\"#Setup\">Setup</a>\n",
        "        <ol>\n",
        "            <li><a href=\"#Installing-required-libraries\">Installing required libraries</a></li>\n",
        "            <li><a href=\"#Importing-required-libraries\">Importing required libraries</a></li>\n",
        "            <li><a href=\"#Defining-helper-functions\">Defining helper functions</a></li>\n",
        "        </ol>\n",
        "    </li>\n",
        "    <li>\n",
        "        <a href=\"#Embeddings-using-BERT-and-PyTorch-Hub\">Embeddings using BERT and PyTorch Hub</a>\n",
        "        <ol>\n",
        "            <li><a href=\"#Loading-tokenizer-and-model\">Loading tokenizer and model</a>\n",
        "                <ol>\n",
        "                    <li><a href=\"#Tokenization\">Tokenization</a></li>\n",
        "                    <li><a href=\"#Text-decoding-and-verification\">Text decoding and verification</a></li>\n",
        "                    <li><a href=\"#Device-and-Convert-Tensor\">Device and Convert Tensor</a></li>\n",
        "                    <li><a href=\"#Loading-the-BERT-model\">Loading the BERT model</a></li>\n",
        "                    <li><a href=\"#Generating-aggregated-mean-embeddings-using-BERT-for-RAG\">Generating aggregated mean embeddings using BERT for RAG</a></li>\n",
        "                </ol>\n",
        "            </li>\n",
        "        </ol>\n",
        "    </li>\n",
        "    <li><a href=\"#Convert-questions-and-the-song-lyrics-into-embeddings\">Convert questions and the song lyrics into embeddings</a></li>\n",
        "    <li><a href=\"#Understanding-the-dot-product\">Understanding the dot product</a></li>\n",
        "    <li>\n",
        "        <a href=\"#Exercise\">Exercise</a>\n",
        "        <ol>\n",
        "            <li><a href=\"#Task-description\">Task description</a></li>\n",
        "        </ol>\n",
        "    </li>\n",
        "</ol>\n"
      ]
    },
    {
      "cell_type": "markdown",
      "metadata": {
        "id": "a33e96fb-0623-4d11-ae8c-e8eb5abefdf1"
      },
      "source": [
        "---\n"
      ]
    },
    {
      "cell_type": "markdown",
      "metadata": {
        "id": "e8dde476-3b44-46c1-b023-2665cfdd3752"
      },
      "source": [
        "# Objectives\n",
        "\n",
        "After completing this lab, you will be able to:\n",
        "\n",
        "- **Understand embedding techniques**: Learn how to generate and use embeddings from pre-trained models for natural language processing tasks.\n",
        "- **Use Hugging Face Transformers with PyTorch**: Apply the transformers library to load and work with advanced NLP models like BERT in PyTorch..\n",
        "- **Apply t-SNE for visualization**: Use t-SNE to visualize high-dimensional data in lower-dimensional spaces, enhancing understanding of data distribution and clustering.\n",
        "- **Fine-tuning language models**: Gain practical experience in fine-tuning pretrained language models for specific tasks, enhancing model performance on targeted datasets.\n",
        "- **Develop practical NLP solutions**: Implement a system that effectively uses Retriever and Generator architectures to answer queries, demonstrating an end-to-end workflow from model tuning to deployment.\n",
        "- **Implement cosine similarity**: Replace dot product similarity measures with cosine similarity to improve relevance detection in response generation systems.\n",
        "- **Evaluate model performance**: Assess the impact of using cosine similarity over dot product in terms of retrieval accuracy and relevance in a QA system.\n"
      ]
    },
    {
      "cell_type": "markdown",
      "metadata": {
        "id": "2ffeb9e3-a4ff-4126-90c0-b6df6c2bc9e7"
      },
      "source": [
        "---\n"
      ]
    },
    {
      "cell_type": "markdown",
      "metadata": {
        "id": "7891461f-2ccf-495a-94ef-40cede9cb1f4"
      },
      "source": [
        "# Setup\n"
      ]
    },
    {
      "cell_type": "markdown",
      "metadata": {
        "id": "ff22af3b-4fd5-4098-8bcf-a29df8351be5"
      },
      "source": [
        "\n"
      ]
    },
    {
      "cell_type": "markdown",
      "metadata": {
        "id": "7e8cb00a-5cfa-45f8-be27-a0258e0203a6"
      },
      "source": [
        "### Installing required libraries\n"
      ]
    },
    {
      "cell_type": "markdown",
      "metadata": {
        "id": "e2e9d07a-d7d2-46ce-ab3b-e43a19e25dfb"
      },
      "source": [
        "For this lab, you will be using the following libraries. These libraries are __not__ pre-installed in the Skills Network Labs environment. __You will need to run the following cell__ to install them:\n",
        "\n",
        "***Note : After installing please ensure that you restart the kernel and execute the subsequent cells.***\n"
      ]
    },
    {
      "cell_type": "code",
      "source": [
        "!pip install --user torch==2.3.1 torchtext==0.18\n",
        "!pip install numpy==1.26.0\n",
        "!pip install --user sacremoses==0.1.1\n",
        "!pip install --user transformers==4.43.4\n",
        "!pip install --user matplotlib==3.8.4\n",
        "!pip install --user sentencepiece==0.2.0\n",
        "!pip install --user scikit-learn==1.4.2"
      ],
      "metadata": {
        "colab": {
          "base_uri": "https://localhost:8080/",
          "height": 1000
        },
        "id": "uVty8_6h2X2I",
        "outputId": "40a73674-1e5f-44f2-931d-8e3e870748b0"
      },
      "execution_count": 1,
      "outputs": [
        {
          "output_type": "stream",
          "name": "stdout",
          "text": [
            "Collecting torch==2.3.1\n",
            "  Downloading torch-2.3.1-cp311-cp311-manylinux1_x86_64.whl.metadata (26 kB)\n",
            "Collecting torchtext==0.18\n",
            "  Downloading torchtext-0.18.0-cp311-cp311-manylinux1_x86_64.whl.metadata (7.9 kB)\n",
            "Requirement already satisfied: filelock in /usr/local/lib/python3.11/dist-packages (from torch==2.3.1) (3.18.0)\n",
            "Requirement already satisfied: typing-extensions>=4.8.0 in /usr/local/lib/python3.11/dist-packages (from torch==2.3.1) (4.13.2)\n",
            "Requirement already satisfied: sympy in /usr/local/lib/python3.11/dist-packages (from torch==2.3.1) (1.13.1)\n",
            "Requirement already satisfied: networkx in /usr/local/lib/python3.11/dist-packages (from torch==2.3.1) (3.4.2)\n",
            "Requirement already satisfied: jinja2 in /usr/local/lib/python3.11/dist-packages (from torch==2.3.1) (3.1.6)\n",
            "Requirement already satisfied: fsspec in /usr/local/lib/python3.11/dist-packages (from torch==2.3.1) (2025.3.2)\n",
            "Collecting nvidia-cuda-nvrtc-cu12==12.1.105 (from torch==2.3.1)\n",
            "  Downloading nvidia_cuda_nvrtc_cu12-12.1.105-py3-none-manylinux1_x86_64.whl.metadata (1.5 kB)\n",
            "Collecting nvidia-cuda-runtime-cu12==12.1.105 (from torch==2.3.1)\n",
            "  Downloading nvidia_cuda_runtime_cu12-12.1.105-py3-none-manylinux1_x86_64.whl.metadata (1.5 kB)\n",
            "Collecting nvidia-cuda-cupti-cu12==12.1.105 (from torch==2.3.1)\n",
            "  Downloading nvidia_cuda_cupti_cu12-12.1.105-py3-none-manylinux1_x86_64.whl.metadata (1.6 kB)\n",
            "Collecting nvidia-cudnn-cu12==8.9.2.26 (from torch==2.3.1)\n",
            "  Downloading nvidia_cudnn_cu12-8.9.2.26-py3-none-manylinux1_x86_64.whl.metadata (1.6 kB)\n",
            "Collecting nvidia-cublas-cu12==12.1.3.1 (from torch==2.3.1)\n",
            "  Downloading nvidia_cublas_cu12-12.1.3.1-py3-none-manylinux1_x86_64.whl.metadata (1.5 kB)\n",
            "Collecting nvidia-cufft-cu12==11.0.2.54 (from torch==2.3.1)\n",
            "  Downloading nvidia_cufft_cu12-11.0.2.54-py3-none-manylinux1_x86_64.whl.metadata (1.5 kB)\n",
            "Collecting nvidia-curand-cu12==10.3.2.106 (from torch==2.3.1)\n",
            "  Downloading nvidia_curand_cu12-10.3.2.106-py3-none-manylinux1_x86_64.whl.metadata (1.5 kB)\n",
            "Collecting nvidia-cusolver-cu12==11.4.5.107 (from torch==2.3.1)\n",
            "  Downloading nvidia_cusolver_cu12-11.4.5.107-py3-none-manylinux1_x86_64.whl.metadata (1.6 kB)\n",
            "Collecting nvidia-cusparse-cu12==12.1.0.106 (from torch==2.3.1)\n",
            "  Downloading nvidia_cusparse_cu12-12.1.0.106-py3-none-manylinux1_x86_64.whl.metadata (1.6 kB)\n",
            "Collecting nvidia-nccl-cu12==2.20.5 (from torch==2.3.1)\n",
            "  Downloading nvidia_nccl_cu12-2.20.5-py3-none-manylinux2014_x86_64.whl.metadata (1.8 kB)\n",
            "Collecting nvidia-nvtx-cu12==12.1.105 (from torch==2.3.1)\n",
            "  Downloading nvidia_nvtx_cu12-12.1.105-py3-none-manylinux1_x86_64.whl.metadata (1.7 kB)\n",
            "Collecting triton==2.3.1 (from torch==2.3.1)\n",
            "  Downloading triton-2.3.1-cp311-cp311-manylinux_2_17_x86_64.manylinux2014_x86_64.whl.metadata (1.4 kB)\n",
            "Requirement already satisfied: tqdm in /usr/local/lib/python3.11/dist-packages (from torchtext==0.18) (4.67.1)\n",
            "Requirement already satisfied: requests in /usr/local/lib/python3.11/dist-packages (from torchtext==0.18) (2.32.3)\n",
            "Requirement already satisfied: numpy in /usr/local/lib/python3.11/dist-packages (from torchtext==0.18) (2.0.2)\n",
            "Requirement already satisfied: nvidia-nvjitlink-cu12 in /usr/local/lib/python3.11/dist-packages (from nvidia-cusolver-cu12==11.4.5.107->torch==2.3.1) (12.5.82)\n",
            "Requirement already satisfied: MarkupSafe>=2.0 in /usr/local/lib/python3.11/dist-packages (from jinja2->torch==2.3.1) (3.0.2)\n",
            "Requirement already satisfied: charset-normalizer<4,>=2 in /usr/local/lib/python3.11/dist-packages (from requests->torchtext==0.18) (3.4.2)\n",
            "Requirement already satisfied: idna<4,>=2.5 in /usr/local/lib/python3.11/dist-packages (from requests->torchtext==0.18) (3.10)\n",
            "Requirement already satisfied: urllib3<3,>=1.21.1 in /usr/local/lib/python3.11/dist-packages (from requests->torchtext==0.18) (2.4.0)\n",
            "Requirement already satisfied: certifi>=2017.4.17 in /usr/local/lib/python3.11/dist-packages (from requests->torchtext==0.18) (2025.4.26)\n",
            "Requirement already satisfied: mpmath<1.4,>=1.1.0 in /usr/local/lib/python3.11/dist-packages (from sympy->torch==2.3.1) (1.3.0)\n",
            "Downloading torch-2.3.1-cp311-cp311-manylinux1_x86_64.whl (779.2 MB)\n",
            "\u001b[2K   \u001b[90m━━━━━━━━━━━━━━━━━━━━━━━━━━━━━━━━━━━━━━━━\u001b[0m \u001b[32m779.2/779.2 MB\u001b[0m \u001b[31m2.4 MB/s\u001b[0m eta \u001b[36m0:00:00\u001b[0m\n",
            "\u001b[?25hDownloading torchtext-0.18.0-cp311-cp311-manylinux1_x86_64.whl (2.0 MB)\n",
            "\u001b[2K   \u001b[90m━━━━━━━━━━━━━━━━━━━━━━━━━━━━━━━━━━━━━━━━\u001b[0m \u001b[32m2.0/2.0 MB\u001b[0m \u001b[31m54.5 MB/s\u001b[0m eta \u001b[36m0:00:00\u001b[0m\n",
            "\u001b[?25hDownloading nvidia_cublas_cu12-12.1.3.1-py3-none-manylinux1_x86_64.whl (410.6 MB)\n",
            "\u001b[2K   \u001b[90m━━━━━━━━━━━━━━━━━━━━━━━━━━━━━━━━━━━━━━━━\u001b[0m \u001b[32m410.6/410.6 MB\u001b[0m \u001b[31m4.0 MB/s\u001b[0m eta \u001b[36m0:00:00\u001b[0m\n",
            "\u001b[?25hDownloading nvidia_cuda_cupti_cu12-12.1.105-py3-none-manylinux1_x86_64.whl (14.1 MB)\n",
            "\u001b[2K   \u001b[90m━━━━━━━━━━━━━━━━━━━━━━━━━━━━━━━━━━━━━━━━\u001b[0m \u001b[32m14.1/14.1 MB\u001b[0m \u001b[31m86.4 MB/s\u001b[0m eta \u001b[36m0:00:00\u001b[0m\n",
            "\u001b[?25hDownloading nvidia_cuda_nvrtc_cu12-12.1.105-py3-none-manylinux1_x86_64.whl (23.7 MB)\n",
            "\u001b[2K   \u001b[90m━━━━━━━━━━━━━━━━━━━━━━━━━━━━━━━━━━━━━━━━\u001b[0m \u001b[32m23.7/23.7 MB\u001b[0m \u001b[31m75.2 MB/s\u001b[0m eta \u001b[36m0:00:00\u001b[0m\n",
            "\u001b[?25hDownloading nvidia_cuda_runtime_cu12-12.1.105-py3-none-manylinux1_x86_64.whl (823 kB)\n",
            "\u001b[2K   \u001b[90m━━━━━━━━━━━━━━━━━━━━━━━━━━━━━━━━━━━━━━━━\u001b[0m \u001b[32m823.6/823.6 kB\u001b[0m \u001b[31m48.3 MB/s\u001b[0m eta \u001b[36m0:00:00\u001b[0m\n",
            "\u001b[?25hDownloading nvidia_cudnn_cu12-8.9.2.26-py3-none-manylinux1_x86_64.whl (731.7 MB)\n",
            "\u001b[2K   \u001b[90m━━━━━━━━━━━━━━━━━━━━━━━━━━━━━━━━━━━━━━━━\u001b[0m \u001b[32m731.7/731.7 MB\u001b[0m \u001b[31m2.5 MB/s\u001b[0m eta \u001b[36m0:00:00\u001b[0m\n",
            "\u001b[?25hDownloading nvidia_cufft_cu12-11.0.2.54-py3-none-manylinux1_x86_64.whl (121.6 MB)\n",
            "\u001b[2K   \u001b[90m━━━━━━━━━━━━━━━━━━━━━━━━━━━━━━━━━━━━━━━━\u001b[0m \u001b[32m121.6/121.6 MB\u001b[0m \u001b[31m8.1 MB/s\u001b[0m eta \u001b[36m0:00:00\u001b[0m\n",
            "\u001b[?25hDownloading nvidia_curand_cu12-10.3.2.106-py3-none-manylinux1_x86_64.whl (56.5 MB)\n",
            "\u001b[2K   \u001b[90m━━━━━━━━━━━━━━━━━━━━━━━━━━━━━━━━━━━━━━━━\u001b[0m \u001b[32m56.5/56.5 MB\u001b[0m \u001b[31m13.0 MB/s\u001b[0m eta \u001b[36m0:00:00\u001b[0m\n",
            "\u001b[?25hDownloading nvidia_cusolver_cu12-11.4.5.107-py3-none-manylinux1_x86_64.whl (124.2 MB)\n",
            "\u001b[2K   \u001b[90m━━━━━━━━━━━━━━━━━━━━━━━━━━━━━━━━━━━━━━━━\u001b[0m \u001b[32m124.2/124.2 MB\u001b[0m \u001b[31m8.2 MB/s\u001b[0m eta \u001b[36m0:00:00\u001b[0m\n",
            "\u001b[?25hDownloading nvidia_cusparse_cu12-12.1.0.106-py3-none-manylinux1_x86_64.whl (196.0 MB)\n",
            "\u001b[2K   \u001b[90m━━━━━━━━━━━━━━━━━━━━━━━━━━━━━━━━━━━━━━━━\u001b[0m \u001b[32m196.0/196.0 MB\u001b[0m \u001b[31m6.1 MB/s\u001b[0m eta \u001b[36m0:00:00\u001b[0m\n",
            "\u001b[?25hDownloading nvidia_nccl_cu12-2.20.5-py3-none-manylinux2014_x86_64.whl (176.2 MB)\n",
            "\u001b[2K   \u001b[90m━━━━━━━━━━━━━━━━━━━━━━━━━━━━━━━━━━━━━━━━\u001b[0m \u001b[32m176.2/176.2 MB\u001b[0m \u001b[31m6.4 MB/s\u001b[0m eta \u001b[36m0:00:00\u001b[0m\n",
            "\u001b[?25hDownloading nvidia_nvtx_cu12-12.1.105-py3-none-manylinux1_x86_64.whl (99 kB)\n",
            "\u001b[2K   \u001b[90m━━━━━━━━━━━━━━━━━━━━━━━━━━━━━━━━━━━━━━━━\u001b[0m \u001b[32m99.1/99.1 kB\u001b[0m \u001b[31m8.0 MB/s\u001b[0m eta \u001b[36m0:00:00\u001b[0m\n",
            "\u001b[?25hDownloading triton-2.3.1-cp311-cp311-manylinux_2_17_x86_64.manylinux2014_x86_64.whl (168.1 MB)\n",
            "\u001b[2K   \u001b[90m━━━━━━━━━━━━━━━━━━━━━━━━━━━━━━━━━━━━━━━━\u001b[0m \u001b[32m168.1/168.1 MB\u001b[0m \u001b[31m8.1 MB/s\u001b[0m eta \u001b[36m0:00:00\u001b[0m\n",
            "\u001b[?25hInstalling collected packages: triton, nvidia-nvtx-cu12, nvidia-nccl-cu12, nvidia-cusparse-cu12, nvidia-curand-cu12, nvidia-cufft-cu12, nvidia-cuda-runtime-cu12, nvidia-cuda-nvrtc-cu12, nvidia-cuda-cupti-cu12, nvidia-cublas-cu12, nvidia-cusolver-cu12, nvidia-cudnn-cu12, torch, torchtext\n",
            "\u001b[33m  WARNING: The scripts convert-caffe2-to-onnx, convert-onnx-to-caffe2 and torchrun are installed in '/root/.local/bin' which is not on PATH.\n",
            "  Consider adding this directory to PATH or, if you prefer to suppress this warning, use --no-warn-script-location.\u001b[0m\u001b[33m\n",
            "\u001b[0m\u001b[31mERROR: pip's dependency resolver does not currently take into account all the packages that are installed. This behaviour is the source of the following dependency conflicts.\n",
            "torchvision 0.21.0+cu124 requires torch==2.6.0, but you have torch 2.3.1 which is incompatible.\n",
            "torchaudio 2.6.0+cu124 requires torch==2.6.0, but you have torch 2.3.1 which is incompatible.\u001b[0m\u001b[31m\n",
            "\u001b[0mSuccessfully installed nvidia-cublas-cu12-12.1.3.1 nvidia-cuda-cupti-cu12-12.1.105 nvidia-cuda-nvrtc-cu12-12.1.105 nvidia-cuda-runtime-cu12-12.1.105 nvidia-cudnn-cu12-8.9.2.26 nvidia-cufft-cu12-11.0.2.54 nvidia-curand-cu12-10.3.2.106 nvidia-cusolver-cu12-11.4.5.107 nvidia-cusparse-cu12-12.1.0.106 nvidia-nccl-cu12-2.20.5 nvidia-nvtx-cu12-12.1.105 torch-2.3.1 torchtext-0.18.0 triton-2.3.1\n",
            "Collecting numpy==1.26.0\n",
            "  Downloading numpy-1.26.0-cp311-cp311-manylinux_2_17_x86_64.manylinux2014_x86_64.whl.metadata (58 kB)\n",
            "\u001b[2K     \u001b[90m━━━━━━━━━━━━━━━━━━━━━━━━━━━━━━━━━━━━━━━━\u001b[0m \u001b[32m58.5/58.5 kB\u001b[0m \u001b[31m2.5 MB/s\u001b[0m eta \u001b[36m0:00:00\u001b[0m\n",
            "\u001b[?25hDownloading numpy-1.26.0-cp311-cp311-manylinux_2_17_x86_64.manylinux2014_x86_64.whl (18.2 MB)\n",
            "\u001b[2K   \u001b[90m━━━━━━━━━━━━━━━━━━━━━━━━━━━━━━━━━━━━━━━━\u001b[0m \u001b[32m18.2/18.2 MB\u001b[0m \u001b[31m81.8 MB/s\u001b[0m eta \u001b[36m0:00:00\u001b[0m\n",
            "\u001b[?25hInstalling collected packages: numpy\n",
            "  Attempting uninstall: numpy\n",
            "    Found existing installation: numpy 2.0.2\n",
            "    Uninstalling numpy-2.0.2:\n",
            "      Successfully uninstalled numpy-2.0.2\n",
            "\u001b[31mERROR: pip's dependency resolver does not currently take into account all the packages that are installed. This behaviour is the source of the following dependency conflicts.\n",
            "torchvision 0.21.0+cu124 requires torch==2.6.0, but you have torch 2.3.1 which is incompatible.\n",
            "thinc 8.3.6 requires numpy<3.0.0,>=2.0.0, but you have numpy 1.26.0 which is incompatible.\u001b[0m\u001b[31m\n",
            "\u001b[0mSuccessfully installed numpy-1.26.0\n",
            "Collecting sacremoses==0.1.1\n",
            "  Downloading sacremoses-0.1.1-py3-none-any.whl.metadata (8.3 kB)\n",
            "Requirement already satisfied: regex in /usr/local/lib/python3.11/dist-packages (from sacremoses==0.1.1) (2024.11.6)\n",
            "Requirement already satisfied: click in /usr/local/lib/python3.11/dist-packages (from sacremoses==0.1.1) (8.2.0)\n",
            "Requirement already satisfied: joblib in /usr/local/lib/python3.11/dist-packages (from sacremoses==0.1.1) (1.5.0)\n",
            "Requirement already satisfied: tqdm in /usr/local/lib/python3.11/dist-packages (from sacremoses==0.1.1) (4.67.1)\n",
            "Downloading sacremoses-0.1.1-py3-none-any.whl (897 kB)\n",
            "\u001b[2K   \u001b[90m━━━━━━━━━━━━━━━━━━━━━━━━━━━━━━━━━━━━━━━━\u001b[0m \u001b[32m897.5/897.5 kB\u001b[0m \u001b[31m9.7 MB/s\u001b[0m eta \u001b[36m0:00:00\u001b[0m\n",
            "\u001b[?25hInstalling collected packages: sacremoses\n",
            "\u001b[33m  WARNING: The script sacremoses is installed in '/root/.local/bin' which is not on PATH.\n",
            "  Consider adding this directory to PATH or, if you prefer to suppress this warning, use --no-warn-script-location.\u001b[0m\u001b[33m\n",
            "\u001b[0mSuccessfully installed sacremoses-0.1.1\n",
            "Collecting transformers==4.43.4\n",
            "  Downloading transformers-4.43.4-py3-none-any.whl.metadata (43 kB)\n",
            "\u001b[2K     \u001b[90m━━━━━━━━━━━━━━━━━━━━━━━━━━━━━━━━━━━━━━━━\u001b[0m \u001b[32m43.7/43.7 kB\u001b[0m \u001b[31m1.9 MB/s\u001b[0m eta \u001b[36m0:00:00\u001b[0m\n",
            "\u001b[?25hRequirement already satisfied: filelock in /usr/local/lib/python3.11/dist-packages (from transformers==4.43.4) (3.18.0)\n",
            "Requirement already satisfied: huggingface-hub<1.0,>=0.23.2 in /usr/local/lib/python3.11/dist-packages (from transformers==4.43.4) (0.31.2)\n",
            "Requirement already satisfied: numpy>=1.17 in /usr/local/lib/python3.11/dist-packages (from transformers==4.43.4) (1.26.0)\n",
            "Requirement already satisfied: packaging>=20.0 in /usr/local/lib/python3.11/dist-packages (from transformers==4.43.4) (24.2)\n",
            "Requirement already satisfied: pyyaml>=5.1 in /usr/local/lib/python3.11/dist-packages (from transformers==4.43.4) (6.0.2)\n",
            "Requirement already satisfied: regex!=2019.12.17 in /usr/local/lib/python3.11/dist-packages (from transformers==4.43.4) (2024.11.6)\n",
            "Requirement already satisfied: requests in /usr/local/lib/python3.11/dist-packages (from transformers==4.43.4) (2.32.3)\n",
            "Requirement already satisfied: safetensors>=0.4.1 in /usr/local/lib/python3.11/dist-packages (from transformers==4.43.4) (0.5.3)\n",
            "Collecting tokenizers<0.20,>=0.19 (from transformers==4.43.4)\n",
            "  Downloading tokenizers-0.19.1-cp311-cp311-manylinux_2_17_x86_64.manylinux2014_x86_64.whl.metadata (6.7 kB)\n",
            "Requirement already satisfied: tqdm>=4.27 in /usr/local/lib/python3.11/dist-packages (from transformers==4.43.4) (4.67.1)\n",
            "Requirement already satisfied: fsspec>=2023.5.0 in /usr/local/lib/python3.11/dist-packages (from huggingface-hub<1.0,>=0.23.2->transformers==4.43.4) (2025.3.2)\n",
            "Requirement already satisfied: typing-extensions>=3.7.4.3 in /usr/local/lib/python3.11/dist-packages (from huggingface-hub<1.0,>=0.23.2->transformers==4.43.4) (4.13.2)\n",
            "Requirement already satisfied: charset-normalizer<4,>=2 in /usr/local/lib/python3.11/dist-packages (from requests->transformers==4.43.4) (3.4.2)\n",
            "Requirement already satisfied: idna<4,>=2.5 in /usr/local/lib/python3.11/dist-packages (from requests->transformers==4.43.4) (3.10)\n",
            "Requirement already satisfied: urllib3<3,>=1.21.1 in /usr/local/lib/python3.11/dist-packages (from requests->transformers==4.43.4) (2.4.0)\n",
            "Requirement already satisfied: certifi>=2017.4.17 in /usr/local/lib/python3.11/dist-packages (from requests->transformers==4.43.4) (2025.4.26)\n",
            "Downloading transformers-4.43.4-py3-none-any.whl (9.4 MB)\n",
            "\u001b[2K   \u001b[90m━━━━━━━━━━━━━━━━━━━━━━━━━━━━━━━━━━━━━━━━\u001b[0m \u001b[32m9.4/9.4 MB\u001b[0m \u001b[31m68.4 MB/s\u001b[0m eta \u001b[36m0:00:00\u001b[0m\n",
            "\u001b[?25hDownloading tokenizers-0.19.1-cp311-cp311-manylinux_2_17_x86_64.manylinux2014_x86_64.whl (3.6 MB)\n",
            "\u001b[2K   \u001b[90m━━━━━━━━━━━━━━━━━━━━━━━━━━━━━━━━━━━━━━━━\u001b[0m \u001b[32m3.6/3.6 MB\u001b[0m \u001b[31m99.0 MB/s\u001b[0m eta \u001b[36m0:00:00\u001b[0m\n",
            "\u001b[?25hInstalling collected packages: tokenizers, transformers\n",
            "\u001b[33m  WARNING: The script transformers-cli is installed in '/root/.local/bin' which is not on PATH.\n",
            "  Consider adding this directory to PATH or, if you prefer to suppress this warning, use --no-warn-script-location.\u001b[0m\u001b[33m\n",
            "\u001b[0mSuccessfully installed tokenizers-0.19.1 transformers-4.43.4\n",
            "Collecting matplotlib==3.8.4\n",
            "  Downloading matplotlib-3.8.4-cp311-cp311-manylinux_2_17_x86_64.manylinux2014_x86_64.whl.metadata (5.8 kB)\n",
            "Requirement already satisfied: contourpy>=1.0.1 in /usr/local/lib/python3.11/dist-packages (from matplotlib==3.8.4) (1.3.2)\n",
            "Requirement already satisfied: cycler>=0.10 in /usr/local/lib/python3.11/dist-packages (from matplotlib==3.8.4) (0.12.1)\n",
            "Requirement already satisfied: fonttools>=4.22.0 in /usr/local/lib/python3.11/dist-packages (from matplotlib==3.8.4) (4.58.0)\n",
            "Requirement already satisfied: kiwisolver>=1.3.1 in /usr/local/lib/python3.11/dist-packages (from matplotlib==3.8.4) (1.4.8)\n",
            "Requirement already satisfied: numpy>=1.21 in /usr/local/lib/python3.11/dist-packages (from matplotlib==3.8.4) (1.26.0)\n",
            "Requirement already satisfied: packaging>=20.0 in /usr/local/lib/python3.11/dist-packages (from matplotlib==3.8.4) (24.2)\n",
            "Requirement already satisfied: pillow>=8 in /usr/local/lib/python3.11/dist-packages (from matplotlib==3.8.4) (11.2.1)\n",
            "Requirement already satisfied: pyparsing>=2.3.1 in /usr/local/lib/python3.11/dist-packages (from matplotlib==3.8.4) (3.2.3)\n",
            "Requirement already satisfied: python-dateutil>=2.7 in /usr/local/lib/python3.11/dist-packages (from matplotlib==3.8.4) (2.9.0.post0)\n",
            "Requirement already satisfied: six>=1.5 in /usr/local/lib/python3.11/dist-packages (from python-dateutil>=2.7->matplotlib==3.8.4) (1.17.0)\n",
            "Downloading matplotlib-3.8.4-cp311-cp311-manylinux_2_17_x86_64.manylinux2014_x86_64.whl (11.6 MB)\n",
            "\u001b[2K   \u001b[90m━━━━━━━━━━━━━━━━━━━━━━━━━━━━━━━━━━━━━━━━\u001b[0m \u001b[32m11.6/11.6 MB\u001b[0m \u001b[31m76.4 MB/s\u001b[0m eta \u001b[36m0:00:00\u001b[0m\n",
            "\u001b[?25hInstalling collected packages: matplotlib\n",
            "Successfully installed matplotlib-3.8.4\n"
          ]
        },
        {
          "output_type": "display_data",
          "data": {
            "application/vnd.colab-display-data+json": {
              "pip_warning": {
                "packages": [
                  "matplotlib",
                  "mpl_toolkits"
                ]
              },
              "id": "8d76f08de3e14fc7a7fe0eec332adcf7"
            }
          },
          "metadata": {}
        },
        {
          "output_type": "stream",
          "name": "stdout",
          "text": [
            "Requirement already satisfied: sentencepiece==0.2.0 in /usr/local/lib/python3.11/dist-packages (0.2.0)\n",
            "Collecting scikit-learn==1.4.2\n",
            "  Downloading scikit_learn-1.4.2-cp311-cp311-manylinux_2_17_x86_64.manylinux2014_x86_64.whl.metadata (11 kB)\n",
            "Requirement already satisfied: numpy>=1.19.5 in /usr/local/lib/python3.11/dist-packages (from scikit-learn==1.4.2) (1.26.0)\n",
            "Requirement already satisfied: scipy>=1.6.0 in /usr/local/lib/python3.11/dist-packages (from scikit-learn==1.4.2) (1.15.3)\n",
            "Requirement already satisfied: joblib>=1.2.0 in /usr/local/lib/python3.11/dist-packages (from scikit-learn==1.4.2) (1.5.0)\n",
            "Requirement already satisfied: threadpoolctl>=2.0.0 in /usr/local/lib/python3.11/dist-packages (from scikit-learn==1.4.2) (3.6.0)\n",
            "Downloading scikit_learn-1.4.2-cp311-cp311-manylinux_2_17_x86_64.manylinux2014_x86_64.whl (12.1 MB)\n",
            "\u001b[2K   \u001b[90m━━━━━━━━━━━━━━━━━━━━━━━━━━━━━━━━━━━━━━━━\u001b[0m \u001b[32m12.1/12.1 MB\u001b[0m \u001b[31m102.7 MB/s\u001b[0m eta \u001b[36m0:00:00\u001b[0m\n",
            "\u001b[?25hInstalling collected packages: scikit-learn\n",
            "Successfully installed scikit-learn-1.4.2\n"
          ]
        }
      ]
    },
    {
      "cell_type": "markdown",
      "metadata": {
        "id": "9f21a3dc-77bb-4220-ab27-6efdf85899c3"
      },
      "source": [
        "### Importing required libraries\n"
      ]
    },
    {
      "cell_type": "code",
      "metadata": {
        "id": "38eef07c-bcbe-4bb8-a505-1fd272f19779"
      },
      "outputs": [],
      "source": [
        "from tqdm import tqdm\n",
        "import numpy as np\n",
        "import torch\n",
        "from sklearn.manifold import TSNE\n",
        "import matplotlib.pyplot as plt\n",
        "\n",
        "# You can also use this section to suppress warnings generated by your code:\n",
        "def warn(*args, **kwargs):\n",
        "    pass\n",
        "import warnings\n",
        "warnings.warn = warn\n",
        "warnings.filterwarnings('ignore')"
      ],
      "execution_count": 1
    },
    {
      "cell_type": "markdown",
      "metadata": {
        "id": "888c39f5-b638-4db8-ae53-682224545b25"
      },
      "source": [
        "### Defining helper functions\n",
        "\n",
        "The `tsne_plot` function applies t-SNE to reduce high-dimensional data to three dimensions and creates a 3D scatter plot of the results. It sets the `perplexity` to the number of data points minus one, plots each point in a unique color based on its index, and labels the axes for each t-SNE component. The visualization helps in exploring patterns in a 3D space.\n"
      ]
    },
    {
      "cell_type": "code",
      "metadata": {
        "id": "707b1805-d0d2-4bc1-ab4c-014950dbf7b8"
      },
      "outputs": [],
      "source": [
        "def tsne_plot(data, plot):\n",
        "    # Apply t-SNE to reduce to 3D\n",
        "    tsne = TSNE(n_components=3, random_state=42, perplexity=min(50, data.shape[0] - 1))  # Using 50 or less based on data size\n",
        "    data_3d = tsne.fit_transform(data)\n",
        "\n",
        "    # Plotting\n",
        "    fig = plt.figure(figsize=(10, 7))\n",
        "    ax = fig.add_subplot(111, projection='3d')\n",
        "\n",
        "    # Assign colors for each point based on its index\n",
        "    colors = plt.cm.rainbow(np.linspace(0, 1, len(data_3d)))\n",
        "    for idx, point in zip(range(len(data_3d)), data_3d):\n",
        "        ax.scatter(point[0], point[1], point[2], color=colors[idx], label=f'{plot} {idx+1}')\n",
        "\n",
        "    # Adding labels and titles\n",
        "    ax.set_xlabel('TSNE Component 1')\n",
        "    ax.set_ylabel('TSNE Component 2')\n",
        "    ax.set_zlabel('TSNE Component 3')\n",
        "    plt.title('3D t-SNE Visualization of '+ plot +' Embeddings')\n",
        "    plt.legend(title=plot +' Index', bbox_to_anchor=(1.05, 1), loc='upper left')\n",
        "    plt.show()"
      ],
      "execution_count": 2
    },
    {
      "cell_type": "markdown",
      "metadata": {
        "id": "c1b1e827-39d1-4082-941a-0b0d73198698"
      },
      "source": [
        "# Embeddings using BERT and PyTorch Hub\n",
        "\n",
        "Use PyTorch and the Transformers library by Hugging Face to tokenize text, convert it to embeddings using BERT, and handle these embeddings with a model.\n",
        "\n",
        "## Loading tokenizer and model\n",
        "Let's begin by loading a tokenizer and later a model, both specifically bert-base-uncased. This is done using torch.hub.load, which is a convenient way to load pre-trained models and tokenizers directly from Hugging Face's model hub.\n"
      ]
    },
    {
      "cell_type": "code",
      "metadata": {
        "colab": {
          "base_uri": "https://localhost:8080/",
          "height": 145,
          "referenced_widgets": [
            "aaad6454d3354b6b9dd4e4eeb0c33b70",
            "8e737108298d4971a50f3ec4d27613e7",
            "429bffad853f4cd091054ed8bb869f36",
            "f5efa6fc8b4348d3bae8c6337efacd88",
            "585d4357c99744e78ab137092802c438",
            "0a1f8c544fe94fd59bf59a72b0e8a329",
            "ba02f7d08e1f47f1bd6b9ba5799a7e5a",
            "6fcfe7943697452c8804747db22a9e70",
            "7883a79e246944adadc3967c24807aea",
            "89bd3236cbfb4bd2ac8d1d4d46b11fb0",
            "757b9a449837482fa5dda744f8bc453c",
            "4b062496d1264a7f9db25c2544734515",
            "4e5ca6eb3bb74adab4308eda7f61ec4d",
            "32356dd2a1ad437b8fc933367729301d",
            "4bbc16c08ceb44d48c7d41163bbaad0c",
            "0e47bcb806fd46de9f782ef35761eba3",
            "c75d37932d334c5ba43a5082a5194ad2",
            "04954f03ec7846c0a338c24183ed31a5",
            "6054967c7fc34861b6be31afa2e499a2",
            "6b9fa632d10b4971a24e9839b69d7cdb",
            "ad0e70c31db246dda66abf25095623da",
            "8ef20532efed4ad3b8822751079c9ec7",
            "d4577dadbf7c4c5fa5b44bdd8b516f73",
            "6ec1c4898f1a4a5cb30f2bf68dec0210",
            "02e4fe1cc15d4a3ba991716a32a5ff7d",
            "96b164b089d944ee8e08aa30557d63ad",
            "ef90ce516f6d4c258c6bf24d2fd569c0",
            "62709e7c926641f48e75fe109eac42a1",
            "89b10a09ac9948b987db1f4d75ba2d4c",
            "05c990c9451e43c2923ac35bdeb6961f",
            "6b861948108d409ea7533d154b12a908",
            "149052475c954178a380d3b12b0f3690",
            "e6335d70a2cd4f3fac3b429d7511b2f1",
            "0b62e9e3d1484676ae7d72819596f282",
            "b1941d2895e847b6909edd8abf8a5ffb",
            "95b8517c4341430a86e0bdf11a290aca",
            "ada5ca0a95e44e9bb395e6ac5e616849",
            "218b0cad95e54bf2858cadf5ee94eb21",
            "1c19c33b8b944d0a9dee3a62c5940904",
            "82feaf1ce03a4993bd62fac3e34fe8f3",
            "16185cd8747a498588e2f7214b7e9792",
            "41b5842708c34017b0e6079328d00da2",
            "b68bae4488ee486491ec3f88e01c53f7",
            "7579b49b57be4c0fb23a8d8b0bfed81f"
          ]
        },
        "id": "7d57b14d-8cd4-4743-9d00-b78e2d0c0ed3",
        "outputId": "2062e13b-e594-4db7-b616-a5163d60d048"
      },
      "outputs": [
        {
          "output_type": "display_data",
          "data": {
            "text/plain": [
              "tokenizer_config.json:   0%|          | 0.00/48.0 [00:00<?, ?B/s]"
            ],
            "application/vnd.jupyter.widget-view+json": {
              "version_major": 2,
              "version_minor": 0,
              "model_id": "aaad6454d3354b6b9dd4e4eeb0c33b70"
            }
          },
          "metadata": {}
        },
        {
          "output_type": "display_data",
          "data": {
            "text/plain": [
              "vocab.txt:   0%|          | 0.00/232k [00:00<?, ?B/s]"
            ],
            "application/vnd.jupyter.widget-view+json": {
              "version_major": 2,
              "version_minor": 0,
              "model_id": "4b062496d1264a7f9db25c2544734515"
            }
          },
          "metadata": {}
        },
        {
          "output_type": "display_data",
          "data": {
            "text/plain": [
              "tokenizer.json:   0%|          | 0.00/466k [00:00<?, ?B/s]"
            ],
            "application/vnd.jupyter.widget-view+json": {
              "version_major": 2,
              "version_minor": 0,
              "model_id": "d4577dadbf7c4c5fa5b44bdd8b516f73"
            }
          },
          "metadata": {}
        },
        {
          "output_type": "display_data",
          "data": {
            "text/plain": [
              "config.json:   0%|          | 0.00/570 [00:00<?, ?B/s]"
            ],
            "application/vnd.jupyter.widget-view+json": {
              "version_major": 2,
              "version_minor": 0,
              "model_id": "0b62e9e3d1484676ae7d72819596f282"
            }
          },
          "metadata": {}
        }
      ],
      "source": [
        "from transformers import BertTokenizer\n",
        "tokenizer = BertTokenizer.from_pretrained('bert-base-uncased')"
      ],
      "execution_count": 3
    },
    {
      "cell_type": "markdown",
      "metadata": {
        "id": "d013fba9-b143-4383-bb2f-a1bca3c4bda3"
      },
      "source": [
        "The input_text variable is set as a list of tuples.\n"
      ]
    },
    {
      "cell_type": "code",
      "metadata": {
        "id": "48728b67-93d5-4277-802c-383a3d695086"
      },
      "outputs": [],
      "source": [
        "# Input text to get embeddings for\n",
        "input_text = [(\"This is an example sentence for BERT embeddings.\", \"How do you like it \"),(\"There are other models\")]"
      ],
      "execution_count": 4
    },
    {
      "cell_type": "markdown",
      "metadata": {
        "id": "c57e2f9d-c7af-4876-b4ed-bb79dd8a8342"
      },
      "source": [
        "### Tokenization\n",
        "\n",
        "```batch_encode_plus``` method is used for tokenizing text. It automatically handles padding and truncation to ensure uniformity in input length, which is crucial for batch processing in models like BERT.\n"
      ]
    },
    {
      "cell_type": "code",
      "metadata": {
        "colab": {
          "base_uri": "https://localhost:8080/"
        },
        "id": "9f862ae0-48a4-47df-811a-904cd2da0969",
        "outputId": "a86faf1b-1b40-43bb-d675-7e9d98a0d048"
      },
      "outputs": [
        {
          "output_type": "execute_result",
          "data": {
            "text/plain": [
              "{'input_ids': [[101, 2023, 2003, 2019, 2742, 6251, 2005, 14324, 7861, 8270, 4667, 2015, 1012, 102, 2129, 2079, 2017, 2066, 2009, 102], [101, 2045, 2024, 2060, 4275, 102, 0, 0, 0, 0, 0, 0, 0, 0, 0, 0, 0, 0, 0, 0]], 'token_type_ids': [[0, 0, 0, 0, 0, 0, 0, 0, 0, 0, 0, 0, 0, 0, 1, 1, 1, 1, 1, 1], [0, 0, 0, 0, 0, 0, 0, 0, 0, 0, 0, 0, 0, 0, 0, 0, 0, 0, 0, 0]], 'attention_mask': [[1, 1, 1, 1, 1, 1, 1, 1, 1, 1, 1, 1, 1, 1, 1, 1, 1, 1, 1, 1], [1, 1, 1, 1, 1, 1, 0, 0, 0, 0, 0, 0, 0, 0, 0, 0, 0, 0, 0, 0]]}"
            ]
          },
          "metadata": {},
          "execution_count": 5
        }
      ],
      "source": [
        "input_ids = tokenizer.batch_encode_plus(input_text,add_special_tokens=True,padding=True,truncation=True)\n",
        "input_ids"
      ],
      "execution_count": 5
    },
    {
      "cell_type": "markdown",
      "metadata": {
        "id": "21364fb5-8533-4155-9c44-3458633eb939"
      },
      "source": [
        "### Text decoding and verification\n",
        "After tokenization, the script decodes the first tokenized input back to text to check the correctness and length of the tokenization process.\n"
      ]
    },
    {
      "cell_type": "code",
      "metadata": {
        "colab": {
          "base_uri": "https://localhost:8080/"
        },
        "id": "0f94242a-2e02-4797-aa1a-e80c4baeffb5",
        "outputId": "5b3d6922-5927-4184-a469-4f58d78d121e"
      },
      "outputs": [
        {
          "output_type": "stream",
          "name": "stdout",
          "text": [
            "[CLS] this is an example sentence for bert embeddings. [SEP] how do you like it [SEP]\n",
            "length 16\n"
          ]
        }
      ],
      "source": [
        "text=tokenizer.decode(input_ids['input_ids'][0])\n",
        "print(text)\n",
        "print(f\"length {len(text.split())}\")"
      ],
      "execution_count": 6
    },
    {
      "cell_type": "code",
      "metadata": {
        "colab": {
          "base_uri": "https://localhost:8080/"
        },
        "id": "acf65322-f1e6-4489-8d22-ff34a608f281",
        "outputId": "0ef295ce-e97d-4c0a-f9c2-dac8978e9e10"
      },
      "outputs": [
        {
          "output_type": "execute_result",
          "data": {
            "text/plain": [
              "[[1, 1, 1, 1, 1, 1, 1, 1, 1, 1, 1, 1, 1, 1, 1, 1, 1, 1, 1, 1],\n",
              " [1, 1, 1, 1, 1, 1, 0, 0, 0, 0, 0, 0, 0, 0, 0, 0, 0, 0, 0, 0]]"
            ]
          },
          "metadata": {},
          "execution_count": 7
        }
      ],
      "source": [
        "input_ids['attention_mask']"
      ],
      "execution_count": 7
    },
    {
      "cell_type": "markdown",
      "metadata": {
        "id": "05b64a28-eb9e-43a7-8a5b-34f0ea0fab71"
      },
      "source": [
        "\n",
        "When using the BERT tokenizer, the output includes key components that are essential for the model's processing:\n",
        "\n",
        "```input_ids```: A list of token IDs that represent each token in BERT's vocabulary.\n",
        "\n",
        "```token_type_ids```: Indicates which sentence each token belongs to, important for tasks involving sentence pairs.\n",
        "\n",
        "```attention_mask```: Identifies which tokens should be focused on, differentiating real content from padding.\n",
        "\n",
        "\n",
        "Special tokens:\n",
        "\n",
        "[CLS]: Placed at the start of every input for use in classification tasks.\n",
        "\n",
        "[SEP]: Separates sentences in dual-sentence tasks and marks the end of input sequences.\n"
      ]
    },
    {
      "cell_type": "markdown",
      "metadata": {
        "id": "dc440923-16c8-46c1-a98c-51be555b1a94"
      },
      "source": [
        "### Device and Convert Tensor\n",
        "Here, you are going to convert the token IDs and attention masks into PyTorch tensors and transfers them to a computing device (DEVICE) for input into BERT. This device should be defined elsewhere in the script (typically as \"cuda\" for GPU or \"cpu\").\n"
      ]
    },
    {
      "cell_type": "code",
      "metadata": {
        "colab": {
          "base_uri": "https://localhost:8080/"
        },
        "id": "3ec0cc75-78ac-4c49-bf0b-0dcfa68a47c3",
        "outputId": "e1727e3f-dda9-4ce2-9c8c-e405d083c8df"
      },
      "outputs": [
        {
          "output_type": "execute_result",
          "data": {
            "text/plain": [
              "device(type='cpu')"
            ]
          },
          "metadata": {},
          "execution_count": 8
        }
      ],
      "source": [
        "DEVICE = torch.device(\"cuda\" if torch.cuda.is_available() else \"cpu\")\n",
        "DEVICE"
      ],
      "execution_count": 8
    },
    {
      "cell_type": "code",
      "metadata": {
        "id": "1ba4b918-f0a5-45a7-9049-b52138c22d79"
      },
      "outputs": [],
      "source": [
        "input_ids_tensors = torch.tensor(input_ids['input_ids']).to(DEVICE)\n",
        "mask_tensors = torch.tensor(input_ids['attention_mask']).to(DEVICE)"
      ],
      "execution_count": 9
    },
    {
      "cell_type": "markdown",
      "metadata": {
        "id": "1573361b-53e8-41ab-ba9f-7b5c1c7cb184"
      },
      "source": [
        "### Loading the BERT model\n",
        "Now, load the BERT model and move it to the same device as the input tensors. The model then processes these inputs to generate embeddings.\n"
      ]
    },
    {
      "cell_type": "code",
      "metadata": {
        "colab": {
          "base_uri": "https://localhost:8080/",
          "height": 1000,
          "referenced_widgets": [
            "91cb87d3ef2946208a5f78178aba4416",
            "f858e4dc01104b188504679a8fd929c6",
            "1db455e9de37431fba5da15f80a6d8a6",
            "dd325d406bb54defb8c1d11b5b0184b7",
            "11d5ae6fa4e74a198e8601f7f7243eed",
            "9091a279b21f454d983bfe625b0b291c",
            "0d3d4f7ec738425c9f43093018fd2d26",
            "cb09c1bacfba4106b30ae4a6a8e24d27",
            "b9ac76287b6842b39d8e06819d4d3dce",
            "804e8ef19992491dbec9493ab8e197dd",
            "3fc21f4f47444f568ca92fa0cf940a52"
          ]
        },
        "id": "ad43b1db-c15f-4246-a34e-f7c3b21e91eb",
        "outputId": "b952feeb-9ffa-4f9a-f47f-1d6f1732c09f"
      },
      "outputs": [
        {
          "output_type": "stream",
          "name": "stderr",
          "text": [
            "Xet Storage is enabled for this repo, but the 'hf_xet' package is not installed. Falling back to regular HTTP download. For better performance, install the package with: `pip install huggingface_hub[hf_xet]` or `pip install hf_xet`\n",
            "WARNING:huggingface_hub.file_download:Xet Storage is enabled for this repo, but the 'hf_xet' package is not installed. Falling back to regular HTTP download. For better performance, install the package with: `pip install huggingface_hub[hf_xet]` or `pip install hf_xet`\n"
          ]
        },
        {
          "output_type": "display_data",
          "data": {
            "text/plain": [
              "model.safetensors:   0%|          | 0.00/440M [00:00<?, ?B/s]"
            ],
            "application/vnd.jupyter.widget-view+json": {
              "version_major": 2,
              "version_minor": 0,
              "model_id": "91cb87d3ef2946208a5f78178aba4416"
            }
          },
          "metadata": {}
        },
        {
          "output_type": "stream",
          "name": "stderr",
          "text": [
            "A parameter name that contains `beta` will be renamed internally to `bias`. Please use a different name to suppress this warning.\n",
            "A parameter name that contains `gamma` will be renamed internally to `weight`. Please use a different name to suppress this warning.\n",
            "A parameter name that contains `beta` will be renamed internally to `bias`. Please use a different name to suppress this warning.\n",
            "A parameter name that contains `gamma` will be renamed internally to `weight`. Please use a different name to suppress this warning.\n",
            "A parameter name that contains `beta` will be renamed internally to `bias`. Please use a different name to suppress this warning.\n",
            "A parameter name that contains `gamma` will be renamed internally to `weight`. Please use a different name to suppress this warning.\n",
            "A parameter name that contains `beta` will be renamed internally to `bias`. Please use a different name to suppress this warning.\n",
            "A parameter name that contains `gamma` will be renamed internally to `weight`. Please use a different name to suppress this warning.\n",
            "A parameter name that contains `beta` will be renamed internally to `bias`. Please use a different name to suppress this warning.\n",
            "A parameter name that contains `gamma` will be renamed internally to `weight`. Please use a different name to suppress this warning.\n",
            "A parameter name that contains `beta` will be renamed internally to `bias`. Please use a different name to suppress this warning.\n",
            "A parameter name that contains `gamma` will be renamed internally to `weight`. Please use a different name to suppress this warning.\n",
            "A parameter name that contains `beta` will be renamed internally to `bias`. Please use a different name to suppress this warning.\n",
            "A parameter name that contains `gamma` will be renamed internally to `weight`. Please use a different name to suppress this warning.\n",
            "A parameter name that contains `beta` will be renamed internally to `bias`. Please use a different name to suppress this warning.\n",
            "A parameter name that contains `gamma` will be renamed internally to `weight`. Please use a different name to suppress this warning.\n",
            "A parameter name that contains `beta` will be renamed internally to `bias`. Please use a different name to suppress this warning.\n",
            "A parameter name that contains `gamma` will be renamed internally to `weight`. Please use a different name to suppress this warning.\n",
            "A parameter name that contains `beta` will be renamed internally to `bias`. Please use a different name to suppress this warning.\n",
            "A parameter name that contains `gamma` will be renamed internally to `weight`. Please use a different name to suppress this warning.\n",
            "A parameter name that contains `beta` will be renamed internally to `bias`. Please use a different name to suppress this warning.\n",
            "A parameter name that contains `gamma` will be renamed internally to `weight`. Please use a different name to suppress this warning.\n",
            "A parameter name that contains `beta` will be renamed internally to `bias`. Please use a different name to suppress this warning.\n",
            "A parameter name that contains `gamma` will be renamed internally to `weight`. Please use a different name to suppress this warning.\n",
            "A parameter name that contains `beta` will be renamed internally to `bias`. Please use a different name to suppress this warning.\n",
            "A parameter name that contains `gamma` will be renamed internally to `weight`. Please use a different name to suppress this warning.\n",
            "A parameter name that contains `beta` will be renamed internally to `bias`. Please use a different name to suppress this warning.\n",
            "A parameter name that contains `gamma` will be renamed internally to `weight`. Please use a different name to suppress this warning.\n",
            "A parameter name that contains `beta` will be renamed internally to `bias`. Please use a different name to suppress this warning.\n",
            "A parameter name that contains `gamma` will be renamed internally to `weight`. Please use a different name to suppress this warning.\n",
            "A parameter name that contains `beta` will be renamed internally to `bias`. Please use a different name to suppress this warning.\n",
            "A parameter name that contains `gamma` will be renamed internally to `weight`. Please use a different name to suppress this warning.\n",
            "A parameter name that contains `beta` will be renamed internally to `bias`. Please use a different name to suppress this warning.\n",
            "A parameter name that contains `gamma` will be renamed internally to `weight`. Please use a different name to suppress this warning.\n",
            "A parameter name that contains `beta` will be renamed internally to `bias`. Please use a different name to suppress this warning.\n",
            "A parameter name that contains `gamma` will be renamed internally to `weight`. Please use a different name to suppress this warning.\n",
            "A parameter name that contains `beta` will be renamed internally to `bias`. Please use a different name to suppress this warning.\n",
            "A parameter name that contains `gamma` will be renamed internally to `weight`. Please use a different name to suppress this warning.\n",
            "A parameter name that contains `beta` will be renamed internally to `bias`. Please use a different name to suppress this warning.\n",
            "A parameter name that contains `gamma` will be renamed internally to `weight`. Please use a different name to suppress this warning.\n",
            "A parameter name that contains `beta` will be renamed internally to `bias`. Please use a different name to suppress this warning.\n",
            "A parameter name that contains `gamma` will be renamed internally to `weight`. Please use a different name to suppress this warning.\n",
            "A parameter name that contains `beta` will be renamed internally to `bias`. Please use a different name to suppress this warning.\n",
            "A parameter name that contains `gamma` will be renamed internally to `weight`. Please use a different name to suppress this warning.\n",
            "A parameter name that contains `beta` will be renamed internally to `bias`. Please use a different name to suppress this warning.\n",
            "A parameter name that contains `gamma` will be renamed internally to `weight`. Please use a different name to suppress this warning.\n",
            "A parameter name that contains `beta` will be renamed internally to `bias`. Please use a different name to suppress this warning.\n",
            "A parameter name that contains `gamma` will be renamed internally to `weight`. Please use a different name to suppress this warning.\n",
            "A parameter name that contains `beta` will be renamed internally to `bias`. Please use a different name to suppress this warning.\n",
            "A parameter name that contains `gamma` will be renamed internally to `weight`. Please use a different name to suppress this warning.\n",
            "A parameter name that contains `beta` will be renamed internally to `bias`. Please use a different name to suppress this warning.\n",
            "A parameter name that contains `gamma` will be renamed internally to `weight`. Please use a different name to suppress this warning.\n"
          ]
        }
      ],
      "source": [
        "from transformers import BertModel\n",
        "bert_model = BertModel.from_pretrained('bert-base-uncased')"
      ],
      "execution_count": 10
    },
    {
      "cell_type": "code",
      "metadata": {
        "colab": {
          "base_uri": "https://localhost:8080/"
        },
        "id": "b4de13d7-f66c-4e29-ab09-68452bf405f7",
        "outputId": "2cc7ce93-11da-4cb8-8001-4970f0254e6c"
      },
      "outputs": [
        {
          "output_type": "execute_result",
          "data": {
            "text/plain": [
              "BertModel(\n",
              "  (embeddings): BertEmbeddings(\n",
              "    (word_embeddings): Embedding(30522, 768, padding_idx=0)\n",
              "    (position_embeddings): Embedding(512, 768)\n",
              "    (token_type_embeddings): Embedding(2, 768)\n",
              "    (LayerNorm): LayerNorm((768,), eps=1e-12, elementwise_affine=True)\n",
              "    (dropout): Dropout(p=0.1, inplace=False)\n",
              "  )\n",
              "  (encoder): BertEncoder(\n",
              "    (layer): ModuleList(\n",
              "      (0-11): 12 x BertLayer(\n",
              "        (attention): BertAttention(\n",
              "          (self): BertSdpaSelfAttention(\n",
              "            (query): Linear(in_features=768, out_features=768, bias=True)\n",
              "            (key): Linear(in_features=768, out_features=768, bias=True)\n",
              "            (value): Linear(in_features=768, out_features=768, bias=True)\n",
              "            (dropout): Dropout(p=0.1, inplace=False)\n",
              "          )\n",
              "          (output): BertSelfOutput(\n",
              "            (dense): Linear(in_features=768, out_features=768, bias=True)\n",
              "            (LayerNorm): LayerNorm((768,), eps=1e-12, elementwise_affine=True)\n",
              "            (dropout): Dropout(p=0.1, inplace=False)\n",
              "          )\n",
              "        )\n",
              "        (intermediate): BertIntermediate(\n",
              "          (dense): Linear(in_features=768, out_features=3072, bias=True)\n",
              "          (intermediate_act_fn): GELUActivation()\n",
              "        )\n",
              "        (output): BertOutput(\n",
              "          (dense): Linear(in_features=3072, out_features=768, bias=True)\n",
              "          (LayerNorm): LayerNorm((768,), eps=1e-12, elementwise_affine=True)\n",
              "          (dropout): Dropout(p=0.1, inplace=False)\n",
              "        )\n",
              "      )\n",
              "    )\n",
              "  )\n",
              "  (pooler): BertPooler(\n",
              "    (dense): Linear(in_features=768, out_features=768, bias=True)\n",
              "    (activation): Tanh()\n",
              "  )\n",
              ")"
            ]
          },
          "metadata": {},
          "execution_count": 11
        }
      ],
      "source": [
        "bert_model.to(DEVICE)"
      ],
      "execution_count": 11
    },
    {
      "cell_type": "code",
      "metadata": {
        "id": "2242348a-4789-4637-87bc-25162b54d01e"
      },
      "outputs": [],
      "source": [
        "word_embding=bert_model(input_ids_tensors,mask_tensors)"
      ],
      "execution_count": 12
    },
    {
      "cell_type": "code",
      "source": [
        "word_embding[0].squeeze(0).shape"
      ],
      "metadata": {
        "colab": {
          "base_uri": "https://localhost:8080/"
        },
        "id": "fTK5H_sb6fub",
        "outputId": "0dda954c-d57e-42fe-e4a6-722e488cce56"
      },
      "execution_count": 16,
      "outputs": [
        {
          "output_type": "execute_result",
          "data": {
            "text/plain": [
              "torch.Size([2, 20, 768])"
            ]
          },
          "metadata": {},
          "execution_count": 16
        }
      ]
    },
    {
      "cell_type": "markdown",
      "metadata": {
        "id": "c9235535-4899-4ca0-bcf1-a805db6cbb97"
      },
      "source": [
        "### Generating aggregated mean embeddings using BERT for RAG\n",
        "Here, you'll compute aggregated mean embeddings for input sequences using the BERT model you just loaded. It processes each pair of token IDs and attention masks from the input data, extracts word embeddings for non-padded tokens, and calculates their mean. The result is a list of mean embeddings for each sequence, which is then concatenated into a single tensor. This process allows for the generation of simplified yet informative representations of the input sequences, useful for tasks like clustering, similarity search, or as input to downstream models. Each document must be under 512 tokens.\n"
      ]
    },
    {
      "cell_type": "code",
      "metadata": {
        "colab": {
          "base_uri": "https://localhost:8080/"
        },
        "id": "f1d8b92c-71a4-47ab-b296-8e09b6a81e9b",
        "outputId": "c9068a4e-437a-4459-daba-26e6dd1c9d67"
      },
      "outputs": [
        {
          "output_type": "stream",
          "name": "stderr",
          "text": [
            "1it [00:00,  6.24it/s]"
          ]
        },
        {
          "output_type": "stream",
          "name": "stdout",
          "text": [
            "token_ids_tensor shape: torch.Size([1, 20]) torch.Size([1, 20])\n",
            "Word embeddings shape: torch.Size([20, 768])\n",
            "Number of zero padding embeddings: 0\n",
            "valid_embeddings_mask: tensor([True, True, True, True, True, True, True, True, True, True, True, True,\n",
            "        True, True, True, True, True, True, True, True])\n",
            "Word embeddings after zero padding embeddings removed: torch.Size([20, 768])\n",
            "Mean embedding shape: torch.Size([768])\n",
            "token_ids_tensor shape: torch.Size([1, 20]) torch.Size([1, 20])\n"
          ]
        },
        {
          "output_type": "stream",
          "name": "stderr",
          "text": [
            "2it [00:00,  7.13it/s]"
          ]
        },
        {
          "output_type": "stream",
          "name": "stdout",
          "text": [
            "Word embeddings shape: torch.Size([20, 768])\n",
            "Number of zero padding embeddings: 14\n",
            "valid_embeddings_mask: tensor([ True,  True,  True,  True,  True,  True, False, False, False, False,\n",
            "        False, False, False, False, False, False, False, False, False, False])\n",
            "Word embeddings after zero padding embeddings removed: torch.Size([6, 768])\n",
            "Mean embedding shape: torch.Size([768])\n",
            "All mean embeddings shape: torch.Size([2, 768])\n"
          ]
        },
        {
          "output_type": "stream",
          "name": "stderr",
          "text": [
            "\n"
          ]
        }
      ],
      "source": [
        "# Initialize a list to store the mean embeddings for each input sequence\n",
        "aggregated_mean_embeddings = []\n",
        "\n",
        "# Loop over each pair of input_ids and attention_masks\n",
        "for token_ids, attention_mask in tqdm(zip(input_ids['input_ids'], input_ids['attention_mask'])):\n",
        "    # Convert list of token ids and attention mask to tensors\n",
        "    token_ids_tensor = torch.tensor([token_ids]).to(DEVICE)\n",
        "    attention_mask_tensor = torch.tensor([attention_mask]).to(DEVICE)\n",
        "    print(\"token_ids_tensor shape:\",token_ids_tensor.shape, attention_mask_tensor.shape)  # Print the shapes of the input tensors\n",
        "    with torch.no_grad():  # Disable gradient calculations for faster execution\n",
        "        # Retrieve the batch of word embeddings from the BERT model\n",
        "        embeddings = bert_model(token_ids_tensor, attention_mask=attention_mask_tensor)[0].squeeze(0)\n",
        "        print(\"Word embeddings shape:\", embeddings.shape)\n",
        "\n",
        "        # Count and print the number of zero-padding embeddings\n",
        "        num_zero_paddings = (attention_mask_tensor == 0).sum().item()\n",
        "        print(\"Number of zero padding embeddings:\", num_zero_paddings)\n",
        "\n",
        "        # Create a mask for positions that are not zero-padded\n",
        "        valid_embeddings_mask = attention_mask_tensor[0] != 0\n",
        "        print(\"valid_embeddings_mask:\",valid_embeddings_mask)\n",
        "\n",
        "        # Filter out the embeddings corresponding to zero-padded positions\n",
        "        filtered_embeddings = embeddings[valid_embeddings_mask, :]\n",
        "        print(\"Word embeddings after zero padding embeddings removed:\", filtered_embeddings.shape)\n",
        "\n",
        "        # Compute the mean of the filtered embeddings\n",
        "        mean_embedding = filtered_embeddings.mean(axis=0)\n",
        "        print(\"Mean embedding shape:\", mean_embedding.shape)\n",
        "\n",
        "        # Append the mean embedding to the list, adding a batch dimension\n",
        "        aggregated_mean_embeddings.append(mean_embedding.unsqueeze(0))\n",
        "\n",
        "# Concatenate all mean embeddings to form a single tensor\n",
        "aggregated_mean_embeddings = torch.cat(aggregated_mean_embeddings)\n",
        "print('All mean embeddings shape:', aggregated_mean_embeddings.shape)"
      ],
      "execution_count": 17
    },
    {
      "cell_type": "markdown",
      "metadata": {
        "id": "14929bf4-4c94-4e82-a058-3d053241c036"
      },
      "source": [
        "The above code is converted to the function ```aggregate_embeddings``` that takes token indices and their corresponding attention masks, and uses a BERT model to convert these tokens into word embeddings. It then filters out the embeddings for zero-padded tokens and computes the mean embedding for each sequence. This helps in reducing the dimensionality of the data while retaining the most important information from the embeddings.\n"
      ]
    },
    {
      "cell_type": "code",
      "metadata": {
        "id": "9089762b-2762-4399-8df0-586971801c91"
      },
      "outputs": [],
      "source": [
        "def aggregate_embeddings(input_ids, attention_masks, bert_model=bert_model):\n",
        "    \"\"\"\n",
        "    Converts token indices and masks to word embeddings, filters out zero-padded embeddings,\n",
        "    and aggregates them by computing the mean embedding for each input sequence.\n",
        "\n",
        "    \"\"\"\n",
        "    mean_embeddings = []\n",
        "    # Process each sequence in the batch\n",
        "    print('number of inputs',len(input_ids))\n",
        "    for input_id, mask in tqdm(zip(input_ids, attention_masks)):\n",
        "        input_ids_tensor = torch.tensor([input_id]).to(DEVICE)\n",
        "        mask_tensor = torch.tensor([mask]).to(DEVICE)\n",
        "\n",
        "        with torch.no_grad():\n",
        "            # Obtain the word embeddings from the BERT model\n",
        "            word_embeddings = bert_model(input_ids_tensor, attention_mask=mask_tensor)[0].squeeze(0)\n",
        "\n",
        "            # Filter out the embeddings at positions where the mask is zero\n",
        "            valid_embeddings_mask=mask_tensor[0] != 0\n",
        "            valid_embeddings = word_embeddings[valid_embeddings_mask,:]\n",
        "            # Compute the mean of the filtered embeddings\n",
        "            mean_embedding = valid_embeddings.mean(dim=0)\n",
        "            mean_embeddings.append(mean_embedding.unsqueeze(0))\n",
        "\n",
        "    # Concatenate the mean embeddings from all sequences in the batch\n",
        "    aggregated_mean_embeddings = torch.cat(mean_embeddings)\n",
        "    return aggregated_mean_embeddings"
      ],
      "execution_count": 18
    },
    {
      "cell_type": "markdown",
      "metadata": {
        "id": "3e3f5e6e-1deb-4587-8f25-c67af48a4b3d"
      },
      "source": [
        "Let's further simplify the process with the function ```text_to_emb``` which is designed to convert a list of text strings into their corresponding embeddings using a pre-defined tokenizer and calling ```aggregate_embeddings```.\n"
      ]
    },
    {
      "cell_type": "code",
      "metadata": {
        "id": "6490e9a1-6253-4733-859f-8e65caca0829"
      },
      "outputs": [],
      "source": [
        "def text_to_emb(list_of_text,max_input=512):\n",
        "    data_token_index  = tokenizer.batch_encode_plus(list_of_text, add_special_tokens=True,padding=True,truncation=True,max_length=max_input)\n",
        "    question_embeddings=aggregate_embeddings(data_token_index['input_ids'], data_token_index['attention_mask'])\n",
        "    return question_embeddings"
      ],
      "execution_count": 19
    },
    {
      "cell_type": "markdown",
      "metadata": {
        "id": "4a372920-cba7-44fd-ae0e-146d38a98443"
      },
      "source": [
        "# Convert questions and the song lyrics into embeddings\n",
        "\n",
        "Let's first convert both the predefined appropriateness questions and the song lyrics into \"RAG embeddings\". Then, you measure the similarity between these embeddings to determine appropriateness:\n"
      ]
    },
    {
      "cell_type": "code",
      "metadata": {
        "id": "93482a35-c527-4ee9-a28e-80e8b1daa052"
      },
      "outputs": [],
      "source": [
        "import re\n",
        "def process_song(song):\n",
        "    # Remove line breaks from the song\n",
        "    song_new = re.sub(r'[\\n]', ' ', song)\n",
        "\n",
        "    # Remove single quotes from the song\n",
        "    song_new = [song_new.replace(\"\\'\", \"\")]\n",
        "\n",
        "    return song_new"
      ],
      "execution_count": 20
    },
    {
      "cell_type": "markdown",
      "metadata": {
        "id": "4e5a597a-c92e-4246-93df-89637796d5f7"
      },
      "source": [
        "Here you can find more such sample questions.\n"
      ]
    },
    {
      "cell_type": "code",
      "metadata": {
        "id": "cde04cd7-e636-46b4-b68a-06880b3e447b"
      },
      "outputs": [],
      "source": [
        "song_questions = [\n",
        "    \"Does this song contain any violent themes, such as references to guns, killing, or physical aggression? Example: Does the song describe or promote physical violence, like fighting or shootings?\",\n",
        "    \"Are there any explicit lyrics or bad words used in this song that might be considered offensive or inappropriate? Example: Does the song use language commonly recognized as profanity or derogatory terms?\",\n",
        "    \"Is the overall content of this song suitable for children, considering its themes, language, and messages? Example: Are there elements in the song that could be deemed too mature or unsuitable for young listeners?\",\n",
        "    \"Does this song explicitly mention weapons, such as guns, knives, or other similar items? Example: Are specific types of weapons described or glorified in the lyrics?\",\n",
        "    \"Are the messages conveyed in this song positive and uplifting for children? Example: Does the song promote values like kindness, friendship, and positivity?\",\n",
        "    \"Does this song include any sexual content, references to sexual behavior, or suggestive language? Example: Are there lyrics that explicitly or implicitly discuss sexual themes or experiences?\",\n",
        "    \"Does this song offer any educational value, such as teaching the alphabet, basic math, or other learning content? Example: Are there educational segments in the song that could help children learn fundamental skills like the ABCs or counting?\",\n",
        "    \"Does this song promote emotional resilience and social skills among children? Example: Does the song include themes of overcoming challenges or building friendships?\"\n",
        "]"
      ],
      "execution_count": 21
    },
    {
      "cell_type": "markdown",
      "metadata": {
        "id": "4d092a93-9c5f-4e74-98dc-e036d565b2b2"
      },
      "source": [
        "Let's convert the questions to embeddings.\n"
      ]
    },
    {
      "cell_type": "code",
      "metadata": {
        "colab": {
          "base_uri": "https://localhost:8080/"
        },
        "id": "a73805cb-2553-4693-812d-ab727c8a2e88",
        "outputId": "117aa169-b89b-4062-de8a-27596b48d83e"
      },
      "outputs": [
        {
          "output_type": "stream",
          "name": "stdout",
          "text": [
            "number of inputs 8\n"
          ]
        },
        {
          "output_type": "stream",
          "name": "stderr",
          "text": [
            "8it [00:01,  5.14it/s]\n"
          ]
        }
      ],
      "source": [
        "embeddings_questions=street=text_to_emb(song_questions)"
      ],
      "execution_count": 22
    },
    {
      "cell_type": "markdown",
      "metadata": {
        "id": "984511ee-25ea-4a3d-909f-896ae35ec448"
      },
      "source": [
        "Let's visualize the question embeddings through a t-SNE plot.\n"
      ]
    },
    {
      "cell_type": "code",
      "metadata": {
        "colab": {
          "base_uri": "https://localhost:8080/",
          "height": 598
        },
        "id": "acbbd34b-48c6-4aec-84f3-46a603c9129c",
        "outputId": "2c68a790-4467-4c4c-d2c3-5400f016c043"
      },
      "outputs": [
        {
          "output_type": "display_data",
          "data": {
            "text/plain": [
              "<Figure size 1000x700 with 1 Axes>"
            ],
            "image/png": "[encoded data removed]"
          },
          "metadata": {}
        }
      ],
      "source": [
        "tsne_plot(embeddings_questions, \"Question\")"
      ],
      "execution_count": 23
    },
    {
      "cell_type": "markdown",
      "metadata": {
        "id": "a5516f74-fe25-412c-891d-3d95f49e99dd"
      },
      "source": [
        "Let's also develop a set of responses when a song has similar attributes.\n"
      ]
    },
    {
      "cell_type": "code",
      "metadata": {
        "id": "cabbc53b-a629-4b98-b3e4-fa309a571d50"
      },
      "outputs": [],
      "source": [
        "yes_responses = [\n",
        "    \"Yes, this song contains violent themes, including references to guns, killing, or physical aggression, and is not suitable for children.\",\n",
        "    \"Yes, this song includes explicit lyrics or bad words that might be considered offensive or inappropriate for young audiences.\",\n",
        "    \"No, the overall content of this song is not suitable for children as it includes themes, language, and messages that are too mature or unsuitable for young listeners.\",\n",
        "    \"Yes, this song explicitly mentions weapons, such as guns and knives, which could be disturbing or inappropriate for children’s entertainment.\",\n",
        "    \"Yes, the messages conveyed in this song are positive and uplifting, promoting values like kindness, friendship, and positivity, beneficial for children.\",\n",
        "    \"Yes, this song includes sexual content and references to sexual behavior or suggestive language, which are inappropriate for a child-friendly environment.\",\n",
        "    \"Yes, this song offers significant educational value, including segments that teach the alphabet, basic math, and other learning content, making it both fun and educational for children.\",\n",
        "    \"Yes, this song promotes emotional resilience and social skills, incorporating themes about overcoming challenges and building friendships, which are essential for children's development.\"\n",
        "]"
      ],
      "execution_count": 24
    },
    {
      "cell_type": "markdown",
      "metadata": {
        "id": "2665b2f3-c8ae-49da-bf1e-cc121769d057"
      },
      "source": [
        "Convert the responses to their embeddings.\n"
      ]
    },
    {
      "cell_type": "code",
      "metadata": {
        "colab": {
          "base_uri": "https://localhost:8080/"
        },
        "id": "cbfe4a1f-4e0b-42c0-bc43-6e8094a6b434",
        "outputId": "f46d0926-4ae8-4654-f5e0-0ec4dfc0175f"
      },
      "outputs": [
        {
          "output_type": "stream",
          "name": "stdout",
          "text": [
            "number of inputs 8\n"
          ]
        },
        {
          "output_type": "stream",
          "name": "stderr",
          "text": [
            "8it [00:01,  6.24it/s]\n"
          ]
        }
      ],
      "source": [
        "embeddings_responses = text_to_emb(yes_responses)"
      ],
      "execution_count": 25
    },
    {
      "cell_type": "markdown",
      "metadata": {
        "id": "cf259e70-ad79-4d7d-86a8-266e3eaa0444"
      },
      "source": [
        "Visualize the responses embeddings through a t-SNE plot.\n"
      ]
    },
    {
      "cell_type": "code",
      "metadata": {
        "colab": {
          "base_uri": "https://localhost:8080/",
          "height": 599
        },
        "id": "6c984a38-2398-4316-9497-b1027a343ad8",
        "outputId": "d70e17e2-8a83-4a2c-82f3-3459d1cd5f74"
      },
      "outputs": [
        {
          "output_type": "display_data",
          "data": {
            "text/plain": [
              "<Figure size 1000x700 with 1 Axes>"
            ],
            "image/png": "[encoded data removed]"
          },
          "metadata": {}
        }
      ],
      "source": [
        "tsne_plot(embeddings_responses, \"Response\")"
      ],
      "execution_count": 26
    },
    {
      "cell_type": "markdown",
      "metadata": {
        "id": "cf1802bd-8e7d-4662-8d80-8bc8e98f4a3a"
      },
      "source": [
        "Consider the song [Bullet in the Head](https://en.wikipedia.org/wiki/Bullet_in_the_Head_(song)) by the activist group 'Rage Against the Machine'. The band portrays the government's use of media as a tool for population control, drawing stark comparisons between ordinary residents and Alcatraz. This song is clearly geared towards adults and is not appropriate for children due to the explicit language and violent rhetoric, which could be confusing and unsuitable for younger audiences.\n",
        "\n",
        "<span style=\"color:red\">Note: To browse the lyrics you can go to [Bullet in the Head](https://www.google.com/search?q=bullet+in+your+head+lyrics&rlz=1C5GCCM_en&oq=bulet+in+you+head+l&gs_lcrp=EgZjaHJvbWUqCQgBEAAYDRiABDIGCAAQRRg5MgkIARAAGA0YgAQyCQgCEC4YDRiABDIJCAMQABgNGIAEMggIBBAAGBYYHjIICAUQABgWGB4yCAgGEAAYFhgeMggIBxAAGBYYHjIICAgQABgWGB4yCAgJEAAYFhge0gEINjM1NGowajeoAgCwAgA&sourceid=chrome&ie=UTF-8) and then paste the content of the song in below cell and process it as other songs. Also, note that the song lyrics is extremely abusive</span>\n",
        "\n"
      ]
    },
    {
      "cell_type": "code",
      "metadata": {
        "id": "6c53cd86-5a11-4b6b-8ec8-2f073613e8e5"
      },
      "outputs": [],
      "source": [
        "song_rage = \"\"\"\n",
        "This time the bullet cold rocked ya\n",
        "A yellow ribbon instead of a swastika\n",
        "Nothin' proper about ya propaganda\n",
        "Fools follow rules when the set commands ya\n",
        "Said it was blue, when ya blood was red\n",
        "That's how ya got a bullet blasted through ya head\n",
        "\n",
        "Blasted through ya head, blasted through ya head\n",
        "\n",
        "I give a shout out to the living dead\n",
        "Who stood and watched as the feds cold centralized\n",
        "So serene on the screen, you was mesmerized\n",
        "Cellular phones, soundin' a death tone\n",
        "Corporations cold turn ya to stone before ya realize\n",
        "They load the clip in, omnicolor\n",
        "Said they pack the nine, they fire it at prime time\n",
        "The sleeping gas, every home was like Alcatraz\n",
        "And motherfuckers lost their minds\n",
        "\n",
        "Just victims of the in-house drive-by\n",
        "They say jump, you say \"how high?\" Yeah\n",
        "Just victims of the in-house drive-by\n",
        "They say jump, you say \"how high?\"\n",
        "Run it\n",
        "\n",
        "Just victims of the in-house drive-by\n",
        "They say jump, you say \"how high?\" Yeah\n",
        "Just victims of the in-house drive-by\n",
        "They say jump, you say \"how high?\"\n",
        "\n",
        "Checka, checka, check it out\n",
        "They load the clip in, omnicolor\n",
        "Said they pack the nine, they fire it at prime time\n",
        "The sleeping gas, every home was like Alcatraz\n",
        "And motherfuckers lost their minds\n",
        "No escape from the mass mind rape\n",
        "Play it again, Jack, and then rewind the tape\n",
        "And then play it again, and again, and again\n",
        "Until ya mind is locked in\n",
        "Believin' all the lies that they're tellin' ya\n",
        "Buyin' all the products that they're sellin' ya\n",
        "They say jump and ya say \"how high?\"\n",
        "Ya brain dead, ya got a fuckin' bullet in ya head\n",
        "\n",
        "Just victims of the in-house drive-by\n",
        "They say jump, you say \"how high?\" Yeah\n",
        "Just victims of the in-house drive-by\n",
        "They say jump, you say \"how high?\"\n",
        "\n",
        "Ugh\n",
        "Yeah\n",
        "Yeah\n",
        "Fuck\n",
        "\n",
        "Ya standin' in line\n",
        "Believin' the lies\n",
        "Ya bowin' down to the flag\n",
        "Ya got a bullet in ya head\n",
        "Ya standin' in line\n",
        "Believin' the lies\n",
        "Ya bowin' down to the flag\n",
        "Ya got a bullet in ya head\n",
        "\n",
        "A bullet in ya head\n",
        "A bullet in ya head\n",
        "A bullet in ya head\n",
        "A bullet in ya head\n",
        "A bullet in ya head\n",
        "A bullet in ya head\n",
        "A bullet in ya head\n",
        "A bullet in ya head\n",
        "A bullet in the head\n",
        "A bullet in ya head\n",
        "A bullet in ya head\n",
        "A bullet in ya head\n",
        "A bullet in ya head\n",
        "A bullet in ya head\n",
        "A bullet in ya head\n",
        "A bullet in ya head\n",
        "Ya got a bullet in ya fuckin' head\n",
        "Yeah! Yeah!\n",
        "\"\"\""
      ],
      "execution_count": 27
    },
    {
      "cell_type": "markdown",
      "metadata": {
        "id": "bfa87327-ab7b-4937-949e-1b7710c124d8"
      },
      "source": [
        "After some minor preprocessing of the text, you can generate the RAG embeddings.\n"
      ]
    },
    {
      "cell_type": "code",
      "metadata": {
        "colab": {
          "base_uri": "https://localhost:8080/"
        },
        "id": "f67c4cbf-c02e-427d-b4c2-ad553532bfec",
        "outputId": "e02df637-4981-4d45-cde5-261363c6f86c"
      },
      "outputs": [
        {
          "output_type": "stream",
          "name": "stdout",
          "text": [
            "number of inputs 1\n"
          ]
        },
        {
          "output_type": "stream",
          "name": "stderr",
          "text": [
            "1it [00:01,  1.64s/it]\n"
          ]
        },
        {
          "output_type": "execute_result",
          "data": {
            "text/plain": [
              "torch.Size([1, 768])"
            ]
          },
          "metadata": {},
          "execution_count": 28
        }
      ],
      "source": [
        "song_rage=process_song(song_rage)\n",
        "embeddings_rage=text_to_emb(song_rage)\n",
        "embeddings_rage.shape"
      ],
      "execution_count": 28
    },
    {
      "cell_type": "markdown",
      "metadata": {
        "id": "4b78d677-a824-4b98-aeab-5e1ac45eeaf9"
      },
      "source": [
        "Now consider the song [Can You Tell Me How to Get to Sesame Street?](https://en.wikipedia.org/wiki/Can_You_Tell_Me_How_to_Get_to_Sesame_Street%3F) — the introductory theme song of a popular children's show. Similar to previous methods, the text is processed to generate RAG embeddings.\n"
      ]
    },
    {
      "cell_type": "code",
      "metadata": {
        "id": "d72e4aad-59b0-48e8-b3ca-f2d52cc43ab2"
      },
      "outputs": [],
      "source": [
        "sesame_street = \"\"\"\n",
        "Sunny day\n",
        "Sweepin' the clouds away\n",
        "On my way to where the air is sweet\n",
        "Can you tell me how to get\n",
        "How to get to Sesame Street?\n",
        "\n",
        "Come and play\n",
        "Everything's A-okay\n",
        "Friendly neighbors there\n",
        "That's where we meet\n",
        "Can you tell me how to get\n",
        "How to get to Sesame Street?\n",
        "\n",
        "It's a magic carpet ride\n",
        "Every door will open wide\n",
        "To happy people like you\n",
        "Happy people like\n",
        "What a beautiful\n",
        "\n",
        "Sunny day\n",
        "Sweepin' the clouds away\n",
        "On my way to where the air is sweet\n",
        "Can you tell me how to get\n",
        "How to get to Sesame Street?\n",
        "How to get to Sesame Street?\n",
        "How to get to Sesame Street?\n",
        "How to get to Sesame Street?\n",
        "How to get to Sesame Street?\n",
        "\"\"\""
      ],
      "execution_count": 29
    },
    {
      "cell_type": "code",
      "metadata": {
        "colab": {
          "base_uri": "https://localhost:8080/"
        },
        "id": "d58314b0-a41c-464f-bd35-86b607028e10",
        "outputId": "bcc2148e-1480-40eb-9708-11bd7e20d5f7"
      },
      "outputs": [
        {
          "output_type": "stream",
          "name": "stdout",
          "text": [
            "number of inputs 1\n"
          ]
        },
        {
          "output_type": "stream",
          "name": "stderr",
          "text": [
            "1it [00:00,  2.26it/s]\n"
          ]
        }
      ],
      "source": [
        "song_sesame_street= process_song(sesame_street)\n",
        "embeddings_sesame_street=text_to_emb(song_sesame_street)"
      ],
      "execution_count": 30
    },
    {
      "cell_type": "markdown",
      "metadata": {
        "id": "e4451b87-8b55-44b5-9504-10369fd998cd"
      },
      "source": [
        "Finally, you have the song [Straight Outta Compton](https://en.wikipedia.org/wiki/Straight_Outta_Compton) — a track known for its intense themes, which nearly led to it being banned in the U.S. As with the previous examples, process the lyrics to calculate the word embeddings for a detailed analysis of its content.\n"
      ]
    },
    {
      "cell_type": "markdown",
      "metadata": {
        "id": "f423c5da-a2ee-4cd8-9c23-cb63a29f2711"
      },
      "source": [
        "<span style=\"color:red\">Note: To browse the lyrics you can go to [Straight Outta Compton Lyrics](https://www.google.com/search?q=straight+outta+compton+song+lyrics&sca_esv=4f737f0b4de0cae7&sca_upv=1&rlz=1C5GCEM_enUS1092CA1092&sxsrf=ADLYWIIPASIwexxpdt-VqsvSF759A-iolw%3A1724787162733&ei=2inOZsW0LNSp5NoPq_XR6Qw&ved=0ahUKEwjFiZfx9JWIAxXUFFkFHat6NM0Q4dUDCA8&uact=5&oq=straight+outta+compton+song+lyrics&gs_lp=Egxnd3Mtd2l6LXNlcnAiInN0cmFpZ2h0IG91dHRhIGNvbXB0b24gc29uZyBseXJpY3MyCxAAGIAEGJECGIoFMgYQABgWGB4yBhAAGBYYHjIGEAAYFhgeMgsQABiABBiGAxiKBTILEAAYgAQYhgMYigUyCxAAGIAEGIYDGIoFMggQABiABBiiBDIIEAAYgAQYogQyCBAAGKIEGIkFSOQjUPEEWKghcAF4AZABAJgBqQGgAeAKqgEDNi42uAEDyAEA-AEBmAINoAKEC8ICChAAGLADGNYEGEfCAg0QABiABBiwAxhDGIoFwgIOEAAYsAMY5AIY1gTYAQHCAhMQLhiABBiwAxhDGMgDGIoF2AECwgIFEAAYgATCAg0QLhiABBixAxhDGIoFwgIKEAAYgAQYQxiKBcICChAuGIAEGEMYigXCAgUQLhiABMICHRAuGIAEGJcFGNwEGN4EGOAEGPQDGPEDGPUD2AEDwgIIEAAYFhgKGB6YAwCIBgGQBhK6BgYIARABGAm6BgYIAhABGAi6BgYIAxABGBSSBwM1LjigB7GKAQ&sclient=gws-wiz-serp) and then paste the content of the song in below cell and process it as other songs. Also, note that the song lyrics is extremely abusive</span>\n"
      ]
    },
    {
      "cell_type": "code",
      "metadata": {
        "id": "0a24ce73-c469-4b86-872d-29ea212a8b6b"
      },
      "outputs": [],
      "source": [
        "straight_outta_compton_lyrics = \"\"\"\n",
        "You are now about to witness the strength of street knowledge\n",
        "\n",
        "[Verse 1 - Ice Cube:]\n",
        "Straight outta Compton, crazy motherfucker named Ice Cube\n",
        "From the gang called Niggas With Attitudes\n",
        "When I'm called off, I got a sawed off\n",
        "Squeeze the trigger, and bodies are hauled off\n",
        "You too, boy, if ya fuck with me\n",
        "The police are gonna hafta come and get me\n",
        "Off yo ass, that's how I'm goin out\n",
        "For the punk motherfuckers that's showin out\n",
        "Niggaz start to mumble, they wanna rumble\n",
        "Mix em and cook em in a pot like gumbo\n",
        "Goin off on a motherfucker like that\n",
        "With a gat that's pointed at yo ass\n",
        "So give it up smooth\n",
        "Ain't no tellin when I'm down for a jack move\n",
        "Here's a murder rap to keep yo dancin\n",
        "With a crime record like Charles Manson\n",
        "AK-47 is the tool\n",
        "Don't make me act the motherfuckin fool\n",
        "Me you can go toe to toe, no maybe\n",
        "I'm knockin niggaz out tha box, daily\n",
        "Yo weekly, monthly and yearly\n",
        "Until them dumb motherfuckers see clearly\n",
        "That I'm down with the capital C-P-T\n",
        "Boy you can't fuck with me\n",
        "So when I'm in your neighborhood, you better duck\n",
        "Cause Ice Cube is crazy as fuck\n",
        "As I leave, believe I'm stompin\n",
        "But when I come back, boy, I'm comin straight outta Compton\n",
        "\n",
        "[Chorus:]\n",
        "(City of Compton, City of Compton)\n",
        "[Eazy E:] Yo Ren\n",
        "[MC Ren:] Whassup?\n",
        "[Eazy E:] Tell em where you from!\n",
        "\n",
        "[Verse 2 - MC Ren:]\n",
        "Straight outta Compton, another crazy ass nigga\n",
        "More punks I smoke, yo, my rep gets bigger\n",
        "I'm a bad motherfucker and you know this\n",
        "But the pussy ass niggaz don't show this\n",
        "But I don't give a fuck, I'm a make my snaps\n",
        "If not from the records, from jackin the crops\n",
        "Just like burglary, the definition is 'jackin'\n",
        "And when illegally armed it's called 'packin'\n",
        "Shoot a motherfucker in a minute\n",
        "I find a good piece o' pussy, I go up in it\n",
        "So if you're at a show in the front row\n",
        "I'm a call you a bitch or dirty-ass ho\n",
        "You'll probably get mad like a bitch is supposed to\n",
        "But that shows me, slut, you're composed to\n",
        "A crazy muthafucker from tha street\n",
        "Attitude legit cause I'm tearin up shit\n",
        "MC Ren controls the automatic\n",
        "For any dumb muthafucker that starts static\n",
        "Not the right hand cause I'm the hand itself\n",
        "Every time I pull a AK off the shelf\n",
        "The security is maximum and that's a law\n",
        "R-E-N spells Ren but I'm raw\n",
        "See, cause I'm the motherfuckin villain\n",
        "The definition is clear, you're the witness of a killin\n",
        "That's takin place without a clue\n",
        "And once you're on the scope, your ass is through\n",
        "Look, you might take it as a trip\n",
        "But a nigga like Ren is on a gangsta tip\n",
        "Straight outta Compton...\n",
        "\n",
        "[Chorus]\n",
        "\n",
        "(City of Compton, City of Compton)\n",
        "[Dr. Dre:] Eazy is his name and the boy is comin...\n",
        "\n",
        "[Verse 3 - Eazy-E:]\n",
        "... straight outta Compton\n",
        "Is a brotha that'll smother yo' mother\n",
        "And make ya sister think I love her\n",
        "Dangerous motherfucker raises hell\n",
        "And if I ever get caught I make bail\n",
        "See, I don't give a fuck, that's the problem\n",
        "I see a motherfuckin cop I don't dodge him\n",
        "But I'm smart, lay low, creep a while\n",
        "And when I see a punk pass, I smile\n",
        "To me it's kinda funny, the attitude showin a nigga drivin\n",
        "But don't know where the fuck he's going, just rollin\n",
        "Lookin for the one they call Eazy\n",
        "But here's a flash, they never seize me\n",
        "Ruthless! Never seen like a shadow in the dark\n",
        "Except when I unload, see I'll get over the hesitation\n",
        "And hear the scream of the one who got the last penetration\n",
        "Give a little gust of wind and I'm jettin\n",
        "But leave a memory no one'll be forgettin\n",
        "So what about the bitch who got shot? Fuck her!\n",
        "You think I give a damn about a bitch? I ain't a sucker!\n",
        "This is the autobiography of the E, and if you ever fuck with me\n",
        "You'll get taken by a stupid dope brotha who will smother\n",
        "Word to the motherfucker, straight outta Compton\n",
        "\n",
        "[Chorus]\n",
        "\n",
        "(City of Compton, City of Compton)\n",
        "(Damn that shit was dope!)\n",
        "\"\"\""
      ],
      "execution_count": 31
    },
    {
      "cell_type": "code",
      "metadata": {
        "colab": {
          "base_uri": "https://localhost:8080/"
        },
        "id": "45e19245-dcfd-4a62-b66a-ceaa09e6425e",
        "outputId": "b20382b5-8ba6-4f19-eef9-ce07db3011af"
      },
      "outputs": [
        {
          "output_type": "stream",
          "name": "stdout",
          "text": [
            "number of inputs 1\n"
          ]
        },
        {
          "output_type": "stream",
          "name": "stderr",
          "text": [
            "1it [00:01,  1.90s/it]\n"
          ]
        }
      ],
      "source": [
        "straight_outta_compton_lyrics= process_song(straight_outta_compton_lyrics)\n",
        "embeddings_compton=text_to_emb(straight_outta_compton_lyrics)"
      ],
      "execution_count": 32
    },
    {
      "cell_type": "markdown",
      "metadata": {
        "id": "10d8ea72-4c05-4977-96e8-355886cee369"
      },
      "source": [
        "Let's consider one more song.\n"
      ]
    },
    {
      "cell_type": "code",
      "metadata": {
        "id": "885176ed-ae87-4db1-b034-924f33eb0cd6"
      },
      "outputs": [],
      "source": [
        "my_shoe_lyrics=\"\"\"Barney is a dinosaur from our imagination\n",
        "And when he's tall\n",
        "He's what we call a dinosaur sensation\n",
        "Barney's friends are big and small\n",
        "They come from lots of places\n",
        "After school they meet to play\n",
        "And sing with happy faces\n",
        "Barney shows us lots of things\n",
        "Like how to play pretend\n",
        "ABC's, and 123's\n",
        "And how to be a friend\n",
        "Barney comes to play with us\n",
        "Whenever we may need him\n",
        "Barney can be your friend too\n",
        "If you just make-believe him!\"\"\""
      ],
      "execution_count": 33
    },
    {
      "cell_type": "code",
      "metadata": {
        "colab": {
          "base_uri": "https://localhost:8080/"
        },
        "id": "ef94f007-d492-47af-b8f5-2c183da731e7",
        "outputId": "be1fff99-2a9a-427d-d5a4-21d735d9e1f4"
      },
      "outputs": [
        {
          "output_type": "stream",
          "name": "stdout",
          "text": [
            "number of inputs 1\n"
          ]
        },
        {
          "output_type": "stream",
          "name": "stderr",
          "text": [
            "1it [00:00,  2.97it/s]\n"
          ]
        }
      ],
      "source": [
        "my_shoe_lyrics= process_song(my_shoe_lyrics)\n",
        "embeddings_my_shoe=text_to_emb(my_shoe_lyrics)"
      ],
      "execution_count": 34
    },
    {
      "cell_type": "markdown",
      "metadata": {
        "id": "b90c25e4-4035-42e9-92a7-c39c7af8a326"
      },
      "source": [
        "Let's create a single array from the embeddings of the songs you have till now and plot it through the tsne_plot\n"
      ]
    },
    {
      "cell_type": "code",
      "metadata": {
        "colab": {
          "base_uri": "https://localhost:8080/"
        },
        "id": "cd4d9423-454f-40da-be11-bf764e2c22c6",
        "outputId": "fb764876-90f7-4509-9823-d3dd15f315e5"
      },
      "outputs": [
        {
          "output_type": "stream",
          "name": "stdout",
          "text": [
            "number of inputs 1\n"
          ]
        },
        {
          "output_type": "stream",
          "name": "stderr",
          "text": [
            "1it [00:03,  3.70s/it]\n"
          ]
        },
        {
          "output_type": "stream",
          "name": "stdout",
          "text": [
            "number of inputs 1\n"
          ]
        },
        {
          "output_type": "stream",
          "name": "stderr",
          "text": [
            "1it [00:01,  1.10s/it]\n"
          ]
        },
        {
          "output_type": "stream",
          "name": "stdout",
          "text": [
            "number of inputs 1\n"
          ]
        },
        {
          "output_type": "stream",
          "name": "stderr",
          "text": [
            "1it [00:03,  3.87s/it]\n"
          ]
        },
        {
          "output_type": "stream",
          "name": "stdout",
          "text": [
            "number of inputs 1\n"
          ]
        },
        {
          "output_type": "stream",
          "name": "stderr",
          "text": [
            "1it [00:00,  1.79it/s]\n"
          ]
        }
      ],
      "source": [
        "songs = [song_rage, song_sesame_street, straight_outta_compton_lyrics, my_shoe_lyrics]\n",
        "embeddings = [text_to_emb(song) for song in songs]\n",
        "all_embeddings = np.vstack(embeddings)"
      ],
      "execution_count": 35
    },
    {
      "cell_type": "code",
      "source": [
        "all_embeddings.shape"
      ],
      "metadata": {
        "colab": {
          "base_uri": "https://localhost:8080/"
        },
        "id": "RXIlkjVI_e98",
        "outputId": "26efb93b-c3a9-4d12-d0ba-2bdd05fa52b7"
      },
      "execution_count": 36,
      "outputs": [
        {
          "output_type": "execute_result",
          "data": {
            "text/plain": [
              "(4, 768)"
            ]
          },
          "metadata": {},
          "execution_count": 36
        }
      ]
    },
    {
      "cell_type": "code",
      "metadata": {
        "colab": {
          "base_uri": "https://localhost:8080/",
          "height": 598
        },
        "id": "d9d696d4-aeb1-4360-a8eb-2c9695f49768",
        "outputId": "b0aaa2de-8843-4aa6-87fa-1d24b8b1e4bf"
      },
      "outputs": [
        {
          "output_type": "display_data",
          "data": {
            "text/plain": [
              "<Figure size 1000x700 with 1 Axes>"
            ],
            "image/png": "[encoded data removed]"
          },
          "metadata": {}
        }
      ],
      "source": [
        "tsne_plot(all_embeddings, \"Song\")"
      ],
      "execution_count": 37
    },
    {
      "cell_type": "markdown",
      "metadata": {
        "id": "bb0c5631-cccb-4955-86f1-f515b471e943"
      },
      "source": [
        "# Understanding the dot product\n",
        "\n",
        "The dot product of two vectors, $\\mathbf{a}$ and $\\mathbf{b}$, each with components $a_i$ and $b_i$, is a fundamental operation in linear algebra calculated as follows:\n",
        "\n",
        "$\\mathbf{a} \\cdot \\mathbf{b} = \\sum_{i=1}^{n} a_i b_i$\n",
        "\n",
        "This calculation results in a single scalar value. Geometrically, the dot product quantifies how much one vector projects onto another or how close they are to eachother.\n",
        "\n",
        "Now, consider the matrix $A$, where each row is the RAG embeddings. In the context of matrix multiplication involving a dot product, if $A$ is a matrix and $\\mathbf{b}$ is a vector, then $A\\mathbf{b}$ computes the dot product of $\\mathbf{b}$ with each row of $A$. In this scenario, each vector in $A$ is treated as a row vector. Here, $A$ represents `embeddings_questions`, while `embeddings_rage` is the RAG vector $\\mathbf{b}$. The output is a column tensor that measures how closely each RAG vector for the questions aligns with the song.\n"
      ]
    },
    {
      "cell_type": "code",
      "metadata": {
        "id": "d463c7df-2ff8-4170-83dd-3f0a7c1281db"
      },
      "outputs": [],
      "source": [
        "dot_product = embeddings_questions@embeddings_rage.T"
      ],
      "execution_count": 38
    },
    {
      "cell_type": "markdown",
      "metadata": {
        "id": "c70826b5-58be-4a65-a65b-0b0c4d9fc0f0"
      },
      "source": [
        "Reshape the tensor for processing.\n"
      ]
    },
    {
      "cell_type": "code",
      "metadata": {
        "id": "80c4d7a4-6b8d-49b2-a070-23552207030e"
      },
      "outputs": [],
      "source": [
        "dot_product = dot_product.reshape(-1)"
      ],
      "execution_count": 39
    },
    {
      "cell_type": "markdown",
      "metadata": {
        "id": "57b8de2f-b6cb-4721-a256-57ef0212b632"
      },
      "source": [
        "You can find the questions that are closest to the song by sorting them and converting the result to a list.\n"
      ]
    },
    {
      "cell_type": "code",
      "metadata": {
        "id": "8dc7292c-6f24-488c-8359-e125a23a4f9a"
      },
      "outputs": [],
      "source": [
        "sorted_indices = torch.argsort(dot_product,descending=True)\n",
        "sorted_indices=sorted_indices.tolist()"
      ],
      "execution_count": 40
    },
    {
      "cell_type": "markdown",
      "metadata": {
        "id": "659287f2-1891-4c45-a579-eb2d8b220d1d"
      },
      "source": [
        "The nearest vectors corresponding to the best response can be printed in the following manner. For simplicity, use the topmost response using ``yes_responses``.\n"
      ]
    },
    {
      "cell_type": "code",
      "metadata": {
        "colab": {
          "base_uri": "https://localhost:8080/"
        },
        "id": "4fb37c33-87e0-4e90-812c-61b6ceb300f3",
        "outputId": "f3647e4b-fe48-4229-df0b-19ff79cd346c"
      },
      "outputs": [
        {
          "output_type": "stream",
          "name": "stdout",
          "text": [
            "Yes, this song includes explicit lyrics or bad words that might be considered offensive or inappropriate for young audiences.\n",
            "Yes, this song includes sexual content and references to sexual behavior or suggestive language, which are inappropriate for a child-friendly environment.\n",
            "Yes, this song explicitly mentions weapons, such as guns and knives, which could be disturbing or inappropriate for children’s entertainment.\n"
          ]
        }
      ],
      "source": [
        "for indices in  sorted_indices[0:3]:\n",
        "    print(yes_responses[indices])"
      ],
      "execution_count": 41
    },
    {
      "cell_type": "markdown",
      "metadata": {
        "id": "d70f3317-63db-483b-8e94-64389136f7c0"
      },
      "source": [
        "Now, convert the above to a function where you only input the embeddings.\n"
      ]
    },
    {
      "cell_type": "code",
      "metadata": {
        "id": "e3d13744-78a6-4458-ac05-9e8a068fa530"
      },
      "outputs": [],
      "source": [
        "def RAG_QA(embeddings_questions, embeddings, n_responses=3):\n",
        "    # Calculate the dot product between the question embeddings and the provided embeddings (transpose of the second matrix for proper alignment).\n",
        "    dot_product = embeddings_questions @ embeddings.T\n",
        "\n",
        "    # Reshape the dot product results to a 1D tensor for easier processing.\n",
        "    dot_product = dot_product.reshape(-1)\n",
        "\n",
        "    # Sort the indices of the dot product results in descending order (setting descending to False should be True for typical similarity tasks).\n",
        "    sorted_indices = torch.argsort(dot_product, descending=True)\n",
        "\n",
        "    # Convert sorted indices to a list for easier iteration.\n",
        "    sorted_indices = sorted_indices.tolist()\n",
        "\n",
        "    # Print the top 'n_responses' responses from the sorted list, which correspond to the highest dot product values.\n",
        "    for index in sorted_indices[:n_responses]:\n",
        "        print(yes_responses[index])"
      ],
      "execution_count": 42
    },
    {
      "cell_type": "markdown",
      "metadata": {
        "id": "055ad13a-203f-4720-bdfc-3a650c5df3ff"
      },
      "source": [
        "Now, use the ```RAG_QA``` for the songs defined above to see the top three responses by RAG.\n"
      ]
    },
    {
      "cell_type": "code",
      "metadata": {
        "colab": {
          "base_uri": "https://localhost:8080/"
        },
        "id": "3c44dbea-3dca-419f-aada-b5ec6604eb1d",
        "outputId": "fcbacf6e-4573-417d-c57b-d89ce91158c3"
      },
      "outputs": [
        {
          "output_type": "stream",
          "name": "stdout",
          "text": [
            "Yes, the messages conveyed in this song are positive and uplifting, promoting values like kindness, friendship, and positivity, beneficial for children.\n",
            "Yes, this song offers significant educational value, including segments that teach the alphabet, basic math, and other learning content, making it both fun and educational for children.\n",
            "Yes, this song includes explicit lyrics or bad words that might be considered offensive or inappropriate for young audiences.\n"
          ]
        }
      ],
      "source": [
        "RAG_QA(embeddings_questions, embeddings_sesame_street)"
      ],
      "execution_count": 43
    },
    {
      "cell_type": "code",
      "metadata": {
        "colab": {
          "base_uri": "https://localhost:8080/"
        },
        "id": "0eeca9cb-c6e4-40ff-a08a-8e9649be9d31",
        "outputId": "03b54e92-1305-4ffe-ae98-341625db2951"
      },
      "outputs": [
        {
          "output_type": "stream",
          "name": "stdout",
          "text": [
            "Yes, this song includes explicit lyrics or bad words that might be considered offensive or inappropriate for young audiences.\n",
            "Yes, this song contains violent themes, including references to guns, killing, or physical aggression, and is not suitable for children.\n",
            "Yes, this song includes sexual content and references to sexual behavior or suggestive language, which are inappropriate for a child-friendly environment.\n"
          ]
        }
      ],
      "source": [
        "RAG_QA(embeddings_questions, embeddings_compton)"
      ],
      "execution_count": 44
    },
    {
      "cell_type": "code",
      "metadata": {
        "colab": {
          "base_uri": "https://localhost:8080/"
        },
        "id": "184d268e-fc68-4d51-b1a6-097d67306999",
        "outputId": "f4178372-c49f-491d-efc1-609edca58673"
      },
      "outputs": [
        {
          "output_type": "stream",
          "name": "stdout",
          "text": [
            "Yes, this song offers significant educational value, including segments that teach the alphabet, basic math, and other learning content, making it both fun and educational for children.\n",
            "Yes, this song includes explicit lyrics or bad words that might be considered offensive or inappropriate for young audiences.\n",
            "Yes, the messages conveyed in this song are positive and uplifting, promoting values like kindness, friendship, and positivity, beneficial for children.\n"
          ]
        }
      ],
      "source": [
        "RAG_QA(embeddings_questions, embeddings_my_shoe)"
      ],
      "execution_count": 45
    },
    {
      "cell_type": "markdown",
      "metadata": {
        "id": "ed69eb2d-df3c-4e0e-ab68-4f4ebc1fd77c"
      },
      "source": [
        "## Exercise\n",
        "\n",
        "In many machine learning and natural language processing tasks, measuring the similarity between vectors is crucial. While the dot product is a common measure, it considers both the magnitude and direction of the vectors. In contrast, **cosine similarity** measures the cosine of the angle between two vectors, providing a similarity value that purely reflects their orientation in space regardless of their magnitude. This makes cosine similarity particularly useful in text processing where only the directionality of the vectors (i.e., the orientation of the words in the vector space) matters, not their length.\n",
        "\n",
        "Your task is to modify the `RAG_QA()` function, which currently uses the dot product to find the most relevant responses to a given query. You will replace the dot product with cosine similarity to improve the function's ability to determine response relevance based solely on the direction of the vectors.\n",
        "\n",
        "### Task description\n",
        "1. **Modify the function**: Replace the dot product calculation in the `RAG_QA()` function with cosine similarity. Remember, cosine similarity is defined as:\n",
        "\n",
        "   $\n",
        "   \\text{Cosine Similarity} = \\frac{\\mathbf{A} \\cdot \\mathbf{B}}{\\|\\mathbf{A}\\| \\|\\mathbf{B}\\|}\n",
        "   $\n",
        "\n",
        "   where:\n",
        "   - $\\mathbf{A} \\cdot \\mathbf{B}$ is the dot product of vectors $\\mathbf{A}$ and $\\mathbf{B}$,\n",
        "   - $\\|\\mathbf{A}\\|$ and $\\|\\mathbf{B}\\|$ are the norms (or magnitudes) of vectors $\\mathbf{A}$ and $\\mathbf{B}$ respectively.\n",
        "\n",
        "2. **Calculate norms**: Compute the norms of the question embeddings and the response embeddings.\n",
        "\n",
        "3. **Compute cosine similarity**: Adjust the computation of similarity by dividing the dot product by the product of the norms of the question and response embeddings.\n",
        "\n",
        "4. **Sort and select responses**: After computing the cosine similarities, sort the responses based on these values and select the top responses as done currently with the dot product.\n"
      ]
    },
    {
      "cell_type": "code",
      "metadata": {
        "id": "57253635-ec63-4c27-a97b-1b8bb55ff347"
      },
      "outputs": [],
      "source": [
        "def RAG_QA_cosine(embeddings, n_responses=3):\n",
        "    # Calculate the magnitudes (norms) of the question and response embeddings\n",
        "    question_norms = torch.norm(embeddings_questions, dim=1, keepdim=True)\n",
        "    response_norms = torch.norm(embeddings, dim=1, keepdim=True)\n",
        "\n",
        "    # Calculate the dot product between the question embeddings and the provided embeddings (transpose of the second matrix for proper alignment)\n",
        "    dot_product = torch.mm(embeddings_questions, embeddings.T)\n",
        "\n",
        "    # Calculate cosine similarity by dividing the dot product by the product of the magnitudes\n",
        "    cosine_similarity = dot_product / (question_norms * response_norms.T)\n",
        "\n",
        "    # Flatten the cosine similarity tensor to a 1D tensor for easier processing\n",
        "    cosine_similarity = cosine_similarity.reshape(-1)\n",
        "\n",
        "    # Sort the indices of the cosine similarity results in descending order to get the indices with the highest similarity\n",
        "    sorted_indices = torch.argsort(cosine_similarity, descending=True)\n",
        "\n",
        "    # Convert sorted indices to a list for easier iteration\n",
        "    sorted_indices = sorted_indices.tolist()\n",
        "\n",
        "    # Print the top 'n_responses' responses from the sorted list, which correspond to the highest cosine similarity values\n",
        "    for index in sorted_indices[:n_responses]:\n",
        "        print(yes_responses[index])  # Ensure 'responses' is defined and accessible in your scope"
      ],
      "execution_count": 46
    },
    {
      "cell_type": "code",
      "source": [
        "RAG_QA_cosine(embeddings_sesame_street)"
      ],
      "metadata": {
        "colab": {
          "base_uri": "https://localhost:8080/"
        },
        "id": "Gb1n9IdwDmOH",
        "outputId": "781a2654-e04c-4f70-b523-7f3d716da218"
      },
      "execution_count": 48,
      "outputs": [
        {
          "output_type": "stream",
          "name": "stdout",
          "text": [
            "Yes, this song offers significant educational value, including segments that teach the alphabet, basic math, and other learning content, making it both fun and educational for children.\n",
            "Yes, the messages conveyed in this song are positive and uplifting, promoting values like kindness, friendship, and positivity, beneficial for children.\n",
            "No, the overall content of this song is not suitable for children as it includes themes, language, and messages that are too mature or unsuitable for young listeners.\n"
          ]
        }
      ]
    },
    {
      "cell_type": "code",
      "source": [
        "RAG_QA_cosine(embeddings_compton)"
      ],
      "metadata": {
        "colab": {
          "base_uri": "https://localhost:8080/"
        },
        "id": "aNf_Ma1aDupN",
        "outputId": "4c948408-34a9-4d15-dcdb-ba572072acb5"
      },
      "execution_count": 49,
      "outputs": [
        {
          "output_type": "stream",
          "name": "stdout",
          "text": [
            "Yes, this song includes explicit lyrics or bad words that might be considered offensive or inappropriate for young audiences.\n",
            "Yes, this song contains violent themes, including references to guns, killing, or physical aggression, and is not suitable for children.\n",
            "Yes, this song offers significant educational value, including segments that teach the alphabet, basic math, and other learning content, making it both fun and educational for children.\n"
          ]
        }
      ]
    },
    {
      "cell_type": "code",
      "source": [
        "RAG_QA_cosine(embeddings_my_shoe)"
      ],
      "metadata": {
        "colab": {
          "base_uri": "https://localhost:8080/"
        },
        "id": "CGEO1gerDxnx",
        "outputId": "f1b784d6-c445-4397-beb4-a9feea2a41b0"
      },
      "execution_count": 50,
      "outputs": [
        {
          "output_type": "stream",
          "name": "stdout",
          "text": [
            "Yes, this song offers significant educational value, including segments that teach the alphabet, basic math, and other learning content, making it both fun and educational for children.\n",
            "Yes, the messages conveyed in this song are positive and uplifting, promoting values like kindness, friendship, and positivity, beneficial for children.\n",
            "No, the overall content of this song is not suitable for children as it includes themes, language, and messages that are too mature or unsuitable for young listeners.\n"
          ]
        }
      ]
    },
    {
      "cell_type": "markdown",
      "metadata": {
        "id": "559724b0-9b72-4f3a-8bce-27cf47189cde"
      },
      "source": [
        "<details>\n",
        "    <summary>Click here for Solution</summary>\n",
        "\n",
        "```python\n",
        "def RAG_QA_cosine(embeddings, n_responses=3):\n",
        "    # Calculate the magnitudes (norms) of the question and response embeddings\n",
        "    question_norms = torch.norm(embeddings_questions, dim=1, keepdim=True)\n",
        "    response_norms = torch.norm(embeddings, dim=1, keepdim=True)\n",
        "    \n",
        "    # Calculate the dot product between the question embeddings and the provided embeddings (transpose of the second matrix for proper alignment)\n",
        "    dot_product = torch.mm(embeddings_questions, embeddings.T)\n",
        "    \n",
        "    # Calculate cosine similarity by dividing the dot product by the product of the magnitudes\n",
        "    cosine_similarity = dot_product / (question_norms * response_norms.T)\n",
        "    \n",
        "    # Flatten the cosine similarity tensor to a 1D tensor for easier processing\n",
        "    cosine_similarity = cosine_similarity.reshape(-1)\n",
        "    \n",
        "    # Sort the indices of the cosine similarity results in descending order to get the indices with the highest similarity\n",
        "    sorted_indices = torch.argsort(cosine_similarity, descending=True)\n",
        "    \n",
        "    # Convert sorted indices to a list for easier iteration\n",
        "    sorted_indices = sorted_indices.tolist()\n",
        "    \n",
        "    # Print the top 'n_responses' responses from the sorted list, which correspond to the highest cosine similarity values\n",
        "    for index in sorted_indices[:n_responses]:\n",
        "        print(yes_responses[index])  # Ensure 'responses' is defined and accessible in your scope\n",
        "\n",
        "RAG_QA_cosine(embeddings_my_shoe, n_responses=3)\n",
        "```\n",
        "\n",
        "</details>\n"
      ]
    },
    {
      "cell_type": "markdown",
      "metadata": {
        "id": "fce87097-6f3a-4425-bdc0-fe1e3ef88638"
      },
      "source": [
        "---\n"
      ]
    },
    {
      "cell_type": "markdown",
      "metadata": {
        "id": "9719e9a1-9cf5-40a0-80fb-9c3642a88934"
      },
      "source": [
        "## Congratulations! You have completed the lab\n"
      ]
    },
    {
      "cell_type": "markdown",
      "metadata": {
        "id": "cea6c642-b969-4b8b-8dee-04f5ac199ff7"
      },
      "source": [
        "## Authors\n"
      ]
    },
    {
      "cell_type": "markdown",
      "metadata": {
        "id": "ec9a6548-42b7-48c9-ac38-ed8882c1c4a5"
      },
      "source": [
        "[Joseph Santarcangelo](https://author.skills.network/instructors/joseph_santarcangelo) has a Ph.D. in Electrical Engineering, his research focused on using machine learning, signal processing, and computer vision to determine how videos impact human cognition. Joseph has been working for IBM since he completed his Ph.D.\n"
      ]
    },
    {
      "cell_type": "markdown",
      "metadata": {
        "id": "c146a11c-637e-412a-bc79-3c65f21c082f"
      },
      "source": [
        "[Ashutosh Sagar](https://www.linkedin.com/in/ashutoshsagar/) is completing his MS in CS from Dalhousie University. He has previous experience working with Natural Language Processing and as a Data Scientist.\n"
      ]
    },
    {
      "cell_type": "markdown",
      "metadata": {
        "id": "51a1a8cd-8fea-4b93-b408-b244c932daa8"
      },
      "source": [
        "© Copyright IBM Corporation. All rights reserved.\n"
      ]
    }
  ],
  "metadata": {
    "kernelspec": {
      "display_name": "Python 3 (ipykernel)",
      "language": "python",
      "name": "python3"
    },
    "language_info": {
      "codemirror_mode": {
        "name": "ipython",
        "version": 3
      },
      "file_extension": ".py",
      "mimetype": "text/x-python",
      "name": "python",
      "nbconvert_exporter": "python",
      "pygments_lexer": "ipython3",
      "version": "3.12.8"
    },
    "prev_pub_hash": "b27f5e3db1990e52e970cbcc7c870276b4078dc7c7324948347a06b5ae704ff2",
    "colab": {
      "provenance": []
    },
    "widgets": {
      "application/vnd.jupyter.widget-state+json": {
        "aaad6454d3354b6b9dd4e4eeb0c33b70": {
          "model_module": "@jupyter-widgets/controls",
          "model_name": "HBoxModel",
          "model_module_version": "1.5.0",
          "state": {
            "_dom_classes": [],
            "_model_module": "@jupyter-widgets/controls",
            "_model_module_version": "1.5.0",
            "_model_name": "HBoxModel",
            "_view_count": null,
            "_view_module": "@jupyter-widgets/controls",
            "_view_module_version": "1.5.0",
            "_view_name": "HBoxView",
            "box_style": "",
            "children": [
              "IPY_MODEL_8e737108298d4971a50f3ec4d27613e7",
              "IPY_MODEL_429bffad853f4cd091054ed8bb869f36",
              "IPY_MODEL_f5efa6fc8b4348d3bae8c6337efacd88"
            ],
            "layout": "IPY_MODEL_585d4357c99744e78ab137092802c438"
          }
        },
        "8e737108298d4971a50f3ec4d27613e7": {
          "model_module": "@jupyter-widgets/controls",
          "model_name": "HTMLModel",
          "model_module_version": "1.5.0",
          "state": {
            "_dom_classes": [],
            "_model_module": "@jupyter-widgets/controls",
            "_model_module_version": "1.5.0",
            "_model_name": "HTMLModel",
            "_view_count": null,
            "_view_module": "@jupyter-widgets/controls",
            "_view_module_version": "1.5.0",
            "_view_name": "HTMLView",
            "description": "",
            "description_tooltip": null,
            "layout": "IPY_MODEL_0a1f8c544fe94fd59bf59a72b0e8a329",
            "placeholder": "​",
            "style": "IPY_MODEL_ba02f7d08e1f47f1bd6b9ba5799a7e5a",
            "value": "tokenizer_config.json: 100%"
          }
        },
        "429bffad853f4cd091054ed8bb869f36": {
          "model_module": "@jupyter-widgets/controls",
          "model_name": "FloatProgressModel",
          "model_module_version": "1.5.0",
          "state": {
            "_dom_classes": [],
            "_model_module": "@jupyter-widgets/controls",
            "_model_module_version": "1.5.0",
            "_model_name": "FloatProgressModel",
            "_view_count": null,
            "_view_module": "@jupyter-widgets/controls",
            "_view_module_version": "1.5.0",
            "_view_name": "ProgressView",
            "bar_style": "success",
            "description": "",
            "description_tooltip": null,
            "layout": "IPY_MODEL_6fcfe7943697452c8804747db22a9e70",
            "max": 48,
            "min": 0,
            "orientation": "horizontal",
            "style": "IPY_MODEL_7883a79e246944adadc3967c24807aea",
            "value": 48
          }
        },
        "f5efa6fc8b4348d3bae8c6337efacd88": {
          "model_module": "@jupyter-widgets/controls",
          "model_name": "HTMLModel",
          "model_module_version": "1.5.0",
          "state": {
            "_dom_classes": [],
            "_model_module": "@jupyter-widgets/controls",
            "_model_module_version": "1.5.0",
            "_model_name": "HTMLModel",
            "_view_count": null,
            "_view_module": "@jupyter-widgets/controls",
            "_view_module_version": "1.5.0",
            "_view_name": "HTMLView",
            "description": "",
            "description_tooltip": null,
            "layout": "IPY_MODEL_89bd3236cbfb4bd2ac8d1d4d46b11fb0",
            "placeholder": "​",
            "style": "IPY_MODEL_757b9a449837482fa5dda744f8bc453c",
            "value": " 48.0/48.0 [00:00&lt;00:00, 2.19kB/s]"
          }
        },
        "585d4357c99744e78ab137092802c438": {
          "model_module": "@jupyter-widgets/base",
          "model_name": "LayoutModel",
          "model_module_version": "1.2.0",
          "state": {
            "_model_module": "@jupyter-widgets/base",
            "_model_module_version": "1.2.0",
            "_model_name": "LayoutModel",
            "_view_count": null,
            "_view_module": "@jupyter-widgets/base",
            "_view_module_version": "1.2.0",
            "_view_name": "LayoutView",
            "align_content": null,
            "align_items": null,
            "align_self": null,
            "border": null,
            "bottom": null,
            "display": null,
            "flex": null,
            "flex_flow": null,
            "grid_area": null,
            "grid_auto_columns": null,
            "grid_auto_flow": null,
            "grid_auto_rows": null,
            "grid_column": null,
            "grid_gap": null,
            "grid_row": null,
            "grid_template_areas": null,
            "grid_template_columns": null,
            "grid_template_rows": null,
            "height": null,
            "justify_content": null,
            "justify_items": null,
            "left": null,
            "margin": null,
            "max_height": null,
            "max_width": null,
            "min_height": null,
            "min_width": null,
            "object_fit": null,
            "object_position": null,
            "order": null,
            "overflow": null,
            "overflow_x": null,
            "overflow_y": null,
            "padding": null,
            "right": null,
            "top": null,
            "visibility": null,
            "width": null
          }
        },
        "0a1f8c544fe94fd59bf59a72b0e8a329": {
          "model_module": "@jupyter-widgets/base",
          "model_name": "LayoutModel",
          "model_module_version": "1.2.0",
          "state": {
            "_model_module": "@jupyter-widgets/base",
            "_model_module_version": "1.2.0",
            "_model_name": "LayoutModel",
            "_view_count": null,
            "_view_module": "@jupyter-widgets/base",
            "_view_module_version": "1.2.0",
            "_view_name": "LayoutView",
            "align_content": null,
            "align_items": null,
            "align_self": null,
            "border": null,
            "bottom": null,
            "display": null,
            "flex": null,
            "flex_flow": null,
            "grid_area": null,
            "grid_auto_columns": null,
            "grid_auto_flow": null,
            "grid_auto_rows": null,
            "grid_column": null,
            "grid_gap": null,
            "grid_row": null,
            "grid_template_areas": null,
            "grid_template_columns": null,
            "grid_template_rows": null,
            "height": null,
            "justify_content": null,
            "justify_items": null,
            "left": null,
            "margin": null,
            "max_height": null,
            "max_width": null,
            "min_height": null,
            "min_width": null,
            "object_fit": null,
            "object_position": null,
            "order": null,
            "overflow": null,
            "overflow_x": null,
            "overflow_y": null,
            "padding": null,
            "right": null,
            "top": null,
            "visibility": null,
            "width": null
          }
        },
        "ba02f7d08e1f47f1bd6b9ba5799a7e5a": {
          "model_module": "@jupyter-widgets/controls",
          "model_name": "DescriptionStyleModel",
          "model_module_version": "1.5.0",
          "state": {
            "_model_module": "@jupyter-widgets/controls",
            "_model_module_version": "1.5.0",
            "_model_name": "DescriptionStyleModel",
            "_view_count": null,
            "_view_module": "@jupyter-widgets/base",
            "_view_module_version": "1.2.0",
            "_view_name": "StyleView",
            "description_width": ""
          }
        },
        "6fcfe7943697452c8804747db22a9e70": {
          "model_module": "@jupyter-widgets/base",
          "model_name": "LayoutModel",
          "model_module_version": "1.2.0",
          "state": {
            "_model_module": "@jupyter-widgets/base",
            "_model_module_version": "1.2.0",
            "_model_name": "LayoutModel",
            "_view_count": null,
            "_view_module": "@jupyter-widgets/base",
            "_view_module_version": "1.2.0",
            "_view_name": "LayoutView",
            "align_content": null,
            "align_items": null,
            "align_self": null,
            "border": null,
            "bottom": null,
            "display": null,
            "flex": null,
            "flex_flow": null,
            "grid_area": null,
            "grid_auto_columns": null,
            "grid_auto_flow": null,
            "grid_auto_rows": null,
            "grid_column": null,
            "grid_gap": null,
            "grid_row": null,
            "grid_template_areas": null,
            "grid_template_columns": null,
            "grid_template_rows": null,
            "height": null,
            "justify_content": null,
            "justify_items": null,
            "left": null,
            "margin": null,
            "max_height": null,
            "max_width": null,
            "min_height": null,
            "min_width": null,
            "object_fit": null,
            "object_position": null,
            "order": null,
            "overflow": null,
            "overflow_x": null,
            "overflow_y": null,
            "padding": null,
            "right": null,
            "top": null,
            "visibility": null,
            "width": null
          }
        },
        "7883a79e246944adadc3967c24807aea": {
          "model_module": "@jupyter-widgets/controls",
          "model_name": "ProgressStyleModel",
          "model_module_version": "1.5.0",
          "state": {
            "_model_module": "@jupyter-widgets/controls",
            "_model_module_version": "1.5.0",
            "_model_name": "ProgressStyleModel",
            "_view_count": null,
            "_view_module": "@jupyter-widgets/base",
            "_view_module_version": "1.2.0",
            "_view_name": "StyleView",
            "bar_color": null,
            "description_width": ""
          }
        },
        "89bd3236cbfb4bd2ac8d1d4d46b11fb0": {
          "model_module": "@jupyter-widgets/base",
          "model_name": "LayoutModel",
          "model_module_version": "1.2.0",
          "state": {
            "_model_module": "@jupyter-widgets/base",
            "_model_module_version": "1.2.0",
            "_model_name": "LayoutModel",
            "_view_count": null,
            "_view_module": "@jupyter-widgets/base",
            "_view_module_version": "1.2.0",
            "_view_name": "LayoutView",
            "align_content": null,
            "align_items": null,
            "align_self": null,
            "border": null,
            "bottom": null,
            "display": null,
            "flex": null,
            "flex_flow": null,
            "grid_area": null,
            "grid_auto_columns": null,
            "grid_auto_flow": null,
            "grid_auto_rows": null,
            "grid_column": null,
            "grid_gap": null,
            "grid_row": null,
            "grid_template_areas": null,
            "grid_template_columns": null,
            "grid_template_rows": null,
            "height": null,
            "justify_content": null,
            "justify_items": null,
            "left": null,
            "margin": null,
            "max_height": null,
            "max_width": null,
            "min_height": null,
            "min_width": null,
            "object_fit": null,
            "object_position": null,
            "order": null,
            "overflow": null,
            "overflow_x": null,
            "overflow_y": null,
            "padding": null,
            "right": null,
            "top": null,
            "visibility": null,
            "width": null
          }
        },
        "757b9a449837482fa5dda744f8bc453c": {
          "model_module": "@jupyter-widgets/controls",
          "model_name": "DescriptionStyleModel",
          "model_module_version": "1.5.0",
          "state": {
            "_model_module": "@jupyter-widgets/controls",
            "_model_module_version": "1.5.0",
            "_model_name": "DescriptionStyleModel",
            "_view_count": null,
            "_view_module": "@jupyter-widgets/base",
            "_view_module_version": "1.2.0",
            "_view_name": "StyleView",
            "description_width": ""
          }
        },
        "4b062496d1264a7f9db25c2544734515": {
          "model_module": "@jupyter-widgets/controls",
          "model_name": "HBoxModel",
          "model_module_version": "1.5.0",
          "state": {
            "_dom_classes": [],
            "_model_module": "@jupyter-widgets/controls",
            "_model_module_version": "1.5.0",
            "_model_name": "HBoxModel",
            "_view_count": null,
            "_view_module": "@jupyter-widgets/controls",
            "_view_module_version": "1.5.0",
            "_view_name": "HBoxView",
            "box_style": "",
            "children": [
              "IPY_MODEL_4e5ca6eb3bb74adab4308eda7f61ec4d",
              "IPY_MODEL_32356dd2a1ad437b8fc933367729301d",
              "IPY_MODEL_4bbc16c08ceb44d48c7d41163bbaad0c"
            ],
            "layout": "IPY_MODEL_0e47bcb806fd46de9f782ef35761eba3"
          }
        },
        "4e5ca6eb3bb74adab4308eda7f61ec4d": {
          "model_module": "@jupyter-widgets/controls",
          "model_name": "HTMLModel",
          "model_module_version": "1.5.0",
          "state": {
            "_dom_classes": [],
            "_model_module": "@jupyter-widgets/controls",
            "_model_module_version": "1.5.0",
            "_model_name": "HTMLModel",
            "_view_count": null,
            "_view_module": "@jupyter-widgets/controls",
            "_view_module_version": "1.5.0",
            "_view_name": "HTMLView",
            "description": "",
            "description_tooltip": null,
            "layout": "IPY_MODEL_c75d37932d334c5ba43a5082a5194ad2",
            "placeholder": "​",
            "style": "IPY_MODEL_04954f03ec7846c0a338c24183ed31a5",
            "value": "vocab.txt: 100%"
          }
        },
        "32356dd2a1ad437b8fc933367729301d": {
          "model_module": "@jupyter-widgets/controls",
          "model_name": "FloatProgressModel",
          "model_module_version": "1.5.0",
          "state": {
            "_dom_classes": [],
            "_model_module": "@jupyter-widgets/controls",
            "_model_module_version": "1.5.0",
            "_model_name": "FloatProgressModel",
            "_view_count": null,
            "_view_module": "@jupyter-widgets/controls",
            "_view_module_version": "1.5.0",
            "_view_name": "ProgressView",
            "bar_style": "success",
            "description": "",
            "description_tooltip": null,
            "layout": "IPY_MODEL_6054967c7fc34861b6be31afa2e499a2",
            "max": 231508,
            "min": 0,
            "orientation": "horizontal",
            "style": "IPY_MODEL_6b9fa632d10b4971a24e9839b69d7cdb",
            "value": 231508
          }
        },
        "4bbc16c08ceb44d48c7d41163bbaad0c": {
          "model_module": "@jupyter-widgets/controls",
          "model_name": "HTMLModel",
          "model_module_version": "1.5.0",
          "state": {
            "_dom_classes": [],
            "_model_module": "@jupyter-widgets/controls",
            "_model_module_version": "1.5.0",
            "_model_name": "HTMLModel",
            "_view_count": null,
            "_view_module": "@jupyter-widgets/controls",
            "_view_module_version": "1.5.0",
            "_view_name": "HTMLView",
            "description": "",
            "description_tooltip": null,
            "layout": "IPY_MODEL_ad0e70c31db246dda66abf25095623da",
            "placeholder": "​",
            "style": "IPY_MODEL_8ef20532efed4ad3b8822751079c9ec7",
            "value": " 232k/232k [00:00&lt;00:00, 3.08MB/s]"
          }
        },
        "0e47bcb806fd46de9f782ef35761eba3": {
          "model_module": "@jupyter-widgets/base",
          "model_name": "LayoutModel",
          "model_module_version": "1.2.0",
          "state": {
            "_model_module": "@jupyter-widgets/base",
            "_model_module_version": "1.2.0",
            "_model_name": "LayoutModel",
            "_view_count": null,
            "_view_module": "@jupyter-widgets/base",
            "_view_module_version": "1.2.0",
            "_view_name": "LayoutView",
            "align_content": null,
            "align_items": null,
            "align_self": null,
            "border": null,
            "bottom": null,
            "display": null,
            "flex": null,
            "flex_flow": null,
            "grid_area": null,
            "grid_auto_columns": null,
            "grid_auto_flow": null,
            "grid_auto_rows": null,
            "grid_column": null,
            "grid_gap": null,
            "grid_row": null,
            "grid_template_areas": null,
            "grid_template_columns": null,
            "grid_template_rows": null,
            "height": null,
            "justify_content": null,
            "justify_items": null,
            "left": null,
            "margin": null,
            "max_height": null,
            "max_width": null,
            "min_height": null,
            "min_width": null,
            "object_fit": null,
            "object_position": null,
            "order": null,
            "overflow": null,
            "overflow_x": null,
            "overflow_y": null,
            "padding": null,
            "right": null,
            "top": null,
            "visibility": null,
            "width": null
          }
        },
        "c75d37932d334c5ba43a5082a5194ad2": {
          "model_module": "@jupyter-widgets/base",
          "model_name": "LayoutModel",
          "model_module_version": "1.2.0",
          "state": {
            "_model_module": "@jupyter-widgets/base",
            "_model_module_version": "1.2.0",
            "_model_name": "LayoutModel",
            "_view_count": null,
            "_view_module": "@jupyter-widgets/base",
            "_view_module_version": "1.2.0",
            "_view_name": "LayoutView",
            "align_content": null,
            "align_items": null,
            "align_self": null,
            "border": null,
            "bottom": null,
            "display": null,
            "flex": null,
            "flex_flow": null,
            "grid_area": null,
            "grid_auto_columns": null,
            "grid_auto_flow": null,
            "grid_auto_rows": null,
            "grid_column": null,
            "grid_gap": null,
            "grid_row": null,
            "grid_template_areas": null,
            "grid_template_columns": null,
            "grid_template_rows": null,
            "height": null,
            "justify_content": null,
            "justify_items": null,
            "left": null,
            "margin": null,
            "max_height": null,
            "max_width": null,
            "min_height": null,
            "min_width": null,
            "object_fit": null,
            "object_position": null,
            "order": null,
            "overflow": null,
            "overflow_x": null,
            "overflow_y": null,
            "padding": null,
            "right": null,
            "top": null,
            "visibility": null,
            "width": null
          }
        },
        "04954f03ec7846c0a338c24183ed31a5": {
          "model_module": "@jupyter-widgets/controls",
          "model_name": "DescriptionStyleModel",
          "model_module_version": "1.5.0",
          "state": {
            "_model_module": "@jupyter-widgets/controls",
            "_model_module_version": "1.5.0",
            "_model_name": "DescriptionStyleModel",
            "_view_count": null,
            "_view_module": "@jupyter-widgets/base",
            "_view_module_version": "1.2.0",
            "_view_name": "StyleView",
            "description_width": ""
          }
        },
        "6054967c7fc34861b6be31afa2e499a2": {
          "model_module": "@jupyter-widgets/base",
          "model_name": "LayoutModel",
          "model_module_version": "1.2.0",
          "state": {
            "_model_module": "@jupyter-widgets/base",
            "_model_module_version": "1.2.0",
            "_model_name": "LayoutModel",
            "_view_count": null,
            "_view_module": "@jupyter-widgets/base",
            "_view_module_version": "1.2.0",
            "_view_name": "LayoutView",
            "align_content": null,
            "align_items": null,
            "align_self": null,
            "border": null,
            "bottom": null,
            "display": null,
            "flex": null,
            "flex_flow": null,
            "grid_area": null,
            "grid_auto_columns": null,
            "grid_auto_flow": null,
            "grid_auto_rows": null,
            "grid_column": null,
            "grid_gap": null,
            "grid_row": null,
            "grid_template_areas": null,
            "grid_template_columns": null,
            "grid_template_rows": null,
            "height": null,
            "justify_content": null,
            "justify_items": null,
            "left": null,
            "margin": null,
            "max_height": null,
            "max_width": null,
            "min_height": null,
            "min_width": null,
            "object_fit": null,
            "object_position": null,
            "order": null,
            "overflow": null,
            "overflow_x": null,
            "overflow_y": null,
            "padding": null,
            "right": null,
            "top": null,
            "visibility": null,
            "width": null
          }
        },
        "6b9fa632d10b4971a24e9839b69d7cdb": {
          "model_module": "@jupyter-widgets/controls",
          "model_name": "ProgressStyleModel",
          "model_module_version": "1.5.0",
          "state": {
            "_model_module": "@jupyter-widgets/controls",
            "_model_module_version": "1.5.0",
            "_model_name": "ProgressStyleModel",
            "_view_count": null,
            "_view_module": "@jupyter-widgets/base",
            "_view_module_version": "1.2.0",
            "_view_name": "StyleView",
            "bar_color": null,
            "description_width": ""
          }
        },
        "ad0e70c31db246dda66abf25095623da": {
          "model_module": "@jupyter-widgets/base",
          "model_name": "LayoutModel",
          "model_module_version": "1.2.0",
          "state": {
            "_model_module": "@jupyter-widgets/base",
            "_model_module_version": "1.2.0",
            "_model_name": "LayoutModel",
            "_view_count": null,
            "_view_module": "@jupyter-widgets/base",
            "_view_module_version": "1.2.0",
            "_view_name": "LayoutView",
            "align_content": null,
            "align_items": null,
            "align_self": null,
            "border": null,
            "bottom": null,
            "display": null,
            "flex": null,
            "flex_flow": null,
            "grid_area": null,
            "grid_auto_columns": null,
            "grid_auto_flow": null,
            "grid_auto_rows": null,
            "grid_column": null,
            "grid_gap": null,
            "grid_row": null,
            "grid_template_areas": null,
            "grid_template_columns": null,
            "grid_template_rows": null,
            "height": null,
            "justify_content": null,
            "justify_items": null,
            "left": null,
            "margin": null,
            "max_height": null,
            "max_width": null,
            "min_height": null,
            "min_width": null,
            "object_fit": null,
            "object_position": null,
            "order": null,
            "overflow": null,
            "overflow_x": null,
            "overflow_y": null,
            "padding": null,
            "right": null,
            "top": null,
            "visibility": null,
            "width": null
          }
        },
        "8ef20532efed4ad3b8822751079c9ec7": {
          "model_module": "@jupyter-widgets/controls",
          "model_name": "DescriptionStyleModel",
          "model_module_version": "1.5.0",
          "state": {
            "_model_module": "@jupyter-widgets/controls",
            "_model_module_version": "1.5.0",
            "_model_name": "DescriptionStyleModel",
            "_view_count": null,
            "_view_module": "@jupyter-widgets/base",
            "_view_module_version": "1.2.0",
            "_view_name": "StyleView",
            "description_width": ""
          }
        },
        "d4577dadbf7c4c5fa5b44bdd8b516f73": {
          "model_module": "@jupyter-widgets/controls",
          "model_name": "HBoxModel",
          "model_module_version": "1.5.0",
          "state": {
            "_dom_classes": [],
            "_model_module": "@jupyter-widgets/controls",
            "_model_module_version": "1.5.0",
            "_model_name": "HBoxModel",
            "_view_count": null,
            "_view_module": "@jupyter-widgets/controls",
            "_view_module_version": "1.5.0",
            "_view_name": "HBoxView",
            "box_style": "",
            "children": [
              "IPY_MODEL_6ec1c4898f1a4a5cb30f2bf68dec0210",
              "IPY_MODEL_02e4fe1cc15d4a3ba991716a32a5ff7d",
              "IPY_MODEL_96b164b089d944ee8e08aa30557d63ad"
            ],
            "layout": "IPY_MODEL_ef90ce516f6d4c258c6bf24d2fd569c0"
          }
        },
        "6ec1c4898f1a4a5cb30f2bf68dec0210": {
          "model_module": "@jupyter-widgets/controls",
          "model_name": "HTMLModel",
          "model_module_version": "1.5.0",
          "state": {
            "_dom_classes": [],
            "_model_module": "@jupyter-widgets/controls",
            "_model_module_version": "1.5.0",
            "_model_name": "HTMLModel",
            "_view_count": null,
            "_view_module": "@jupyter-widgets/controls",
            "_view_module_version": "1.5.0",
            "_view_name": "HTMLView",
            "description": "",
            "description_tooltip": null,
            "layout": "IPY_MODEL_62709e7c926641f48e75fe109eac42a1",
            "placeholder": "​",
            "style": "IPY_MODEL_89b10a09ac9948b987db1f4d75ba2d4c",
            "value": "tokenizer.json: 100%"
          }
        },
        "02e4fe1cc15d4a3ba991716a32a5ff7d": {
          "model_module": "@jupyter-widgets/controls",
          "model_name": "FloatProgressModel",
          "model_module_version": "1.5.0",
          "state": {
            "_dom_classes": [],
            "_model_module": "@jupyter-widgets/controls",
            "_model_module_version": "1.5.0",
            "_model_name": "FloatProgressModel",
            "_view_count": null,
            "_view_module": "@jupyter-widgets/controls",
            "_view_module_version": "1.5.0",
            "_view_name": "ProgressView",
            "bar_style": "success",
            "description": "",
            "description_tooltip": null,
            "layout": "IPY_MODEL_05c990c9451e43c2923ac35bdeb6961f",
            "max": 466062,
            "min": 0,
            "orientation": "horizontal",
            "style": "IPY_MODEL_6b861948108d409ea7533d154b12a908",
            "value": 466062
          }
        },
        "96b164b089d944ee8e08aa30557d63ad": {
          "model_module": "@jupyter-widgets/controls",
          "model_name": "HTMLModel",
          "model_module_version": "1.5.0",
          "state": {
            "_dom_classes": [],
            "_model_module": "@jupyter-widgets/controls",
            "_model_module_version": "1.5.0",
            "_model_name": "HTMLModel",
            "_view_count": null,
            "_view_module": "@jupyter-widgets/controls",
            "_view_module_version": "1.5.0",
            "_view_name": "HTMLView",
            "description": "",
            "description_tooltip": null,
            "layout": "IPY_MODEL_149052475c954178a380d3b12b0f3690",
            "placeholder": "​",
            "style": "IPY_MODEL_e6335d70a2cd4f3fac3b429d7511b2f1",
            "value": " 466k/466k [00:00&lt;00:00, 7.96MB/s]"
          }
        },
        "ef90ce516f6d4c258c6bf24d2fd569c0": {
          "model_module": "@jupyter-widgets/base",
          "model_name": "LayoutModel",
          "model_module_version": "1.2.0",
          "state": {
            "_model_module": "@jupyter-widgets/base",
            "_model_module_version": "1.2.0",
            "_model_name": "LayoutModel",
            "_view_count": null,
            "_view_module": "@jupyter-widgets/base",
            "_view_module_version": "1.2.0",
            "_view_name": "LayoutView",
            "align_content": null,
            "align_items": null,
            "align_self": null,
            "border": null,
            "bottom": null,
            "display": null,
            "flex": null,
            "flex_flow": null,
            "grid_area": null,
            "grid_auto_columns": null,
            "grid_auto_flow": null,
            "grid_auto_rows": null,
            "grid_column": null,
            "grid_gap": null,
            "grid_row": null,
            "grid_template_areas": null,
            "grid_template_columns": null,
            "grid_template_rows": null,
            "height": null,
            "justify_content": null,
            "justify_items": null,
            "left": null,
            "margin": null,
            "max_height": null,
            "max_width": null,
            "min_height": null,
            "min_width": null,
            "object_fit": null,
            "object_position": null,
            "order": null,
            "overflow": null,
            "overflow_x": null,
            "overflow_y": null,
            "padding": null,
            "right": null,
            "top": null,
            "visibility": null,
            "width": null
          }
        },
        "62709e7c926641f48e75fe109eac42a1": {
          "model_module": "@jupyter-widgets/base",
          "model_name": "LayoutModel",
          "model_module_version": "1.2.0",
          "state": {
            "_model_module": "@jupyter-widgets/base",
            "_model_module_version": "1.2.0",
            "_model_name": "LayoutModel",
            "_view_count": null,
            "_view_module": "@jupyter-widgets/base",
            "_view_module_version": "1.2.0",
            "_view_name": "LayoutView",
            "align_content": null,
            "align_items": null,
            "align_self": null,
            "border": null,
            "bottom": null,
            "display": null,
            "flex": null,
            "flex_flow": null,
            "grid_area": null,
            "grid_auto_columns": null,
            "grid_auto_flow": null,
            "grid_auto_rows": null,
            "grid_column": null,
            "grid_gap": null,
            "grid_row": null,
            "grid_template_areas": null,
            "grid_template_columns": null,
            "grid_template_rows": null,
            "height": null,
            "justify_content": null,
            "justify_items": null,
            "left": null,
            "margin": null,
            "max_height": null,
            "max_width": null,
            "min_height": null,
            "min_width": null,
            "object_fit": null,
            "object_position": null,
            "order": null,
            "overflow": null,
            "overflow_x": null,
            "overflow_y": null,
            "padding": null,
            "right": null,
            "top": null,
            "visibility": null,
            "width": null
          }
        },
        "89b10a09ac9948b987db1f4d75ba2d4c": {
          "model_module": "@jupyter-widgets/controls",
          "model_name": "DescriptionStyleModel",
          "model_module_version": "1.5.0",
          "state": {
            "_model_module": "@jupyter-widgets/controls",
            "_model_module_version": "1.5.0",
            "_model_name": "DescriptionStyleModel",
            "_view_count": null,
            "_view_module": "@jupyter-widgets/base",
            "_view_module_version": "1.2.0",
            "_view_name": "StyleView",
            "description_width": ""
          }
        },
        "05c990c9451e43c2923ac35bdeb6961f": {
          "model_module": "@jupyter-widgets/base",
          "model_name": "LayoutModel",
          "model_module_version": "1.2.0",
          "state": {
            "_model_module": "@jupyter-widgets/base",
            "_model_module_version": "1.2.0",
            "_model_name": "LayoutModel",
            "_view_count": null,
            "_view_module": "@jupyter-widgets/base",
            "_view_module_version": "1.2.0",
            "_view_name": "LayoutView",
            "align_content": null,
            "align_items": null,
            "align_self": null,
            "border": null,
            "bottom": null,
            "display": null,
            "flex": null,
            "flex_flow": null,
            "grid_area": null,
            "grid_auto_columns": null,
            "grid_auto_flow": null,
            "grid_auto_rows": null,
            "grid_column": null,
            "grid_gap": null,
            "grid_row": null,
            "grid_template_areas": null,
            "grid_template_columns": null,
            "grid_template_rows": null,
            "height": null,
            "justify_content": null,
            "justify_items": null,
            "left": null,
            "margin": null,
            "max_height": null,
            "max_width": null,
            "min_height": null,
            "min_width": null,
            "object_fit": null,
            "object_position": null,
            "order": null,
            "overflow": null,
            "overflow_x": null,
            "overflow_y": null,
            "padding": null,
            "right": null,
            "top": null,
            "visibility": null,
            "width": null
          }
        },
        "6b861948108d409ea7533d154b12a908": {
          "model_module": "@jupyter-widgets/controls",
          "model_name": "ProgressStyleModel",
          "model_module_version": "1.5.0",
          "state": {
            "_model_module": "@jupyter-widgets/controls",
            "_model_module_version": "1.5.0",
            "_model_name": "ProgressStyleModel",
            "_view_count": null,
            "_view_module": "@jupyter-widgets/base",
            "_view_module_version": "1.2.0",
            "_view_name": "StyleView",
            "bar_color": null,
            "description_width": ""
          }
        },
        "149052475c954178a380d3b12b0f3690": {
          "model_module": "@jupyter-widgets/base",
          "model_name": "LayoutModel",
          "model_module_version": "1.2.0",
          "state": {
            "_model_module": "@jupyter-widgets/base",
            "_model_module_version": "1.2.0",
            "_model_name": "LayoutModel",
            "_view_count": null,
            "_view_module": "@jupyter-widgets/base",
            "_view_module_version": "1.2.0",
            "_view_name": "LayoutView",
            "align_content": null,
            "align_items": null,
            "align_self": null,
            "border": null,
            "bottom": null,
            "display": null,
            "flex": null,
            "flex_flow": null,
            "grid_area": null,
            "grid_auto_columns": null,
            "grid_auto_flow": null,
            "grid_auto_rows": null,
            "grid_column": null,
            "grid_gap": null,
            "grid_row": null,
            "grid_template_areas": null,
            "grid_template_columns": null,
            "grid_template_rows": null,
            "height": null,
            "justify_content": null,
            "justify_items": null,
            "left": null,
            "margin": null,
            "max_height": null,
            "max_width": null,
            "min_height": null,
            "min_width": null,
            "object_fit": null,
            "object_position": null,
            "order": null,
            "overflow": null,
            "overflow_x": null,
            "overflow_y": null,
            "padding": null,
            "right": null,
            "top": null,
            "visibility": null,
            "width": null
          }
        },
        "e6335d70a2cd4f3fac3b429d7511b2f1": {
          "model_module": "@jupyter-widgets/controls",
          "model_name": "DescriptionStyleModel",
          "model_module_version": "1.5.0",
          "state": {
            "_model_module": "@jupyter-widgets/controls",
            "_model_module_version": "1.5.0",
            "_model_name": "DescriptionStyleModel",
            "_view_count": null,
            "_view_module": "@jupyter-widgets/base",
            "_view_module_version": "1.2.0",
            "_view_name": "StyleView",
            "description_width": ""
          }
        },
        "0b62e9e3d1484676ae7d72819596f282": {
          "model_module": "@jupyter-widgets/controls",
          "model_name": "HBoxModel",
          "model_module_version": "1.5.0",
          "state": {
            "_dom_classes": [],
            "_model_module": "@jupyter-widgets/controls",
            "_model_module_version": "1.5.0",
            "_model_name": "HBoxModel",
            "_view_count": null,
            "_view_module": "@jupyter-widgets/controls",
            "_view_module_version": "1.5.0",
            "_view_name": "HBoxView",
            "box_style": "",
            "children": [
              "IPY_MODEL_b1941d2895e847b6909edd8abf8a5ffb",
              "IPY_MODEL_95b8517c4341430a86e0bdf11a290aca",
              "IPY_MODEL_ada5ca0a95e44e9bb395e6ac5e616849"
            ],
            "layout": "IPY_MODEL_218b0cad95e54bf2858cadf5ee94eb21"
          }
        },
        "b1941d2895e847b6909edd8abf8a5ffb": {
          "model_module": "@jupyter-widgets/controls",
          "model_name": "HTMLModel",
          "model_module_version": "1.5.0",
          "state": {
            "_dom_classes": [],
            "_model_module": "@jupyter-widgets/controls",
            "_model_module_version": "1.5.0",
            "_model_name": "HTMLModel",
            "_view_count": null,
            "_view_module": "@jupyter-widgets/controls",
            "_view_module_version": "1.5.0",
            "_view_name": "HTMLView",
            "description": "",
            "description_tooltip": null,
            "layout": "IPY_MODEL_1c19c33b8b944d0a9dee3a62c5940904",
            "placeholder": "​",
            "style": "IPY_MODEL_82feaf1ce03a4993bd62fac3e34fe8f3",
            "value": "config.json: 100%"
          }
        },
        "95b8517c4341430a86e0bdf11a290aca": {
          "model_module": "@jupyter-widgets/controls",
          "model_name": "FloatProgressModel",
          "model_module_version": "1.5.0",
          "state": {
            "_dom_classes": [],
            "_model_module": "@jupyter-widgets/controls",
            "_model_module_version": "1.5.0",
            "_model_name": "FloatProgressModel",
            "_view_count": null,
            "_view_module": "@jupyter-widgets/controls",
            "_view_module_version": "1.5.0",
            "_view_name": "ProgressView",
            "bar_style": "success",
            "description": "",
            "description_tooltip": null,
            "layout": "IPY_MODEL_16185cd8747a498588e2f7214b7e9792",
            "max": 570,
            "min": 0,
            "orientation": "horizontal",
            "style": "IPY_MODEL_41b5842708c34017b0e6079328d00da2",
            "value": 570
          }
        },
        "ada5ca0a95e44e9bb395e6ac5e616849": {
          "model_module": "@jupyter-widgets/controls",
          "model_name": "HTMLModel",
          "model_module_version": "1.5.0",
          "state": {
            "_dom_classes": [],
            "_model_module": "@jupyter-widgets/controls",
            "_model_module_version": "1.5.0",
            "_model_name": "HTMLModel",
            "_view_count": null,
            "_view_module": "@jupyter-widgets/controls",
            "_view_module_version": "1.5.0",
            "_view_name": "HTMLView",
            "description": "",
            "description_tooltip": null,
            "layout": "IPY_MODEL_b68bae4488ee486491ec3f88e01c53f7",
            "placeholder": "​",
            "style": "IPY_MODEL_7579b49b57be4c0fb23a8d8b0bfed81f",
            "value": " 570/570 [00:00&lt;00:00, 30.8kB/s]"
          }
        },
        "218b0cad95e54bf2858cadf5ee94eb21": {
          "model_module": "@jupyter-widgets/base",
          "model_name": "LayoutModel",
          "model_module_version": "1.2.0",
          "state": {
            "_model_module": "@jupyter-widgets/base",
            "_model_module_version": "1.2.0",
            "_model_name": "LayoutModel",
            "_view_count": null,
            "_view_module": "@jupyter-widgets/base",
            "_view_module_version": "1.2.0",
            "_view_name": "LayoutView",
            "align_content": null,
            "align_items": null,
            "align_self": null,
            "border": null,
            "bottom": null,
            "display": null,
            "flex": null,
            "flex_flow": null,
            "grid_area": null,
            "grid_auto_columns": null,
            "grid_auto_flow": null,
            "grid_auto_rows": null,
            "grid_column": null,
            "grid_gap": null,
            "grid_row": null,
            "grid_template_areas": null,
            "grid_template_columns": null,
            "grid_template_rows": null,
            "height": null,
            "justify_content": null,
            "justify_items": null,
            "left": null,
            "margin": null,
            "max_height": null,
            "max_width": null,
            "min_height": null,
            "min_width": null,
            "object_fit": null,
            "object_position": null,
            "order": null,
            "overflow": null,
            "overflow_x": null,
            "overflow_y": null,
            "padding": null,
            "right": null,
            "top": null,
            "visibility": null,
            "width": null
          }
        },
        "1c19c33b8b944d0a9dee3a62c5940904": {
          "model_module": "@jupyter-widgets/base",
          "model_name": "LayoutModel",
          "model_module_version": "1.2.0",
          "state": {
            "_model_module": "@jupyter-widgets/base",
            "_model_module_version": "1.2.0",
            "_model_name": "LayoutModel",
            "_view_count": null,
            "_view_module": "@jupyter-widgets/base",
            "_view_module_version": "1.2.0",
            "_view_name": "LayoutView",
            "align_content": null,
            "align_items": null,
            "align_self": null,
            "border": null,
            "bottom": null,
            "display": null,
            "flex": null,
            "flex_flow": null,
            "grid_area": null,
            "grid_auto_columns": null,
            "grid_auto_flow": null,
            "grid_auto_rows": null,
            "grid_column": null,
            "grid_gap": null,
            "grid_row": null,
            "grid_template_areas": null,
            "grid_template_columns": null,
            "grid_template_rows": null,
            "height": null,
            "justify_content": null,
            "justify_items": null,
            "left": null,
            "margin": null,
            "max_height": null,
            "max_width": null,
            "min_height": null,
            "min_width": null,
            "object_fit": null,
            "object_position": null,
            "order": null,
            "overflow": null,
            "overflow_x": null,
            "overflow_y": null,
            "padding": null,
            "right": null,
            "top": null,
            "visibility": null,
            "width": null
          }
        },
        "82feaf1ce03a4993bd62fac3e34fe8f3": {
          "model_module": "@jupyter-widgets/controls",
          "model_name": "DescriptionStyleModel",
          "model_module_version": "1.5.0",
          "state": {
            "_model_module": "@jupyter-widgets/controls",
            "_model_module_version": "1.5.0",
            "_model_name": "DescriptionStyleModel",
            "_view_count": null,
            "_view_module": "@jupyter-widgets/base",
            "_view_module_version": "1.2.0",
            "_view_name": "StyleView",
            "description_width": ""
          }
        },
        "16185cd8747a498588e2f7214b7e9792": {
          "model_module": "@jupyter-widgets/base",
          "model_name": "LayoutModel",
          "model_module_version": "1.2.0",
          "state": {
            "_model_module": "@jupyter-widgets/base",
            "_model_module_version": "1.2.0",
            "_model_name": "LayoutModel",
            "_view_count": null,
            "_view_module": "@jupyter-widgets/base",
            "_view_module_version": "1.2.0",
            "_view_name": "LayoutView",
            "align_content": null,
            "align_items": null,
            "align_self": null,
            "border": null,
            "bottom": null,
            "display": null,
            "flex": null,
            "flex_flow": null,
            "grid_area": null,
            "grid_auto_columns": null,
            "grid_auto_flow": null,
            "grid_auto_rows": null,
            "grid_column": null,
            "grid_gap": null,
            "grid_row": null,
            "grid_template_areas": null,
            "grid_template_columns": null,
            "grid_template_rows": null,
            "height": null,
            "justify_content": null,
            "justify_items": null,
            "left": null,
            "margin": null,
            "max_height": null,
            "max_width": null,
            "min_height": null,
            "min_width": null,
            "object_fit": null,
            "object_position": null,
            "order": null,
            "overflow": null,
            "overflow_x": null,
            "overflow_y": null,
            "padding": null,
            "right": null,
            "top": null,
            "visibility": null,
            "width": null
          }
        },
        "41b5842708c34017b0e6079328d00da2": {
          "model_module": "@jupyter-widgets/controls",
          "model_name": "ProgressStyleModel",
          "model_module_version": "1.5.0",
          "state": {
            "_model_module": "@jupyter-widgets/controls",
            "_model_module_version": "1.5.0",
            "_model_name": "ProgressStyleModel",
            "_view_count": null,
            "_view_module": "@jupyter-widgets/base",
            "_view_module_version": "1.2.0",
            "_view_name": "StyleView",
            "bar_color": null,
            "description_width": ""
          }
        },
        "b68bae4488ee486491ec3f88e01c53f7": {
          "model_module": "@jupyter-widgets/base",
          "model_name": "LayoutModel",
          "model_module_version": "1.2.0",
          "state": {
            "_model_module": "@jupyter-widgets/base",
            "_model_module_version": "1.2.0",
            "_model_name": "LayoutModel",
            "_view_count": null,
            "_view_module": "@jupyter-widgets/base",
            "_view_module_version": "1.2.0",
            "_view_name": "LayoutView",
            "align_content": null,
            "align_items": null,
            "align_self": null,
            "border": null,
            "bottom": null,
            "display": null,
            "flex": null,
            "flex_flow": null,
            "grid_area": null,
            "grid_auto_columns": null,
            "grid_auto_flow": null,
            "grid_auto_rows": null,
            "grid_column": null,
            "grid_gap": null,
            "grid_row": null,
            "grid_template_areas": null,
            "grid_template_columns": null,
            "grid_template_rows": null,
            "height": null,
            "justify_content": null,
            "justify_items": null,
            "left": null,
            "margin": null,
            "max_height": null,
            "max_width": null,
            "min_height": null,
            "min_width": null,
            "object_fit": null,
            "object_position": null,
            "order": null,
            "overflow": null,
            "overflow_x": null,
            "overflow_y": null,
            "padding": null,
            "right": null,
            "top": null,
            "visibility": null,
            "width": null
          }
        },
        "7579b49b57be4c0fb23a8d8b0bfed81f": {
          "model_module": "@jupyter-widgets/controls",
          "model_name": "DescriptionStyleModel",
          "model_module_version": "1.5.0",
          "state": {
            "_model_module": "@jupyter-widgets/controls",
            "_model_module_version": "1.5.0",
            "_model_name": "DescriptionStyleModel",
            "_view_count": null,
            "_view_module": "@jupyter-widgets/base",
            "_view_module_version": "1.2.0",
            "_view_name": "StyleView",
            "description_width": ""
          }
        },
        "91cb87d3ef2946208a5f78178aba4416": {
          "model_module": "@jupyter-widgets/controls",
          "model_name": "HBoxModel",
          "model_module_version": "1.5.0",
          "state": {
            "_dom_classes": [],
            "_model_module": "@jupyter-widgets/controls",
            "_model_module_version": "1.5.0",
            "_model_name": "HBoxModel",
            "_view_count": null,
            "_view_module": "@jupyter-widgets/controls",
            "_view_module_version": "1.5.0",
            "_view_name": "HBoxView",
            "box_style": "",
            "children": [
              "IPY_MODEL_f858e4dc01104b188504679a8fd929c6",
              "IPY_MODEL_1db455e9de37431fba5da15f80a6d8a6",
              "IPY_MODEL_dd325d406bb54defb8c1d11b5b0184b7"
            ],
            "layout": "IPY_MODEL_11d5ae6fa4e74a198e8601f7f7243eed"
          }
        },
        "f858e4dc01104b188504679a8fd929c6": {
          "model_module": "@jupyter-widgets/controls",
          "model_name": "HTMLModel",
          "model_module_version": "1.5.0",
          "state": {
            "_dom_classes": [],
            "_model_module": "@jupyter-widgets/controls",
            "_model_module_version": "1.5.0",
            "_model_name": "HTMLModel",
            "_view_count": null,
            "_view_module": "@jupyter-widgets/controls",
            "_view_module_version": "1.5.0",
            "_view_name": "HTMLView",
            "description": "",
            "description_tooltip": null,
            "layout": "IPY_MODEL_9091a279b21f454d983bfe625b0b291c",
            "placeholder": "​",
            "style": "IPY_MODEL_0d3d4f7ec738425c9f43093018fd2d26",
            "value": "model.safetensors: 100%"
          }
        },
        "1db455e9de37431fba5da15f80a6d8a6": {
          "model_module": "@jupyter-widgets/controls",
          "model_name": "FloatProgressModel",
          "model_module_version": "1.5.0",
          "state": {
            "_dom_classes": [],
            "_model_module": "@jupyter-widgets/controls",
            "_model_module_version": "1.5.0",
            "_model_name": "FloatProgressModel",
            "_view_count": null,
            "_view_module": "@jupyter-widgets/controls",
            "_view_module_version": "1.5.0",
            "_view_name": "ProgressView",
            "bar_style": "success",
            "description": "",
            "description_tooltip": null,
            "layout": "IPY_MODEL_cb09c1bacfba4106b30ae4a6a8e24d27",
            "max": 440449768,
            "min": 0,
            "orientation": "horizontal",
            "style": "IPY_MODEL_b9ac76287b6842b39d8e06819d4d3dce",
            "value": 440449768
          }
        },
        "dd325d406bb54defb8c1d11b5b0184b7": {
          "model_module": "@jupyter-widgets/controls",
          "model_name": "HTMLModel",
          "model_module_version": "1.5.0",
          "state": {
            "_dom_classes": [],
            "_model_module": "@jupyter-widgets/controls",
            "_model_module_version": "1.5.0",
            "_model_name": "HTMLModel",
            "_view_count": null,
            "_view_module": "@jupyter-widgets/controls",
            "_view_module_version": "1.5.0",
            "_view_name": "HTMLView",
            "description": "",
            "description_tooltip": null,
            "layout": "IPY_MODEL_804e8ef19992491dbec9493ab8e197dd",
            "placeholder": "​",
            "style": "IPY_MODEL_3fc21f4f47444f568ca92fa0cf940a52",
            "value": " 440M/440M [00:06&lt;00:00, 94.0MB/s]"
          }
        },
        "11d5ae6fa4e74a198e8601f7f7243eed": {
          "model_module": "@jupyter-widgets/base",
          "model_name": "LayoutModel",
          "model_module_version": "1.2.0",
          "state": {
            "_model_module": "@jupyter-widgets/base",
            "_model_module_version": "1.2.0",
            "_model_name": "LayoutModel",
            "_view_count": null,
            "_view_module": "@jupyter-widgets/base",
            "_view_module_version": "1.2.0",
            "_view_name": "LayoutView",
            "align_content": null,
            "align_items": null,
            "align_self": null,
            "border": null,
            "bottom": null,
            "display": null,
            "flex": null,
            "flex_flow": null,
            "grid_area": null,
            "grid_auto_columns": null,
            "grid_auto_flow": null,
            "grid_auto_rows": null,
            "grid_column": null,
            "grid_gap": null,
            "grid_row": null,
            "grid_template_areas": null,
            "grid_template_columns": null,
            "grid_template_rows": null,
            "height": null,
            "justify_content": null,
            "justify_items": null,
            "left": null,
            "margin": null,
            "max_height": null,
            "max_width": null,
            "min_height": null,
            "min_width": null,
            "object_fit": null,
            "object_position": null,
            "order": null,
            "overflow": null,
            "overflow_x": null,
            "overflow_y": null,
            "padding": null,
            "right": null,
            "top": null,
            "visibility": null,
            "width": null
          }
        },
        "9091a279b21f454d983bfe625b0b291c": {
          "model_module": "@jupyter-widgets/base",
          "model_name": "LayoutModel",
          "model_module_version": "1.2.0",
          "state": {
            "_model_module": "@jupyter-widgets/base",
            "_model_module_version": "1.2.0",
            "_model_name": "LayoutModel",
            "_view_count": null,
            "_view_module": "@jupyter-widgets/base",
            "_view_module_version": "1.2.0",
            "_view_name": "LayoutView",
            "align_content": null,
            "align_items": null,
            "align_self": null,
            "border": null,
            "bottom": null,
            "display": null,
            "flex": null,
            "flex_flow": null,
            "grid_area": null,
            "grid_auto_columns": null,
            "grid_auto_flow": null,
            "grid_auto_rows": null,
            "grid_column": null,
            "grid_gap": null,
            "grid_row": null,
            "grid_template_areas": null,
            "grid_template_columns": null,
            "grid_template_rows": null,
            "height": null,
            "justify_content": null,
            "justify_items": null,
            "left": null,
            "margin": null,
            "max_height": null,
            "max_width": null,
            "min_height": null,
            "min_width": null,
            "object_fit": null,
            "object_position": null,
            "order": null,
            "overflow": null,
            "overflow_x": null,
            "overflow_y": null,
            "padding": null,
            "right": null,
            "top": null,
            "visibility": null,
            "width": null
          }
        },
        "0d3d4f7ec738425c9f43093018fd2d26": {
          "model_module": "@jupyter-widgets/controls",
          "model_name": "DescriptionStyleModel",
          "model_module_version": "1.5.0",
          "state": {
            "_model_module": "@jupyter-widgets/controls",
            "_model_module_version": "1.5.0",
            "_model_name": "DescriptionStyleModel",
            "_view_count": null,
            "_view_module": "@jupyter-widgets/base",
            "_view_module_version": "1.2.0",
            "_view_name": "StyleView",
            "description_width": ""
          }
        },
        "cb09c1bacfba4106b30ae4a6a8e24d27": {
          "model_module": "@jupyter-widgets/base",
          "model_name": "LayoutModel",
          "model_module_version": "1.2.0",
          "state": {
            "_model_module": "@jupyter-widgets/base",
            "_model_module_version": "1.2.0",
            "_model_name": "LayoutModel",
            "_view_count": null,
            "_view_module": "@jupyter-widgets/base",
            "_view_module_version": "1.2.0",
            "_view_name": "LayoutView",
            "align_content": null,
            "align_items": null,
            "align_self": null,
            "border": null,
            "bottom": null,
            "display": null,
            "flex": null,
            "flex_flow": null,
            "grid_area": null,
            "grid_auto_columns": null,
            "grid_auto_flow": null,
            "grid_auto_rows": null,
            "grid_column": null,
            "grid_gap": null,
            "grid_row": null,
            "grid_template_areas": null,
            "grid_template_columns": null,
            "grid_template_rows": null,
            "height": null,
            "justify_content": null,
            "justify_items": null,
            "left": null,
            "margin": null,
            "max_height": null,
            "max_width": null,
            "min_height": null,
            "min_width": null,
            "object_fit": null,
            "object_position": null,
            "order": null,
            "overflow": null,
            "overflow_x": null,
            "overflow_y": null,
            "padding": null,
            "right": null,
            "top": null,
            "visibility": null,
            "width": null
          }
        },
        "b9ac76287b6842b39d8e06819d4d3dce": {
          "model_module": "@jupyter-widgets/controls",
          "model_name": "ProgressStyleModel",
          "model_module_version": "1.5.0",
          "state": {
            "_model_module": "@jupyter-widgets/controls",
            "_model_module_version": "1.5.0",
            "_model_name": "ProgressStyleModel",
            "_view_count": null,
            "_view_module": "@jupyter-widgets/base",
            "_view_module_version": "1.2.0",
            "_view_name": "StyleView",
            "bar_color": null,
            "description_width": ""
          }
        },
        "804e8ef19992491dbec9493ab8e197dd": {
          "model_module": "@jupyter-widgets/base",
          "model_name": "LayoutModel",
          "model_module_version": "1.2.0",
          "state": {
            "_model_module": "@jupyter-widgets/base",
            "_model_module_version": "1.2.0",
            "_model_name": "LayoutModel",
            "_view_count": null,
            "_view_module": "@jupyter-widgets/base",
            "_view_module_version": "1.2.0",
            "_view_name": "LayoutView",
            "align_content": null,
            "align_items": null,
            "align_self": null,
            "border": null,
            "bottom": null,
            "display": null,
            "flex": null,
            "flex_flow": null,
            "grid_area": null,
            "grid_auto_columns": null,
            "grid_auto_flow": null,
            "grid_auto_rows": null,
            "grid_column": null,
            "grid_gap": null,
            "grid_row": null,
            "grid_template_areas": null,
            "grid_template_columns": null,
            "grid_template_rows": null,
            "height": null,
            "justify_content": null,
            "justify_items": null,
            "left": null,
            "margin": null,
            "max_height": null,
            "max_width": null,
            "min_height": null,
            "min_width": null,
            "object_fit": null,
            "object_position": null,
            "order": null,
            "overflow": null,
            "overflow_x": null,
            "overflow_y": null,
            "padding": null,
            "right": null,
            "top": null,
            "visibility": null,
            "width": null
          }
        },
        "3fc21f4f47444f568ca92fa0cf940a52": {
          "model_module": "@jupyter-widgets/controls",
          "model_name": "DescriptionStyleModel",
          "model_module_version": "1.5.0",
          "state": {
            "_model_module": "@jupyter-widgets/controls",
            "_model_module_version": "1.5.0",
            "_model_name": "DescriptionStyleModel",
            "_view_count": null,
            "_view_module": "@jupyter-widgets/base",
            "_view_module_version": "1.2.0",
            "_view_name": "StyleView",
            "description_width": ""
          }
        }
      }
    }
  },
  "nbformat": 4,
  "nbformat_minor": 0
}