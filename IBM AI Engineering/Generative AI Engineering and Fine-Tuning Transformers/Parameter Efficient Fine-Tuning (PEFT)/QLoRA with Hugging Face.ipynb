{
  "cells": [
    {
      "cell_type": "markdown",
      "id": "20c70be2-56c1-4a65-825b-e51e80ab4633",
      "metadata": {},
      "outputs": [],
      "source": [
        "<p style=\"text-align:center\">\n    <a href=\"https://skills.network\" target=\"_blank\">\n    <img src=\"https://cf-courses-data.s3.us.cloud-object-storage.appdomain.cloud/assets/logos/SN_web_lightmode.png\" width=\"200\" alt=\"Skills Network Logo\"  />\n    </a>\n</p>\n"
      ]
    },
    {
      "cell_type": "markdown",
      "id": "a907aee9-941b-42d1-9e1e-91d704e61f89",
      "metadata": {},
      "outputs": [],
      "source": [
        "# QLoRA with HuggingFace\n"
      ]
    },
    {
      "cell_type": "markdown",
      "id": "291902c0-15b0-454e-baf1-f497949c7af9",
      "metadata": {},
      "outputs": [],
      "source": [
        "QLoRA is an extension of LoRA that leverages quantization. Quantization is the process of mapping continuous infinite values to a smaller set of discrete finite values. Effectively, the model's parameters are are stored in 2, 3, 4 or 8-bits as opposed to the usual 32-bits, lowering the number of bits needed to store information. Quantization offers two benefits:\n\n1. It reduced memory footprint. By using a finite set of discrete levels, the values can be represented with fewer bits, reducing the memory required to store them; and\n2. It allows for efficient computation. Quantized values can be represented and processed more efficiently on hardware with limited numerical precision, such as low-power microcontrollers or specialized AI/ML accelerators.\n\nChoosing QLoRA over LoRA provides several tradeoffs. QLoRA offers the following advantages of LoRA:\n\n1. Substantially smaller GPU memory usage than LoRA.\n2. Higher maximum sequence lengths resulting from the smaller GPU memory usage.\n3. Higher batch sizes resulting from the smaller GPU memory usage.\n\nThe main disadvantage of QLoRA is slower fine-tuning speed.\n\nInterestingly enough, the accuracy of QLoRA and LoRA are comparable despite the fact that QLoRA offers substantially smaller models with lower GPU memory footprints than LoRA.\n\nThe original QLoRA paper is available [here](https://arxiv.org/pdf/2305.14314).\n"
      ]
    },
    {
      "cell_type": "markdown",
      "id": "28222a72-6568-4731-96ec-1c6dc9a00e2e",
      "metadata": {},
      "outputs": [],
      "source": [
        "**Note that the following uses the popular `BitsAndBytes` library to implement QLoRA, which only supports quantization using a CUDA-enabled GPU. You will not be able to run this notebook without a compatible GPU!**"
      ]
    },
    {
      "cell_type": "markdown",
      "id": "0b45ba83-93ac-496a-bdf4-f9951275c703",
      "metadata": {},
      "outputs": [],
      "source": [
        "# __Table of Contents__\n\n<ol>\n    <li><a href=\"#Objectives\">Objectives</a></li>\n    <li>\n        <a href=\"#Setup\">Setup</a>\n        <ol>\n            <li><a href=\"#Install-required-libraries\">Install required libraries</a></li>\n            <li><a href=\"#Import-required-libraries\">Import required libraries</a></li>\n            <li><a href=\"#Define-helper-functions\">Define helper functions</a></li>\n        </ol>\n    </li>\n    <li><a href=\"#IMDB-dataset\">IMDB dataset</a></li>\n    <li><a href=\"#Tokenizer\">Tokenizer</a></li>\n    <li><a href=\"#Configure-BitsAndBytes\">Configure BitsAndBytes</a></li>\n    <li><a href=\"#Load-a-quantized-version-of-a-pretrained-model\">Load a quantized version of a pretrained model</a></li>\n    <li><a href=\"#Train\">Train</a></li>\n    <li><a href=\"#Results\">Results</a></li>\n</ol>\n"
      ]
    },
    {
      "cell_type": "markdown",
      "id": "355ad457-eebd-41db-816d-a5a548965bfc",
      "metadata": {},
      "outputs": [],
      "source": [
        "---\n"
      ]
    },
    {
      "cell_type": "markdown",
      "id": "b246990b-a0a8-4b18-a9b2-8e9b38b15e29",
      "metadata": {},
      "outputs": [],
      "source": [
        "# Objectives\n\nAfter completing this lab you will be able to:\n\n- Load and predict using models from HuggingFace\n- Fine-tune language models using QLoRA\n- Understand the advantages and disadvantages of QLoRA\n\n"
      ]
    },
    {
      "cell_type": "markdown",
      "id": "1512c29b-1f51-484d-b590-5b3eac1b0905",
      "metadata": {},
      "outputs": [],
      "source": [
        "---\n"
      ]
    },
    {
      "cell_type": "markdown",
      "id": "3779ac45-7a2c-4e43-9f95-4a35d88d2fd0",
      "metadata": {},
      "outputs": [],
      "source": [
        "# Setup\n"
      ]
    },
    {
      "cell_type": "markdown",
      "id": "16338e23-d2a8-4d7e-8b2e-7a16e571cb28",
      "metadata": {},
      "outputs": [],
      "source": [
        "### Install required libraries\n\nFor this lab, you use the following libraries, which are __not__ preinstalled in the Skills Network Labs environment. __You must run the code in the following cell__ to install them.\n"
      ]
    },
    {
      "cell_type": "code",
      "id": "bb85aafc-050a-4596-94cd-2d0aee45fbd2",
      "metadata": {},
      "outputs": [],
      "source": [
        "!pip install -U datasets==2.20.0 huggingface_hub==0.23.4 transformers==4.41.2 peft==0.11.1 bitsandbytes==0.43.1 matplotlib==3.9.0 scikit-learn==1.5.0"
      ]
    },
    {
      "cell_type": "markdown",
      "id": "9b7a8d6e-6470-4c33-9e08-671aff6a2267",
      "metadata": {},
      "outputs": [],
      "source": [
        "### Import required libraries\n\nThe following code imports required libraries.\n"
      ]
    },
    {
      "cell_type": "code",
      "id": "1ce325c3-8308-4998-900f-8ede1e324e2f",
      "metadata": {},
      "outputs": [],
      "source": [
        "import torch\nimport matplotlib.pyplot as plt\n# You can also use this section to suppress warnings generated by your code:\ndef warn(*args, **kwargs):\n    pass\nimport warnings\nwarnings.warn = warn\nwarnings.filterwarnings('ignore')\n\nimport json\n\nimport numpy as np\n\nfrom datasets import load_dataset, load_metric\n\nfrom transformers import AutoTokenizer, AutoModelForSequenceClassification, Trainer, TrainingArguments, BitsAndBytesConfig\n\nfrom peft import LoraConfig, get_peft_model, TaskType, replace_lora_weights_loftq, prepare_model_for_kbit_training"
      ]
    },
    {
      "cell_type": "markdown",
      "id": "e1d2cff9-8be4-4aac-bb76-248ec93c8c79",
      "metadata": {},
      "outputs": [],
      "source": [
        "Let's check whether a compatible GPU is available:\n"
      ]
    },
    {
      "cell_type": "code",
      "id": "f2a4e835-7753-4850-b303-1672770cc7c7",
      "metadata": {},
      "outputs": [],
      "source": [
        "# Move the model to the appropriate device\ndevice = torch.device('cuda' if torch.cuda.is_available() else 'cpu')"
      ]
    },
    {
      "cell_type": "markdown",
      "id": "5f1333bc-2040-4a75-bcd7-8295d666e31a",
      "metadata": {},
      "outputs": [],
      "source": [
        "### Define helper functions\n\nHere are some helper functions. We will use these later to save and load from JSON:\n"
      ]
    },
    {
      "cell_type": "code",
      "id": "3ff9d01a-654e-476f-a94c-ed8c9ddd5c5c",
      "metadata": {},
      "outputs": [],
      "source": [
        "def save_to_json(data, file_path):\n    \"\"\"\n    Save a dictionary to a JSON file.\n\n    Args:\n        data (dict): The dictionary to save.\n        file_path (str): The path to the JSON file.\n    \"\"\"\n    with open(file_path, 'w') as json_file:\n        json.dump(data, json_file, indent=4)\n    print(f\"Data successfully saved to {file_path}\")\n    \n    \ndef load_from_json(file_path):\n    \"\"\"\n    Load data from a JSON file.\n\n    Args:\n        file_path (str): The path to the JSON file.\n\n    Returns:\n        dict: The data loaded from the JSON file.\n    \"\"\"\n    with open(file_path, 'r') as json_file:\n        data = json.load(json_file)\n    return data   "
      ]
    },
    {
      "cell_type": "markdown",
      "id": "d712c2c8-9db5-4409-aab1-6129dacf60dc",
      "metadata": {},
      "outputs": [],
      "source": [
        "# IMDB dataset \n\nThe IMDB dataset is a large movie review dataset, consisting of 50,000 movie reviews for training and 25,000 movie reviews for testing. The reviews are labeled as either positive or negative, and each review is a variable-length sequence of words. The IMDB dataset is a popular benchmark for text classification tasks, and it has been used to train a variety of natural language processing models. The following line loads the IMDB dataset:\n"
      ]
    },
    {
      "cell_type": "markdown",
      "id": "03b5548e-763b-440c-8b87-94ea6e1a9617",
      "metadata": {},
      "outputs": [],
      "source": [
        "\n"
      ]
    },
    {
      "cell_type": "code",
      "id": "62b498ab-361a-4066-a9c3-ef188af99bb1",
      "metadata": {},
      "outputs": [],
      "source": [
        "imdb = load_dataset(\"imdb\")"
      ]
    },
    {
      "cell_type": "markdown",
      "id": "63125fb6-8c61-4c90-bab6-24871ef67f90",
      "metadata": {},
      "outputs": [],
      "source": [
        "Let's display the structure of the IMDB dataset:\n"
      ]
    },
    {
      "cell_type": "code",
      "id": "c5f4a0f2-4056-4232-bb24-c0013f73647c",
      "metadata": {},
      "outputs": [],
      "source": [
        "# Display the structure of the dataset\nprint(\"Dataset structure:\")\nprint(imdb)"
      ]
    },
    {
      "cell_type": "markdown",
      "id": "7e678bd8-3a79-40a1-92b1-46db18b0dee9",
      "metadata": {},
      "outputs": [],
      "source": [
        "The following displays the available splits in the dataset (train, test, unsupervised)\n"
      ]
    },
    {
      "cell_type": "code",
      "id": "ca98b2e8-cdb7-451f-81de-6011decd51c8",
      "metadata": {},
      "outputs": [],
      "source": [
        "imdb.keys()"
      ]
    },
    {
      "cell_type": "markdown",
      "id": "ef978a1d-a8fd-45e9-a7dc-db2e69022e3b",
      "metadata": {},
      "outputs": [],
      "source": [
        "Let's explore and print a sample from the training set:\n"
      ]
    },
    {
      "cell_type": "code",
      "id": "68826935-4c7c-4b83-ab35-9402aac41a98",
      "metadata": {},
      "outputs": [],
      "source": [
        "# Explore and print a sample from the training set\nprint(\"\\nSample from the training set:\")\nprint(imdb['train'][0])"
      ]
    },
    {
      "cell_type": "markdown",
      "id": "5422c1ce-a3b2-4631-b63d-f22ee771d286",
      "metadata": {},
      "outputs": [],
      "source": [
        "The followiong displays the unique class labels in the dataset. For the IMDB dataset, the labels are integers representing sentiment, where 0 stands for “negative” and 1 stands for “positive”. Here’s how you can extract this information:\n"
      ]
    },
    {
      "cell_type": "code",
      "id": "253436ca-bc6e-4953-955e-a467f645ed09",
      "metadata": {},
      "outputs": [],
      "source": [
        "train_labels = imdb['train']['label']\nunique_labels = set(train_labels)\nprint(\"\\nUnique labels in the dataset (class information):\")\nprint(unique_labels)"
      ]
    },
    {
      "cell_type": "markdown",
      "id": "26335082-7b83-4004-88af-29e02c81931c",
      "metadata": {},
      "outputs": [],
      "source": [
        "The following dictionary maps class values to class names:\n"
      ]
    },
    {
      "cell_type": "code",
      "id": "3d84e815-b050-45af-aa43-a18eb281d712",
      "metadata": {},
      "outputs": [],
      "source": [
        "class_names = {0: \"negative\", 1: \"positive\"}\nclass_names"
      ]
    },
    {
      "cell_type": "markdown",
      "id": "032f50aa-4ab6-4002-ba30-3089cc7fab4d",
      "metadata": {},
      "outputs": [],
      "source": [
        "Since the IMDB dataset is quite large, we’ll create smaller subsets to facilitate quicker training and testing.\n\nIn this notebook, we simulate training and testing using the `small_` datasets due to time constraints. However, it's important to recognize that these smaller datasets are insufficient for proper fine-tuning of the DistilBERT model. For more accurate results, a larger subsample, such as the `medium_train_dataset`, would be necessary.\n\nConsequently, all results presented here pertain to models trained with the `medium_train_dataset` and evaluated on the test set from `medium_test_dataset`. However, the notebook, as is, does NOT train models on these datasets; rather, it trains models using the `small_` datasets, as training on the `medium_` datasets would be too time-consuming.\n"
      ]
    },
    {
      "cell_type": "code",
      "id": "4353854f-f163-49ff-8ca4-ced8700a8f42",
      "metadata": {},
      "outputs": [],
      "source": [
        "small_train_dataset = imdb[\"train\"].shuffle(seed=42).select([i for i in list(range(50))])\nsmall_test_dataset = imdb[\"test\"].shuffle(seed=42).select([i for i in list(range(50))])\nmedium_train_dataset = imdb[\"train\"].shuffle(seed=42).select([i for i in list(range(3000))])\nmedium_test_dataset = imdb[\"test\"].shuffle(seed=42).select([i for i in list(range(300))])"
      ]
    },
    {
      "cell_type": "markdown",
      "id": "cb7c493d-37c0-4fbf-9add-ff25a11acecb",
      "metadata": {},
      "outputs": [],
      "source": [
        "# Tokenizer\n\nThe following loads the DistilBERT tokenizer:    \n"
      ]
    },
    {
      "cell_type": "code",
      "id": "b1a93e8c-cf7d-4a8d-b58f-0a2336905f04",
      "metadata": {},
      "outputs": [],
      "source": [
        "tokenizer = AutoTokenizer.from_pretrained(\"distilbert-base-uncased\")"
      ]
    },
    {
      "cell_type": "markdown",
      "id": "0665382d-99a1-426d-bce4-4b940c84f670",
      "metadata": {},
      "outputs": [],
      "source": [
        "The tokenizer provides tokenized input IDs and an attention mask for a given input text:\n"
      ]
    },
    {
      "cell_type": "code",
      "id": "b4004dfc-df0a-49ef-b158-937192bbee90",
      "metadata": {},
      "outputs": [],
      "source": [
        "my_tokens=tokenizer(imdb['train'][0]['text'])\n\n# Print the tokenized input IDs\nprint(\"Input IDs:\", my_tokens['input_ids'])\n\n# Print the attention mask\nprint(\"Attention Mask:\", my_tokens['attention_mask'])\n\n# If token_type_ids is present, print it\nif 'token_type_ids' in my_tokens:\n    print(\"Token Type IDs:\", my_tokens['token_type_ids'])"
      ]
    },
    {
      "cell_type": "markdown",
      "id": "3139ed90-09f8-4869-b5dd-68c68bccf587",
      "metadata": {},
      "outputs": [],
      "source": [
        "The following preprocessing function tokenizes a text input. We apply this function to all texts in our datasets using the `.map()` method:\n"
      ]
    },
    {
      "cell_type": "code",
      "id": "9dc3bec2-1cda-432c-ae31-64a05ab538bc",
      "metadata": {},
      "outputs": [],
      "source": [
        "def preprocess_function(examples):\n    return tokenizer(examples[\"text\"], padding=True, truncation=True, max_length=512)\n\nsmall_tokenized_train = small_train_dataset.map(preprocess_function, batched=True)\nsmall_tokenized_test = small_test_dataset.map(preprocess_function, batched=True)\nmedium_tokenized_train = medium_train_dataset.map(preprocess_function, batched=True)\nmedium_tokenized_test = medium_test_dataset.map(preprocess_function, batched=True)"
      ]
    },
    {
      "cell_type": "markdown",
      "id": "557f95d9-658c-4564-b803-62490065e7d2",
      "metadata": {},
      "outputs": [],
      "source": [
        "Run the following to see what a sample from the tokenized dataset looks like. Note that this dataset is identical to the original, with just the token indices and attention mask appended.\n"
      ]
    },
    {
      "cell_type": "code",
      "id": "78a1a81c-34e6-4f8f-a5ea-3e87785e505d",
      "metadata": {},
      "outputs": [],
      "source": [
        "print(small_tokenized_train[49])"
      ]
    },
    {
      "cell_type": "markdown",
      "id": "6a772a0c-4f52-4497-9f17-989eade98f53",
      "metadata": {},
      "outputs": [],
      "source": [
        "The following defines the `compute_metrics` funcion to evaluate model performance using accuracy:\n"
      ]
    },
    {
      "cell_type": "code",
      "id": "fff0896d-f29f-4d4b-ba63-9114c77b3984",
      "metadata": {},
      "outputs": [],
      "source": [
        "def compute_metrics(eval_pred):\n   load_accuracy = load_metric(\"accuracy\", trust_remote_code=True)\n\n  \n   logits, labels = eval_pred\n   predictions = np.argmax(logits, axis=-1)\n   accuracy = load_accuracy.compute(predictions=predictions, references=labels)[\"accuracy\"]\n\n   return {\"accuracy\": accuracy}\n"
      ]
    },
    {
      "cell_type": "markdown",
      "id": "7ef6318f-9ac8-4173-883c-86b79da2f134",
      "metadata": {},
      "outputs": [],
      "source": [
        "---\n"
      ]
    },
    {
      "cell_type": "markdown",
      "id": "e5a6ae5e-5321-4c9f-af96-454b64e5dd8b",
      "metadata": {},
      "outputs": [],
      "source": [
        "# Configure BitsAndBytes\n"
      ]
    },
    {
      "cell_type": "markdown",
      "id": "d987c117-9857-4391-a40b-48491eb7a561",
      "metadata": {},
      "outputs": [],
      "source": [
        "The following code creates a `BitsAndBytes` config object where we define the quantization parameters. Every line in that config is commented to inform you of its function:\n"
      ]
    },
    {
      "cell_type": "code",
      "id": "fe4c727e-966b-42d2-aabe-310a3703db0d",
      "metadata": {},
      "outputs": [],
      "source": [
        "config_bnb = BitsAndBytesConfig(\n    load_in_4bit=True, # quantize the model to 4-bits when you load it\n    bnb_4bit_quant_type=\"nf4\", # use a special 4-bit data type for weights initialized from a normal distribution\n    bnb_4bit_use_double_quant=True, # nested quantization scheme to quantize the already quantized weights\n    bnb_4bit_compute_dtype=torch.bfloat16, # use bfloat16 for faster computation\n    llm_int8_skip_modules=[\"classifier\", \"pre_classifier\"] #  Don't convert the \"classifier\" and \"pre_classifier\" layers to 8-bit\n)"
      ]
    },
    {
      "cell_type": "markdown",
      "id": "e4802df2-feb2-4bb8-a60f-b502171bb877",
      "metadata": {},
      "outputs": [],
      "source": [
        "# Load a quantized version of a pretrained model\n"
      ]
    },
    {
      "cell_type": "markdown",
      "id": "de852c2e-d067-432b-9ed9-b6f482f4d36d",
      "metadata": {},
      "outputs": [],
      "source": [
        "The following code creates two lists. The first list (`id2label`) maps ids to text labels for the two classes in this problem, and the second list (`label2id`) swaps the keys and the values to map the text labels to the ids:\n"
      ]
    },
    {
      "cell_type": "code",
      "id": "67e377d2-28cb-4864-8648-d1392efa3046",
      "metadata": {},
      "outputs": [],
      "source": [
        "id2label = {0: \"NEGATIVE\", 1: \"POSITIVE\"}\nlabel2id = dict((v,k) for k,v in id2label.items())"
      ]
    },
    {
      "cell_type": "markdown",
      "id": "6fc12f29-95da-49cd-b5fa-0b991aa44d76",
      "metadata": {},
      "outputs": [],
      "source": [
        "The following instantiates an `AutoModelForSequenceClassification` from a pre-trained `distilbert-base-uncased` model using the `BitsAndBytesConfig` defined above and the id to label and label to id mappings. The `quantization_config` parameter in particular indicates that a quantized version of the model should be loaded, with the quantization settings contained in the config object passed to `quantization_config`\n"
      ]
    },
    {
      "cell_type": "code",
      "id": "9e4cff39-6adc-48ed-84a0-53daacad0f0f",
      "metadata": {},
      "outputs": [],
      "source": [
        "model_qlora = AutoModelForSequenceClassification.from_pretrained(\"distilbert-base-uncased\",\n                                                                 id2label=id2label,\n                                                                 label2id=label2id,\n                                                                 num_labels=2,\n                                                                 quantization_config=config_bnb\n                                                                )"
      ]
    },
    {
      "cell_type": "markdown",
      "id": "2f7b3f87-d96a-4d08-8d7b-5de0164ac8e2",
      "metadata": {},
      "outputs": [],
      "source": [
        "`model_qlora` is now a quantized instance of the model, but the model is not ready for quantized training just yet. This is accomplished by passing the model through the `prepare_model_for_kbit_training()` function:\n"
      ]
    },
    {
      "cell_type": "code",
      "id": "531cc0b3-1e31-479b-8c69-3ad16751d5f4",
      "metadata": {},
      "outputs": [],
      "source": [
        "model_qlora = prepare_model_for_kbit_training(model_qlora)"
      ]
    },
    {
      "cell_type": "markdown",
      "id": "fecd7a1d-e1a5-4181-b9f4-f70816f55a99",
      "metadata": {},
      "outputs": [],
      "source": [
        "Despite its name, `model_qlora` is not a LoRA or QLoRA object yet, but a quantized instance of a pre-trained `distilbert-base-uncased` model that has been made ready for quantized training. To allow this model to be fine-tuned using QLoRA, we must convert the linear layers into LoRA layers. This is done analogously to the way LoRA is applied to a non-quantized model:\n"
      ]
    },
    {
      "cell_type": "code",
      "id": "73ae922b-5941-4012-bf61-b974811cb79e",
      "metadata": {},
      "outputs": [],
      "source": [
        "lora_config = LoraConfig(\n    task_type=TaskType.SEQ_CLS,  # Specify the task type as sequence classification\n    r=8,  # Rank of the low-rank matrices\n    lora_alpha=16,  # Scaling factor\n    lora_dropout=0.1,  # Dropout rate  \n    target_modules=['q_lin','k_lin','v_lin'] # which modules\n)\n\npeft_model_qlora = get_peft_model(model_qlora, lora_config)"
      ]
    },
    {
      "cell_type": "markdown",
      "id": "058a4ca5-3e04-48a6-8b2f-7a16d1e4e337",
      "metadata": {},
      "outputs": [],
      "source": [
        "`peft_model_qlora` is now a QLoRA model which we can go ahead and train. However, before doing so, we will perform one other optimization: we will reinitialize the LoRA weights using LoftQ, which has been shown to improve performance when training quantized models. You can find information about LoftQ [here](https://arxiv.org/abs/2310.08659).\n"
      ]
    },
    {
      "cell_type": "code",
      "id": "8566e7a3-f731-4b0d-9ac3-e97ea1811c19",
      "metadata": {},
      "outputs": [],
      "source": [
        "replace_lora_weights_loftq(peft_model_qlora)"
      ]
    },
    {
      "cell_type": "markdown",
      "id": "53494369-2dc0-4d3d-8c11-59269149b740",
      "metadata": {},
      "outputs": [],
      "source": [
        "Let's print out the model summary:\n"
      ]
    },
    {
      "cell_type": "code",
      "id": "12a8cbd0-940e-43a5-98c6-ca51f62e250c",
      "metadata": {},
      "outputs": [],
      "source": [
        "print(peft_model_qlora)"
      ]
    },
    {
      "cell_type": "markdown",
      "id": "1b7a05cf-b78b-4bea-a348-810239ba5cd4",
      "metadata": {},
      "outputs": [],
      "source": [
        "As you can see, the `distilbert-base-uncased` model adapted for QLoRA fine-tuning has a similar structure to the non-quantized LoRA model derived from `distilbert-base-uncased`. The key difference in the structure's summary is the conversion of some of the `Linear` layers into `Linear4bit` layers, which are 4-bit linear layers that use blockwise k-bit quantization under the hood.\n"
      ]
    },
    {
      "cell_type": "code",
      "id": "ab1e38c3-6b3c-4be0-a27b-321c36a08347",
      "metadata": {},
      "outputs": [],
      "source": [
        "peft_model_qlora.print_trainable_parameters()"
      ]
    },
    {
      "cell_type": "markdown",
      "id": "cd370324-e7ff-469b-b7dc-9b40e450adeb",
      "metadata": {},
      "outputs": [],
      "source": [
        "As can be seen above, fine-tuning the `distilbert-base-uncased` model using QLoRA with a rank of 8 results in just 1.2% of the resulting parameters being trainable.\n"
      ]
    },
    {
      "cell_type": "markdown",
      "id": "ba2583f2-0fcd-466e-8326-b143c64aebc1",
      "metadata": {},
      "outputs": [],
      "source": [
        "# Train\n"
      ]
    },
    {
      "cell_type": "markdown",
      "id": "65fa7217-4948-4126-8dee-16ca22a95d4f",
      "metadata": {},
      "outputs": [],
      "source": [
        "Fine-tuning the QLoRA model from this point on is identical to fine-tuning a LoRA model. First, define the training arguments:\n"
      ]
    },
    {
      "cell_type": "code",
      "id": "e7ae57a9-541e-4280-ac0a-deb00a32e3ea",
      "metadata": {},
      "outputs": [],
      "source": [
        "training_args = TrainingArguments(\n    output_dir=\"./results_qlora\",\n    num_train_epochs=10,\n    per_device_train_batch_size=16,\n    per_device_eval_batch_size=64,\n    learning_rate=2e-5,\n    evaluation_strategy=\"epoch\",\n    weight_decay=0.01\n)"
      ]
    },
    {
      "cell_type": "markdown",
      "id": "ee14eeaf-fb3f-4a9f-8728-441841f9343d",
      "metadata": {},
      "outputs": [],
      "source": [
        "Then, train the model using `Trainer`:\n"
      ]
    },
    {
      "cell_type": "code",
      "id": "1cf355ca-0518-4001-9863-499606b9f480",
      "metadata": {},
      "outputs": [],
      "source": [
        "trainer_qlora = Trainer(\n    model=peft_model_qlora,\n    args=training_args,\n    train_dataset=medium_tokenized_train,\n    eval_dataset=medium_tokenized_test,\n    tokenizer=tokenizer,\n    compute_metrics=compute_metrics)\n\n\ntrainer_qlora.train()"
      ]
    },
    {
      "cell_type": "markdown",
      "id": "66abdc6d-a495-4848-bb26-ac0b404228df",
      "metadata": {},
      "outputs": [],
      "source": [
        "Training on a V100 GPU results in the following table:\n\n![Training table](https://cf-courses-data.s3.us.cloud-object-storage.appdomain.cloud/r4Xq0iBAkaIC1UNg7S5w0Q/Screenshot%202024-07-08%20at%2010-48-20%E2%80%AFAM.png)\n"
      ]
    },
    {
      "cell_type": "markdown",
      "id": "0b451367-2393-49ac-a36b-7a43cd791f48",
      "metadata": {},
      "outputs": [],
      "source": [
        "As you can see, training the 1.2% of parameters on a V100 takes just under 10 minutes and results in a validation accuracy of 84.3%. This is comparable to the accuracy we can expect to get from LoRA.\n"
      ]
    },
    {
      "cell_type": "markdown",
      "id": "609d6cec-eff7-4ce4-8cc6-1476f88f2593",
      "metadata": {},
      "outputs": [],
      "source": [
        "You can save a trained QLoRA model using the following:\n"
      ]
    },
    {
      "cell_type": "code",
      "id": "79fdc154-f0c5-4331-9a08-6835342a0c50",
      "metadata": {},
      "outputs": [],
      "source": [
        "trainer_qlora.save_model(\"./qlora_final_model\")"
      ]
    },
    {
      "cell_type": "markdown",
      "id": "d559cc44-43d8-4102-af62-9d389bec4a5a",
      "metadata": {},
      "outputs": [],
      "source": [
        "# Results\n"
      ]
    },
    {
      "cell_type": "markdown",
      "id": "3fea93c6-57c1-4b66-b35b-6e0394b9032a",
      "metadata": {},
      "outputs": [],
      "source": [
        "To analyze how training progresses with each epoch, you can also extract the log history:\n"
      ]
    },
    {
      "cell_type": "code",
      "id": "60506207-f39a-4c38-8980-415ace1e04d3",
      "metadata": {},
      "outputs": [],
      "source": [
        "log_history_qlora = trainer_qlora.state.log_history"
      ]
    },
    {
      "cell_type": "markdown",
      "id": "5af8ed18-d513-4a3f-a6fd-131c87709afc",
      "metadata": {},
      "outputs": [],
      "source": [
        "This log history can be used to calculate our accuracy metric using the following `lambda` function:\n"
      ]
    },
    {
      "cell_type": "code",
      "id": "b503395b-4ef8-4850-905b-2d9513e7b402",
      "metadata": {},
      "outputs": [],
      "source": [
        "get_metric_qlora = lambda metric, log_history_qlora: [log[metric] for log in log_history_qlora if metric in log]"
      ]
    },
    {
      "cell_type": "markdown",
      "id": "bd7bb9af-45ea-4a82-b6c9-9a98a27767ab",
      "metadata": {},
      "outputs": [],
      "source": [
        "And this function can, in turn, be used to plot what happens to the evaluation loss and accuracy during training:\n"
      ]
    },
    {
      "cell_type": "code",
      "id": "f7fc3387-acc5-4539-82dc-216c345e375c",
      "metadata": {},
      "outputs": [],
      "source": [
        "eval_accuracy_qlora=get_metric_qlora('eval_accuracy',log_history_qlora)\neval_loss_qlora=get_metric_qlora('eval_loss',log_history_qlora)\nplt.plot(eval_accuracy_qlora,label='eval_accuracy')\nplt.plot(eval_loss_qlora,label='eval_loss')\nplt.xlabel(\"epoch\")\nplt.legend()"
      ]
    },
    {
      "cell_type": "markdown",
      "id": "dc138865-d9cd-423b-b626-511f4ed76809",
      "metadata": {},
      "outputs": [],
      "source": [
        "The above code results in the following plot:\n\n![qlora_training_plot](https://cf-courses-data.s3.us.cloud-object-storage.appdomain.cloud/wzMMj73IuM6fKmPZtKtQNA/qlora-training-plot.png)\n"
      ]
    },
    {
      "cell_type": "markdown",
      "id": "16ed79ea-fb3b-4e27-9178-3849cb168bd3",
      "metadata": {},
      "outputs": [],
      "source": [
        "The above code indicates that, in this particular instance, the bulk of the benefits from fine-tuning were gained within the first 3 epochs.\n"
      ]
    },
    {
      "cell_type": "markdown",
      "id": "4ed20092-50b1-4edb-b1ba-e57cf0dde90d",
      "metadata": {},
      "outputs": [],
      "source": [
        "---\n"
      ]
    },
    {
      "cell_type": "markdown",
      "id": "32ff5c93-ed81-4424-bef0-f1a101950993",
      "metadata": {},
      "outputs": [],
      "source": [
        "## Congratulations! You have completed the lab\n"
      ]
    },
    {
      "cell_type": "markdown",
      "id": "0be854a9-1628-498c-bceb-9a814d27e408",
      "metadata": {},
      "outputs": [],
      "source": [
        "## Authors\n"
      ]
    },
    {
      "cell_type": "markdown",
      "id": "4413f81c-981b-4b75-a82a-52bdc6e1641e",
      "metadata": {},
      "outputs": [],
      "source": [
        "[Wojciech \"Victor\" Fulmyk](https://www.linkedin.com/in/wfulmyk) is a Data Scientist and a PhD Candidate in Economics at the University of Calgary.\n"
      ]
    },
    {
      "cell_type": "markdown",
      "id": "31730739-42ad-4bce-8649-23b50f8f2f25",
      "metadata": {},
      "outputs": [],
      "source": [
        "[Fateme Akbari](https://www.linkedin.com/in/fatemeakbari/) is a Ph.D. candidate in Information Systems at McMaster University with demonstrated research experience in Machine Learning and NLP.\n"
      ]
    },
    {
      "cell_type": "markdown",
      "id": "6ec5a7d5-e013-4949-b657-237e232fbcad",
      "metadata": {},
      "outputs": [],
      "source": [
        "[Joseph Santarcangelo](https://author.skills.network/instructors/joseph_santarcangelo) has a Ph.D. in Electrical Engineering, his research focused on using machine learning, signal processing, and computer vision to determine how videos impact human cognition. Joseph has been working for IBM since he completed his PhD.\n"
      ]
    },
    {
      "cell_type": "markdown",
      "id": "35a887ec-59bc-4631-b730-453efc6adfd1",
      "metadata": {},
      "outputs": [],
      "source": [
        "## References\n\n[Finetuning with LoRA -- A Hands-On Example](https://lightning.ai/lightning-ai/studios/code-lora-from-scratch)\n\n[QLORA: Efficient Finetuning of Quantized LLMs](https://arxiv.org/pdf/2305.14314)\n\n[Making LLMs even more accessible with bitsandbytes, 4-bit quantization and QLoRA](https://huggingface.co/blog/4bit-transformers-bitsandbytes)\n"
      ]
    },
    {
      "cell_type": "markdown",
      "id": "c4c29be2-9e2e-4c13-b853-0b5de6904938",
      "metadata": {},
      "outputs": [],
      "source": [
        "## Change Log\n"
      ]
    },
    {
      "cell_type": "markdown",
      "id": "f4c75d10-318d-41a3-86d6-7a10616740bb",
      "metadata": {},
      "outputs": [],
      "source": [
        "|Date (YYYY-MM-DD)|Version|Changed By|Change Description|\n|-|-|-|-|\n|2024-07-09|0.99|Victor|Lab written|\n"
      ]
    },
    {
      "cell_type": "markdown",
      "id": "2e716424-ffeb-4ed9-b829-4bd10f2a9985",
      "metadata": {},
      "outputs": [],
      "source": [
        "Copyright © 2024 IBM Corporation. All rights reserved.\n"
      ]
    }
  ],
  "metadata": {
    "kernelspec": {
      "name": "python",
      "display_name": "Python (Pyodide)",
      "language": "python"
    },
    "language_info": {
      "codemirror_mode": {
        "name": "python",
        "version": 3
      },
      "file_extension": ".py",
      "mimetype": "text/x-python",
      "name": "python",
      "nbconvert_exporter": "python",
      "pygments_lexer": "ipython3",
      "version": "3.8"
    },
    "prev_pub_hash": "856043195c4f7d96c767c084082c1b6e5e7de2222404f63f3e209d4961071444"
  },
  "nbformat": 4,
  "nbformat_minor": 4
}