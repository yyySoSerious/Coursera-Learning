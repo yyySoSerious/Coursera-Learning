{
  "cells": [
    {
      "cell_type": "markdown",
      "metadata": {
        "id": "3631c4e8-6bd7-4afc-bef4-39f11f7cfd05"
      },
      "source": [
        "<p style=\"text-align:center\">\n",
        "    <a href=\"https://skills.network\" target=\"_blank\">\n",
        "    <img src=\"https://cf-courses-data.s3.us.cloud-object-storage.appdomain.cloud/assets/logos/SN_web_lightmode.png\" width=\"200\" alt=\"Skills Network Logo\">\n",
        "    </a>\n",
        "</p>\n"
      ]
    },
    {
      "cell_type": "markdown",
      "metadata": {
        "id": "06eb8195-cf92-4d81-8396-53b20bb66675"
      },
      "source": [
        "# LoRA with PyTorch\n",
        "\n",
        "Estimated time needed: **60** minutes\n",
        "\n",
        "As an AI engineer, you are tasked with fine-tuning a model for sentiment analysis on the IMDB dataset, starting with a model that is pretrained on the AG News dataset. By leveraging Low-Rank Adaptation (LoRA), the model is initially trained on AG News, benefiting from its extensive labeled data and broad categorization capabilities. This robust foundation enhances the model’s language understanding.\n",
        "\n",
        "Subsequently, LoRA is used to fine-tune the model on the IMDB dataset, adapting its knowledge to the nuances of movie reviews for sentiment analysis. This two-phase process — starting with AG News and refining with IMDB data — ensures that the model is both well-rounded and specialized, achieving superior performance in sentiment analysis tasks.\n",
        "\n",
        "**Note: If you are already familiar with training a model on the IMDB dataset, you can run the cells and then jump to the Low-Rank Adaptation (LoRA) section**\n",
        "\n",
        "\n",
        "\n",
        "\n",
        "\n",
        "\n",
        "![Documents Overload](https://cf-courses-data.s3.us.cloud-object-storage.appdomain.cloud/IBM-GPXX0Y15EN/docs.png)\n",
        "\n",
        "```Efficiency in parameter updates:``` LoRA introduces only a small fraction of additional parameters compared to the total number of parameters in a large model. This makes the training process faster and less resource-intensive because fewer parameters need to be updated during backpropagation.\n",
        "\n",
        "```Preservation of pretrained knowledge:``` By keeping the majority of the model's weights fixed and only adjusting them through low-rank matrices, LoRA helps preserve the rich representations that the model learned during pretraining. This is particularly beneficial for tasks that do not require drastic deviations from the behavior learned during pretraining.\n",
        "\n",
        "```Customization to specific tasks:``` Despite the minimal updates, the changes introduced by LoRA are significant enough to adapt the model to specific tasks. This lets you fine-tune large models on specialized tasks without the need for extensive retraining.\n",
        "\n",
        "```Reduction in overfitting:``` Because only a limited number of parameters are adapted, the risk of overfitting is lower compared to full model fine-tuning, especially when adapting to smaller datasets.\n",
        "\n",
        "```Scalability:``` LoRA scales well with model size. As models become larger, the relative increase in the number of parameters introduced by LoRA becomes even smaller, making it a particularly attractive option for adapting very large models.\n",
        "\n",
        "```Compatibility and simplicity:``` The method can be easily applied to different types of neural networks, especially those based on the transformer architecture. It doesn't require major changes to the existing architecture, which simplifies integration into existing pipelines.\n"
      ]
    },
    {
      "cell_type": "markdown",
      "metadata": {
        "id": "c3f86fa4-e97a-4838-87d3-bee40d6dae65"
      },
      "source": [
        "# __Table of Contents__\n",
        "\n",
        "<ol>\n",
        "    <li><a href=\"#Objectives\">Objectives</a></li>\n",
        "    <li>\n",
        "        <a href=\"#Setup\">Setup</a>\n",
        "        <ol>\n",
        "            <li><a href=\"#Install-required-libraries\">Install required libraries</a></li>\n",
        "            <li><a href=\"#Import-required-libraries\">Import required libraries</a></li>\n",
        "            <li><a href=\"#Defining-helper-functions\">Defining helper functions</a></li>\n",
        "        </ol>\n",
        "    </li>\n",
        "    <li>\n",
        "        <a href=\"#Data-pipeline\">Data pipeline</a>\n",
        "        <ol>\n",
        "            <li><a href=\"#Tokenizer\">Tokenizer</a></li>\n",
        "        </ol>\n",
        "    </li>\n",
        "    <li>\n",
        "        <a href=\"#IMDB-dataset\">IMDB dataset</a></li>\n",
        "        <ol>\n",
        "            <li><a href=\"#Dataset-composition\">Dataset composition</a></li>\n",
        "            <li><a href=\"#Applications\">Applications</a></li>\n",
        "            <li><a href=\"#Challenges\">Challenges</a></li>\n",
        "            <li><a href=\"#Train-and-validate\">Train and validate</a></li>\n",
        "            <li><a href=\"#Data-loader\">Data loader</a></li>\n",
        "            <li><a href=\"#Neural-network\">Neural network</a></li>\n",
        "        </ol>\n",
        "     </li>\n",
        "    <li>\n",
        "        <a href=\"#Train-the-model-on-the-full-dataset\">Train the model on the full dataset</a></li>\n",
        "        <ol>\n",
        "            <li><a href=\"#Train-the-model\">Train the model</a></li>\n",
        "        </ol>\n",
        "     </li>\n",
        "    <li>\n",
        "        <a href=\"#Low-Rank-Adaptation-(LoRA)\">Low-Rank Adaptation (LoRA)</a></li>\n",
        "        <ol>\n",
        "            <li><a href=\"#LoRA\">LoRA</a></li>\n",
        "            <li><a href=\"#Rank\">Rank</a></li>\n",
        "            <li><a href=\"#Understanding-LoRA-in-PyTorch\">Understanding LoRA in PyTorch</a></li>\n",
        "            <li><a href=\"#Applying-LoRA\">Applying LoRA</a></li>\n",
        "            <li><a href=\"#Loading-the-model\">Loading the model</a></li>\n",
        "        </ol>\n",
        "     </li>\n",
        "    <li>\n",
        "        <a href=\"#Exercise:-Apply-LoRA-to-a-different-network\">Exercise: Apply LoRA to a different network</a>\n",
        "    </li>\n",
        "</ol>\n"
      ]
    },
    {
      "cell_type": "markdown",
      "metadata": {
        "id": "9295526c-c992-4726-a082-25845a6a2147"
      },
      "source": [
        "---\n"
      ]
    },
    {
      "cell_type": "markdown",
      "metadata": {
        "id": "1aa53090-94dd-4573-b71c-3902e8d320fd"
      },
      "source": [
        "## Objectives\n",
        "\n",
        "After completing this lab you are able to:\n",
        "\n",
        "- Construct and train a neural network from the ground up\n",
        "- Fine-tune a neural network in the conventional manner by unfreezing specific layers\n",
        "- Use LoRA to fine-tune a neural network\n",
        "- Comprehend the functions of LoRA and the reasons behind its effectiveness\n",
        "- Save and load models that employ LoRA efficiently\n"
      ]
    },
    {
      "cell_type": "markdown",
      "metadata": {
        "id": "307b2bd5-a2ab-4e5b-948d-26e1eac84376"
      },
      "source": [
        "---\n"
      ]
    },
    {
      "cell_type": "markdown",
      "metadata": {
        "id": "5ee52c39-f7c1-4052-b220-9952bbc2ba5e"
      },
      "source": [
        "## Setup\n"
      ]
    },
    {
      "cell_type": "markdown",
      "metadata": {
        "id": "22831e36-9112-4ce9-b8d5-a59ea9222210"
      },
      "source": [
        "### Install required libraries\n"
      ]
    },
    {
      "cell_type": "markdown",
      "metadata": {
        "id": "04f5e046-68f9-4c0e-9415-a91f1be3c4bc"
      },
      "source": [
        "The following required libraries are __not__ preinstalled in the Skills Network Labs environment. __You must run the following cell__ to install them. Note that it can take between __5 and 10 minutes__ to install the required libraries:\n"
      ]
    },
    {
      "cell_type": "code",
      "metadata": {
        "colab": {
          "base_uri": "https://localhost:8080/"
        },
        "id": "eaa3cde8-1d29-4dbe-b2d1-6069aba38a4f",
        "outputId": "e51abbd3-efa9-4998-ae47-6fb18edfc862"
      },
      "outputs": [
        {
          "output_type": "stream",
          "name": "stdout",
          "text": [
            "Collecting torch==2.2.2\n",
            "  Downloading torch-2.2.2-cp311-cp311-manylinux1_x86_64.whl.metadata (25 kB)\n",
            "Requirement already satisfied: filelock in /usr/local/lib/python3.11/dist-packages (from torch==2.2.2) (3.18.0)\n",
            "Requirement already satisfied: typing-extensions>=4.8.0 in /usr/local/lib/python3.11/dist-packages (from torch==2.2.2) (4.13.2)\n",
            "Requirement already satisfied: sympy in /usr/local/lib/python3.11/dist-packages (from torch==2.2.2) (1.13.1)\n",
            "Requirement already satisfied: networkx in /usr/local/lib/python3.11/dist-packages (from torch==2.2.2) (3.4.2)\n",
            "Requirement already satisfied: jinja2 in /usr/local/lib/python3.11/dist-packages (from torch==2.2.2) (3.1.6)\n",
            "Requirement already satisfied: fsspec in /usr/local/lib/python3.11/dist-packages (from torch==2.2.2) (2025.3.2)\n",
            "Collecting nvidia-cuda-nvrtc-cu12==12.1.105 (from torch==2.2.2)\n",
            "  Downloading nvidia_cuda_nvrtc_cu12-12.1.105-py3-none-manylinux1_x86_64.whl.metadata (1.5 kB)\n",
            "Collecting nvidia-cuda-runtime-cu12==12.1.105 (from torch==2.2.2)\n",
            "  Downloading nvidia_cuda_runtime_cu12-12.1.105-py3-none-manylinux1_x86_64.whl.metadata (1.5 kB)\n",
            "Collecting nvidia-cuda-cupti-cu12==12.1.105 (from torch==2.2.2)\n",
            "  Downloading nvidia_cuda_cupti_cu12-12.1.105-py3-none-manylinux1_x86_64.whl.metadata (1.6 kB)\n",
            "Collecting nvidia-cudnn-cu12==8.9.2.26 (from torch==2.2.2)\n",
            "  Downloading nvidia_cudnn_cu12-8.9.2.26-py3-none-manylinux1_x86_64.whl.metadata (1.6 kB)\n",
            "Collecting nvidia-cublas-cu12==12.1.3.1 (from torch==2.2.2)\n",
            "  Downloading nvidia_cublas_cu12-12.1.3.1-py3-none-manylinux1_x86_64.whl.metadata (1.5 kB)\n",
            "Collecting nvidia-cufft-cu12==11.0.2.54 (from torch==2.2.2)\n",
            "  Downloading nvidia_cufft_cu12-11.0.2.54-py3-none-manylinux1_x86_64.whl.metadata (1.5 kB)\n",
            "Collecting nvidia-curand-cu12==10.3.2.106 (from torch==2.2.2)\n",
            "  Downloading nvidia_curand_cu12-10.3.2.106-py3-none-manylinux1_x86_64.whl.metadata (1.5 kB)\n",
            "Collecting nvidia-cusolver-cu12==11.4.5.107 (from torch==2.2.2)\n",
            "  Downloading nvidia_cusolver_cu12-11.4.5.107-py3-none-manylinux1_x86_64.whl.metadata (1.6 kB)\n",
            "Collecting nvidia-cusparse-cu12==12.1.0.106 (from torch==2.2.2)\n",
            "  Downloading nvidia_cusparse_cu12-12.1.0.106-py3-none-manylinux1_x86_64.whl.metadata (1.6 kB)\n",
            "Collecting nvidia-nccl-cu12==2.19.3 (from torch==2.2.2)\n",
            "  Downloading nvidia_nccl_cu12-2.19.3-py3-none-manylinux1_x86_64.whl.metadata (1.8 kB)\n",
            "Collecting nvidia-nvtx-cu12==12.1.105 (from torch==2.2.2)\n",
            "  Downloading nvidia_nvtx_cu12-12.1.105-py3-none-manylinux1_x86_64.whl.metadata (1.7 kB)\n",
            "Collecting triton==2.2.0 (from torch==2.2.2)\n",
            "  Downloading triton-2.2.0-cp311-cp311-manylinux_2_17_x86_64.manylinux2014_x86_64.whl.metadata (1.4 kB)\n",
            "Requirement already satisfied: nvidia-nvjitlink-cu12 in /usr/local/lib/python3.11/dist-packages (from nvidia-cusolver-cu12==11.4.5.107->torch==2.2.2) (12.5.82)\n",
            "Requirement already satisfied: MarkupSafe>=2.0 in /usr/local/lib/python3.11/dist-packages (from jinja2->torch==2.2.2) (3.0.2)\n",
            "Requirement already satisfied: mpmath<1.4,>=1.1.0 in /usr/local/lib/python3.11/dist-packages (from sympy->torch==2.2.2) (1.3.0)\n",
            "Downloading torch-2.2.2-cp311-cp311-manylinux1_x86_64.whl (755.6 MB)\n",
            "\u001b[2K   \u001b[90m━━━━━━━━━━━━━━━━━━━━━━━━━━━━━━━━━━━━━━━━\u001b[0m \u001b[32m755.6/755.6 MB\u001b[0m \u001b[31m1.9 MB/s\u001b[0m eta \u001b[36m0:00:00\u001b[0m\n",
            "\u001b[?25hDownloading nvidia_cublas_cu12-12.1.3.1-py3-none-manylinux1_x86_64.whl (410.6 MB)\n",
            "\u001b[2K   \u001b[90m━━━━━━━━━━━━━━━━━━━━━━━━━━━━━━━━━━━━━━━━\u001b[0m \u001b[32m410.6/410.6 MB\u001b[0m \u001b[31m1.3 MB/s\u001b[0m eta \u001b[36m0:00:00\u001b[0m\n",
            "\u001b[?25hDownloading nvidia_cuda_cupti_cu12-12.1.105-py3-none-manylinux1_x86_64.whl (14.1 MB)\n",
            "\u001b[2K   \u001b[90m━━━━━━━━━━━━━━━━━━━━━━━━━━━━━━━━━━━━━━━━\u001b[0m \u001b[32m14.1/14.1 MB\u001b[0m \u001b[31m63.2 MB/s\u001b[0m eta \u001b[36m0:00:00\u001b[0m\n",
            "\u001b[?25hDownloading nvidia_cuda_nvrtc_cu12-12.1.105-py3-none-manylinux1_x86_64.whl (23.7 MB)\n",
            "\u001b[2K   \u001b[90m━━━━━━━━━━━━━━━━━━━━━━━━━━━━━━━━━━━━━━━━\u001b[0m \u001b[32m23.7/23.7 MB\u001b[0m \u001b[31m59.2 MB/s\u001b[0m eta \u001b[36m0:00:00\u001b[0m\n",
            "\u001b[?25hDownloading nvidia_cuda_runtime_cu12-12.1.105-py3-none-manylinux1_x86_64.whl (823 kB)\n",
            "\u001b[2K   \u001b[90m━━━━━━━━━━━━━━━━━━━━━━━━━━━━━━━━━━━━━━━━\u001b[0m \u001b[32m823.6/823.6 kB\u001b[0m \u001b[31m42.0 MB/s\u001b[0m eta \u001b[36m0:00:00\u001b[0m\n",
            "\u001b[?25hDownloading nvidia_cudnn_cu12-8.9.2.26-py3-none-manylinux1_x86_64.whl (731.7 MB)\n",
            "\u001b[2K   \u001b[90m━━━━━━━━━━━━━━━━━━━━━━━━━━━━━━━━━━━━━━━\u001b[0m \u001b[32m731.7/731.7 MB\u001b[0m \u001b[31m651.3 kB/s\u001b[0m eta \u001b[36m0:00:00\u001b[0m\n",
            "\u001b[?25hDownloading nvidia_cufft_cu12-11.0.2.54-py3-none-manylinux1_x86_64.whl (121.6 MB)\n",
            "\u001b[2K   \u001b[90m━━━━━━━━━━━━━━━━━━━━━━━━━━━━━━━━━━━━━━━━\u001b[0m \u001b[32m121.6/121.6 MB\u001b[0m \u001b[31m7.7 MB/s\u001b[0m eta \u001b[36m0:00:00\u001b[0m\n",
            "\u001b[?25hDownloading nvidia_curand_cu12-10.3.2.106-py3-none-manylinux1_x86_64.whl (56.5 MB)\n",
            "\u001b[2K   \u001b[90m━━━━━━━━━━━━━━━━━━━━━━━━━━━━━━━━━━━━━━━━\u001b[0m \u001b[32m56.5/56.5 MB\u001b[0m \u001b[31m11.2 MB/s\u001b[0m eta \u001b[36m0:00:00\u001b[0m\n",
            "\u001b[?25hDownloading nvidia_cusolver_cu12-11.4.5.107-py3-none-manylinux1_x86_64.whl (124.2 MB)\n",
            "\u001b[2K   \u001b[90m━━━━━━━━━━━━━━━━━━━━━━━━━━━━━━━━━━━━━━━━\u001b[0m \u001b[32m124.2/124.2 MB\u001b[0m \u001b[31m8.6 MB/s\u001b[0m eta \u001b[36m0:00:00\u001b[0m\n",
            "\u001b[?25hDownloading nvidia_cusparse_cu12-12.1.0.106-py3-none-manylinux1_x86_64.whl (196.0 MB)\n",
            "\u001b[2K   \u001b[90m━━━━━━━━━━━━━━━━━━━━━━━━━━━━━━━━━━━━━━━━\u001b[0m \u001b[32m196.0/196.0 MB\u001b[0m \u001b[31m1.6 MB/s\u001b[0m eta \u001b[36m0:00:00\u001b[0m\n",
            "\u001b[?25hDownloading nvidia_nccl_cu12-2.19.3-py3-none-manylinux1_x86_64.whl (166.0 MB)\n",
            "\u001b[2K   \u001b[90m━━━━━━━━━━━━━━━━━━━━━━━━━━━━━━━━━━━━━━━━\u001b[0m \u001b[32m166.0/166.0 MB\u001b[0m \u001b[31m6.7 MB/s\u001b[0m eta \u001b[36m0:00:00\u001b[0m\n",
            "\u001b[?25hDownloading nvidia_nvtx_cu12-12.1.105-py3-none-manylinux1_x86_64.whl (99 kB)\n",
            "\u001b[2K   \u001b[90m━━━━━━━━━━━━━━━━━━━━━━━━━━━━━━━━━━━━━━━━\u001b[0m \u001b[32m99.1/99.1 kB\u001b[0m \u001b[31m7.2 MB/s\u001b[0m eta \u001b[36m0:00:00\u001b[0m\n",
            "\u001b[?25hDownloading triton-2.2.0-cp311-cp311-manylinux_2_17_x86_64.manylinux2014_x86_64.whl (167.9 MB)\n",
            "\u001b[2K   \u001b[90m━━━━━━━━━━━━━━━━━━━━━━━━━━━━━━━━━━━━━━━━\u001b[0m \u001b[32m167.9/167.9 MB\u001b[0m \u001b[31m7.1 MB/s\u001b[0m eta \u001b[36m0:00:00\u001b[0m\n",
            "\u001b[?25hInstalling collected packages: triton, nvidia-nvtx-cu12, nvidia-nccl-cu12, nvidia-cusparse-cu12, nvidia-curand-cu12, nvidia-cufft-cu12, nvidia-cuda-runtime-cu12, nvidia-cuda-nvrtc-cu12, nvidia-cuda-cupti-cu12, nvidia-cublas-cu12, nvidia-cusolver-cu12, nvidia-cudnn-cu12, torch\n",
            "  Attempting uninstall: triton\n",
            "    Found existing installation: triton 3.2.0\n",
            "    Uninstalling triton-3.2.0:\n",
            "      Successfully uninstalled triton-3.2.0\n",
            "  Attempting uninstall: nvidia-nvtx-cu12\n",
            "    Found existing installation: nvidia-nvtx-cu12 12.4.127\n",
            "    Uninstalling nvidia-nvtx-cu12-12.4.127:\n",
            "      Successfully uninstalled nvidia-nvtx-cu12-12.4.127\n",
            "  Attempting uninstall: nvidia-nccl-cu12\n",
            "    Found existing installation: nvidia-nccl-cu12 2.21.5\n",
            "    Uninstalling nvidia-nccl-cu12-2.21.5:\n",
            "      Successfully uninstalled nvidia-nccl-cu12-2.21.5\n",
            "  Attempting uninstall: nvidia-cusparse-cu12\n",
            "    Found existing installation: nvidia-cusparse-cu12 12.5.1.3\n",
            "    Uninstalling nvidia-cusparse-cu12-12.5.1.3:\n",
            "      Successfully uninstalled nvidia-cusparse-cu12-12.5.1.3\n",
            "  Attempting uninstall: nvidia-curand-cu12\n",
            "    Found existing installation: nvidia-curand-cu12 10.3.6.82\n",
            "    Uninstalling nvidia-curand-cu12-10.3.6.82:\n",
            "      Successfully uninstalled nvidia-curand-cu12-10.3.6.82\n",
            "  Attempting uninstall: nvidia-cufft-cu12\n",
            "    Found existing installation: nvidia-cufft-cu12 11.2.3.61\n",
            "    Uninstalling nvidia-cufft-cu12-11.2.3.61:\n",
            "      Successfully uninstalled nvidia-cufft-cu12-11.2.3.61\n",
            "  Attempting uninstall: nvidia-cuda-runtime-cu12\n",
            "    Found existing installation: nvidia-cuda-runtime-cu12 12.5.82\n",
            "    Uninstalling nvidia-cuda-runtime-cu12-12.5.82:\n",
            "      Successfully uninstalled nvidia-cuda-runtime-cu12-12.5.82\n",
            "  Attempting uninstall: nvidia-cuda-nvrtc-cu12\n",
            "    Found existing installation: nvidia-cuda-nvrtc-cu12 12.5.82\n",
            "    Uninstalling nvidia-cuda-nvrtc-cu12-12.5.82:\n",
            "      Successfully uninstalled nvidia-cuda-nvrtc-cu12-12.5.82\n",
            "  Attempting uninstall: nvidia-cuda-cupti-cu12\n",
            "    Found existing installation: nvidia-cuda-cupti-cu12 12.5.82\n",
            "    Uninstalling nvidia-cuda-cupti-cu12-12.5.82:\n",
            "      Successfully uninstalled nvidia-cuda-cupti-cu12-12.5.82\n",
            "  Attempting uninstall: nvidia-cublas-cu12\n",
            "    Found existing installation: nvidia-cublas-cu12 12.5.3.2\n",
            "    Uninstalling nvidia-cublas-cu12-12.5.3.2:\n",
            "      Successfully uninstalled nvidia-cublas-cu12-12.5.3.2\n",
            "  Attempting uninstall: nvidia-cusolver-cu12\n",
            "    Found existing installation: nvidia-cusolver-cu12 11.6.3.83\n",
            "    Uninstalling nvidia-cusolver-cu12-11.6.3.83:\n",
            "      Successfully uninstalled nvidia-cusolver-cu12-11.6.3.83\n"
          ]
        }
      ],
      "source": [
        "!pip install torch==2.2.2\n",
        "!pip install torchtext==0.17.2\n",
        "!pip install portalocker==2.8.2\n",
        "!pip install torchdata==0.7.1\n",
        "!pip install plotly==5.22.0\n",
        "!pip install pandas\n",
        "!pip install matplotlib==3.9.0 scikit-learn==1.5.0"
      ],
      "execution_count": null
    },
    {
      "cell_type": "code",
      "metadata": {
        "id": "e4771370-1f06-4a7f-80b4-129a25f2e3e9"
      },
      "outputs": [],
      "source": [
        "!pip install numpy==1.26.0"
      ],
      "execution_count": null
    },
    {
      "cell_type": "markdown",
      "metadata": {
        "id": "037247e6-79fb-4004-8d1f-f5dacef393c2"
      },
      "source": [
        "### Import required libraries\n",
        "\n",
        "The following imports the required libraries:\n"
      ]
    },
    {
      "cell_type": "code",
      "metadata": {
        "id": "52b7a190-22bc-402b-b318-02d63f2be837"
      },
      "outputs": [],
      "source": [
        "from tqdm import tqdm\n",
        "import numpy as np\n",
        "import pandas as pd\n",
        "from itertools import accumulate\n",
        "import matplotlib.pyplot as plt\n",
        "import math\n",
        "import os\n",
        "\n",
        "import torch\n",
        "import torch.nn as nn\n",
        "import torch.nn.functional as F\n",
        "\n",
        "import torchtext#; torchtext.disable_torchtext_deprecation_warning()\n",
        "from torchtext.vocab import build_vocab_from_iterator, GloVe, Vectors\n",
        "\n",
        "\n",
        "\n",
        "from sklearn.manifold import TSNE\n",
        "\n",
        "\n",
        "\n",
        "from torch.utils.data import DataLoader\n",
        "import numpy as np\n",
        "from torchtext.datasets import AG_NEWS\n",
        "from IPython.display import Markdown as md\n",
        "from tqdm import tqdm\n",
        "\n",
        "from torchtext.vocab import build_vocab_from_iterator\n",
        "\n",
        "from torch.utils.data.dataset import random_split,Dataset\n",
        "from torchtext.data.functional import to_map_style_dataset\n",
        "from sklearn.manifold import TSNE\n",
        "import plotly.graph_objs as go\n",
        "\n",
        "import pickle\n",
        "\n",
        "from urllib.request import urlopen\n",
        "import io\n",
        "\n",
        "import tarfile\n",
        "import tempfile\n",
        "\n",
        "# You can also use this section to suppress warnings generated by your code:\n",
        "def warn(*args, **kwargs):\n",
        "    pass\n",
        "import warnings\n",
        "warnings.warn = warn\n",
        "warnings.filterwarnings('ignore')"
      ],
      "execution_count": null
    },
    {
      "cell_type": "markdown",
      "metadata": {
        "id": "e7eaf063-a0d8-40c8-ac07-d06290f2e6b7"
      },
      "source": [
        "### Defining helper functions\n",
        "\n",
        "The following are some helper functions to help with plotting, saving, and loading files. These functions are not the main focus of this lab, you do not have to dwell on these too long. However, do run the cells in this section to define these helper functions:\n"
      ]
    },
    {
      "cell_type": "code",
      "metadata": {
        "id": "7dc94535-8752-4c4b-99ad-046bf4e4c516"
      },
      "outputs": [],
      "source": [
        "def plot(COST,ACC):\n",
        "    fig, ax1 = plt.subplots()\n",
        "    color = 'tab:red'\n",
        "    ax1.plot(COST, color=color)\n",
        "    ax1.set_xlabel('epoch', color=color)\n",
        "    ax1.set_ylabel('total loss', color=color)\n",
        "    ax1.tick_params(axis='y', color=color)\n",
        "\n",
        "    ax2 = ax1.twinx()\n",
        "    color = 'tab:blue'\n",
        "    ax2.set_ylabel('accuracy', color=color)  # You already handled the x-label with ax1\n",
        "    ax2.plot(ACC, color=color)\n",
        "    ax2.tick_params(axis='y', color=color)\n",
        "    fig.tight_layout()  # otherwise the right y-label is slightly clipped\n",
        "\n",
        "    plt.show()"
      ],
      "execution_count": null
    },
    {
      "cell_type": "code",
      "metadata": {
        "id": "68e9a4ea-cbfe-4a81-9595-64348d6a8a8f"
      },
      "outputs": [],
      "source": [
        "import pickle\n",
        "\n",
        "def save_list_to_file(lst, filename):\n",
        "    \"\"\"\n",
        "    Save a list to a file using pickle serialization.\n",
        "\n",
        "    Parameters:\n",
        "        lst (list): The list to be saved.\n",
        "        filename (str): The name of the file to save the list to.\n",
        "\n",
        "    Returns:\n",
        "        None\n",
        "    \"\"\"\n",
        "    with open(filename, 'wb') as file:\n",
        "        pickle.dump(lst, file)\n",
        "\n",
        "def load_list_from_file(filename):\n",
        "    \"\"\"\n",
        "    Load a list from a file using pickle deserialization.\n",
        "\n",
        "    Parameters:\n",
        "        filename (str): The name of the file to load the list from.\n",
        "\n",
        "    Returns:\n",
        "        list: The loaded list.\n",
        "    \"\"\"\n",
        "    with open(filename, 'rb') as file:\n",
        "        loaded_list = pickle.load(file)\n",
        "    return loaded_list"
      ],
      "execution_count": null
    },
    {
      "cell_type": "markdown",
      "metadata": {
        "id": "2a222159-9f7f-438b-9c8e-c11c866683b7"
      },
      "source": [
        "---\n"
      ]
    },
    {
      "cell_type": "markdown",
      "metadata": {
        "id": "5ebf936e-8d5d-4785-8a72-a52e6f1ba651"
      },
      "source": [
        "## Data pipeline\n"
      ]
    },
    {
      "cell_type": "markdown",
      "metadata": {
        "id": "e6e92fd9-97d5-4bc0-abcc-95637929d7c9"
      },
      "source": [
        "### Tokenizer\n"
      ]
    },
    {
      "cell_type": "markdown",
      "metadata": {
        "id": "1b0b2e9f-0050-4ab0-85c4-767e95d79995"
      },
      "source": [
        "A tokenizer takes as input a document and breaks it up into individual tokens. Now, you might wonder, what's a token?\n",
        "This example might help you understand it better.\n",
        "\n",
        "Imagine a token as a puzzle piece of a jigsaw puzzle. Each word, number, or small part of a word is a token. When you tokenize a document, you break it into these puzzle pieces so that a computer can understand and work with the text more easily, just like how you solve a puzzle by arranging its pieces.\n"
      ]
    },
    {
      "cell_type": "markdown",
      "metadata": {
        "id": "59542085-7aa8-46d0-8845-cd840b6f17e6"
      },
      "source": [
        "First, import the **```get_tokenizer```** function from **```torchtext.data.utils```**.\n"
      ]
    },
    {
      "cell_type": "code",
      "metadata": {
        "id": "a58faa53-8a3e-4f80-840c-c45285614a50"
      },
      "outputs": [],
      "source": [
        "from torchtext.data.utils import get_tokenizer"
      ],
      "execution_count": null
    },
    {
      "cell_type": "markdown",
      "metadata": {
        "id": "2a53d7e6-705c-4bc6-8287-e0a97b1d2703"
      },
      "source": [
        "Next, we'll create the tokenizer. We'll set it to the \"basic_english\" tokenizer that is provided by `torchtext`. The \"basic_english\" tokenizer is designed to handle basic English text and splits the text into individual tokens based on spaces and punctuation marks.\n"
      ]
    },
    {
      "cell_type": "code",
      "metadata": {
        "id": "e4bebf0e-651b-498e-b1ba-c8f8eae7656d"
      },
      "outputs": [],
      "source": [
        "tokenizer = get_tokenizer(\"basic_english\")"
      ],
      "execution_count": null
    },
    {
      "cell_type": "markdown",
      "metadata": {
        "id": "b8b1e59c-aa00-484c-b084-2b0e5e8bde76"
      },
      "source": [
        "Our dataset is going to be an iterable. Therefore, We'll use a generator function **```yield_tokens```** to apply **```tokenizer```**. The purpose of the generator function **```yield_tokens```** is to yield tokenized texts one at a time. Instead of processing the entire dataset and returning all of the tokenized texts in one go, the generator function processes and yields each tokenized text individually as it is requested. The tokenization process is performed lazily, which means the next tokenized text is generated only when needed, saving memory and computational resources.\n"
      ]
    },
    {
      "cell_type": "code",
      "metadata": {
        "id": "92c270ae-7668-4e1d-bce3-a1988b2365ed"
      },
      "outputs": [],
      "source": [
        "def yield_tokens(data_iter):\n",
        "    for  _,text in data_iter:\n",
        "        yield tokenizer(text)"
      ],
      "execution_count": null
    },
    {
      "cell_type": "markdown",
      "metadata": {
        "id": "9e795761-fdbb-4e9c-a143-40bab6d0f05b"
      },
      "source": [
        "The following loads a pretrained word embedding model called GloVe into a variable called `glove_embedding`:\n"
      ]
    },
    {
      "cell_type": "code",
      "metadata": {
        "colab": {
          "base_uri": "https://localhost:8080/"
        },
        "id": "0d45d5a2-4fea-4923-8845-0f950e710ca1",
        "outputId": "c139615e-71cb-4fbb-e696-5d8858080317"
      },
      "outputs": [
        {
          "output_type": "stream",
          "name": "stderr",
          "text": [
            ".vector_cache/glove-6B.zip: 134MB [00:02, 47.5MB/s]                           \n",
            "100%|█████████▉| 399999/400000 [00:23<00:00, 16861.81it/s]\n"
          ]
        }
      ],
      "source": [
        "# Note that GloVe embeddings are typically downloaded using:\n",
        "#glove_embedding = GloVe(name=\"6B\", dim=100)\n",
        "# However, the GloVe server is frequently down. The code below offers a workaround\n",
        "\n",
        "\n",
        "class GloVe_override(Vectors):\n",
        "    url = {\n",
        "        \"6B\": \"https://cf-courses-data.s3.us.cloud-object-storage.appdomain.cloud/tQdezXocAJMBMPfUJx_iUg/glove-6B.zip\",\n",
        "    }\n",
        "\n",
        "    def __init__(self, name=\"6B\", dim=100, **kwargs) -> None:\n",
        "        url = self.url[name]\n",
        "        name = \"glove.{}.{}d.txt\".format(name, str(dim))\n",
        "        #name = \"glove.{}/glove.{}.{}d.txt\".format(name, name, str(dim))\n",
        "        super(GloVe_override, self).__init__(name, url=url, **kwargs)\n",
        "\n",
        "class GloVe_override2(Vectors):\n",
        "    url = {\n",
        "        \"6B\": \"https://cf-courses-data.s3.us.cloud-object-storage.appdomain.cloud/tQdezXocAJMBMPfUJx_iUg/glove-6B.zip\",\n",
        "    }\n",
        "\n",
        "    def __init__(self, name=\"6B\", dim=100, **kwargs) -> None:\n",
        "        url = self.url[name]\n",
        "        #name = \"glove.{}.{}d.txt\".format(name, str(dim))\n",
        "        name = \"glove.{}/glove.{}.{}d.txt\".format(name, name, str(dim))\n",
        "        super(GloVe_override2, self).__init__(name, url=url, **kwargs)\n",
        "\n",
        "try:\n",
        "    glove_embedding = GloVe_override(name=\"6B\", dim=100)\n",
        "except:\n",
        "    try:\n",
        "        glove_embedding = GloVe_override2(name=\"6B\", dim=100)\n",
        "    except:\n",
        "        glove_embedding = GloVe(name=\"6B\", dim=100)"
      ],
      "execution_count": null
    },
    {
      "cell_type": "markdown",
      "metadata": {
        "id": "3ac8ce6c-9ee7-493e-960c-6bd593b32e7c"
      },
      "source": [
        "The following builds a vocabulary object from a pretrained GloVe word embedding model and sets the default index to the <unk> token:\n"
      ]
    },
    {
      "cell_type": "code",
      "metadata": {
        "id": "4e36e96d-ff33-4907-8b77-071ed6fc8593"
      },
      "outputs": [],
      "source": [
        "\n",
        "from torchtext.vocab import vocab\n",
        "vocab = vocab(glove_embedding .stoi, 0,specials=('<unk>', '<pad>'))\n",
        "vocab.set_default_index(vocab[\"<unk>\"])\n",
        "\n"
      ],
      "execution_count": null
    },
    {
      "cell_type": "markdown",
      "metadata": {
        "id": "a168434f-1c6e-45b4-9ffc-9278a5785901"
      },
      "source": [
        "The following prepares the text processing pipeline with the tokenizer and vocabulary. The text pipeline will be used to process the raw data strings from the dataset iterators.\n",
        "\n",
        "The function **```text_pipeline```** first tokenizes the input text, following which **```vocab```** is applied to get the token indices.\n",
        "\n",
        "The function **```label_pipeline```** simply converts labels into their integer values.\n"
      ]
    },
    {
      "cell_type": "code",
      "metadata": {
        "id": "a59af6f6-e789-4715-8cad-a56786740b5a"
      },
      "outputs": [],
      "source": [
        "def text_pipeline(x):\n",
        "  return vocab(tokenizer(x))\n",
        "\n",
        "def label_pipeline(x):\n",
        "   return int(x)"
      ],
      "execution_count": null
    },
    {
      "cell_type": "markdown",
      "metadata": {
        "id": "f785d35f-6a5b-4717-a03e-c2006187a5a1"
      },
      "source": [
        "---\n"
      ]
    },
    {
      "cell_type": "markdown",
      "metadata": {
        "id": "50527f14-1036-43f3-821f-15069869540d"
      },
      "source": [
        "## IMDB dataset\n"
      ]
    },
    {
      "cell_type": "markdown",
      "metadata": {
        "id": "9f1c9a7e-0fb1-410b-a99f-234d077bee19"
      },
      "source": [
        "The following loads the IMDB dataset into a temporary folder. This might take some time, so please be patient.\n"
      ]
    },
    {
      "cell_type": "code",
      "metadata": {
        "id": "2cf766d3-876d-4a27-b66c-c4757c03295e"
      },
      "outputs": [],
      "source": [
        "urlopened = urlopen('https://cf-courses-data.s3.us.cloud-object-storage.appdomain.cloud/35t-FeC-2uN1ozOwPs7wFg.gz')\n",
        "tar = tarfile.open(fileobj=io.BytesIO(urlopened.read()))\n",
        "tempdir = tempfile.TemporaryDirectory()\n",
        "tar.extractall(tempdir.name)\n",
        "tar.close()"
      ],
      "execution_count": null
    },
    {
      "cell_type": "markdown",
      "metadata": {
        "id": "46da506c-9233-4f48-8659-5d202b5d5e39"
      },
      "source": [
        "The **IMDB dataset** contains movie reviews from the Internet Movie Database (IMDB) and is commonly used for binary sentiment classification tasks. It's a popular dataset for training and testing models in natural language processing (NLP), particularly in the context of sentiment analysis.\n",
        "\n",
        "### Dataset composition\n",
        "\n",
        "- **Reviews**: The dataset consists of 50,000 movie reviews, divided evenly into 25,000 training and 25,000 testing samples.\n",
        "- **Sentiment labels**: Each review is labeled as either positive or negative, indicating the sentiment expressed in the review. The dataset is balanced, with an equal number of positive and negative reviews in both the training and testing sets.\n",
        "- **Text content**: Reviews are presented as plain text and have been preprocessed to some extent. For example, HTML tags are removed, but the text retains its original punctuation and capitalization.\n",
        "- **Usage**: The dataset is commonly used to train models for binary sentiment classification, where the goal is to predict whether a given review is positive or negative based on its text content.\n",
        "\n",
        "### Applications\n",
        "\n",
        "- **Sentiment analysis**: The primary application of the IMDB dataset is in sentiment analysis, where it serves as a benchmark for various text classification algorithms.\n",
        "- **Natural language processing (NLP)**: The dataset is widely used in NLP research and applications, providing a basis for testing the effectiveness of different models and approaches in understanding human language.\n",
        "\n",
        "### Challenges\n",
        "\n",
        "The dataset is small, so it's hard to train a model from scratch.\n",
        "\n",
        "The following class is defined to traverse the IMDB dataset. The need to define this class arises from the fact that the IMDB dataset is split across a large number of files:\n"
      ]
    },
    {
      "cell_type": "code",
      "metadata": {
        "id": "56faab08-eff1-455a-bdb1-4e1eda3a9b78"
      },
      "outputs": [],
      "source": [
        "class IMDBDataset(Dataset):\n",
        "    def __init__(self, root_dir, train=True):\n",
        "        \"\"\"\n",
        "        root_dir: The base directory of the IMDB dataset.\n",
        "        train: A boolean flag indicating whether to use training or test data.\n",
        "        \"\"\"\n",
        "        self.root_dir = os.path.join(root_dir, \"train\" if train else \"test\")\n",
        "        self.neg_files = [os.path.join(self.root_dir, \"neg\", f) for f in os.listdir(os.path.join(self.root_dir, \"neg\")) if f.endswith('.txt')]\n",
        "        self.pos_files = [os.path.join(self.root_dir, \"pos\", f) for f in os.listdir(os.path.join(self.root_dir, \"pos\")) if f.endswith('.txt')]\n",
        "        self.files = self.neg_files + self.pos_files\n",
        "        self.labels = [0] * len(self.neg_files) + [1] * len(self.pos_files)\n",
        "        self.pos_inx=len(self.pos_files)\n",
        "\n",
        "    def __len__(self):\n",
        "        return len(self.files)\n",
        "\n",
        "    def __getitem__(self, idx):\n",
        "        file_path = self.files[idx]\n",
        "        label = self.labels[idx]\n",
        "        with open(file_path, 'r', encoding='utf-8') as file:\n",
        "            content = file.read()\n",
        "\n",
        "        return label, content"
      ],
      "execution_count": null
    },
    {
      "cell_type": "markdown",
      "metadata": {
        "id": "17a36190-ac1f-498f-a961-efabef7edad5"
      },
      "source": [
        "The following uses the `IMDBDataset` class defined above to create iterators for the train and test datasets:\n"
      ]
    },
    {
      "cell_type": "code",
      "metadata": {
        "id": "38dd9312-389d-4816-9e7e-2ebbcb1a5364"
      },
      "outputs": [],
      "source": [
        "root_dir = tempdir.name + '/' + 'imdb_dataset'\n",
        "train_iter = IMDBDataset(root_dir=root_dir, train=True)  # For training data\n",
        "test_iter = IMDBDataset(root_dir=root_dir, train=False)  # For test dataart=train_iter.pos_inx\n"
      ],
      "execution_count": null
    },
    {
      "cell_type": "markdown",
      "metadata": {
        "id": "06b43c4e-373f-48c0-ab24-c6142322f68a"
      },
      "source": [
        "The following prints 20 samples from the training set:\n"
      ]
    },
    {
      "cell_type": "code",
      "metadata": {
        "colab": {
          "base_uri": "https://localhost:8080/"
        },
        "id": "94941abc-f1eb-43a5-939c-4457b7d2fe81",
        "outputId": "474bbedd-c5a5-431a-990b-cb1f23aea3e1"
      },
      "outputs": [
        {
          "output_type": "stream",
          "name": "stdout",
          "text": [
            "(1, 'Ah, noir. My favourite genre. Otto Preminger\\'s follow-up to \"Laura\" is a film noir set in a postwar New York, where corruption and violence run rampant. It stars Dana Andrews as Sergeant Mark Dixon, a detective whose brutal tactics have landed him in hot water with his superiors. <br /><br />When he accidentally kills a murder suspect, Dixon tries to pin the blame on crime boss Tommy Scalese. Dixon is close to achieving his goal when he becomes involved with the dead man\\'s wife, the beautiful Morgan Taylor. Of course, in typical noir fashion, things quickly go down hill.<br /><br />While the film does nothing interesting camera or narrative wise, it does have a constant tone of dread and gloom. Like most great noirs, it is also wonderfully paced, sucking the viewer in right from the start.<br /><br />Still, like most of Preminger\\'s workmanlike films, it\\'s not something I\\'d watch again. It lacks the verbal wit of Wilder, the visual flamboyance of Hitchcock or the spatial experimentation of Welles. Like Lang\\'s later work, \"Sidewalk\" feels very much a \"clone\" of what a noir should be, instead of something really artistically genuine. <br /><br />Thematically the film is nothing special. It\\'s about a cop who finds himself slowly becoming a criminal. In one scene Dixon explains that his father himself was a small time crook, the film flirting with the notion of predestination, but this one scene is as far as Otto goes, or dares to take his ideas.<br /><br />The camera work is likewise disappointing. There\\'s no intelligence in Otto\\'s camera. No effort is made to assign the camera to anything. It doesn\\'t play with space or architecture or empahsise the step-by-step police procedural. It\\'s just tripod set ups with the occasional dolly in and out. Meaningless, though most people don\\'t care about these things. <br /><br />There is, however, one good shot where our hero is trapped in a car full of gangsters (noir cage) which itself enters a vehicle-lift (another cage) and is taken up into the chief gangster\\'s lair. Like Lynch\\'s \"Blue Velvet\", Otto retopologizes the film, constantly likens \"upstairs\" to hell. This works well, but the set design fails to reinforce it. <br /><br />7/10 - Otto seems content to follow the Hawksian mould of what a noir is, rather than toy with the possibilities of where noir can go. Like \"Detour\", \"Night in the City\", \"Scarlet Street\", \"In A Lonely Place\", \"Act of Violence\", \"Bomberang\" and \"Johnny Eager\", \"Where the Sidewalk Ends\" is one of those well made second tier film noirs. It\\'s competent and engaging, but lacks that extra special magic.')\n",
            "(1, '\"Shall We Dance?\", a light-hearted flick from Japan, tells of an overworked accountant and family man who is attracted to a dance studio by a beautiful woman he see\\'s from the train during his daily commute. What he finds in the studio are lessons in dancing and, most of all, himself. Funny, poignant, and utterly charming, \"SWD\" is an award winning film well worth a look by more mature viewers. (B)')\n",
            "(1, \"Why do people bitch about this movie and not about awful movies like The Godfather. Titanic is the greatest movie of the 21st Century.With great acting,directing,effects,music and generally everything. This movie is always dumped by all because one day some one said they didn't like it any more so most of the world decided to agree. There is nothing wrong with this movie. All I can say is that this movie, not only being the most heavily Oscar Awarded movie of all time, the most money ever made ever and sadly one of the most underrated movies I've ever seen. Apart from that it is truly the best movie of all time. The only movies that come close to being like all the Star Wars and the Lord of the Rings trilogy or anything by the masters Hitchcock or Spielberg or Tim Burton. These are all good movies and directors but none match up to James Cameron's Masterpiece TITANIC.\")\n",
            "(1, \"In all the comments praising or damning Dalton's performance, I thought he was excellent. He does not play Rochester as a spoiled pretty rich boy, but as a roguish, powerful man. I liked this version, although the shot on video aspect was sometimes distracting, and the scenes with Jane and St. John never quite gelled. I give this an 8.\")\n",
            "(1, \"I know a lot of people don't like this movie, but I just think it is adorable. There's not much I can say, but the movie is a feel-good movie I guess. The songs are beautiful, the costumes are beautiful, the voices are beautiful, and there are a lot of funny lines in the movie, especially as Briggitta learns about the do's and don't's of society. If you like musicals, I'd say you'd like this one!\")\n",
            "(1, 'Did you ever wonder how far one movie could go? <br /><br />Schizophreniac relentlessly explores the world of the extreme with Harry Russo. <br /><br />Harry is an aggravated writer, killer and drug addict scumbag who will stop at nothing to destroy those who stand between him and insanity. Driven by the demonic voices of his ventriloquist dummy rubberneck, Harry begins his killing spree. <br /><br />From director Ron Atkins comes the 1st installment of the vilest story ever to be filmed<br /><br />The only other movie I have seen similar to this would happen to be the 2nd installment entitled Schizophreniac Necromaniac<br /><br />This is a really low budget film and will not be for everyone, but if you are looking for something disturbing, different and horrific then this would make a fine choice.<br /><br />DO NOT EXPECT ANYTHING LIKE MODERN DAY HORROR (Such as Scream)<br /><br />Viewer discretion is advised')\n",
            "(1, \"Artimisia was on late last night. At first I didn't think I would like it, but seeing I didn't feel like sleeping yet and nothing else being on, I continued watching and felt myself intrigued by the young Artimisia, a virgin, pure and passionate. Her romance with the older Tassi envoked recognisable feelings. Even though the film is based on a very romantisised level and not reality, I loved it a lot more than the usual biographys or costume drama's. Great play, great camerashots, great music and texts. I loved it and I want more of it! :-)\")\n",
            "(1, 'If you still remember that summer when you had your first kiss, first boy/girlfriend, or first puppy love fling...this film is for you! OK so this movie would and will never win an Oscar BUT as a Dominican I loved it...there are some things in the movie that might just go right over your head if you are not part of the culture...the kids being raised by a grandma who\\'s both mother and father, the youngest son being babied and bathed with a Cafe Bustelo tin (sooo Dominican!), Judy being harassed by the neighborhood men, going to church and lighting a prayer candle...the film\\'s brilliance was in those small details. Granted, it was not a pull out all the works cinematic extravaganza but it wasn\\'t meant to be NOR was it meant to be an educational tool for those wanting to learn about Latin culture ( tip: make new friends instead). More of a bitter-sweet, faux-cumentery, this film kept it real without taking itself too seriously. As in the tradition of \"Y Tu Mama Tambien\" this was simply one boy\\'s coming of age tale. I recommend it (especialmente si eres Dominicano!) =o)')\n",
            "(1, \"I picked this up in the 'Danger After Dark' box set, and watched it solely because of my interest in the performance of Hyde and Gackt. I expected a corny horror film that was a huge gore-fest and with very bad dialogue. Which is exactly what it would have been if it had been made in America. Instead I found myself intrigued by the good development of the characters, and the way that Sho (Gackt) develops through the movie as a person. The acting skills of both stars was surprisingly good, considering they aren't professional actors, and the director did a marvelous job with it all, setting it in the future minus the flying cars and holographic billboards.<br /><br />On a side note, Taro Yamamoto's performance was very surprising. The only other film I've seen him in is Battle Royale, where he plays Shogo Kawada, and in this film he seems to be the exact opposite of Shogo. Toshi is bright, exuberant and hyper, serving as a sort of comic relief with his antics. Shogo was the big tough guy on the island who killed without thinking anything of it. So, watch out for his performance, if you're familiar with Battle Royale, you'll be very surprised by him.<br /><br />But don't be thrown off by the summary on the back of the box, because this isn't really a vampire movie. It's just a movie with a vampire in it. That Hyde's character is a vampire is almost a background fact with what's really going on in the foreground, and you guys will love the last scene. It's a really moving picture at some points, the photography is really well done. It's definitely something to pick up the next time you're at Blockbuster.\")\n",
            "(1, 'This is one of those movies that made me feel strongly for the need of making movies at all. Generally speaking, I am a fan of movies based on worthy true stories. And this one is GREAT! Besides Meryl\\'s performance which has gained a lot of recognition and praise, the movie\\'s greatest asset is the story it is based on. The riveting tale of a couple who suffer social and legal torture, after having undergone enormous emotional pain at the unexpected and brutal death of their infant child is really an eye-opening fable that exposes the inhumane side of fellow humans, and uncovers the barbarism of a very refined and lawful society. It is interesting to see how people who consider themselves as kind and intelligent people (the emotional jury ladies in the movie for example) are in reality nothing more than selfish dupes who would, for their dogmatic beliefs and prejudices, shut their brains to any deliberation and contemplation even in the light of all facts pointing very clearly against their opinions. The other face of the so-called \"civilized\" society that the movie exposes is the apathy to the pain of fellow human beings (needless to say, this is very general, even though this specific tale unfolds in Australia), that goes as far as becoming a true cruelty. Must see if you are willing to take something serious and perhaps thought-provoking.')\n",
            "(0, \"You could say that the actors will make a movie, but this clearly proves that statement wrong. Most of the characters in this film lack anything to hold on to. They play the part of cardboard cut outs being moved about in predictable and uninteresting ways. The story is very simple. It could be summed up in a few words, but I'll hold back in case anyone reading does want to see this film.<br /><br />I had to fast forward the parts where Jack showed us how to be an obnoxious eater. I'd have to say that 70% of this film revolved around cooking, eating, or getting ready to eat. Quite frankly, I'd rather not spend my time watching Jack chew noisily with an open mouth. Personally, I could have done without the footwear references and jokes that pepper the first half of the film too.<br /><br />Outside of my own personal dementia, the film really lacked anything worth it's time. There were countless scenes and camera shots that felt like it was dragging. When something happens, the reactions of the characters are vague and dry.<br /><br />Best not to look this one up.\")\n",
            "(0, 'While \"Santa Claus Conquers the Martians\" is usually cited as one of the worse films ever made, this Mexican-made film from 1959 is so bad it makes \"SCCM\" look like \"It\\'s a Wonderful Life.\" You have to wonder what the people who made this film were thinking; perhaps they meant it as a third-world allegory about capitalist greed and conspicuous consumption. Nah . . . They just weren\\'t very good. The same production company made an even more disturbing version of \"Little Red Riding Hood\" in which the wolf\\'s obsession with our heroine has unmistakable hints of pedophilia. (Perhaps this was the inspiration for \"Freeway.\") Back to \"Santa Claus\": instead of the North Pole, Jolly Old Saint Nicholas resides in a satellite in geosynchronous earth orbit (shades of \"MST3K\"); instead of elves his toys are made by children chosen from around the world; and he had sophisticated spy equipment to check just which kids are naughty and nice. The result is like an Orwellian outer space sweat shop. It\\'s enough to turn you off Christmas forever. This and other low-rent Mexican children\\'s\\' films were dubbed in English and widely distributed in the U.S. in the early 1960s; no wonder the sixties became such a turbulent period in American history. The baby boomers who were forced to endure these \"family\" films as children would be all too eager to turn revolutionary.')\n",
            "(0, \"When i got this movie free from my job, along with three other similar movies.. I watched then with very low expectations. Now this movie isn't bad per se. You get what you pay for. It is a tale of love, betrayal, lies, sex, scandal, everything you want in a movie. Definitely not a Hollywood blockbuster, but for cheap thrills it is not that bad. I would probably never watch this movie again. In a nutshell this is the kind of movie that you would see either very late at night on a local television station that is just wanting to take up some time, or you would see it on a Sunday afternoon on a local television station that is trying to take up some time. Despite the bad acting, cliché lines, and sub par camera work. I didn't have the desire to turn off the movie and pretend like it never popped into my DVD player. The story has been done many times in many movies. This one is no different, no better, no worse. <br /><br />Just your average movie.\")\n",
            "(0, \"An anthology is always risky business and I think this endeavor should be praised. There's a lot of talent involved here. A great many talented actors, directors and writers. Unfortunately, I couldn't really enjoy this movie based on three issues I had.<br /><br />First of all, the segments vary incredibly in tone and quality. And unfortunately some of them clash with the others. <br /><br />Secondly, several segments feel underdeveloped to me. Like seeds of good stories that never come to fruition. I'm not talking about happy endings here (or even an ending period) but rather, they lack even basic development or even solid setups that draw you in. <br /><br />Last but not least, I did not feel New-York and its inhabitants were properly portrayed.<br /><br />What you're left with is high-brow short films that may still be of interest to some but will leave the average viewer unsatisfied.\")\n",
            "(0, \"Every once in a while, a group of friends, with a minimal budget but bags of enthusiasm and talent, will create a low budget masterpiece that takes the world of horror by storm. Raimi and co. did it with The Evil Dead, Jackson and pals succeeded with Bad Taste; and Myrick and Sanchez made a mint with The Blair Witch Project.<br /><br />Director Todd Sheets and his chums, however, are destined to wallow forever in relative obscurity if Zombie Bloodbath is anything to go by. A lesson in how not to make a cheapo horror, this miserable effort (about a plague of flesh-eating zombies\\x97natch) serves as a reminder that, whilst many people these days have access to a video camera, most shouldn't take that as their cue to try their hand at making a full-length movie.<br /><br />It's not that Sheets hasn't got an eye for a nicely framed shot (some of his camera angles and movements are actually pretty good), but rather that a) he has a lousy script b) he has a lousy cast, and c) he doesn't realise that he has a lousy script and cast. Which means that the final film is amateurish in the extreme, and unlikely to be watched in its entirety by anyone other than zombie film completists (like me) or members of the cast and crew (like those who have given the film favourable comments).<br /><br />Zombie Bloodbath is obviously aimed at undiscriminating gore-hounds, and Sheets (who currently has an incredible 34 titles under his belt as a director) certainly goes out of his way to please, with buckets of offal and blood thrown about at every opportunity. But whilst these moments are undeniably yucky, they aren't particularly convincing, and soon get rather tedious.<br /><br />So, to summarise, this is a really bad film, with almost no redeeming features. Except for two:<br /><br />Firstly, it features the single greatest mullet in the history of film, as sported by Jerry Angell, who plays Larry (as well as several zombies). The magnificence of his barnet (coupled with a fetching moustache) is reason alone to watch this film.<br /><br />Secondly, it has 'pathetic stealth zombies': flesh-eating corpses that lie in wait for unfortunate victims to wander by, before leaping from their hiding place to launch a feeble attack, which requires almost no effort to escape from. Best known for lurking behind a door for hours waiting for someone to open it, 'pathetic stealth zombies' also occasionally hide behind low walls, or sit in churches posing as members of the congregation.<br /><br />Normally a film this bad would get 1/10 for me, but, in celebration of Jerry Angell's flowing locks, I will generously raise my rating to 2/10.\")\n",
            "(0, 'i was enjoying this movie most of the time, but i kept getting the feeling that i was watching a children\\'s movie. i honestly think that somebody wrote a pg script and then, while filming, decided to add in some blood, nudity and language. it was a big let down. there\\'s that believe the children magic that exists in movies like \"babe\" (the pig) or \"angels in the outfield\" that defeats the evil tooth fairy. the parents end up believing their daughter about her ability to see the ghost and utilize this skill to supernaturally defeat the tooth fairy. when i bought this movie, i thought it would be a b-film response to the dreadful darkness falls; somehow manage to make a better film with 1/4 of the money, but they don\\'t. they made a worse film and will probably lose the same proportion of money lost on darkness falls.')\n",
            "(0, \"This is exactly the sort of Saturday matinee serial I loved during World War II. I was under ten years of age. And that's the audience this serial is designed for. Looking at it now, one must roar at its ineptitude and stupidity. The budget must have been next to nothing, given the shortcuts and repeats. The acting? Well, this is Republic pictures, 1944. They read the lines....and no doubt had one take to make them convincing.<br /><br />One and half stars.\")\n",
            "(0, \"There's not much to say about this one. Gammera is some kind of fire breathing turtle. He is loosed by a nuclear explosion. He heads for land and begins to destroy building and tanks and other junk (oh yeah, power lines. I almost forgot). At one time, early in the film, he befriends a little boy, and instead of just throwing him away, or squashing him, he places him down on the ground. Safe. From then on we have to watch this chubby faced little twerp show up and run away, show up and run away, show up and run away. For some reason, Gammera is able to hear this kid from 20,000 feet away. Oh, well, the plot is to try to get Gammera to get to a place where he can be put on board a rocket and shot into space. As usual, the monster is lumbering and uncoordinated (a guy in a Gammera suit). The Japanese army (with the help of Americans), uses up enough ammunition and fire power to solve the national debt, and, of course, it does no good. They should know this anyway. We've seen a lot of monsters stomp on Tokyo. Not to put these down because they can be fun, but it's really not very good.\")\n",
            "(0, \"This movie is a disgrace to the Major League Franchise. I live in Minnesota and even I can't believe they dumped Cleveland. (Yes I realize at the time the real Indians were pretty good, and the Twins had taken over their spot at the bottom of the American League, but still be consistent.) Anyway I loved the first Major League, liked the second, and always looked forward to the third, when the Indians would finally go all the way to the series. You can't tell me this wasn't the plan after the second film was completed. What Happened? Anyways if your a true fan of the original Major League do yourself a favor and don't watch this junk.\")\n",
            "(0, \"Reviews for this film were lukewarm at best while expectations were sky high: a big budget, tons of popular faces, a rather funny idea and a main actress everyone loves. The end result is a disaster. Alice Tremblay's supposedly humorous journey in fantasy world fails in every way to entertain it's audience (I didn't hear a single laugh throughout the entire presentation), going through it's page-thin story line and one-dimensional characters without a single spark, not a sign of the magic it wished it had. The 90 minutes of film here are sterile with clumsy direction and some good actors doing their best to come of as professionals in a feature that certainly couldn't seem that great an idea on the set, let alone on paper. 'L'Odyssée d'Alice Tremblay' is a collage of comic sketches, linked together with a (very) thin layer of good ideas. Avoid or boredom will haunt you.\")\n"
          ]
        }
      ],
      "source": [
        "\n",
        "start=train_iter.pos_inx\n",
        "start=0\n",
        "for i in range(-10,10):\n",
        "    print(train_iter[start+i])"
      ],
      "execution_count": null
    },
    {
      "cell_type": "markdown",
      "metadata": {
        "id": "f8a26d64-440c-4862-9483-e5bda439f70d"
      },
      "source": [
        "The following defines the mapping of numeric labels to positive and negative reviews:\n"
      ]
    },
    {
      "cell_type": "code",
      "metadata": {
        "colab": {
          "base_uri": "https://localhost:8080/",
          "height": 36
        },
        "id": "46461777-6d2d-4e11-8612-5f6ae7eb9e32",
        "outputId": "7b67e5be-838c-4439-f367-392cb92e5729"
      },
      "outputs": [
        {
          "output_type": "execute_result",
          "data": {
            "text/plain": [
              "'positive review'"
            ],
            "application/vnd.google.colaboratory.intrinsic+json": {
              "type": "string"
            }
          },
          "metadata": {},
          "execution_count": 14
        }
      ],
      "source": [
        "imdb_label = {0: \" negative review\", 1: \"positive review\"}\n",
        "imdb_label[1]"
      ],
      "execution_count": null
    },
    {
      "cell_type": "markdown",
      "metadata": {
        "id": "76b5ce6f-27cd-4a80-90c1-a058bff0d29b"
      },
      "source": [
        "The following checks to make sure that there are exactly 2 classes in the train dataset:\n"
      ]
    },
    {
      "cell_type": "code",
      "metadata": {
        "colab": {
          "base_uri": "https://localhost:8080/"
        },
        "id": "77a6f0fb-2b99-4bb2-84eb-299bd12437c6",
        "outputId": "9b4e0dae-2f87-41fa-912d-4b348ff987ea"
      },
      "outputs": [
        {
          "output_type": "execute_result",
          "data": {
            "text/plain": [
              "2"
            ]
          },
          "metadata": {},
          "execution_count": 15
        }
      ],
      "source": [
        "num_class = len(set([label for (label, text) in train_iter ]))\n",
        "num_class"
      ],
      "execution_count": null
    },
    {
      "cell_type": "markdown",
      "metadata": {
        "id": "e56111be-e704-4900-bcb7-1b23c96c9e52"
      },
      "source": [
        "The following are some token indices:\n"
      ]
    },
    {
      "cell_type": "code",
      "metadata": {
        "colab": {
          "base_uri": "https://localhost:8080/"
        },
        "id": "8c7e8061-fc09-4a16-8838-7558fc49c057",
        "outputId": "7dcf279b-ce96-47c0-d8b5-e0a7e6de80ac"
      },
      "outputs": [
        {
          "output_type": "execute_result",
          "data": {
            "text/plain": [
              "[466, 13077]"
            ]
          },
          "metadata": {},
          "execution_count": 16
        }
      ],
      "source": [
        "vocab([\"age\",\"hello\"])"
      ],
      "execution_count": null
    },
    {
      "cell_type": "markdown",
      "metadata": {
        "id": "aaa4f185-21f6-4d4b-847b-8c1da4b68041"
      },
      "source": [
        "### Train and validate\n"
      ]
    },
    {
      "cell_type": "markdown",
      "metadata": {
        "id": "2ff0f43b-fb9a-4e51-8dae-b50ade1f6efe"
      },
      "source": [
        "The following converts the dataset into map-style datasets and then performs a random split to create separate training and validation datasets. The training dataset will contain 95% of the samples in the original training set, while the validation dataset will contain the remaining 5%. These datasets can be used for training and evaluating a machine learning model for text classification on the IMDB dataset. The final performance of the model will be evaluated on the hold-out test set:\n"
      ]
    },
    {
      "cell_type": "code",
      "metadata": {
        "id": "d49ef431-d17a-47db-ba83-9a443012047e"
      },
      "outputs": [],
      "source": [
        "\n",
        "# Convert the training and testing iterators to map-style datasets.\n",
        "train_dataset = to_map_style_dataset(train_iter)\n",
        "test_dataset = to_map_style_dataset(test_iter)\n",
        "\n",
        "# Determine the number of samples to be used for training and validation (5% for validation).\n",
        "num_train = int(len(train_dataset) * 0.95)\n",
        "\n",
        "# Randomly split the training dataset into training and validation datasets using `random_split`.\n",
        "# The training dataset will contain 95% of the samples, and the validation dataset will contain the remaining 5%.\n",
        "split_train_, split_valid_ = random_split(train_dataset, [num_train, len(train_dataset) - num_train])"
      ],
      "execution_count": null
    },
    {
      "cell_type": "markdown",
      "metadata": {
        "id": "c45a2f97-d395-41ce-b04a-6c95fd56ee35"
      },
      "source": [
        "The following code checks if a CUDA-compatible GPU is available in the system using PyTorch, a popular deep learning framework. If a GPU is available, it assigns the device variable to \"cuda\" (which stands for CUDA, the parallel computing platform and application programming interface model developed by NVIDIA). If a GPU is not available, it assigns the device variable to \"cpu\" (which means the code will run on the CPU instead).\n"
      ]
    },
    {
      "cell_type": "code",
      "metadata": {
        "colab": {
          "base_uri": "https://localhost:8080/"
        },
        "id": "dfc86784-6ba9-4e50-9690-70492c1bec67",
        "outputId": "577f073a-7fee-4f0f-bde8-3620b5e5bfed"
      },
      "outputs": [
        {
          "output_type": "execute_result",
          "data": {
            "text/plain": [
              "device(type='cpu')"
            ]
          },
          "metadata": {},
          "execution_count": 18
        }
      ],
      "source": [
        "device = torch.device(\"cuda\" if torch.cuda.is_available() else \"cpu\")\n",
        "device"
      ],
      "execution_count": null
    },
    {
      "cell_type": "markdown",
      "metadata": {
        "id": "92f4a2b7-c293-42b5-bdd8-0970734690a9"
      },
      "source": [
        "### Data loader\n"
      ]
    },
    {
      "cell_type": "markdown",
      "metadata": {
        "id": "a3331562-f1f5-4912-8a6a-95227c570e1b"
      },
      "source": [
        "In PyTorch, the **`collate_fn`** function is used in conjunction with data loaders to customize the way batches are created from individual samples. The provided code defines a `collate_batch` function in PyTorch, which is used with data loaders to customize batch creation from individual samples. It processes a batch of data, including labels and text sequences. It applies the `text_pipeline` function to preprocess the text. The processed data is then converted into PyTorch tensors and returned as a tuple containing the label tensor, text tensor, and offsets tensor representing the starting positions of each text sequence in the combined tensor. The function also ensures that the returned tensors are moved to the specified device (e.g., GPU) for efficient computation.\n"
      ]
    },
    {
      "cell_type": "code",
      "metadata": {
        "id": "c6596466-211b-4386-ab81-e1dfa1d17e64"
      },
      "outputs": [],
      "source": [
        "from torch.nn.utils.rnn import pad_sequence\n",
        "\n",
        "def collate_batch(batch):\n",
        "    label_list, text_list = [], []\n",
        "    for _label, _text in batch:\n",
        "        label_list.append(label_pipeline(_label))\n",
        "        text_list.append(torch.tensor(text_pipeline(_text), dtype=torch.int64))\n",
        "\n",
        "\n",
        "    label_list = torch.tensor(label_list, dtype=torch.int64)\n",
        "    text_list = pad_sequence(text_list, batch_first=True)\n",
        "\n",
        "\n",
        "    return label_list.to(device), text_list.to(device)"
      ],
      "execution_count": null
    },
    {
      "cell_type": "markdown",
      "metadata": {
        "id": "dfcb76e3-9b34-443c-9794-c044107620f8"
      },
      "source": [
        "You convert the dataset objects to a data loader by applying the collate function.\n"
      ]
    },
    {
      "cell_type": "code",
      "metadata": {
        "id": "307adb50-0888-4345-983a-f15d8de23427"
      },
      "outputs": [],
      "source": [
        "BATCH_SIZE = 64\n",
        "\n",
        "train_dataloader = DataLoader(\n",
        "    split_train_, batch_size=BATCH_SIZE, shuffle=True, collate_fn=collate_batch\n",
        ")\n",
        "valid_dataloader = DataLoader(\n",
        "    split_valid_, batch_size=BATCH_SIZE, shuffle=True, collate_fn=collate_batch\n",
        ")\n",
        "test_dataloader = DataLoader(\n",
        "    test_dataset, batch_size=BATCH_SIZE, shuffle=True, collate_fn=collate_batch\n",
        ")"
      ],
      "execution_count": null
    },
    {
      "cell_type": "markdown",
      "metadata": {
        "id": "90bd040f-5bdf-4e56-ab1a-c119fa5bcdc1"
      },
      "source": [
        "Let's check the what these data loaders generate:\n"
      ]
    },
    {
      "cell_type": "code",
      "metadata": {
        "colab": {
          "base_uri": "https://localhost:8080/"
        },
        "id": "56e89212-6ff5-4c7d-9313-9533e32a7de8",
        "outputId": "cbfd3eb1-5392-4612-936d-61b0544674b6"
      },
      "outputs": [
        {
          "output_type": "execute_result",
          "data": {
            "text/plain": [
              "(tensor([0, 0, 1, 1, 1, 0, 0, 0, 0, 0, 1, 0, 1, 1, 1, 0, 0, 1, 1, 0, 0, 0, 0, 0,\n",
              "         0, 0, 1, 0, 0, 1, 1, 0, 1, 1, 1, 0, 0, 0, 1, 0, 0, 0, 0, 1, 0, 0, 1, 1,\n",
              "         1, 1, 0, 0, 0, 0, 0, 1, 0, 0, 0, 0, 0, 0, 0, 1]),\n",
              " tensor([[2543,  577,   12,  ...,    0,    0,    0],\n",
              "         [  43,   59, 1995,  ...,    0,    0,    0],\n",
              "         [  43,  824,   39,  ...,    0,    0,    0],\n",
              "         ...,\n",
              "         [   2,   60,  155,  ...,    0,    0,    0],\n",
              "         [  39,   16,  172,  ...,    0,    0,    0],\n",
              "         [1793,    0,  525,  ...,    0,    0,    0]]))"
            ]
          },
          "metadata": {},
          "execution_count": 21
        }
      ],
      "source": [
        "label,seqence=next(iter(valid_dataloader ))\n",
        "label,seqence"
      ],
      "execution_count": null
    },
    {
      "cell_type": "markdown",
      "metadata": {
        "id": "ff4efba9-55c2-43da-90ce-9960cdae35fa"
      },
      "source": [
        "### Neural network\n"
      ]
    },
    {
      "cell_type": "markdown",
      "metadata": {
        "id": "d50c9211-41d6-4617-b9aa-b7f6e02f9389"
      },
      "source": [
        "This code defines a class called `TextClassifier` that represents a simple text classifier that uses an embedding layer, a hidden linear layer with a ReLU avtivation, and an output linear layer. The constructor takes the following arguments:\n",
        "\n",
        "- `num_class`: The number of classes to classify.\n",
        "- `freeze`: Whether to freeze the embedding layer.\n"
      ]
    },
    {
      "cell_type": "code",
      "metadata": {
        "id": "84973885-8670-4c92-a72c-5ed69bc78dc2"
      },
      "outputs": [],
      "source": [
        "from torch import nn\n",
        "\n",
        "class TextClassifier(nn.Module):\n",
        "    def __init__(self, num_classes,freeze=False):\n",
        "        super(TextClassifier, self).__init__()\n",
        "        self.embedding = nn.Embedding.from_pretrained(glove_embedding.vectors.to(device),freeze=freeze)\n",
        "        # An example of adding additional layers: A linear layer and a ReLU activation\n",
        "        self.fc1 = nn.Linear(in_features=100, out_features=128)\n",
        "        self.relu = nn.ReLU()\n",
        "        # The output layer that gives the final probabilities for the classes\n",
        "        self.fc2 = nn.Linear(in_features=128, out_features=num_classes)\n",
        "\n",
        "    def forward(self, x):\n",
        "        # Pass the input through the embedding layer\n",
        "        x = self.embedding(x)\n",
        "        # Here you can use a simple mean pooling\n",
        "\n",
        "        x = torch.mean(x, dim=1)\n",
        "        # Pass the pooled embeddings through the additional layers\n",
        "        x = self.fc1(x)\n",
        "        x = self.relu(x)\n",
        "        return self.fc2(x)\n",
        "\n",
        "\n",
        "\n",
        "\n"
      ],
      "execution_count": null
    },
    {
      "cell_type": "markdown",
      "metadata": {
        "id": "709471c4-a1a2-46d5-9a18-d4c8f6b829fd"
      },
      "source": [
        "## Train the model on the full dataset\n",
        "\n",
        "The model can then be trained on labeled data from the IMDB dataset with two classes.\n"
      ]
    },
    {
      "cell_type": "markdown",
      "metadata": {
        "id": "d694c3a6-93cc-4ac7-bca8-437598676bcb"
      },
      "source": [
        "First, let's create the model.\n"
      ]
    },
    {
      "cell_type": "code",
      "metadata": {
        "colab": {
          "base_uri": "https://localhost:8080/"
        },
        "id": "922474c5-bc40-4c33-adf9-4a20567c56fe",
        "outputId": "bf7ec1f9-e4ec-4234-cdfe-e62663bb8f7d"
      },
      "outputs": [
        {
          "output_type": "execute_result",
          "data": {
            "text/plain": [
              "TextClassifier(\n",
              "  (embedding): Embedding(400000, 100)\n",
              "  (fc1): Linear(in_features=100, out_features=128, bias=True)\n",
              "  (relu): ReLU()\n",
              "  (fc2): Linear(in_features=128, out_features=2, bias=True)\n",
              ")"
            ]
          },
          "metadata": {},
          "execution_count": 23
        }
      ],
      "source": [
        "model=TextClassifier(num_classes=2,freeze=True)\n",
        "model.to(device)"
      ],
      "execution_count": null
    },
    {
      "cell_type": "markdown",
      "metadata": {
        "id": "d0503097-4199-47fc-b419-ee0801651388"
      },
      "source": [
        "The code line `predicted_label=model(text, offsets)` is used to obtain predicted labels from a model for a given input text and its corresponding offsets.\n"
      ]
    },
    {
      "cell_type": "code",
      "metadata": {
        "id": "8f50b548-50e0-4e9a-b254-42851b1e0b72"
      },
      "outputs": [],
      "source": [
        "model.eval()\n",
        "predicted_label=model(seqence)"
      ],
      "execution_count": null
    },
    {
      "cell_type": "markdown",
      "metadata": {
        "id": "406d3ff1-a30f-4391-980b-cd61326249af"
      },
      "source": [
        "The following returns the shape of `predicted_label`. Because your dataset iterators are batching 64 inputs, `predicted_label` should return 64 rows:\n"
      ]
    },
    {
      "cell_type": "code",
      "metadata": {
        "colab": {
          "base_uri": "https://localhost:8080/"
        },
        "id": "9d0bb125-4d1b-4ad8-8e0a-246a7e37e085",
        "outputId": "e5b8aec0-e933-48e6-a3b3-b614fc490a48"
      },
      "outputs": [
        {
          "output_type": "stream",
          "name": "stdout",
          "text": [
            "torch.Size([64, 2])\n"
          ]
        }
      ],
      "source": [
        "print(predicted_label.shape)"
      ],
      "execution_count": null
    },
    {
      "cell_type": "markdown",
      "metadata": {
        "id": "007b8f48-e012-45f7-a6c7-d83c398e4a76"
      },
      "source": [
        "For each input, the model outputs two logits corresponding to the two classes in the classification task. If the value of the first logit is greater than the second, the predicted class is class 0, which maps to a negative review. If the second logit is greater than the first, the predicted class is class 1, which maps to a positive review:\n"
      ]
    },
    {
      "cell_type": "code",
      "metadata": {
        "colab": {
          "base_uri": "https://localhost:8080/"
        },
        "id": "74f76292-4e65-4a63-862b-b0f72f72a6dc",
        "outputId": "dfa1876d-3ddf-4b84-ddbc-23e796e83c05"
      },
      "outputs": [
        {
          "output_type": "execute_result",
          "data": {
            "text/plain": [
              "tensor([[-0.1590,  0.1226],\n",
              "        [-0.1606,  0.1224],\n",
              "        [-0.1592,  0.1196],\n",
              "        [-0.1530,  0.1139],\n",
              "        [-0.1555,  0.1102],\n",
              "        [-0.1544,  0.1183],\n",
              "        [-0.1472,  0.1014],\n",
              "        [-0.1593,  0.1209],\n",
              "        [-0.1612,  0.1238],\n",
              "        [-0.1573,  0.1191],\n",
              "        [-0.1606,  0.1229],\n",
              "        [-0.1521,  0.1061],\n",
              "        [-0.1059,  0.0629],\n",
              "        [-0.1388,  0.0858],\n",
              "        [-0.1552,  0.1196],\n",
              "        [-0.1455,  0.0852],\n",
              "        [-0.1605,  0.1217],\n",
              "        [-0.1586,  0.1244],\n",
              "        [-0.1599,  0.1192],\n",
              "        [-0.1309,  0.0930],\n",
              "        [-0.1594,  0.1190],\n",
              "        [-0.1329,  0.0882],\n",
              "        [-0.1489,  0.1148],\n",
              "        [-0.1519,  0.1006],\n",
              "        [-0.1565,  0.1195],\n",
              "        [-0.1544,  0.1164],\n",
              "        [-0.1193,  0.0651],\n",
              "        [-0.1498,  0.1126],\n",
              "        [-0.1547,  0.1132],\n",
              "        [-0.1581,  0.1172],\n",
              "        [-0.1525,  0.1137],\n",
              "        [-0.1570,  0.1219],\n",
              "        [-0.1520,  0.1159],\n",
              "        [-0.1453,  0.1054],\n",
              "        [-0.1590,  0.1215],\n",
              "        [-0.1541,  0.1102],\n",
              "        [-0.1480,  0.1051],\n",
              "        [-0.1511,  0.1123],\n",
              "        [-0.1369,  0.0802],\n",
              "        [-0.1637,  0.1251],\n",
              "        [-0.1405,  0.0920],\n",
              "        [-0.1583,  0.1192],\n",
              "        [-0.1546,  0.1205],\n",
              "        [-0.1450,  0.1032],\n",
              "        [-0.1566,  0.1185],\n",
              "        [-0.1548,  0.1191],\n",
              "        [-0.1575,  0.1217],\n",
              "        [-0.1479,  0.1099],\n",
              "        [-0.1387,  0.0887],\n",
              "        [-0.1556,  0.1224],\n",
              "        [-0.1594,  0.1214],\n",
              "        [-0.1518,  0.1195],\n",
              "        [-0.1573,  0.1196],\n",
              "        [-0.1504,  0.1054],\n",
              "        [-0.1593,  0.1205],\n",
              "        [-0.1477,  0.1089],\n",
              "        [-0.1560,  0.1180],\n",
              "        [-0.1614,  0.1255],\n",
              "        [-0.1363,  0.0933],\n",
              "        [-0.1513,  0.0941],\n",
              "        [-0.1607,  0.1194],\n",
              "        [-0.1622,  0.1281],\n",
              "        [-0.1369,  0.0871],\n",
              "        [-0.1619,  0.1236]], grad_fn=<AddmmBackward0>)"
            ]
          },
          "metadata": {},
          "execution_count": 26
        }
      ],
      "source": [
        "predicted_label"
      ],
      "execution_count": null
    },
    {
      "cell_type": "markdown",
      "metadata": {
        "id": "901c9db2-9f61-4336-b8ed-56597d33a4a3"
      },
      "source": [
        "The following **`predict`** function takes in a text, a text pipeline, and a model as inputs. It uses a pretrained model passed as a parameter to predict the label of the text for text classification on the IMDB dataset:\n"
      ]
    },
    {
      "cell_type": "code",
      "metadata": {
        "id": "e88c5f5d-a4c8-4066-b0cc-609395f6bb41"
      },
      "outputs": [],
      "source": [
        "def predict(text, model, text_pipeline):\n",
        "    with torch.no_grad():\n",
        "        text = torch.unsqueeze(torch.tensor(text_pipeline(text)),0).to(device)\n",
        "\n",
        "        output = model(text)\n",
        "        return imdb_label[output.argmax(1).item()]"
      ],
      "execution_count": null
    },
    {
      "cell_type": "code",
      "metadata": {
        "colab": {
          "base_uri": "https://localhost:8080/",
          "height": 36
        },
        "id": "d575ecdf-df54-4992-9991-8ba9a0fecdef",
        "outputId": "c9b9811a-7611-495f-d4d6-a6ea4575ef9b"
      },
      "outputs": [
        {
          "output_type": "execute_result",
          "data": {
            "text/plain": [
              "'positive review'"
            ],
            "application/vnd.google.colaboratory.intrinsic+json": {
              "type": "string"
            }
          },
          "metadata": {},
          "execution_count": 28
        }
      ],
      "source": [
        "predict(\"the is a good movie\",model,text_pipeline )"
      ],
      "execution_count": null
    },
    {
      "cell_type": "markdown",
      "metadata": {
        "id": "0016efaf-8768-4992-ba31-2407bfb05b9a"
      },
      "source": [
        "You can create a function to evaluate the model's accuracy on a dataset:\n"
      ]
    },
    {
      "cell_type": "code",
      "metadata": {
        "id": "0bb0a3b1-c386-4637-8b7f-73594f333f28"
      },
      "outputs": [],
      "source": [
        "def evaluate(dataloader, model, device):\n",
        "    model.eval()\n",
        "    correct = 0\n",
        "    total = 0\n",
        "    with torch.no_grad():\n",
        "        for label, text in dataloader:\n",
        "            label, text = label.to(device), text.to(device)\n",
        "            outputs = model(text)\n",
        "            _, predicted = torch.max(outputs.data, 1)\n",
        "            total += label.size(0)\n",
        "            correct += (predicted == label).sum().item()\n",
        "    accuracy = 100 * correct / total\n",
        "    return accuracy"
      ],
      "execution_count": null
    },
    {
      "cell_type": "markdown",
      "metadata": {
        "id": "1492509c-a7c8-4a2c-9ff2-5aff5197bbf0"
      },
      "source": [
        "The following evaluates the performance of your model on the test set:\n"
      ]
    },
    {
      "cell_type": "code",
      "metadata": {
        "colab": {
          "base_uri": "https://localhost:8080/"
        },
        "id": "0ccef96d-361d-4674-b6e7-dae781711f4d",
        "outputId": "50abff3e-b17c-4aeb-ec4f-1698da37eccf"
      },
      "outputs": [
        {
          "output_type": "execute_result",
          "data": {
            "text/plain": [
              "50.0"
            ]
          },
          "metadata": {},
          "execution_count": 30
        }
      ],
      "source": [
        "evaluate(test_dataloader , model, device)"
      ],
      "execution_count": null
    },
    {
      "cell_type": "markdown",
      "metadata": {
        "id": "989d361c-fe60-4bbc-abe0-41d7f3c1c1c4"
      },
      "source": [
        "Note that the current performance of the model is no better than average. This outcome is expected, considering that the model has not undergone any training yet.\n"
      ]
    },
    {
      "cell_type": "markdown",
      "metadata": {
        "id": "5f1ab3ce-ebd4-4f8a-abfa-a4d983c1721c"
      },
      "source": [
        "## Train the model\n",
        "\n",
        "The following defines the training function used to train the model:\n"
      ]
    },
    {
      "cell_type": "code",
      "metadata": {
        "id": "683fc413-de8a-44eb-bf5a-39b893b9d577"
      },
      "outputs": [],
      "source": [
        "def train_model(model, optimizer, criterion, train_dataloader, valid_dataloader, epochs=100, model_name=\"my_modeldrop\"):\n",
        "    cum_loss_list = []\n",
        "    acc_epoch = []\n",
        "    best_acc = 0\n",
        "    file_name = model_name\n",
        "\n",
        "    for epoch in tqdm(range(1, epochs + 1)):\n",
        "        model.train()\n",
        "        cum_loss = 0\n",
        "        for _, (label, text) in enumerate(train_dataloader):\n",
        "            optimizer.zero_grad()\n",
        "            predicted_label = model(text)\n",
        "            loss = criterion(predicted_label, label)\n",
        "            loss.backward()\n",
        "            torch.nn.utils.clip_grad_norm_(model.parameters(), 0.1)\n",
        "            optimizer.step()\n",
        "            cum_loss += loss.item()\n",
        "        #print(\"Loss:\", cum_loss)\n",
        "        cum_loss_list.append(cum_loss)\n",
        "        acc_val = evaluate(valid_dataloader, model, device)\n",
        "        acc_epoch.append(acc_val)\n",
        "\n",
        "        if acc_val > best_acc:\n",
        "            best_acc = acc_val\n",
        "            print(f\"New best accuracy: {acc_val:.4f}\")\n",
        "            #torch.save(model.state_dict(), f\"{model_name}.pth\")\n",
        "\n",
        "    #save_list_to_file(cum_loss_list, f\"{model_name}_loss.pkl\")\n",
        "    #save_list_to_file(acc_epoch, f\"{model_name}_acc.pkl\")\n"
      ],
      "execution_count": null
    },
    {
      "cell_type": "markdown",
      "metadata": {
        "id": "3bdc4155-4d25-4a7f-b1a0-2c0ee9d224f3"
      },
      "source": [
        "---\n"
      ]
    },
    {
      "cell_type": "markdown",
      "metadata": {
        "id": "71cdb072-d3be-40a5-ada7-288ce89b99c4"
      },
      "source": [
        "The following sets the learning rate (LR) to 1, which determines the step size at which the optimizer updates the model's parameters during training. The CrossEntropyLoss criterion is used to calculate the loss between the model's predicted outputs and the ground truth labels. This loss function is commonly employed for multi-class classification tasks.\n",
        "\n",
        "The chosen optimizer is Stochastic Gradient Descent (SGD), which optimizes the model's parameters based on the computed gradients with respect to the loss function. The SGD optimizer uses the specified learning rate to control the size of the weight updates.\n",
        "\n",
        "Additionally, a learning rate scheduler is defined using StepLR. This scheduler adjusts the learning rate during training, reducing it by a factor (gamma) of 0.1 after every epoch (step) to improve convergence and fine-tune the model's performance. These components together form the essential setup for training a neural network using the specified learning rate, loss criterion, optimizer, and learning rate scheduler.\n",
        "\n",
        "For the sake of time efficiency, the number of epochs has been set to 2. This is to give you a practical demonstration of what the training process looks like. However, if you were to train this model in a real-world scenario, you would likely increase the number of epochs to a larger figure, such as 100 or more. Given the reduced training set defined earlier, it takes approximately 2 minutes to complete 2 epochs of training:\n"
      ]
    },
    {
      "cell_type": "code",
      "metadata": {
        "id": "129de8bd-94ce-4072-a567-f24473570a53"
      },
      "outputs": [],
      "source": [
        "LR=1\n",
        "\n",
        "criterion = torch.nn.CrossEntropyLoss()\n",
        "optimizer = torch.optim.SGD(model.parameters(), lr=LR)\n",
        "scheduler = torch.optim.lr_scheduler.StepLR(optimizer, 1.0, gamma=0.1)"
      ],
      "execution_count": null
    },
    {
      "cell_type": "markdown",
      "metadata": {
        "id": "67f8166c-12fc-4bd0-b500-669e554b46ae"
      },
      "source": [
        "You have pretrained the model for 300 epochs using a GPU and saved this model for your convenience. However, to demonstrate the training process, the following code has been included that trains the model for just two epochs. Please note that you have limited the number of epochs to two because training on a CPU can be time-consuming. Even with just two epochs, you can expect the following code to run for approximately one minute.\n"
      ]
    },
    {
      "cell_type": "code",
      "metadata": {
        "id": "4d540170-6440-4930-87b4-58c581b334b0"
      },
      "outputs": [],
      "source": [
        "model_name=\"model_imdb_freeze_true2\"\n",
        "#train_model(model, optimizer, criterion, train_dataloader, valid_dataloader, epochs=2, model_name=model_name)"
      ],
      "execution_count": null
    },
    {
      "cell_type": "markdown",
      "metadata": {
        "id": "ce22ea05-118d-45ee-9e63-64bc06ac6e98"
      },
      "source": [
        "Instead of evaluating the model trained on 2 epochs, let's load the pretrained model that was trained for 300 epochs:\n"
      ]
    },
    {
      "cell_type": "code",
      "metadata": {
        "id": "a916812e-de2e-4415-a6e9-38c6702e9820"
      },
      "outputs": [],
      "source": [
        "\n",
        "%%capture\n",
        "!wget https://cf-courses-data.s3.us.cloud-object-storage.appdomain.cloud/ZvhVWJU0flC7BmU1jjYxjg/model-imdb-freeze-true2.pth\n",
        "!wget https://cf-courses-data.s3.us.cloud-object-storage.appdomain.cloud/2RdN-JG4Rm5Gx3UNtOP4NA/model-imdb-freeze-true2-acc.pkl\n",
        "!wget https://cf-courses-data.s3.us.cloud-object-storage.appdomain.cloud/8qoGvWk0BdXRGoFAOT-dAw/model-imdb-freeze-true2-loss.pkl\n"
      ],
      "execution_count": null
    },
    {
      "cell_type": "markdown",
      "metadata": {
        "id": "edcd36b4-9bc9-421e-a028-039777f5743d"
      },
      "source": [
        "Let's plot the cost and accuracy for each epoch for the pretrained model that was trained for 300 epochs. From the plot, it becomes evident that with just a few epochs, the accuracy exhibits significant volatility.\n"
      ]
    },
    {
      "cell_type": "code",
      "metadata": {
        "colab": {
          "base_uri": "https://localhost:8080/",
          "height": 486
        },
        "id": "783b6205-4c25-4a1e-b965-c421c22255e8",
        "outputId": "553710cc-4f3e-42c1-d0dd-455c083cd67d"
      },
      "outputs": [
        {
          "output_type": "display_data",
          "data": {
            "text/plain": [
              "<Figure size 640x480 with 2 Axes>"
            ],
            "image/png": "[encoded data removed]"
          },
          "metadata": {}
        }
      ],
      "source": [
        "cum_loss_list=load_list_from_file(model_name.replace('_','-') + \"-loss.pkl\")\n",
        "acc_epoch=load_list_from_file(model_name.replace('_','-') + \"-acc.pkl\")\n",
        "plot(cum_loss_list,acc_epoch)"
      ],
      "execution_count": null
    },
    {
      "cell_type": "markdown",
      "metadata": {
        "id": "4bd020e9-6a96-4810-8080-b4683b892178"
      },
      "source": [
        "Here, you load the model that has been trained for you. Please comment out these lines if you want to train the model yourself.\n"
      ]
    },
    {
      "cell_type": "code",
      "metadata": {
        "colab": {
          "base_uri": "https://localhost:8080/"
        },
        "id": "a1c1c22c-5d36-4092-bdd2-69943cafb5a7",
        "outputId": "9b3f7cfc-5d69-47dc-9088-506a1f889b0f"
      },
      "outputs": [
        {
          "output_type": "execute_result",
          "data": {
            "text/plain": [
              "TextClassifier(\n",
              "  (embedding): Embedding(400000, 100)\n",
              "  (fc1): Linear(in_features=100, out_features=128, bias=True)\n",
              "  (relu): ReLU()\n",
              "  (fc2): Linear(in_features=128, out_features=2, bias=True)\n",
              ")"
            ]
          },
          "metadata": {},
          "execution_count": 37
        }
      ],
      "source": [
        "model.load_state_dict(torch.load(model_name.replace('_','-') + \".pth\", map_location=device))\n",
        "model.eval()"
      ],
      "execution_count": null
    },
    {
      "cell_type": "markdown",
      "metadata": {
        "id": "b9511990-1819-4bf5-a8d3-3078c9fd6fe4"
      },
      "source": [
        "The following evaluates the model on the test data. The pretrained model achieves an accuracy of 66%.\n"
      ]
    },
    {
      "cell_type": "code",
      "metadata": {
        "colab": {
          "base_uri": "https://localhost:8080/"
        },
        "id": "47d22e95-b8cb-4b2e-b15e-6cbb175dd801",
        "outputId": "119e16af-6124-46a9-d613-60bd7b5004c0"
      },
      "outputs": [
        {
          "output_type": "execute_result",
          "data": {
            "text/plain": [
              "66.2"
            ]
          },
          "metadata": {},
          "execution_count": 38
        }
      ],
      "source": [
        "evaluate(test_dataloader , model, device)"
      ],
      "execution_count": null
    },
    {
      "cell_type": "markdown",
      "metadata": {
        "id": "aa57458d-c42f-4786-a6f9-ee84f43db27e"
      },
      "source": [
        "##  Low-Rank Adaptation (LoRA)\n",
        "\n",
        "PyTorch and the Hugging Face library provide robust tools for model manipulation with LoRA, but they are not intuitive. In this section, you delve into building a LoRA (Low-Rank Adaptation) implementation from scratch using PyTorch. LoRA is a general method, but it's commonly applied to the Attention layer. For the sake of simplicity, in this lab, you apply it to a Vanilla neural network. This decision is made because accessing the Attention Parameters in the PyTorch Encoder module can be challenging.\n"
      ]
    },
    {
      "cell_type": "markdown",
      "metadata": {
        "id": "7e9790b3-d099-4b03-98dc-69987ada7aa7"
      },
      "source": [
        "### LoRA\n",
        "1) For any arbitrary layer of a network, you have the model with pretrained parameters $ W_0 $, which are the parameters of the model. If you only consider the attention parameters for each layer, at a minimum $ 4 \\times m \\times n$ for each layer. For many models, this can reach in the trillions of learnable parameters. Each time you fine-tune a new dataset, you have to store trillions of parameters.\n",
        "\n",
        "2) $ \\Delta W $ represents two matrices $ B $ and $ A $, where $ B $ and $ A $ are constrained such that $ B \\in \\mathbb{R}^{m \\times r} $, $ A \\in \\mathbb{R}^{r \\times n} $, and $ r \\leq \\min(m, n) $. The total number of parameters is $ A $ and $ B $ is much smaller than $ W_1$  and much easier to store.\n",
        "\n",
        "$ W_1\\approx W_0 + \\Delta  W = W_0 + BA $\n",
        "\n",
        "\n",
        "\n",
        "3) To train and predict, the forward pass holds $W_0$ constant.\n",
        "\n",
        "$h = W_0 + \\Delta W  = W_0x + BAx $\n",
        "\n",
        "\n",
        "\n",
        "\n",
        "\n",
        "To scale $\\Delta W \\times \\dfrac{\\alpha'}{r}$, where $\\alpha$ is a constant in $ r $.  Adjusting $\\alpha'$ is similar to tuning the learning rate if the initialization is properly scaled. Therefore, you set $\\alpha'$ to the first $ r $ you try and do not tune it further; just use $\\alpha$. This scaling reduces the need to retune hyperparameters. The final form is:\n",
        "\n",
        "$h =  W_0x +  \\dfrac{\\alpha'}{r} BAx=  W_0x +  \\alpha BAx $\n",
        "\n",
        "The following example illustrates the process.\n",
        "\n",
        "\n",
        "$\n",
        "W_0 + BA =\n",
        "\\begin{bmatrix}\n",
        "w_{11} & w_{12} & w_{13} & w_{14} \\\\\\\\\\\\\\\\\\\\\\\\\\\\\\\\\\\\\\\\\\\\\n",
        "w_{21} & w_{22} & w_{23} & w_{24} \\\\\\\\\\\\\n",
        "w_{31} & w_{32} & w_{33} & w_{34} \\\\\\\\\\\\\n",
        "w_{41} & w_{42} & w_{43} & w_{44} \\\\\\\\\\\\\n",
        "\\end{bmatrix} +\n",
        "\\begin{bmatrix}\n",
        "a_1 \\\\\\\\\\\\\n",
        "a_2 \\\\\\\\\\\\\n",
        "a_3 \\\\\\\\\\\\\n",
        "a_4 \\\\\\\\\\\\\n",
        "\\end{bmatrix}\n",
        "\\begin{bmatrix}\n",
        "b_1 & b_2 & b_3 & b_4 \\\\\\\\\n",
        "\\end{bmatrix}\n",
        "$\n",
        "\n",
        "This illustrates the product of matrices $ A $ and $ B $, denoted as $ AB $, which can be added to $ W_0 $. However, the resulting matrix $ W_0 + AB $ is limited depending on the dimensions of $ A $ and $ B $. This limitation is due to the concept of rank.\n",
        "\n"
      ]
    },
    {
      "cell_type": "markdown",
      "metadata": {
        "id": "c2cbb2b2-f586-4f20-8f83-c82883ef4a36"
      },
      "source": [
        "### Rank\n",
        "The rank of a matrix is the number of dimensions the rows of the matrix \"live in.\"  A square matrix is said to be **full rank** if its <a href='https://en.wikipedia.org/wiki/Rank_(linear_algebra)?utm_medium=Exinfluencer&utm_source=Exinfluencer&utm_content=000026UJ&utm_term=10006555&utm_id=NA-SkillsNetwork-Channel-SkillsNetworkCoursesIBMML0187ENSkillsNetwork31430127-2022-01-01'>rank</a> is equal to the number of its rows or columns. Let's make this idea more intuitive with an example.\n"
      ]
    },
    {
      "cell_type": "code",
      "metadata": {
        "id": "cdfd35b0-5359-4220-8153-a5deb5cd0fe2"
      },
      "outputs": [],
      "source": [
        "from sympy import Matrix, init_printing,Symbol\n",
        "from numpy.linalg import qr,eig,inv,matrix_rank,inv, norm\n",
        "from scipy.linalg import null_space\n",
        "from sympy import Matrix, init_printing,Symbol\n",
        "init_printing()"
      ],
      "execution_count": null
    },
    {
      "cell_type": "code",
      "metadata": {
        "id": "b11899f4-2b44-4294-a294-1653e7f2d886"
      },
      "outputs": [],
      "source": [
        "def plot_matrix_and_subspace(F):\n",
        "    assert F.shape[0] == 3, \"Matrix F must have rows equal to 3 for 3D visualization.\"\n",
        "\n",
        "    ax = plt.figure().add_subplot(projection='3d')\n",
        "\n",
        "    # Plot each column vector of F as a point and line from the origin\n",
        "    for i in range(F.shape[1]):\n",
        "        ax.quiver(0, 0, 0, F[0, i], F[1, i], F[2, i], color='blue', arrow_length_ratio=0.1, label=f'Column {i+1}')\n",
        "\n",
        "    if F.shape[1] == 2:\n",
        "        # Calculate the normal to the plane spanned by the columns of F if they are exactly two\n",
        "        normal_vector = np.cross(F[:, 0], F[:, 1])\n",
        "        # Plot the plane\n",
        "        xx, yy = np.meshgrid(np.linspace(-3, 3, 10), np.linspace(-3, 3, 10))\n",
        "        zz = (-normal_vector[0] * xx - normal_vector[1] * yy) / normal_vector[2] if normal_vector[2] != 0 else 0\n",
        "        ax.plot_surface(xx, yy, zz, alpha=0.5, color='green', label='Spanned Plane')\n",
        "\n",
        "    # Set plot limits and labels\n",
        "    ax.set_xlim([-3, 3])\n",
        "    ax.set_ylim([-3, 3])\n",
        "    ax.set_zlim([-3, 3])\n",
        "    ax.set_xlabel('$x_{1}$')\n",
        "    ax.set_ylabel('$x_{2}$')\n",
        "    ax.set_zlabel('$x_{3}$')\n",
        "    #ax.legend()\n",
        "\n",
        "    plt.show()"
      ],
      "execution_count": null
    },
    {
      "cell_type": "code",
      "metadata": {
        "id": "16fbf7fa-b3c9-4b43-a2c3-521426a02b81"
      },
      "outputs": [],
      "source": [
        "def plot_matrix_and_subspace(F):\n",
        "    assert F.shape[0] == 3, \"Matrix F must have 3 rows to represent 3D space.\"\n",
        "\n",
        "    ax = plt.figure().add_subplot(projection='3d')\n",
        "\n",
        "    # Plot each column vector of F\n",
        "    for i in range(F.shape[1]):\n",
        "        ax.quiver(0, 0, 0, F[0, i], F[1, i], F[2, i], color='blue', arrow_length_ratio=0.1, label=f'Column {i+1}')\n",
        "\n",
        "    # Calculate the null space of the transpose of F\n",
        "    normal_vector = null_space(F.T)\n",
        "\n",
        "    # Check that the null space is 1-dimensional\n",
        "    if normal_vector.shape[1] == 1:\n",
        "        normal_vector = normal_vector[:, 0]  # Simplify the array to 1D\n",
        "        # Create a meshgrid for the plane\n",
        "        xx, yy = np.meshgrid(np.linspace(-3, 3, 10), np.linspace(-3, 3, 10))\n",
        "        # Calculate corresponding z coordinates based on the plane equation ax + by + cz = 0\n",
        "        zz = (-normal_vector[0] * xx - normal_vector[1] * yy) / normal_vector[2] if normal_vector[2] != 0 else 0\n",
        "        ax.plot_surface(xx, yy, zz, alpha=0.5, color='green', label='Spanned Plane')\n",
        "    else:\n",
        "        print(\"The null space is not 1-dimensional, so a unique plane cannot be determined.\")\n",
        "\n",
        "    # Set plot limits and labels\n",
        "    ax.set_xlim([-3, 3])\n",
        "    ax.set_ylim([-3, 3])\n",
        "    ax.set_zlim([-3, 3])\n",
        "    ax.set_xlabel('X axis')\n",
        "    ax.set_ylabel('Y axis')\n",
        "    ax.set_zlabel('Z axis')\n",
        "    #ax.legend()\n",
        "\n",
        "    plt.show()\n",
        "\n"
      ],
      "execution_count": null
    },
    {
      "cell_type": "markdown",
      "metadata": {
        "id": "20d15517-49f5-46a9-a8df-44d3000c5ec9"
      },
      "source": [
        "In the context of Low-Rank Adaptation (LoRA), where $B \\in \\mathbb{R}^{d \\times r}$, the matrix $B$:\n",
        "\n",
        "\n",
        "\n"
      ]
    },
    {
      "cell_type": "code",
      "metadata": {
        "colab": {
          "base_uri": "https://localhost:8080/",
          "height": 78
        },
        "id": "0aad040d-edd7-4cc3-9abe-b70d918effa3",
        "outputId": "d8a6b893-7a8e-4577-9138-5fcec3776783"
      },
      "outputs": [
        {
          "output_type": "execute_result",
          "data": {
            "text/plain": [
              "⎡1  0⎤\n",
              "⎢    ⎥\n",
              "⎢0  1⎥\n",
              "⎢    ⎥\n",
              "⎣0  0⎦"
            ],
            "text/latex": "$\\displaystyle \\left[\\begin{matrix}1 & 0\\\\0 & 1\\\\0 & 0\\end{matrix}\\right]$"
          },
          "metadata": {},
          "execution_count": 41
        }
      ],
      "source": [
        "B=torch.tensor([[1,0],[0,1],[0,0]]).numpy()\n",
        "\n",
        "Matrix(B)\n"
      ],
      "execution_count": null
    },
    {
      "cell_type": "markdown",
      "metadata": {
        "id": "e2adb109-09e9-40a9-bfad-592daf74202b"
      },
      "source": [
        "This $3 \\times 2$ matrix has columns that span a 2-dimensional subspace in $\\mathbb{R}^3$. Specifically, the columns of $B$ are:\n",
        "\n",
        "- $\\mathbf{b}_1 = \\begin{bmatrix} 1 \\\\\\\\\\\\\\\\\\\\\\\\\\\\\\\\\\\\\\\\ 0 \\\\ 0 \\end{bmatrix}$\n",
        "- $\\mathbf{b}_2 = \\begin{bmatrix} 0 \\\\\\\\ 1 \\\\ 0 \\end{bmatrix}$\n",
        "\n",
        "These columns are standard basis vectors for the $xy$-plane in $\\mathbb{R}^3$, and, thus, they span the $xy$-plane shown in green in the following image. Muliplying each column vector in blue by a scaler always falls in the plane.\n"
      ]
    },
    {
      "cell_type": "code",
      "metadata": {
        "colab": {
          "base_uri": "https://localhost:8080/",
          "height": 420
        },
        "id": "a27ed1de-f40e-463f-9112-7a52826fd9d0",
        "outputId": "df3d36a8-f8a5-4e20-e97b-e51af8a2783d"
      },
      "outputs": [
        {
          "output_type": "display_data",
          "data": {
            "text/plain": [
              "<Figure size 640x480 with 1 Axes>"
            ],
            "image/png": "[encoded data removed]"
          },
          "metadata": {}
        }
      ],
      "source": [
        " plot_matrix_and_subspace(B)"
      ],
      "execution_count": null
    },
    {
      "cell_type": "markdown",
      "metadata": {
        "id": "0e79a867-2317-4156-94fa-f9a6d403672b"
      },
      "source": [
        "In this scenario, the vectors, despite each having three components, can reach any point on the two-dimensional green plane depicted in the image. These vectors span the green plane, which resides within a two-dimensional subspace. This subspace's dimension, also known as its 'rank', is two—corresponding to the dimensionality of the plane. If the rank were three, any point in the 3D space could be reached by some combination of the columns of $𝐵$. The rank of a matrix can be determined by using the matrix_rank function provided by NumPy.\n"
      ]
    },
    {
      "cell_type": "code",
      "metadata": {
        "colab": {
          "base_uri": "https://localhost:8080/"
        },
        "id": "40522c51-5c68-41fe-86dd-c808d607dcc4",
        "outputId": "c02cfdc1-9b67-45f5-b79b-bc9760695013"
      },
      "outputs": [
        {
          "output_type": "execute_result",
          "data": {
            "text/plain": [
              "2"
            ]
          },
          "metadata": {},
          "execution_count": 43
        }
      ],
      "source": [
        "matrix_rank(B)"
      ],
      "execution_count": null
    },
    {
      "cell_type": "markdown",
      "metadata": {
        "id": "303797c4-810d-4585-853b-c659571bc3b3"
      },
      "source": [
        "Here, you plot a different matrix where the matrix spans a different plane, but the rank remains two.\n"
      ]
    },
    {
      "cell_type": "code",
      "metadata": {
        "colab": {
          "base_uri": "https://localhost:8080/",
          "height": 438
        },
        "id": "ab0a1403-23d1-4182-b808-a768e74ae2e1",
        "outputId": "9cf666b7-fea5-452b-a4f7-9708a87200be"
      },
      "outputs": [
        {
          "output_type": "display_data",
          "data": {
            "text/plain": [
              "<Figure size 640x480 with 1 Axes>"
            ],
            "image/png": "[encoded data removed]"
          },
          "metadata": {}
        },
        {
          "output_type": "stream",
          "name": "stdout",
          "text": [
            "rank of B 2\n"
          ]
        }
      ],
      "source": [
        "B_=torch.tensor([[1,0],[-2,1],[0,1]]).numpy()\n",
        "plot_matrix_and_subspace(B_)\n",
        "print(\"rank of B\",matrix_rank(B_))"
      ],
      "execution_count": null
    },
    {
      "cell_type": "code",
      "metadata": {
        "colab": {
          "base_uri": "https://localhost:8080/"
        },
        "id": "b9fca88b-3991-4682-b761-6a3651ea35b3",
        "outputId": "657238cb-46c0-49e2-e0fa-e5226f0fc513"
      },
      "outputs": [
        {
          "output_type": "execute_result",
          "data": {
            "text/plain": [
              "2"
            ]
          },
          "metadata": {},
          "execution_count": 45
        }
      ],
      "source": [
        "matrix_rank(B)"
      ],
      "execution_count": null
    },
    {
      "cell_type": "markdown",
      "metadata": {
        "id": "c60afacc-7e79-40eb-abc2-e9f32b229f52"
      },
      "source": [
        "Here, you present the matrix ```A```. The rank of this matrix is also two.\n"
      ]
    },
    {
      "cell_type": "code",
      "metadata": {
        "colab": {
          "base_uri": "https://localhost:8080/",
          "height": 58
        },
        "id": "74925e1c-9f93-4235-969a-43368172f25a",
        "outputId": "ba1ee316-28f1-4309-c97f-a529137fe371"
      },
      "outputs": [
        {
          "output_type": "execute_result",
          "data": {
            "text/plain": [
              "⎡1   1  -1  1  0⎤\n",
              "⎢               ⎥\n",
              "⎣-2  2  2   0  1⎦"
            ],
            "text/latex": "$\\displaystyle \\left[\\begin{matrix}1 & 1 & -1 & 1 & 0\\\\-2 & 2 & 2 & 0 & 1\\end{matrix}\\right]$"
          },
          "metadata": {},
          "execution_count": 46
        }
      ],
      "source": [
        "A=torch.tensor([[1,1,-1,1,0],[-2,2,2,0,1]]).numpy()\n",
        "Matrix(A)\n"
      ],
      "execution_count": null
    },
    {
      "cell_type": "code",
      "metadata": {
        "colab": {
          "base_uri": "https://localhost:8080/"
        },
        "id": "45e360fb-91fa-41c9-9cab-9aa299a9bc82",
        "outputId": "d6ef8674-3eea-4c65-bb47-2ea34f333314"
      },
      "outputs": [
        {
          "output_type": "execute_result",
          "data": {
            "text/plain": [
              "2"
            ]
          },
          "metadata": {},
          "execution_count": 47
        }
      ],
      "source": [
        "matrix_rank(A)"
      ],
      "execution_count": null
    },
    {
      "cell_type": "markdown",
      "metadata": {
        "id": "19e16065-f067-4ede-9f0d-9adc7be8c89b"
      },
      "source": [
        "For the matrices $ C = BA $, if $B $ and $ A $ both have a rank of $ r $:\n"
      ]
    },
    {
      "cell_type": "code",
      "metadata": {
        "colab": {
          "base_uri": "https://localhost:8080/",
          "height": 78
        },
        "id": "943ac79f-bc55-448b-ad11-3f72765424fc",
        "outputId": "ba54d2bf-1da0-4b19-e2cc-79bb5203e2a1"
      },
      "outputs": [
        {
          "output_type": "execute_result",
          "data": {
            "text/plain": [
              "⎡1   1  -1  1  0⎤\n",
              "⎢               ⎥\n",
              "⎢-2  2  2   0  1⎥\n",
              "⎢               ⎥\n",
              "⎣0   0  0   0  0⎦"
            ],
            "text/latex": "$\\displaystyle \\left[\\begin{matrix}1 & 1 & -1 & 1 & 0\\\\-2 & 2 & 2 & 0 & 1\\\\0 & 0 & 0 & 0 & 0\\end{matrix}\\right]$"
          },
          "metadata": {},
          "execution_count": 48
        }
      ],
      "source": [
        "C=B@A\n",
        "Matrix(C)\n"
      ],
      "execution_count": null
    },
    {
      "cell_type": "markdown",
      "metadata": {
        "id": "9fbc1802-c83c-4965-8993-302fb275af7c"
      },
      "source": [
        " The columns of $ C $ will have the same rank as $ B $. Furthermore, the span of the columns of $ C $ will be the same as the span of the columns of $ B $.\n"
      ]
    },
    {
      "cell_type": "code",
      "metadata": {
        "colab": {
          "base_uri": "https://localhost:8080/",
          "height": 438
        },
        "id": "012597b4-ccd0-4f26-aa61-802cf2f25530",
        "outputId": "9ff6b961-f37a-4ed9-ef71-c6ef49b77070"
      },
      "outputs": [
        {
          "output_type": "stream",
          "name": "stdout",
          "text": [
            "rank of C 2\n"
          ]
        },
        {
          "output_type": "display_data",
          "data": {
            "text/plain": [
              "<Figure size 640x480 with 1 Axes>"
            ],
            "image/png": "[encoded data removed]"
          },
          "metadata": {}
        }
      ],
      "source": [
        "print(\"rank of C\",matrix_rank(C))\n",
        "plot_matrix_and_subspace(C)"
      ],
      "execution_count": null
    },
    {
      "cell_type": "markdown",
      "metadata": {
        "id": "5715a53d-9ed5-4a8a-9d55-7ba519239b79"
      },
      "source": [
        "### Understanding LoRA in PyTorch\n",
        "\n",
        "LoRA (Low-Rank Adaptation) is relatively simple to initialize in PyTorch. You initialize LoRA with the dimensions of the input (`in_dim`), $ m $, output (`out_dim`), $n $, a rank (`rank`), $ r $, and a scaling factor `alpha`. The parameters are initialized as follows:\n",
        "\n",
        "```\n",
        "self.A = torch.nn.Parameter(torch.randn(in_dim, rank) * std_dev)\n",
        "self.B = torch.nn.Parameter(torch.zeros(rank, out_dim))\n",
        "```\n",
        "\n",
        "The use of  ```nn.Parameter``` makes these values learnable parameters.\n",
        "\n",
        "In the forward function, LoRA uses the notation $BAx$ PyTorch, the input vector is a row, so the output becomes $x^TA^TB^T$ will drop the trapose from now on. The forward pass is implemented as:\n",
        "```\n",
        "x = self.alpha * (x @ self.A @ self.B)\n",
        "```\n",
        "The use of  ```nn.Parameter``` makes these values learnable parameters.\n",
        "\n"
      ]
    },
    {
      "cell_type": "code",
      "source": [
        "import torch\n",
        "\n",
        "# Define embedding dimension\n",
        "d_model = 2  # Very small for illustration\n",
        "\n",
        "# Scenario 1: No scaling at all\n",
        "print(\"--- Scenario 1: No Scaling ---\")\n",
        "a_unscaled = torch.randn(d_model)\n",
        "b_unscaled = torch.randn(d_model)\n",
        "\n",
        "dot_product_unscaled = torch.dot(a_unscaled, b_unscaled)\n",
        "print(f\"Unscaled dot product: {dot_product_unscaled.item():.4f}\")\n",
        "\n",
        "# Let's simulate a few more dot products to see the range\n",
        "unscaled_dot_products = [torch.dot(torch.randn(d_model), torch.randn(d_model)).item() for _ in range(10)]\n",
        "print(f\"Sample unscaled dot products: {[f'{dp:.4f}' for dp in unscaled_dot_products]}\")\n",
        "\n",
        "\n",
        "# Scenario 2: Input embedding scaling and scaling in self-attention\n",
        "print(\"\\n--- Scenario 2: Input Embedding Scaling + Self-Attention Scaling ---\")\n",
        "a_scaled_input = a_unscaled * torch.sqrt(torch.tensor(d_model).float())\n",
        "b_scaled_input = b_unscaled * torch.sqrt(torch.tensor(d_model).float())\n",
        "\n",
        "# The dot product of scaled inputs (intermediate value)\n",
        "intermediate_dot_product = torch.dot(a_scaled_input, b_scaled_input)\n",
        "print(f\"Intermediate dot product (after input scaling): {intermediate_dot_product.item():.4f}\")\n",
        "\n",
        "# Now apply the scaling in the self-attention (division by sqrt(d_k))\n",
        "scaled_dot_product_final = intermediate_dot_product / torch.sqrt(torch.tensor(d_model).float())\n",
        "print(f\"Final dot product (after self-attention scaling): {scaled_dot_product_final.item():.4f}\")\n",
        "\n",
        "# Let's simulate a few more final scaled dot products\n",
        "scaled_dot_products_final = []\n",
        "for _ in range(10):\n",
        "    a = torch.randn(d_model) * torch.sqrt(torch.tensor(d_model).float())\n",
        "    b = torch.randn(d_model) * torch.sqrt(torch.tensor(d_model).float())\n",
        "    scaled_dot_products_final.append((torch.dot(a, b) / torch.sqrt(torch.tensor(d_model).float())).item())\n",
        "print(f\"Sample final scaled dot products: {[f'{dp:.4f}' for dp in scaled_dot_products_final]}\")"
      ],
      "metadata": {
        "colab": {
          "base_uri": "https://localhost:8080/"
        },
        "id": "4ZQoDrRNGkfa",
        "outputId": "f5e51981-d0a6-4e20-b771-5d6f003805de"
      },
      "execution_count": null,
      "outputs": [
        {
          "output_type": "stream",
          "name": "stdout",
          "text": [
            "--- Scenario 1: No Scaling ---\n",
            "Unscaled dot product: 0.6155\n",
            "Sample unscaled dot products: ['0.3256', '0.1982', '-0.2833', '7.8458', '0.2547', '1.2458', '-0.7273', '0.4926', '-2.4113', '0.1904']\n",
            "\n",
            "--- Scenario 2: Input Embedding Scaling + Self-Attention Scaling ---\n",
            "Intermediate dot product (after input scaling): 1.2309\n",
            "Final dot product (after self-attention scaling): 0.8704\n",
            "Sample final scaled dot products: ['0.7369', '1.5245', '-3.2303', '0.4546', '1.4222', '-0.6404', '-2.1942', '-3.1964', '-0.9298', '1.1067']\n"
          ]
        }
      ]
    },
    {
      "cell_type": "code",
      "metadata": {
        "id": "d1b2bfe3-0eac-4d64-9003-3ee5cbadb39a"
      },
      "outputs": [],
      "source": [
        "class LoRALayer(torch.nn.Module):\n",
        "    def __init__(self, in_dim, out_dim, rank, alpha):\n",
        "        super().__init__()\n",
        "        std_dev = 1 / torch.sqrt(torch.tensor(rank).float())\n",
        "        self.A = torch.nn.Parameter(torch.randn(in_dim, rank) * std_dev)\n",
        "\n",
        "        self.B = torch.nn.Parameter(torch.zeros(rank, out_dim))\n",
        "        self.alpha = alpha\n",
        "\n",
        "    def forward(self, x):\n",
        "        x = self.alpha * (x @ self.A @ self.B)\n",
        "        return x"
      ],
      "execution_count": null
    },
    {
      "cell_type": "markdown",
      "metadata": {
        "id": "587ad4e6-3125-4c21-85bc-baccf8709275"
      },
      "source": [
        "This class ```LinearWithLoRA```  copies the original linear model and creates a ```LoRALayer``` object.\n",
        "```\n",
        "self.linear = linear.to(device)\n",
        " self.lora = LoRALayer(\n",
        "            linear.in_features, linear.out_features, rank, alpha\n",
        "        ).to(device)\n",
        "```\n",
        "\n",
        "Then, in the forward method apply both the original linear model and the output Lora model to the input x and add them together ```self.linear(x) + self.lora(x)```. This corresponds to:\n",
        "\n",
        " $xW_0 + xAB $\n"
      ]
    },
    {
      "cell_type": "code",
      "metadata": {
        "id": "ace505f3-b065-498f-a032-2bff45e0ce41"
      },
      "outputs": [],
      "source": [
        "class LinearWithLoRA(torch.nn.Module):\n",
        "    def __init__(self, linear, rank, alpha):\n",
        "        super().__init__()\n",
        "        self.linear = linear.to(device)\n",
        "        self.lora = LoRALayer(\n",
        "            linear.in_features, linear.out_features, rank, alpha\n",
        "        ).to(device)\n",
        "\n",
        "    def forward(self, x):\n",
        "\n",
        "        return self.linear(x) + self.lora(x)"
      ],
      "execution_count": null
    },
    {
      "cell_type": "markdown",
      "metadata": {
        "id": "ba09360d-2f5d-4bac-b31c-7abba9680322"
      },
      "source": [
        "### Applying LoRA\n",
        "To fine-tune with LoRA, first, load a pretrained TextClassifier model with LoRA (while freezing its layers), load its pretrained state from a file, and then disable gradient updates for all of its parameters to prevent further training. Here, you will load a model that was pretrained on the AG NEWS dataset, which is a dataset that has 4 classes. Note that when you initialize this model, you set `num_classes` to 4. Moreover, the pretrained AG_News model was trained with the embedding layer unfrozen. Hence you will initialize the model with `freeze=False`. Although you are initializing the model with layers unfrozen and the wrong number of classes for your task, you will make modifications to the model later on that correct this:\n"
      ]
    },
    {
      "cell_type": "code",
      "metadata": {
        "id": "d9b92561-1134-4597-8243-d7e4dc5c2a8b",
        "colab": {
          "base_uri": "https://localhost:8080/"
        },
        "outputId": "a52187d5-3af7-4025-8e91-c93baef6f427"
      },
      "outputs": [
        {
          "output_type": "execute_result",
          "data": {
            "text/plain": [
              "TextClassifier(\n",
              "  (embedding): Embedding(400000, 100)\n",
              "  (fc1): Linear(in_features=100, out_features=128, bias=True)\n",
              "  (relu): ReLU()\n",
              "  (fc2): Linear(in_features=128, out_features=4, bias=True)\n",
              ")"
            ]
          },
          "metadata": {},
          "execution_count": 55
        }
      ],
      "source": [
        "from urllib.request import urlopen\n",
        "import io\n",
        "\n",
        "model_lora=TextClassifier(num_classes=4,freeze=False)\n",
        "model_lora.to(device)\n",
        "\n",
        "urlopened = urlopen('https://cf-courses-data.s3.us.cloud-object-storage.appdomain.cloud/uGC04Pom651hQs1XrZ0NsQ/my-model-freeze-false.pth')\n",
        "\n",
        "stream = io.BytesIO(urlopened.read())\n",
        "state_dict = torch.load(stream, map_location=device)\n",
        "model_lora.load_state_dict(state_dict)\n",
        "\n",
        "# Here, you freeze all layers:\n",
        "for parm in model_lora.parameters():\n",
        "    parm.requires_grad=False\n",
        "model_lora"
      ],
      "execution_count": null
    },
    {
      "cell_type": "markdown",
      "metadata": {
        "id": "8b3675ac-321d-4935-a764-d281bdeed513"
      },
      "source": [
        "Note that the `for` loop in the above code froze all of the layers in the neural network, including the embedding layer.\n"
      ]
    },
    {
      "cell_type": "markdown",
      "metadata": {
        "id": "bf8cd535-1f7d-40cf-a723-92ecfecb87b1"
      },
      "source": [
        "Additionally, note that the original model was on a classification problem that had four classes, while the IMDB dataset has just 2 classes. To account for this, you will replace the final layer with a new linear layer where the number of outputs equals 2:\n"
      ]
    },
    {
      "cell_type": "code",
      "metadata": {
        "id": "ac83abcd-6aa8-4b75-b3ad-cad6e47bd954",
        "colab": {
          "base_uri": "https://localhost:8080/"
        },
        "outputId": "f5d46a6c-53c8-47c3-a22b-f2388f51bd44"
      },
      "outputs": [
        {
          "output_type": "execute_result",
          "data": {
            "text/plain": [
              "TextClassifier(\n",
              "  (embedding): Embedding(400000, 100)\n",
              "  (fc1): Linear(in_features=100, out_features=128, bias=True)\n",
              "  (relu): ReLU()\n",
              "  (fc2): Linear(in_features=128, out_features=2, bias=True)\n",
              ")"
            ]
          },
          "metadata": {},
          "execution_count": 56
        }
      ],
      "source": [
        "model_lora.fc2=nn.Linear(in_features=128, out_features=2, bias=True).to(device)\n",
        "model_lora"
      ],
      "execution_count": null
    },
    {
      "cell_type": "markdown",
      "metadata": {
        "id": "70bd4a67-e41f-4232-a2ab-cbebd3e27e55"
      },
      "source": [
        "Let's view all of the modules in the object.\n"
      ]
    },
    {
      "cell_type": "code",
      "metadata": {
        "id": "270e8203-fd76-4277-9d6a-557151b28061",
        "colab": {
          "base_uri": "https://localhost:8080/"
        },
        "outputId": "893c8984-2780-4be4-b62d-94f35e37d5d2"
      },
      "outputs": [
        {
          "output_type": "execute_result",
          "data": {
            "text/plain": [
              "TextClassifier(\n",
              "  (embedding): Embedding(400000, 100)\n",
              "  (fc1): Linear(in_features=100, out_features=128, bias=True)\n",
              "  (relu): ReLU()\n",
              "  (fc2): Linear(in_features=128, out_features=2, bias=True)\n",
              ")"
            ]
          },
          "metadata": {},
          "execution_count": 57
        }
      ],
      "source": [
        "model_lora"
      ],
      "execution_count": null
    },
    {
      "cell_type": "markdown",
      "metadata": {
        "id": "57d693f7-8275-4b2c-ac7e-9dfb7a2508af"
      },
      "source": [
        "Your task now is to replace the hidden layer with a LoRA layer. You can access the hidden layer as follows:\n"
      ]
    },
    {
      "cell_type": "code",
      "metadata": {
        "id": "0d5bbf8a-0d30-4ed9-8396-22c39a22d831",
        "colab": {
          "base_uri": "https://localhost:8080/"
        },
        "outputId": "2eb43a20-64ee-4fe6-8f5e-922c4c0a5dbf"
      },
      "outputs": [
        {
          "output_type": "execute_result",
          "data": {
            "text/plain": [
              "Linear(in_features=100, out_features=128, bias=True)"
            ]
          },
          "metadata": {},
          "execution_count": 58
        }
      ],
      "source": [
        "model_lora.fc1"
      ],
      "execution_count": null
    },
    {
      "cell_type": "markdown",
      "metadata": {
        "id": "fd0cabe8-ab66-4995-9618-16409d4c8b6d"
      },
      "source": [
        "The following replaces this layer with a LoRA layer:\n"
      ]
    },
    {
      "cell_type": "code",
      "metadata": {
        "id": "f96f815a-5186-4129-ae74-6c89afb228cf"
      },
      "outputs": [],
      "source": [
        "model_lora.fc1=LinearWithLoRA(model_lora.fc1,rank=2, alpha=0.1).to(device)"
      ],
      "execution_count": null
    },
    {
      "cell_type": "markdown",
      "metadata": {
        "id": "065e808c-e90e-4491-a634-c7993d9e86ca"
      },
      "source": [
        "Let's look at the hidden layer again to ensure that it is indeed converted to a LoRA layer.\n"
      ]
    },
    {
      "cell_type": "code",
      "metadata": {
        "id": "c576cb74-89e1-4527-a571-2d2d93c68954",
        "colab": {
          "base_uri": "https://localhost:8080/"
        },
        "outputId": "8f94726b-674b-4499-cc41-896c352e0563"
      },
      "outputs": [
        {
          "output_type": "execute_result",
          "data": {
            "text/plain": [
              "LinearWithLoRA(\n",
              "  (linear): Linear(in_features=100, out_features=128, bias=True)\n",
              "  (lora): LoRALayer()\n",
              ")"
            ]
          },
          "metadata": {},
          "execution_count": 60
        }
      ],
      "source": [
        "model_lora.fc1"
      ],
      "execution_count": null
    },
    {
      "cell_type": "markdown",
      "metadata": {
        "id": "5384b179-31f8-402b-b02f-0634ece89d16"
      },
      "source": [
        "At this point, training the model is similar, with the only difference being that, except for the output layer, only the learnable parameters\n",
        "```A``` and  ```B``` will be updated. The code to select the values for  `r` and `alpha`, which is not run, is nonetheless provided herein for your convenience.\n"
      ]
    },
    {
      "cell_type": "code",
      "metadata": {
        "id": "3532d417-15f6-4607-bf7b-dac78e6dd3f7",
        "colab": {
          "base_uri": "https://localhost:8080/"
        },
        "outputId": "a3c0fe27-015d-433e-9b2c-0a2b299cc4fa"
      },
      "outputs": [
        {
          "output_type": "execute_result",
          "data": {
            "text/plain": [
              "TextClassifier(\n",
              "  (embedding): Embedding(400000, 100)\n",
              "  (fc1): LinearWithLoRA(\n",
              "    (linear): Linear(in_features=100, out_features=128, bias=True)\n",
              "    (lora): LoRALayer()\n",
              "  )\n",
              "  (relu): ReLU()\n",
              "  (fc2): Linear(in_features=128, out_features=2, bias=True)\n",
              ")"
            ]
          },
          "metadata": {},
          "execution_count": 61
        }
      ],
      "source": [
        "model_lora.to(device)"
      ],
      "execution_count": null
    },
    {
      "cell_type": "markdown",
      "metadata": {
        "id": "45d5ae04-c3f7-4cb1-8fca-e3a2f84a9671"
      },
      "source": [
        "<details>\n",
        "<summary><b>Click here to see code to select r and alpha</b></summary>\n",
        "    \n",
        "```python\n",
        "ranks = [1, 2, 5, 10]\n",
        "alphas = [0.1, 0.5, 1.0, 2.0, 5.0]\n",
        "\n",
        "results=[]\n",
        "accuracy_old=0\n",
        "# Loop over each combination of 'r' and 'alpha'\n",
        "for r in ranks:\n",
        "    for alpha in alphas:\n",
        "        print(f\"Testing with rank = {r} and alpha = {alpha}\")\n",
        "        model_name=f\"model_lora_rank{r}_alpha{alpha}_AGtoIBDM_final_adam_\"\n",
        "        \n",
        "        model_lora=TextClassifier(num_classes=4,freeze=False)\n",
        "        model_lora.to(device)\n",
        "        \n",
        "        urlopened = urlopen('https://cf-courses-data.s3.us.cloud-object-storage.appdomain.cloud/uGC04Pom651hQs1XrZ0NsQ/my-model-freeze-false.pth')\n",
        "        \n",
        "        stream = io.BytesIO(urlopened.read())\n",
        "        state_dict = torch.load(stream, map_location=device)\n",
        "        model_lora.load_state_dict(state_dict)\n",
        "        \n",
        "        for parm in model_lora.parameters():\n",
        "            parm.requires_grad=False\n",
        "        \n",
        "        model_lora.fc2=nn.Linear(in_features=128, out_features=2, bias=True)\n",
        "        model_lora.fc1=LinearWithLoRA(model_lora.fc1,rank=r, alpha=alpha )\n",
        "        optimizer = torch.optim.Adam(model_lora.parameters(), lr=LR)\n",
        "\n",
        "        scheduler = torch.optim.lr_scheduler.ExponentialLR(optimizer, gamma=0.1)\n",
        "        \n",
        "        model_lora.to(device)\n",
        "        \n",
        "        \n",
        "        \n",
        "\n",
        "        \n",
        "        train_model(model_lora, optimizer, criterion, train_dataloader, valid_dataloader, epochs=300, model_name=model_name)\n",
        "        \n",
        "        accuracy=evaluate(valid_dataloader ,  model_lora, device)\n",
        "        result = {\n",
        "            'rank': r,\n",
        "            'alpha': alpha,\n",
        "            'accuracy':accuracy\n",
        "        }\n",
        "\n",
        "        # Append the dictionary to the results list\n",
        "        results.append(result)\n",
        "        \n",
        "        \n",
        "        \n",
        "        \n",
        "\n",
        "        if accuracy>accuracy_old:\n",
        "            print(f\"Testing with rank = {r} and alpha = {alpha}\")\n",
        "            print(f\"accuracy: {accuracy} accuracy_old: {accuracy_old}\" )\n",
        "            accuracy_old=accuracy\n",
        "            torch.save(model.state_dict(), f\"{model_name}.pth\")\n",
        "            save_list_to_file(cum_loss_list, f\"{model_name}_loss.pkl\")\n",
        "            save_list_to_file(acc_epoch, f\"{model_name}_acc.pkl\")\n",
        "            \n",
        "        \n",
        "```       \n"
      ]
    },
    {
      "cell_type": "markdown",
      "metadata": {
        "id": "fcbb75db-c7b9-4d88-8ffe-e366c6c68e6a"
      },
      "source": [
        "\n",
        "Let's set up the training components for the `model_lora` model, defining a learning rate of 1, using cross-entropy loss as the criterion, optimizing with stochastic gradient descent (SGD), and scheduling the learning rate to decay by a factor of 0.1 at each epoch:\n"
      ]
    },
    {
      "cell_type": "code",
      "metadata": {
        "id": "b3b695d3-74ab-49fd-9310-609cf77170a9"
      },
      "outputs": [],
      "source": [
        "LR=1\n",
        "criterion = torch.nn.CrossEntropyLoss()\n",
        "optimizer = torch.optim.SGD(model_lora.parameters(), lr=LR)\n",
        "scheduler = torch.optim.lr_scheduler.StepLR(optimizer, 1.0, gamma=0.1)\n"
      ],
      "execution_count": null
    },
    {
      "cell_type": "markdown",
      "metadata": {
        "id": "2c4396da-c37c-4cef-be42-d40d6fbf7e6c"
      },
      "source": [
        "You have pretrained a model using an identical procedure for 300 epochs and saved it for your convenience. However, to give you a taste of how training works in practice, run the following code to train the model for just 2 epochs.\n"
      ]
    },
    {
      "cell_type": "code",
      "metadata": {
        "id": "7e7a8c9f-86d9-49ae-9bb4-45b4b25b5ece"
      },
      "outputs": [],
      "source": [
        "model_name=\"model_lora_final2\"\n",
        "#train_model(model_lora,optimizer, criterion, train_dataloader, valid_dataloader, epochs=2, model_name=model_name)\n"
      ],
      "execution_count": null
    },
    {
      "cell_type": "markdown",
      "metadata": {
        "id": "5b49489d-450b-4d47-a6d6-67b8e0d596d6"
      },
      "source": [
        "Instead of evaluating the model you just trained for 2 epochs, lets have a look at the LoRA model pretrained on 300 epochs:\n"
      ]
    },
    {
      "cell_type": "code",
      "metadata": {
        "id": "5189a8bb-35fa-4729-aedd-cdedb15a1477"
      },
      "outputs": [],
      "source": [
        "\n",
        "%%capture\n",
        "!wget https://cf-courses-data.s3.us.cloud-object-storage.appdomain.cloud/JWPRb1RMhKLRMUWOKw9pxA/model-lora-final2.pth\n",
        "!wget https://cf-courses-data.s3.us.cloud-object-storage.appdomain.cloud/_dm02rLyTrwsXEQh2r32sQ/model-lora-final2-acc.pkl\n",
        "!wget https://cf-courses-data.s3.us.cloud-object-storage.appdomain.cloud/OZbVqKjoqOSIwnET8AB1KA/model-lora-final2-loss.pkl\n"
      ],
      "execution_count": null
    },
    {
      "cell_type": "markdown",
      "metadata": {
        "id": "3c0d1167-83c2-4ea7-bce0-cbbc2d5cb3a5"
      },
      "source": [
        "The following shows the progression of the training of this model for 300 epochs:\n"
      ]
    },
    {
      "cell_type": "code",
      "metadata": {
        "id": "ad8f0a7d-fd67-4856-b1b9-8b9ca0962951",
        "colab": {
          "base_uri": "https://localhost:8080/",
          "height": 486
        },
        "outputId": "0882cff4-146c-4921-f675-cf00398eb1b7"
      },
      "outputs": [
        {
          "output_type": "display_data",
          "data": {
            "text/plain": [
              "<Figure size 640x480 with 2 Axes>"
            ],
            "image/png": "[encoded data removed]"
          },
          "metadata": {}
        }
      ],
      "source": [
        "cum_loss_list=load_list_from_file(model_name.replace('_','-') + \"-loss.pkl\")\n",
        "acc_epoch=load_list_from_file(model_name.replace('_','-') + \"-acc.pkl\")\n",
        "plot(cum_loss_list,acc_epoch)"
      ],
      "execution_count": null
    },
    {
      "cell_type": "markdown",
      "metadata": {
        "id": "e57fee0e-b030-4616-b288-dc8d18d354bc"
      },
      "source": [
        "Let's load actually load the model into model_lora:\n"
      ]
    },
    {
      "cell_type": "code",
      "metadata": {
        "id": "b8a8c8f6-f8e8-44c4-b03a-d6b6ee8555d8",
        "colab": {
          "base_uri": "https://localhost:8080/"
        },
        "outputId": "f8eb05d6-9f1b-484f-c71c-ed28e25a68e0"
      },
      "outputs": [
        {
          "output_type": "execute_result",
          "data": {
            "text/plain": [
              "TextClassifier(\n",
              "  (embedding): Embedding(400000, 100)\n",
              "  (fc1): LinearWithLoRA(\n",
              "    (linear): Linear(in_features=100, out_features=128, bias=True)\n",
              "    (lora): LoRALayer()\n",
              "  )\n",
              "  (relu): ReLU()\n",
              "  (fc2): Linear(in_features=128, out_features=2, bias=True)\n",
              ")"
            ]
          },
          "metadata": {},
          "execution_count": 67
        }
      ],
      "source": [
        "model_lora.load_state_dict(torch.load(model_name.replace('_','-') + \".pth\", map_location=device))\n",
        "model_lora.eval()"
      ],
      "execution_count": null
    },
    {
      "cell_type": "markdown",
      "metadata": {
        "id": "9d91150b-3520-4325-86df-d213c95f9464"
      },
      "source": [
        "And, let's evaluate its performance on the test data.\n"
      ]
    },
    {
      "cell_type": "code",
      "metadata": {
        "id": "c2a7bb2b-7c5c-4d00-8eb7-764ee1af3f3d",
        "colab": {
          "base_uri": "https://localhost:8080/",
          "height": 37
        },
        "outputId": "0f332fe0-d715-4f86-ad03-ca113e320b13"
      },
      "outputs": [
        {
          "output_type": "execute_result",
          "data": {
            "text/plain": [
              "69.184"
            ],
            "text/latex": "$\\displaystyle 69.184$"
          },
          "metadata": {},
          "execution_count": 68
        }
      ],
      "source": [
        "evaluate(test_dataloader , model_lora, device)\n"
      ],
      "execution_count": null
    },
    {
      "cell_type": "markdown",
      "metadata": {
        "id": "4ea91752-05d2-40ff-97e3-f46353606691"
      },
      "source": [
        "You get a 3% improvement over a model trained from scratch by using LoRA. Note that this occurs despite the fact that the model fine-tuned with LoRA updated less parameters than the model trained from scratch!\n"
      ]
    },
    {
      "cell_type": "markdown",
      "metadata": {
        "id": "a3e24bf0-7b93-4b89-9bfc-b8292d42438c"
      },
      "source": [
        "The ```model_lora.fc1``` attribute represents ```LinearWithLoRA``` which contains both the standard ```Linear``` layer ``(linear)`` and an additional ```LoRA``` layer ```(lora)``` which represents the ```LoRALayer```.\n"
      ]
    },
    {
      "cell_type": "code",
      "metadata": {
        "id": "482faffe-64e0-446b-89e9-ffd71937f2d9",
        "colab": {
          "base_uri": "https://localhost:8080/"
        },
        "outputId": "704f459a-6cca-4bc6-c430-2dc527a0076d"
      },
      "outputs": [
        {
          "output_type": "execute_result",
          "data": {
            "text/plain": [
              "LinearWithLoRA(\n",
              "  (linear): Linear(in_features=100, out_features=128, bias=True)\n",
              "  (lora): LoRALayer()\n",
              ")"
            ]
          },
          "metadata": {},
          "execution_count": 69
        }
      ],
      "source": [
        "model_lora.fc1"
      ],
      "execution_count": null
    },
    {
      "cell_type": "markdown",
      "metadata": {
        "id": "0bebc9dd-452a-4787-8297-b0065d756728"
      },
      "source": [
        "From ```model_lora.fc1.lora```, you can obtain the learnable parameters A and B.  \n"
      ]
    },
    {
      "cell_type": "code",
      "metadata": {
        "id": "8008241b-be93-47fa-8940-f8ad91d98750",
        "colab": {
          "base_uri": "https://localhost:8080/"
        },
        "outputId": "02d3930b-9fdf-473a-d587-124a959a466e"
      },
      "outputs": [
        {
          "output_type": "stream",
          "name": "stdout",
          "text": [
            "B Parameter containing:\n",
            "tensor([[-4.3192e-01, -1.1071e+00,  2.4456e-01, -3.1031e-02, -2.0012e-01,\n",
            "         -6.7811e-01, -1.3552e-01, -2.7458e-01,  3.2278e-02,  6.7592e-02,\n",
            "          8.3020e-01,  1.1610e-05, -1.0894e-01,  7.7830e-05, -1.6789e-01,\n",
            "         -1.3309e-01, -5.1875e-01,  2.1928e-02, -6.5869e-02, -3.5834e-01,\n",
            "         -2.4473e-02, -1.1260e+00, -8.8752e-02, -7.0861e-03, -1.3263e-02,\n",
            "          0.0000e+00, -6.9039e-01, -8.6471e-02, -3.9146e-01, -2.2644e-01,\n",
            "         -8.7611e-01, -7.9929e-01,  0.0000e+00,  3.9646e-01,  5.2164e-01,\n",
            "         -4.2730e-01,  2.3550e-01,  4.0447e-02,  2.3289e-01, -4.5217e-01,\n",
            "          1.7721e-03, -4.7263e-01, -2.4343e-01,  6.3737e-01,  0.0000e+00,\n",
            "          2.6904e-03, -7.8828e-01,  2.2559e-02, -4.3776e-02,  3.0909e-01,\n",
            "         -1.6914e-01, -2.0294e-01, -4.2175e-01,  7.8840e-01, -3.1771e-01,\n",
            "         -2.0639e-01,  1.1487e-02, -5.7238e-01,  1.4071e-01, -2.8561e-01,\n",
            "          1.1753e-01, -1.6501e-04, -4.5406e-01,  0.0000e+00,  6.4464e-05,\n",
            "         -4.4552e-01, -1.4372e-01,  5.2899e-02, -9.7813e-01, -4.5834e-01,\n",
            "         -6.0968e-01,  5.5418e-02, -7.8054e-01, -1.2806e-01, -1.2291e-01,\n",
            "         -1.4927e-01,  1.1984e-01, -4.9344e-02, -4.0802e-01,  0.0000e+00,\n",
            "          1.0085e-01,  0.0000e+00, -1.1553e+00, -1.1726e-01,  0.0000e+00,\n",
            "         -1.5980e-01,  1.0715e-01, -6.6047e-01, -4.0122e-01, -3.3328e-01,\n",
            "          0.0000e+00, -8.4713e-05, -1.0361e+00, -2.0651e-01,  4.8110e-01,\n",
            "         -1.1648e+00, -1.3535e+00,  3.9261e-01, -5.9634e-04,  0.0000e+00,\n",
            "         -2.3484e-02, -2.9119e-02,  4.8014e-03, -9.4629e-02, -2.8612e-01,\n",
            "         -2.1896e-02, -3.7316e-01,  3.3309e-02, -1.2363e-01, -1.7977e-01,\n",
            "          4.3949e-05, -2.0580e-01,  4.9675e-01, -3.3358e-03,  2.3369e-01,\n",
            "         -2.5254e-01,  8.1739e-03,  1.1209e-01, -1.7311e-01, -8.0624e-02,\n",
            "         -1.3280e+00,  7.7398e-01, -1.2380e+00, -4.4729e-01, -6.5231e-01,\n",
            "         -3.0026e-01,  8.8543e-02, -1.9287e-04],\n",
            "        [ 2.8719e-01,  4.5585e-01, -2.3756e-01, -4.2161e-02,  1.0720e-01,\n",
            "         -8.3839e-01,  2.5098e-01, -4.7875e-01, -6.7113e-02, -1.8940e-01,\n",
            "         -9.7494e-01,  1.5431e-05, -1.9587e-01,  2.8327e-04,  1.3258e-01,\n",
            "         -1.4904e-01,  7.6676e-01, -1.9980e-01, -5.4798e-02, -5.3408e-02,\n",
            "         -1.8818e-01,  7.9588e-01,  9.6087e-02,  2.5530e-02, -7.2462e-01,\n",
            "          0.0000e+00, -1.4258e+00, -5.9680e-02,  1.7253e-03,  4.7575e-02,\n",
            "          4.2872e-01,  1.7875e-02,  0.0000e+00, -1.6925e-01,  1.6071e+00,\n",
            "         -7.2869e-01, -2.5870e-01,  2.7839e-02, -3.0237e-01,  6.9624e-01,\n",
            "         -2.8908e-04,  2.9164e-01,  4.7389e-02,  2.8530e-01,  0.0000e+00,\n",
            "         -5.9235e-02, -6.8176e-02, -4.6494e-02, -8.1741e-02, -6.3252e-01,\n",
            "          2.4469e-02,  7.2494e-02,  8.2158e-02,  6.3870e-01,  2.1799e-01,\n",
            "          7.5177e-01,  3.1872e-02,  1.4100e-01, -2.3390e-01,  3.3391e-01,\n",
            "         -3.8685e-01, -4.5463e-03,  1.4543e-01,  0.0000e+00,  3.8082e-05,\n",
            "          3.0410e-01,  4.7614e-02, -1.5299e-01, -3.4549e-01, -2.3156e-01,\n",
            "          2.2711e-01, -1.0894e-01,  1.7479e+00,  5.1043e-03,  1.4021e-02,\n",
            "          1.9368e-02, -1.0875e-01,  9.7929e-03, -7.4530e-02,  0.0000e+00,\n",
            "          1.9233e-02,  0.0000e+00,  5.1489e-01, -2.0680e-01,  0.0000e+00,\n",
            "          1.8348e-01,  5.8013e-01,  2.9426e-01, -8.2005e-01,  2.2163e-01,\n",
            "          0.0000e+00,  1.8530e-04,  5.1081e-01,  1.1597e-01, -4.4384e-01,\n",
            "          6.3387e-01,  9.7338e-01, -6.0469e-01, -6.5377e-02,  0.0000e+00,\n",
            "         -7.6416e-02, -4.1226e-02,  1.3478e-01, -2.0853e-01,  2.4558e-01,\n",
            "         -1.0312e-01,  4.7792e-01,  4.1285e-02, -4.4301e-02,  3.2861e-02,\n",
            "          6.9632e-04,  4.0895e-02,  1.1403e-01,  4.4740e-03, -2.8703e-01,\n",
            "          3.8271e-01, -2.0000e-03, -5.1493e-02,  2.4292e-01, -2.3110e-01,\n",
            "          1.1481e+00, -1.6331e+00,  5.0157e-01, -1.3528e-01,  3.8709e-01,\n",
            "          1.4637e-01, -1.2716e-01, -6.3597e-05]], requires_grad=True)\n",
            "\n",
            " Number of elements in the tensor B 256\n"
          ]
        }
      ],
      "source": [
        "B=model_lora.fc1.lora.B\n",
        "print(\"B\",B)\n",
        "print(\"\\n Number of elements in the tensor B\",B.numel())\n",
        "torch.save(B, 'B.pth')\n"
      ],
      "execution_count": null
    },
    {
      "cell_type": "code",
      "metadata": {
        "id": "66bdcfc5-89b9-47b8-b088-c1aa01c5046d",
        "colab": {
          "base_uri": "https://localhost:8080/"
        },
        "outputId": "e7c03b34-3222-40ea-d24a-7b0faa49ba63"
      },
      "outputs": [
        {
          "output_type": "stream",
          "name": "stdout",
          "text": [
            "A Parameter containing:\n",
            "tensor([[ 3.2952e-01,  9.3019e-01],\n",
            "        [ 2.3904e+00, -5.1022e+00],\n",
            "        [-2.4573e-01,  2.4733e+00],\n",
            "        [ 5.8014e-01,  3.9014e-01],\n",
            "        [ 1.6970e+00, -2.4614e+00],\n",
            "        [-1.2420e+00,  8.3014e-01],\n",
            "        [-2.0468e+00,  1.1629e+00],\n",
            "        [-5.9361e-01,  1.8099e-01],\n",
            "        [ 9.2466e-02,  1.1583e-01],\n",
            "        [-2.0841e-02,  1.5550e+00],\n",
            "        [ 1.3028e+00, -9.8381e-01],\n",
            "        [ 1.4320e+00, -3.3497e+00],\n",
            "        [-1.1637e+00,  1.9436e+00],\n",
            "        [ 2.4898e-01, -1.1353e+00],\n",
            "        [ 2.4423e+00,  1.0154e+00],\n",
            "        [ 2.4881e+00, -4.6765e+00],\n",
            "        [-1.8985e-01,  1.3426e+00],\n",
            "        [-1.1730e-01, -2.1925e+00],\n",
            "        [ 2.0193e+00, -8.5886e-01],\n",
            "        [-3.1268e+00,  3.5134e+00],\n",
            "        [ 1.0935e+00, -2.9263e+00],\n",
            "        [-1.0435e+00,  2.5428e-01],\n",
            "        [-8.6704e-01,  2.3570e+00],\n",
            "        [-5.2725e-02, -2.3731e-01],\n",
            "        [-4.3896e+00,  5.0369e+00],\n",
            "        [-1.1174e+00,  9.9728e-01],\n",
            "        [ 4.7710e-01, -1.2162e+00],\n",
            "        [ 3.3296e+00, -5.9627e+00],\n",
            "        [ 1.7393e+00, -2.0707e+00],\n",
            "        [-4.0115e-01,  2.2691e+00],\n",
            "        [ 4.8368e-04,  1.1773e+00],\n",
            "        [ 1.9858e+00, -1.6100e+00],\n",
            "        [ 6.9951e-01, -1.2869e+00],\n",
            "        [-2.6380e-01,  2.5743e+00],\n",
            "        [-3.9002e+00,  2.6775e+00],\n",
            "        [-2.1946e+00,  3.7126e+00],\n",
            "        [-3.2268e-01,  1.7346e-01],\n",
            "        [ 4.7590e+00, -2.9553e+00],\n",
            "        [-6.6704e-01,  8.1369e-01],\n",
            "        [ 1.0073e+00,  3.6606e-01],\n",
            "        [ 1.3186e-01, -3.4151e+00],\n",
            "        [-6.6832e-01,  3.7761e-01],\n",
            "        [-3.0825e-01,  1.1928e+00],\n",
            "        [ 1.8897e+00, -1.2788e+00],\n",
            "        [-1.4344e+00, -2.9294e-01],\n",
            "        [ 2.1678e+00, -2.5469e+00],\n",
            "        [-6.6993e-01,  2.2932e+00],\n",
            "        [-3.1326e+00,  4.3424e+00],\n",
            "        [ 4.2197e+00, -7.1153e+00],\n",
            "        [ 7.1775e-01, -4.0832e-01],\n",
            "        [-1.6389e+00,  1.4520e+00],\n",
            "        [-1.6150e+00,  2.4683e+00],\n",
            "        [ 1.5745e+00, -4.6085e+00],\n",
            "        [ 6.0900e-01, -1.0851e+00],\n",
            "        [-1.2270e+00,  4.0171e-01],\n",
            "        [-2.6879e-01,  1.5706e+00],\n",
            "        [ 2.0390e+00, -1.8152e+00],\n",
            "        [-1.2317e+00,  6.0501e-01],\n",
            "        [ 4.1927e-02, -2.4078e+00],\n",
            "        [ 1.4265e+00, -9.2525e-01],\n",
            "        [ 5.9394e-01, -7.4587e-01],\n",
            "        [ 6.1463e-01, -2.6220e-01],\n",
            "        [ 6.7605e-01, -2.1740e-01],\n",
            "        [-5.9436e-01,  9.3632e-01],\n",
            "        [ 2.8933e-01, -1.3208e-02],\n",
            "        [-2.0206e+00,  3.9333e+00],\n",
            "        [ 2.4903e+00, -1.1771e+00],\n",
            "        [ 9.5112e-01, -1.7163e+00],\n",
            "        [ 1.7097e+00, -8.8835e-01],\n",
            "        [-3.4182e+00,  2.9024e+00],\n",
            "        [ 1.3908e+00, -1.7813e+00],\n",
            "        [-1.9825e+00,  2.1889e+00],\n",
            "        [ 3.2187e-02, -1.7187e-01],\n",
            "        [ 2.3456e+00, -3.3756e+00],\n",
            "        [-1.3550e+00,  3.8261e+00],\n",
            "        [-2.2111e+00,  1.7149e+00],\n",
            "        [-1.6745e+00,  2.1577e+00],\n",
            "        [-2.0270e+00,  3.8298e+00],\n",
            "        [ 1.6872e+00, -1.8343e+00],\n",
            "        [-1.3611e+00,  8.4912e-01],\n",
            "        [-1.5436e+00,  2.8195e+00],\n",
            "        [-8.4964e-01,  1.7983e+00],\n",
            "        [ 1.7100e+00, -6.1945e-01],\n",
            "        [ 1.7025e+00, -3.0842e+00],\n",
            "        [ 1.5122e+00,  7.2826e-01],\n",
            "        [ 9.1957e-01, -2.4107e+00],\n",
            "        [-2.5545e+00,  4.1697e+00],\n",
            "        [ 1.7832e-01, -2.9886e+00],\n",
            "        [-4.0698e+00,  5.4074e+00],\n",
            "        [ 1.3872e+00, -2.1134e+00],\n",
            "        [-3.7505e+00,  4.7124e+00],\n",
            "        [-1.6772e+00,  3.0610e+00],\n",
            "        [-7.6127e-01,  7.7868e-01],\n",
            "        [-5.1529e-01,  7.3124e-02],\n",
            "        [ 2.5028e+00, -5.3530e-01],\n",
            "        [ 2.1893e+00, -2.8006e+00],\n",
            "        [-1.7899e+00,  1.7446e+00],\n",
            "        [-1.1793e+00,  4.6499e+00],\n",
            "        [ 1.1547e+00,  1.7930e+00],\n",
            "        [-1.7421e-01,  2.7170e+00]], requires_grad=True)\n",
            "\n",
            " Number of elements in the tensor A 200\n"
          ]
        }
      ],
      "source": [
        "A=model_lora.fc1.lora.A\n",
        "print(\"A\",A)\n",
        "print(\"\\n Number of elements in the tensor A\",A.numel())\n",
        "torch.save(A, 'A.pth')"
      ],
      "execution_count": null
    },
    {
      "cell_type": "markdown",
      "metadata": {
        "id": "81a3616c-174b-4ca5-871a-6b1e1f16b3ad"
      },
      "source": [
        "A and B have approximately 450 parameters. If you were to store the entire linear layer, you would have 12,800 parameters, which is around 28 times more. Remember, this is possibly the simplest model that you can have.\n"
      ]
    },
    {
      "cell_type": "code",
      "metadata": {
        "id": "49d1c6ea-b224-4ac1-bdc6-942cf4c40927",
        "colab": {
          "base_uri": "https://localhost:8080/"
        },
        "outputId": "393d0447-b170-4e7d-850e-62cfc09ae114"
      },
      "outputs": [
        {
          "output_type": "stream",
          "name": "stdout",
          "text": [
            "\n",
            " Number of elements in the tensor A 12800\n"
          ]
        }
      ],
      "source": [
        "\n",
        "print(\"\\n Number of elements in the tensor A\",model_lora.fc1.linear.weight.numel())\n"
      ],
      "execution_count": null
    },
    {
      "cell_type": "markdown",
      "metadata": {
        "id": "391b2639-72db-4fe9-b04d-a3818b26023e"
      },
      "source": [
        " alfa and the ouput layer  are also saved.\n"
      ]
    },
    {
      "cell_type": "code",
      "metadata": {
        "id": "c99bb817-876c-4866-b2fd-91ebd9c46060"
      },
      "outputs": [],
      "source": [
        "alfa_=model_lora.fc1.lora.alpha\n",
        "torch.save(alfa_, 'alfa_.pth')\n",
        "torch.save(model_lora.fc2.state_dict(), 'out_layer.pth')\n"
      ],
      "execution_count": null
    },
    {
      "cell_type": "markdown",
      "metadata": {
        "id": "386d8e55-30a6-4d43-84b2-a016d3412c6e"
      },
      "source": [
        "## Loading the model\n",
        "\n",
        "The main advantage of LoRA is that for fine-tuning, you only need to save the learnable parameters A and B, alpha, and the output layer in your classification example.\n"
      ]
    },
    {
      "cell_type": "markdown",
      "metadata": {
        "id": "2cc67156-5fb1-4d28-8954-02c2d532dbba"
      },
      "source": [
        "The saved files are converted to tensors and the linear layer, respectively.\n"
      ]
    },
    {
      "cell_type": "code",
      "metadata": {
        "id": "5c9f7fa6-aa5f-4fda-a5b5-4493febb5b98",
        "colab": {
          "base_uri": "https://localhost:8080/"
        },
        "outputId": "25d2b443-19dc-4dd9-9752-2790836affe2"
      },
      "outputs": [
        {
          "output_type": "stream",
          "name": "stdout",
          "text": [
            "A: torch.Size([100, 2])\n"
          ]
        }
      ],
      "source": [
        "A = torch.load('A.pth')\n",
        "print(\"A:\",A.shape)"
      ],
      "execution_count": null
    },
    {
      "cell_type": "code",
      "metadata": {
        "id": "53076a27-58fb-406d-adcb-bcb183c85cb5",
        "colab": {
          "base_uri": "https://localhost:8080/"
        },
        "outputId": "362e2c56-964e-40af-ab68-02800eec26b7"
      },
      "outputs": [
        {
          "output_type": "stream",
          "name": "stdout",
          "text": [
            "B: torch.Size([2, 128])\n"
          ]
        }
      ],
      "source": [
        "B = torch.load('B.pth')\n",
        "print(\"B:\",B.shape)"
      ],
      "execution_count": null
    },
    {
      "cell_type": "code",
      "metadata": {
        "id": "f24e2edb-b6ec-4c76-a5e2-6e478ee9f88d",
        "colab": {
          "base_uri": "https://localhost:8080/",
          "height": 37
        },
        "outputId": "e3b09d94-8867-4723-ae2d-06081c0bbd96"
      },
      "outputs": [
        {
          "output_type": "execute_result",
          "data": {
            "text/plain": [
              "0.1"
            ],
            "text/latex": "$\\displaystyle 0.1$"
          },
          "metadata": {},
          "execution_count": 76
        }
      ],
      "source": [
        "alfa_ = torch.load('alfa_.pth')\n",
        "alfa_\n"
      ],
      "execution_count": null
    },
    {
      "cell_type": "markdown",
      "metadata": {
        "id": "ea5504a9-5f70-4a4d-967f-41e4113397ab"
      },
      "source": [
        "The output layer:\n"
      ]
    },
    {
      "cell_type": "code",
      "metadata": {
        "id": "1b86a9e0-b1d3-4f50-895c-a7ccfe3c92f4",
        "colab": {
          "base_uri": "https://localhost:8080/"
        },
        "outputId": "077530e5-7c94-4054-9445-ec29a2eb02a2"
      },
      "outputs": [
        {
          "output_type": "execute_result",
          "data": {
            "text/plain": [
              "<All keys matched successfully>"
            ]
          },
          "metadata": {},
          "execution_count": 77
        }
      ],
      "source": [
        "output_layer=nn.Linear(in_features=128, out_features=2, bias=True)\n",
        "output_layer.load_state_dict(torch.load('out_layer.pth'))"
      ],
      "execution_count": null
    },
    {
      "cell_type": "markdown",
      "metadata": {
        "id": "1eeb65e9-b5fe-40a1-889d-15b07894484e"
      },
      "source": [
        "The model object is created and the pretrained parameters are loaded:\n"
      ]
    },
    {
      "cell_type": "code",
      "metadata": {
        "id": "2fab9d83-d6b4-46eb-bacf-57b03e82e7bb",
        "colab": {
          "base_uri": "https://localhost:8080/"
        },
        "outputId": "d0a06f87-7dfb-408a-bdf5-12a65a39a4a3"
      },
      "outputs": [
        {
          "output_type": "execute_result",
          "data": {
            "text/plain": [
              "TextClassifier(\n",
              "  (embedding): Embedding(400000, 100)\n",
              "  (fc1): Linear(in_features=100, out_features=128, bias=True)\n",
              "  (relu): ReLU()\n",
              "  (fc2): Linear(in_features=128, out_features=4, bias=True)\n",
              ")"
            ]
          },
          "metadata": {},
          "execution_count": 78
        }
      ],
      "source": [
        "\n",
        "model_load_lora = TextClassifier(num_classes=4,freeze=False)\n",
        "model_load_lora.to(device)\n",
        "\n",
        "urlopened = urlopen('https://cf-courses-data.s3.us.cloud-object-storage.appdomain.cloud/uGC04Pom651hQs1XrZ0NsQ/my-model-freeze-false.pth')\n",
        "\n",
        "stream = io.BytesIO(urlopened.read())\n",
        "state_dict = torch.load(stream, map_location=device)\n",
        "model_load_lora.load_state_dict(state_dict)\n",
        "\n",
        "model_load_lora"
      ],
      "execution_count": null
    },
    {
      "cell_type": "markdown",
      "metadata": {
        "id": "51892c75-44fa-4d08-be1b-64c0f7daf347"
      },
      "source": [
        "The LoRA layer object is added to the original hidden layer.\n"
      ]
    },
    {
      "cell_type": "code",
      "metadata": {
        "id": "021b0095-8ce3-4386-84aa-83fa8a278228"
      },
      "outputs": [],
      "source": [
        "model_load_lora.fc1=LinearWithLoRA(model_load_lora.fc1,rank=2, alpha=0.1)\n",
        "model_load_lora.fc2=nn.Linear(in_features=128, out_features=2, bias=True).to(device)"
      ],
      "execution_count": null
    },
    {
      "cell_type": "markdown",
      "metadata": {
        "id": "0dd1271e-f49d-418e-b455-a1e0c9a8082a"
      },
      "source": [
        "The parameters from fine-tuning are added.\n"
      ]
    },
    {
      "cell_type": "code",
      "metadata": {
        "id": "955f239c-663d-454c-8dff-9664650af73a"
      },
      "outputs": [],
      "source": [
        "model_load_lora.fc1.lora.A=A\n",
        "model_load_lora.fc1.lora.B=B\n",
        "model_load_lora.fc1.lora.alpha=alfa_\n",
        "model_load_lora.fc2=output_layer"
      ],
      "execution_count": null
    },
    {
      "cell_type": "code",
      "metadata": {
        "id": "810e369f-1c78-476a-9190-5ccff2c2df45",
        "colab": {
          "base_uri": "https://localhost:8080/"
        },
        "outputId": "349c9353-1d4d-4a0b-d006-d2dd3b2dd44c"
      },
      "outputs": [
        {
          "output_type": "execute_result",
          "data": {
            "text/plain": [
              "TextClassifier(\n",
              "  (embedding): Embedding(400000, 100)\n",
              "  (fc1): LinearWithLoRA(\n",
              "    (linear): Linear(in_features=100, out_features=128, bias=True)\n",
              "    (lora): LoRALayer()\n",
              "  )\n",
              "  (relu): ReLU()\n",
              "  (fc2): Linear(in_features=128, out_features=2, bias=True)\n",
              ")"
            ]
          },
          "metadata": {},
          "execution_count": 81
        }
      ],
      "source": [
        "model_load_lora.to(device)\n",
        "model_load_lora.eval()\n"
      ],
      "execution_count": null
    },
    {
      "cell_type": "code",
      "metadata": {
        "id": "ace40279-0cc2-4670-911e-f057e7ca294a",
        "colab": {
          "base_uri": "https://localhost:8080/",
          "height": 37
        },
        "outputId": "a3b029d4-7f26-48df-9ab0-68fea76eadff"
      },
      "outputs": [
        {
          "output_type": "execute_result",
          "data": {
            "text/plain": [
              "69.268"
            ],
            "text/latex": "$\\displaystyle 69.268$"
          },
          "metadata": {},
          "execution_count": 82
        }
      ],
      "source": [
        "evaluate(test_dataloader , model_load_lora, device)"
      ],
      "execution_count": null
    },
    {
      "cell_type": "markdown",
      "metadata": {
        "id": "471d1f0f-ff37-49d5-b41a-1ccbd9c1ca1d"
      },
      "source": [
        "This confirms that the model loaded correctly. You still get a 3% improvement in accuracy!\n"
      ]
    },
    {
      "cell_type": "markdown",
      "metadata": {
        "id": "47059d16-abcd-48d4-95c8-b7d9952cb8b4"
      },
      "source": [
        "Finally, the following shows how you can make a prediction on the following article using the function **`predict`**:\n"
      ]
    },
    {
      "cell_type": "code",
      "metadata": {
        "id": "19394fc9-f2cd-45a6-8774-cfd5283a3c7a"
      },
      "outputs": [],
      "source": [
        "article=\"\"\"This was a lacklustre movie with very little going for it. I was not impressed.\"\"\""
      ],
      "execution_count": null
    },
    {
      "cell_type": "markdown",
      "metadata": {
        "id": "f67bfdad-b551-4bfb-8a10-4c2a4014bd5f"
      },
      "source": [
        "This markdown content generates a styled box with light gray background and padding. It contains an `<h3>` header displaying the content of the `article` variable, and an `<h4>` header indicating the predicted category of the news article which is provided by the `result` variable. The placeholders `{article}` and `{result}` will be dynamically replaced with actual values when this markdown is rendered.\n"
      ]
    },
    {
      "cell_type": "code",
      "metadata": {
        "id": "897792a3-4f5e-42e9-9e28-774cd59ebffa",
        "colab": {
          "base_uri": "https://localhost:8080/",
          "height": 94
        },
        "outputId": "fc26b826-f615-4d61-a78f-56bcccf4e743"
      },
      "outputs": [
        {
          "output_type": "execute_result",
          "data": {
            "text/plain": [
              "<IPython.core.display.Markdown object>"
            ],
            "text/markdown": "\n<div style=\"background-color: lightgray; padding: 10px;\">\n    <h3>This was a lacklustre movie with very little going for it. I was not impressed.</h3>\n    <h4>The category of the news article:  negative review</h4>\n</div>\n"
          },
          "metadata": {},
          "execution_count": 84
        }
      ],
      "source": [
        "result = predict(article, model_load_lora, text_pipeline)\n",
        "\n",
        "markdown_content = f'''\n",
        "<div style=\"background-color: lightgray; padding: 10px;\">\n",
        "    <h3>{article}</h3>\n",
        "    <h4>The category of the news article: {result}</h4>\n",
        "</div>\n",
        "'''\n",
        "\n",
        "md(markdown_content)"
      ],
      "execution_count": null
    },
    {
      "cell_type": "markdown",
      "metadata": {
        "id": "51c713e8-89f6-45df-9058-4acdc99f0333"
      },
      "source": [
        "---\n",
        "## Exercise: Apply LoRA to a different network\n",
        "\n",
        "The following code defines a neural network called `NNet`.\n",
        "\n",
        "`NNet` is a neural network that was originally written to identify hand-written digits from 32x32 images. Your task is to fine-tune this network to perform letter recognition using LoRA by replacing the section labeled `### REPLACE THIS ###` in the code block below. To enhance your understanding, apply LoRA to just the second linear layer, and replace the last layer with a layer that has 26 outputs, one for each letter in the English alphabet.\n"
      ]
    },
    {
      "cell_type": "code",
      "metadata": {
        "id": "b6aeace9-036c-43a6-8ccd-5321680f92f2",
        "colab": {
          "base_uri": "https://localhost:8080/"
        },
        "outputId": "662d4559-cbc3-4959-86b0-4b49294a150e"
      },
      "outputs": [
        {
          "output_type": "stream",
          "name": "stdout",
          "text": [
            "This is what the model looked like before applying LoRA:\n",
            "NNet(\n",
            "  (conv1): Conv2d(1, 6, kernel_size=(5, 5), stride=(1, 1))\n",
            "  (conv2): Conv2d(6, 16, kernel_size=(5, 5), stride=(1, 1))\n",
            "  (fc1): Linear(in_features=400, out_features=120, bias=True)\n",
            "  (fc2): Linear(in_features=120, out_features=84, bias=True)\n",
            "  (fc3): Linear(in_features=84, out_features=10, bias=True)\n",
            ")\n",
            "\n",
            "###############\n",
            "\n",
            "This is what the model looked like after applying LoRA:\n",
            "NNet(\n",
            "  (conv1): Conv2d(1, 6, kernel_size=(5, 5), stride=(1, 1))\n",
            "  (conv2): Conv2d(6, 16, kernel_size=(5, 5), stride=(1, 1))\n",
            "  (fc1): Linear(in_features=400, out_features=120, bias=True)\n",
            "  (fc2): LinearWithLoRA(\n",
            "    (linear): Linear(in_features=120, out_features=84, bias=True)\n",
            "    (lora): LoRALayer()\n",
            "  )\n",
            "  (fc3): Linear(in_features=84, out_features=26, bias=True)\n",
            ")\n"
          ]
        }
      ],
      "source": [
        "class NNet(nn.Module):\n",
        "\n",
        "    def __init__(self):\n",
        "        super(NNet, self).__init__()\n",
        "        # 1 input image channel, 6 output channels, 5x5 square convolution\n",
        "        # kernel\n",
        "        self.conv1 = nn.Conv2d(1, 6, 5)\n",
        "        self.conv2 = nn.Conv2d(6, 16, 5)\n",
        "        # an affine operation: y = Wx + b\n",
        "        self.fc1 = nn.Linear(16 * 5 * 5, 120)  # 5*5 from image dimension\n",
        "        self.fc2 = nn.Linear(120, 84)\n",
        "        self.fc3 = nn.Linear(84, 10)\n",
        "\n",
        "    def forward(self, input):\n",
        "        # Convolution layer C1: 1 input image channel, 6 output channels,\n",
        "        # 5x5 square convolution, it uses RELU activation function, and\n",
        "        # outputs a Tensor with size (N, 6, 28, 28), where N is the size of the batch\n",
        "        c1 = F.relu(self.conv1(input))\n",
        "        # Subsampling layer S2: 2x2 grid, purely functional,\n",
        "        # this layer does not have any parameter, and outputs a (N, 6, 14, 14) Tensor\n",
        "        s2 = F.max_pool2d(c1, (2, 2))\n",
        "        # Convolution layer C3: 6 input channels, 16 output channels,\n",
        "        # 5x5 square convolution, it uses RELU activation function, and\n",
        "        # outputs a (N, 16, 10, 10) Tensor\n",
        "        c3 = F.relu(self.conv2(s2))\n",
        "        # Subsampling layer S4: 2x2 grid, purely functional,\n",
        "        # this layer does not have any parameter, and outputs a (N, 16, 5, 5) Tensor\n",
        "        s4 = F.max_pool2d(c3, 2)\n",
        "        # Flatten operation: purely functional, outputs a (N, 400) Tensor\n",
        "        s4 = torch.flatten(s4, 1)\n",
        "        # Fully connected layer F5: (N, 400) Tensor input,\n",
        "        # and outputs a (N, 120) Tensor, it uses RELU activation function\n",
        "        f5 = F.relu(self.fc1(s4))\n",
        "        # Fully connected layer F6: (N, 120) Tensor input,\n",
        "        # and outputs a (N, 84) Tensor, it uses RELU activation function\n",
        "        f6 = F.relu(self.fc2(f5))\n",
        "        # Gaussian layer OUTPUT: (N, 84) Tensor input, and\n",
        "        # outputs a (N, 10) Tensor\n",
        "        output = self.fc3(f6)\n",
        "        return output\n",
        "\n",
        "model_exercise = NNet()\n",
        "model_exercise.to(device)\n",
        "\n",
        "print('This is what the model looked like before applying LoRA:')\n",
        "print(model_exercise)\n",
        "print(\"\\n###############\\n\")\n",
        "\n",
        "# Freeze all parameters:\n",
        "for parm in model_exercise.parameters():\n",
        "    parm.requires_grad=False\n",
        "\n",
        "# Change final layer for one with 26 outputs:\n",
        "model_exercise.fc3=nn.Linear(in_features=84, out_features=26, bias=True).to(device)\n",
        "\n",
        "# Apply LoRA to the second linear layer\n",
        "model_exercise.fc2=LinearWithLoRA(model_exercise.fc2,rank=2, alpha=0.1).to(device)\n",
        "\n",
        "print('This is what the model looked like after applying LoRA:')\n",
        "print(model_exercise)"
      ],
      "execution_count": 85
    },
    {
      "cell_type": "markdown",
      "metadata": {
        "id": "809df0c5-07f7-48f9-b629-046ba47031d3"
      },
      "source": [
        "<details>\n",
        "    <summary>Click here for the solution</summary>\n",
        "\n",
        "```python\n",
        "class NNet(nn.Module):\n",
        "\n",
        "    def __init__(self):\n",
        "        super(NNet, self).__init__()\n",
        "        # 1 input image channel, 6 output channels, 5x5 square convolution\n",
        "        # kernel\n",
        "        self.conv1 = nn.Conv2d(1, 6, 5)\n",
        "        self.conv2 = nn.Conv2d(6, 16, 5)\n",
        "        # an affine operation: y = Wx + b\n",
        "        self.fc1 = nn.Linear(16 * 5 * 5, 120)  # 5*5 from image dimension\n",
        "        self.fc2 = nn.Linear(120, 84)\n",
        "        self.fc3 = nn.Linear(84, 10)\n",
        "\n",
        "    def forward(self, input):\n",
        "        # Convolution layer C1: 1 input image channel, 6 output channels,\n",
        "        # 5x5 square convolution, it uses RELU activation function, and\n",
        "        # outputs a Tensor with size (N, 6, 28, 28), where N is the size of the batch\n",
        "        c1 = F.relu(self.conv1(input))\n",
        "        # Subsampling layer S2: 2x2 grid, purely functional,\n",
        "        # this layer does not have any parameter, and outputs a (N, 6, 14, 14) Tensor\n",
        "        s2 = F.max_pool2d(c1, (2, 2))\n",
        "        # Convolution layer C3: 6 input channels, 16 output channels,\n",
        "        # 5x5 square convolution, it uses RELU activation function, and\n",
        "        # outputs a (N, 16, 10, 10) Tensor\n",
        "        c3 = F.relu(self.conv2(s2))\n",
        "        # Subsampling layer S4: 2x2 grid, purely functional,\n",
        "        # this layer does not have any parameter, and outputs a (N, 16, 5, 5) Tensor\n",
        "        s4 = F.max_pool2d(c3, 2)\n",
        "        # Flatten operation: purely functional, outputs a (N, 400) Tensor\n",
        "        s4 = torch.flatten(s4, 1)\n",
        "        # Fully connected layer F5: (N, 400) Tensor input,\n",
        "        # and outputs a (N, 120) Tensor, it uses RELU activation function\n",
        "        f5 = F.relu(self.fc1(s4))\n",
        "        # Fully connected layer F6: (N, 120) Tensor input,\n",
        "        # and outputs a (N, 84) Tensor, it uses RELU activation function\n",
        "        f6 = F.relu(self.fc2(f5))\n",
        "        # Gaussian layer OUTPUT: (N, 84) Tensor input, and\n",
        "        # outputs a (N, 10) Tensor\n",
        "        output = self.fc3(f6)\n",
        "        return output\n",
        "\n",
        "model_exercise = NNet()\n",
        "model_exercise.to(device)\n",
        "\n",
        "print('This is what the model looked like before applying LoRA:')\n",
        "print(model_exercise)\n",
        "print(\"\\n###############\\n\")\n",
        "\n",
        "# Freeze all parameters:\n",
        "for parm in model_exercise.parameters():\n",
        "    parm.requires_grad=False\n",
        "\n",
        "# Change final layer for one with 26 outputs:\n",
        "model_exercise.fc3=nn.Linear(in_features=84, out_features=26, bias=True).to(device)\n",
        "\n",
        "# Apply LoRA to the second linear layer\n",
        "model_exercise.fc2=LinearWithLoRA(model_exercise.fc2,rank=2, alpha=0.1).to(device)\n",
        "\n",
        "print('This is what the model looked like after applying LoRA:')\n",
        "print(model_exercise)\n",
        "```\n",
        "\n",
        "</details>\n"
      ]
    },
    {
      "cell_type": "markdown",
      "metadata": {
        "id": "6f0dbd5f-6fd3-4d36-b1e0-2ed3c8a15c49"
      },
      "source": [
        "---\n"
      ]
    },
    {
      "cell_type": "markdown",
      "metadata": {
        "id": "3dfe7b11-3252-43a6-8a5f-20480a864439"
      },
      "source": [
        "## Congratulations! You have completed the lab\n"
      ]
    },
    {
      "cell_type": "markdown",
      "metadata": {
        "id": "37c44448-f847-4592-af28-8a478a347503"
      },
      "source": [
        "## Authors\n"
      ]
    },
    {
      "cell_type": "markdown",
      "metadata": {
        "id": "11dd6747-4c31-4bcd-8ce3-4a3e3bff7511"
      },
      "source": [
        "[Joseph Santarcangelo](https://author.skills.network/instructors/joseph_santarcangelo) has a Ph.D. in Electrical Engineering, his research focused on using machine learning, signal processing, and computer vision to determine how videos impact human cognition. Joseph has been working for IBM since he completed his Ph.D.\n"
      ]
    },
    {
      "cell_type": "markdown",
      "metadata": {
        "id": "e46d38e4-b64d-4c37-81f5-efa4d1e1a2b6"
      },
      "source": [
        "[Wojciech \"Victor\" Fulmyk](https://www.linkedin.com/in/wfulmyk) is a Data Scientist at IBM, and a PhD Candidate in economics at the University of Calgary.\n"
      ]
    },
    {
      "cell_type": "markdown",
      "metadata": {
        "id": "15767dcb-4a88-4802-a40c-c966e44c38f3"
      },
      "source": [
        "[Ashutosh Sagar](https://www.linkedin.com/in/ashutoshsagar/) is completing his MS in CS from Dalhousie University. He has previous experience working with Natural Language Processing and as a Data Scientist.\n"
      ]
    },
    {
      "cell_type": "markdown",
      "metadata": {
        "id": "7703e9dc-e832-46a5-8084-c412b9a8ab06"
      },
      "source": [
        "## References\n",
        "\n",
        "[Finetuning with LoRA -- A Hands-On Example](https://lightning.ai/lightning-ai/studios/code-lora-from-scratch)\n",
        "\n",
        "[TEXT CLASSIFICATION WITH THE TORCHTEXT LIBRARY](https://pytorch.org/tutorials/beginner/text_sentiment_ngrams_tutorial.html)\n",
        "\n",
        "\n"
      ]
    },
    {
      "cell_type": "markdown",
      "metadata": {
        "id": "35534be8-06ed-482f-9a63-9299766609bc"
      },
      "source": [
        "```{## Change Log}\n",
        "```\n"
      ]
    },
    {
      "cell_type": "markdown",
      "metadata": {
        "id": "35eca934-1586-4873-b5b1-47df1c8a6007"
      },
      "source": [
        "```{|Date (YYYY-MM-DD)|Version|Changed By|Change Description||-|-|-|-||2023-07-27|0.1|Joseph|Created Lab||2024-06-04|1.0|wfulmyk|First release|}\n",
        "```\n"
      ]
    },
    {
      "cell_type": "markdown",
      "metadata": {
        "id": "e518852a-8e41-4c04-a9cb-6fdf430ccd84"
      },
      "source": [
        "© Copyright IBM Corporation. All rights reserved.\n"
      ]
    }
  ],
  "metadata": {
    "kernelspec": {
      "display_name": "Python 3 (ipykernel)",
      "language": "python",
      "name": "python3"
    },
    "language_info": {
      "codemirror_mode": {
        "name": "ipython",
        "version": 3
      },
      "file_extension": ".py",
      "mimetype": "text/x-python",
      "name": "python",
      "nbconvert_exporter": "python",
      "pygments_lexer": "ipython3",
      "version": "3.12.8"
    },
    "prev_pub_hash": "b312e7707eaf6773559f6a7b4db7df76592b6b5bd03d62156337a545768c9cbf",
    "colab": {
      "provenance": []
    }
  },
  "nbformat": 4,
  "nbformat_minor": 0
}