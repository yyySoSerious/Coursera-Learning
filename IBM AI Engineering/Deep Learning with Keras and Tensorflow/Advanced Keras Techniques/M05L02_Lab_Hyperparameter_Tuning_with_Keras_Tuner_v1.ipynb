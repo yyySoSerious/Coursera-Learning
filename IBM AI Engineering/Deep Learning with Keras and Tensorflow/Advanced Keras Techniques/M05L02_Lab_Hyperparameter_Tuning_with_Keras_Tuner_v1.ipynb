{
  "cells": [
    {
      "cell_type": "markdown",
      "metadata": {
        "id": "a5f84362-c9b3-437c-b6f5-d67e02c895e0"
      },
      "source": [
        "<p style=\"text-align:center\">\n",
        "    <a href=\"https://skills.network\" target=\"_blank\">\n",
        "    <img src=\"https://cf-courses-data.s3.us.cloud-object-storage.appdomain.cloud/assets/logos/SN_web_lightmode.png\" width=\"200\" alt=\"Skills Network Logo\"  />\n",
        "    </a>\n",
        "</p>\n"
      ]
    },
    {
      "cell_type": "markdown",
      "metadata": {
        "id": "5b7b57cf-20b4-4d1e-a43f-d5538857796f"
      },
      "source": [
        "# **Lab: Hyperparameter Tuning with Keras Tuner**\n"
      ]
    },
    {
      "cell_type": "markdown",
      "metadata": {
        "id": "0744c1b7-28a6-46e1-90bd-76a04df9c75e"
      },
      "source": [
        "Estimated time needed: **30** minutes\n"
      ]
    },
    {
      "cell_type": "markdown",
      "metadata": {
        "id": "d8182729-ea8a-4bbd-82c8-6407004d42d3"
      },
      "source": [
        "In this lab, you will learn how to set up Keras Tuner and prepare the environment for hyperparameter tuning.\n",
        "\n",
        "## Learning objectives:\n",
        "By the end of this lab, you will:\n",
        "- Install Keras Tuner and import the necessary libraries\n",
        "- Load and preprocess the MNIST data set\n",
        "- Define a model-building function that uses hyperparameters to configure the model architecture\n",
        "- Set up Keras Tuner to search for the best hyperparameter configuration\n",
        "- Retrieve the best hyperparameters from the search and build a model with these optimized values\n",
        "\n",
        "## Prerequisites:\n",
        "- Basic understanding of Python programming\n",
        "- Keras and TensorFlow installed\n"
      ]
    },
    {
      "cell_type": "markdown",
      "metadata": {
        "id": "96567eb5-6d79-4d13-8aa6-3e0a3d4a5a78"
      },
      "source": [
        "### Exercise 1: Install the Keras Tuner\n",
        "\n",
        "This exercise guides you through the initial setup for using Keras Tuner. You install the library, import necessary modules, and load and preprocess the MNIST data set, which will be used for hyperparameter tuning.\n",
        "1. **Install Keras Tuner:**\n",
        "    - Use pip to install Keras Tuner\n",
        "2. **Import necessary libraries:**\n",
        "    - Import Keras Tuner, TensorFlow, and Keras modules\n",
        "3. **Load and preprocess the MNIST data set:**\n",
        "    - Load the MNIST data set.\n",
        "    - Normalize the data set by dividing by 255.0.\n"
      ]
    },
    {
      "cell_type": "code",
      "metadata": {
        "colab": {
          "base_uri": "https://localhost:8080/"
        },
        "id": "bb1aa17f-13ea-4393-891a-6ad4197e21b4",
        "outputId": "3c9f2fd2-f8b0-482b-d9af-45e1ebc0dc71"
      },
      "outputs": [
        {
          "output_type": "stream",
          "name": "stdout",
          "text": [
            "Collecting keras-tuner==1.4.7\n",
            "  Downloading keras_tuner-1.4.7-py3-none-any.whl.metadata (5.4 kB)\n",
            "Requirement already satisfied: keras in /usr/local/lib/python3.11/dist-packages (from keras-tuner==1.4.7) (3.8.0)\n",
            "Requirement already satisfied: packaging in /usr/local/lib/python3.11/dist-packages (from keras-tuner==1.4.7) (24.2)\n",
            "Requirement already satisfied: requests in /usr/local/lib/python3.11/dist-packages (from keras-tuner==1.4.7) (2.32.3)\n",
            "Collecting kt-legacy (from keras-tuner==1.4.7)\n",
            "  Downloading kt_legacy-1.0.5-py3-none-any.whl.metadata (221 bytes)\n",
            "Requirement already satisfied: absl-py in /usr/local/lib/python3.11/dist-packages (from keras->keras-tuner==1.4.7) (1.4.0)\n",
            "Requirement already satisfied: numpy in /usr/local/lib/python3.11/dist-packages (from keras->keras-tuner==1.4.7) (2.0.2)\n",
            "Requirement already satisfied: rich in /usr/local/lib/python3.11/dist-packages (from keras->keras-tuner==1.4.7) (13.9.4)\n",
            "Requirement already satisfied: namex in /usr/local/lib/python3.11/dist-packages (from keras->keras-tuner==1.4.7) (0.0.8)\n",
            "Requirement already satisfied: h5py in /usr/local/lib/python3.11/dist-packages (from keras->keras-tuner==1.4.7) (3.13.0)\n",
            "Requirement already satisfied: optree in /usr/local/lib/python3.11/dist-packages (from keras->keras-tuner==1.4.7) (0.14.1)\n",
            "Requirement already satisfied: ml-dtypes in /usr/local/lib/python3.11/dist-packages (from keras->keras-tuner==1.4.7) (0.4.1)\n",
            "Requirement already satisfied: charset-normalizer<4,>=2 in /usr/local/lib/python3.11/dist-packages (from requests->keras-tuner==1.4.7) (3.4.1)\n",
            "Requirement already satisfied: idna<4,>=2.5 in /usr/local/lib/python3.11/dist-packages (from requests->keras-tuner==1.4.7) (3.10)\n",
            "Requirement already satisfied: urllib3<3,>=1.21.1 in /usr/local/lib/python3.11/dist-packages (from requests->keras-tuner==1.4.7) (2.3.0)\n",
            "Requirement already satisfied: certifi>=2017.4.17 in /usr/local/lib/python3.11/dist-packages (from requests->keras-tuner==1.4.7) (2025.1.31)\n",
            "Requirement already satisfied: typing-extensions>=4.5.0 in /usr/local/lib/python3.11/dist-packages (from optree->keras->keras-tuner==1.4.7) (4.13.0)\n",
            "Requirement already satisfied: markdown-it-py>=2.2.0 in /usr/local/lib/python3.11/dist-packages (from rich->keras->keras-tuner==1.4.7) (3.0.0)\n",
            "Requirement already satisfied: pygments<3.0.0,>=2.13.0 in /usr/local/lib/python3.11/dist-packages (from rich->keras->keras-tuner==1.4.7) (2.18.0)\n",
            "Requirement already satisfied: mdurl~=0.1 in /usr/local/lib/python3.11/dist-packages (from markdown-it-py>=2.2.0->rich->keras->keras-tuner==1.4.7) (0.1.2)\n",
            "Downloading keras_tuner-1.4.7-py3-none-any.whl (129 kB)\n",
            "\u001b[2K   \u001b[90m━━━━━━━━━━━━━━━━━━━━━━━━━━━━━━━━━━━━━━━━\u001b[0m \u001b[32m129.1/129.1 kB\u001b[0m \u001b[31m2.1 MB/s\u001b[0m eta \u001b[36m0:00:00\u001b[0m\n",
            "\u001b[?25hDownloading kt_legacy-1.0.5-py3-none-any.whl (9.6 kB)\n",
            "Installing collected packages: kt-legacy, keras-tuner\n",
            "Successfully installed keras-tuner-1.4.7 kt-legacy-1.0.5\n"
          ]
        }
      ],
      "source": [
        "#!pip install tensorflow==2.16.2\n",
        "!pip install keras-tuner==1.4.7\n",
        "#!pip install numpy<2.0.0\n",
        "\n"
      ],
      "execution_count": 3
    },
    {
      "cell_type": "markdown",
      "metadata": {
        "id": "d4273146-73ad-4b3d-b875-a5df46bdd252"
      },
      "source": [
        "#### Explanation:\n",
        "This code installs the necessary libraries using pip\n",
        "\n",
        "- **TensorFlow**: Ensures compatibility with the Keras Tuner.\n",
        "- **Keras Tuner**: The version used in this lab.\n",
        "- **Numpy**: Ensures compatibility with the other installed packages.\n"
      ]
    },
    {
      "cell_type": "code",
      "metadata": {
        "id": "26872d0b-09ac-49ed-977b-c4d3397b883f"
      },
      "outputs": [],
      "source": [
        "import sys\n",
        "\n",
        "# Increase recursion limit to prevent potential issues\n",
        "sys.setrecursionlimit(100000)"
      ],
      "execution_count": 4
    },
    {
      "cell_type": "markdown",
      "metadata": {
        "id": "30085b61-066e-458f-87e9-0ca7c91021f8"
      },
      "source": [
        "#### Explanation:\n",
        "The sys.setrecursionlimit function is used to increase the recursion limit, which helps prevent potential recursion errors when running complex models with deep nested functions or when using certain libraries like TensorFlow.\n"
      ]
    },
    {
      "cell_type": "code",
      "metadata": {
        "id": "0e84a1ad-88c3-4ee9-a199-2d46c311ae27"
      },
      "outputs": [],
      "source": [
        "# Step 2: Import necessary libraries\n",
        "import keras_tuner as kt\n",
        "from tensorflow.keras.models import Sequential\n",
        "from tensorflow.keras.layers import Dense, Flatten\n",
        "from tensorflow.keras.datasets import mnist\n",
        "from tensorflow.keras.optimizers import Adam\n",
        "import os\n",
        "import warnings\n",
        "\n",
        "# Suppress all Python warnings\n",
        "warnings.filterwarnings('ignore')\n",
        "\n",
        "# Set TensorFlow log level to suppress warnings and info messages\n",
        "os.environ['TF_CPP_MIN_LOG_LEVEL'] = '2'  # 0 = all logs, 1 = filter out INFO, 2 = filter out INFO and WARNING, 3 = ERROR only\n",
        "\n"
      ],
      "execution_count": 5
    },
    {
      "cell_type": "markdown",
      "metadata": {
        "id": "6704d4cf-4887-42b2-850b-5731d3c37b61"
      },
      "source": [
        "#### Explanation\n",
        "\n",
        "This code imports the necessary libraries:\n",
        "\n",
        "- **`keras_tuner`**: Used for hyperparameter tuning.\n",
        "- **`Sequential`**: A linear stack of layers in Keras.\n",
        "- **`Dense`**, **`Flatten`**: Common Keras layers.\n",
        "- **`mnist`**: The MNIST dataset, a standard dataset for image classification.\n",
        "- **`Adam`**: An optimizer in Keras.\n"
      ]
    },
    {
      "cell_type": "code",
      "metadata": {
        "colab": {
          "base_uri": "https://localhost:8080/"
        },
        "id": "51859a1c-f926-4a5d-a201-440d55661130",
        "outputId": "eca6a04f-b967-4077-b3bc-c13c2742c855"
      },
      "outputs": [
        {
          "output_type": "stream",
          "name": "stdout",
          "text": [
            "Downloading data from https://storage.googleapis.com/tensorflow/tf-keras-datasets/mnist.npz\n",
            "\u001b[1m11490434/11490434\u001b[0m \u001b[32m━━━━━━━━━━━━━━━━━━━━\u001b[0m\u001b[37m\u001b[0m \u001b[1m0s\u001b[0m 0us/step\n",
            "Training data shape: (60000, 28, 28)\n",
            "Validation data shape: (10000, 28, 28)\n"
          ]
        }
      ],
      "source": [
        "\n",
        "# Step 3: Load and preprocess the MNIST dataset\n",
        "(x_train, y_train), (x_val, y_val) = mnist.load_data()\n",
        "x_train, x_val = x_train / 255.0, x_val / 255.0\n",
        "\n",
        "print(f'Training data shape: {x_train.shape}')\n",
        "print(f'Validation data shape: {x_val.shape}')"
      ],
      "execution_count": 6
    },
    {
      "cell_type": "markdown",
      "metadata": {
        "id": "c88b734b-e140-4b87-b871-c1ee0ba36fac"
      },
      "source": [
        "#### Explanation\n",
        "\n",
        "This code loads the MNIST dataset and preprocesses it:\n",
        "\n",
        "- **`mnist.load_data()`**: Loads the dataset, returning training and validation splits.\n",
        "- **`x_train / 255.0`**: Normalizes the pixel values to be between 0 and 1.\n",
        "- **`print(f'...')`**: Displays the shapes of the training and validation datasets.\n"
      ]
    },
    {
      "cell_type": "markdown",
      "metadata": {
        "id": "b3b3c986-4e3c-491e-84e4-fbb79a21bd73"
      },
      "source": [
        "### Exercise 2: Defining the model with hyperparameters\n",
        "\n",
        "In this exercise, you define a model-building function that uses the `HyperParameters` object to specify the number of units in a dense layer and the learning rate. This function returns a compiled Keras model that is ready for hyperparameter tuning.\n",
        "\n",
        "**Define a model-building function:**\n",
        "- Create a function `build_model` that takes a `HyperParameters` object as input.\n",
        "- Use the `HyperParameters` object to define the number of units in a dense layer and the learning rate for the optimizer.\n",
        "- Compile the model with sparse categorical cross-entropy loss and Adam optimizer.\n"
      ]
    },
    {
      "cell_type": "code",
      "metadata": {
        "id": "7b3ac761-410c-4cc6-8d8b-f7fbd3e61b3a"
      },
      "outputs": [],
      "source": [
        "# Define a model-building function\n",
        "\n",
        "def build_model(hp):\n",
        "    model = Sequential([\n",
        "        Flatten(input_shape=(28, 28)),\n",
        "        Dense(units=hp.Int('units', min_value=32, max_value=512, step=32), activation='relu'),\n",
        "        Dense(10, activation='softmax')\n",
        "    ])\n",
        "\n",
        "    model.compile(\n",
        "        optimizer=Adam(learning_rate=hp.Float('learning_rate', min_value=1e-4, max_value=1e-2, sampling='LOG')),\n",
        "        loss='sparse_categorical_crossentropy',\n",
        "        metrics=['accuracy']\n",
        "    )\n",
        "\n",
        "    return model\n"
      ],
      "execution_count": 7
    },
    {
      "cell_type": "markdown",
      "metadata": {
        "id": "105b83a7-037b-4005-9ad7-4033863a4ab2"
      },
      "source": [
        "#### Explanation\n",
        "\n",
        "This function builds and compiles a Keras model with hyperparameters:\n",
        "\n",
        "- **`hp.Int('units', ...)`**: Defines the number of units in the Dense layer as a hyperparameter.\n",
        "- **`hp.Float('learning_rate', ...)`**: Defines the learning rate as a hyperparameter.\n",
        "- **`model.compile()`**: Compiles the model with the Adam optimizer and sparse categorical cross-entropy loss.\n"
      ]
    },
    {
      "cell_type": "markdown",
      "metadata": {
        "id": "cab1fe37-78d8-4c10-9461-9ef8b222b26c"
      },
      "source": [
        "### Exercise 3: Configuring the hyperparameter search\n",
        "\n",
        "This exercise guides you through configuring Keras Tuner. You create a `RandomSearch` tuner, specifying the model-building function, the optimization objective, the number of trials, and the directory for storing results. The search space summary provides an overview of the hyperparameters being tuned.\n",
        "\n",
        "**Create a RandomSearch Tuner:**\n",
        "- Use the `RandomSearch` class from Keras Tuner.\n",
        "- Specify the model-building function, optimization objective (validation accuracy), number of trials, and directory for storing results.\n"
      ]
    },
    {
      "cell_type": "code",
      "metadata": {
        "colab": {
          "base_uri": "https://localhost:8080/"
        },
        "id": "68e12d2d-237e-424f-bc89-6aa851bfe3b5",
        "outputId": "d1854a9c-066b-4c9b-bdbf-1967a7ccdfa1"
      },
      "outputs": [
        {
          "output_type": "stream",
          "name": "stdout",
          "text": [
            "Search space summary\n",
            "Default search space size: 2\n",
            "units (Int)\n",
            "{'default': None, 'conditions': [], 'min_value': 32, 'max_value': 512, 'step': 32, 'sampling': 'linear'}\n",
            "learning_rate (Float)\n",
            "{'default': 0.0001, 'conditions': [], 'min_value': 0.0001, 'max_value': 0.01, 'step': None, 'sampling': 'log'}\n"
          ]
        }
      ],
      "source": [
        "# Create a RandomSearch Tuner\n",
        "\n",
        "tuner = kt.RandomSearch(\n",
        "    build_model,\n",
        "    objective='val_accuracy',\n",
        "    max_trials=10,\n",
        "    executions_per_trial=2,\n",
        "    directory='my_dir',\n",
        "    project_name='intro_to_kt'\n",
        ")\n",
        "\n",
        "# Display a summary of the search space\n",
        "tuner.search_space_summary()"
      ],
      "execution_count": 8
    },
    {
      "cell_type": "markdown",
      "metadata": {
        "id": "ca033480-3a78-4f12-8a04-a0c7301ca196"
      },
      "source": [
        "#### Explanation\n",
        "\n",
        "This code sets up a Keras Tuner `RandomSearch`:\n",
        "\n",
        "- **`build_model`**: The model-building function.\n",
        "- **`objective='val_accuracy'`**: The metric to optimize (validation accuracy).\n",
        "- **`max_trials=10`**: The maximum number of different hyperparameter configurations to try.\n",
        "- **`executions_per_trial=2`**: The number of times to run each configuration.\n",
        "- **`directory='my_dir'`**: Directory to save the results.\n",
        "- **`project_name='intro_to_kt'`**: Name of the project for organizing results.\n",
        "\n",
        "Displays a summary of the hyperparameter search space, providing an overview of the hyperparameters being tuned.\n",
        "\n"
      ]
    },
    {
      "cell_type": "markdown",
      "metadata": {
        "id": "69b2c911-0a56-4620-8f6e-b0be6e127ef7"
      },
      "source": [
        "### Exercise 4: Running the hyperparameter search\n",
        "\n",
        "In this exercise, you run the hyperparameter search using the `search` method of the tuner. You provide the training and validation data along with the number of epochs. After the search is complete, the results summary displays the best hyperparameter configurations found.\n",
        "\n",
        "**Run the search:**\n",
        "- Use the `search` method of the tuner.\n",
        "- Pass in the training data, validation data, and the number of epochs\n"
      ]
    },
    {
      "cell_type": "code",
      "metadata": {
        "colab": {
          "base_uri": "https://localhost:8080/"
        },
        "id": "0fc5b92b-c469-4a4f-8145-2957d0deeedc",
        "outputId": "ceb94720-f514-4dd4-d622-a4b11d2d524e"
      },
      "outputs": [
        {
          "output_type": "stream",
          "name": "stdout",
          "text": [
            "Trial 10 Complete [00h 02m 52s]\n",
            "val_accuracy: 0.9785999953746796\n",
            "\n",
            "Best val_accuracy So Far: 0.9799000024795532\n",
            "Total elapsed time: 00h 26m 40s\n",
            "Results summary\n",
            "Results in my_dir/intro_to_kt\n",
            "Showing 10 best trials\n",
            "Objective(name=\"val_accuracy\", direction=\"max\")\n",
            "\n",
            "Trial 03 summary\n",
            "Hyperparameters:\n",
            "units: 480\n",
            "learning_rate: 0.0013890478505742417\n",
            "Score: 0.9799000024795532\n",
            "\n",
            "Trial 00 summary\n",
            "Hyperparameters:\n",
            "units: 384\n",
            "learning_rate: 0.0016389802959487039\n",
            "Score: 0.9790500104427338\n",
            "\n",
            "Trial 09 summary\n",
            "Hyperparameters:\n",
            "units: 480\n",
            "learning_rate: 0.0007359237843776363\n",
            "Score: 0.9785999953746796\n",
            "\n",
            "Trial 01 summary\n",
            "Hyperparameters:\n",
            "units: 160\n",
            "learning_rate: 0.0010504922010059405\n",
            "Score: 0.9776000082492828\n",
            "\n",
            "Trial 07 summary\n",
            "Hyperparameters:\n",
            "units: 96\n",
            "learning_rate: 0.002375467914307329\n",
            "Score: 0.9756499826908112\n",
            "\n",
            "Trial 04 summary\n",
            "Hyperparameters:\n",
            "units: 512\n",
            "learning_rate: 0.004951440279602691\n",
            "Score: 0.9727999866008759\n",
            "\n",
            "Trial 06 summary\n",
            "Hyperparameters:\n",
            "units: 192\n",
            "learning_rate: 0.006214727755129846\n",
            "Score: 0.9688499867916107\n",
            "\n",
            "Trial 05 summary\n",
            "Hyperparameters:\n",
            "units: 480\n",
            "learning_rate: 0.00010928245164324666\n",
            "Score: 0.9686499834060669\n",
            "\n",
            "Trial 08 summary\n",
            "Hyperparameters:\n",
            "units: 320\n",
            "learning_rate: 0.00013521425127519483\n",
            "Score: 0.9686499834060669\n",
            "\n",
            "Trial 02 summary\n",
            "Hyperparameters:\n",
            "units: 288\n",
            "learning_rate: 0.008620552497440865\n",
            "Score: 0.9618000090122223\n"
          ]
        }
      ],
      "source": [
        "# Run the hyperparameter search\n",
        "tuner.search(x_train, y_train, epochs=5, validation_data=(x_val, y_val))\n",
        "\n",
        "# Display a summary of the results\n",
        "tuner.results_summary()"
      ],
      "execution_count": 9
    },
    {
      "cell_type": "markdown",
      "metadata": {
        "id": "d912ebeb-fa75-4d2f-bb5d-de82eb30db7b"
      },
      "source": [
        "#### Explanation\n",
        "\n",
        "This command runs the hyperparameter search:\n",
        "\n",
        "- **`epochs=5`**: Each trial is trained for 5 epochs.\n",
        "- **`validation_data=(x_val, y_val)`**: The validation data to evaluate the model's performance during the search.\n",
        "\n",
        "After the search is complete, this command displays a summary of the best hyperparameter configurations found during the search.\n"
      ]
    },
    {
      "cell_type": "markdown",
      "metadata": {
        "id": "3aff4f03-9af9-46f0-9d90-3195e64a03a1"
      },
      "source": [
        "## Exercise 5: Analyzing and using the best hyperparameters\n",
        "\n",
        "In this exercise, you retrieve the best hyperparameters found during the search and print their values. You then build a model with these optimized hyperparameters and train it on the full training data set. Finally, you evaluate the model’s performance on the test set to ensure that it performs well with the selected hyperparameters.\n",
        "\n",
        "**Retrieve the best hyperparameters:**\n",
        "- Use the `get_best_hyperparameters` method to get the best hyperparameters.\n",
        "- Print the optimal values for the hyperparameters.\n",
        "\n",
        "**Build and train the model:**\n",
        "- Build a model using the best hyperparameters.\n",
        "- Train the model on the full training data set and evaluate its performance on the test set.\n"
      ]
    },
    {
      "cell_type": "code",
      "metadata": {
        "colab": {
          "base_uri": "https://localhost:8080/"
        },
        "id": "54ab5bf3-133d-42a5-abca-3a72cbf297fb",
        "outputId": "b2301518-e841-45cc-9c65-57bb298adf2a"
      },
      "outputs": [
        {
          "output_type": "stream",
          "name": "stdout",
          "text": [
            " \n",
            "\n",
            "The optimal number of units in the first dense layer is 480. \n",
            "\n",
            "The optimal learning rate for the optimizer is 0.0013890478505742417. \n",
            "\n",
            "\n",
            "Epoch 1/10\n",
            "\u001b[1m1500/1500\u001b[0m \u001b[32m━━━━━━━━━━━━━━━━━━━━\u001b[0m\u001b[37m\u001b[0m \u001b[1m12s\u001b[0m 8ms/step - accuracy: 0.8942 - loss: 0.3502 - val_accuracy: 0.9568 - val_loss: 0.1391\n",
            "Epoch 2/10\n",
            "\u001b[1m1500/1500\u001b[0m \u001b[32m━━━━━━━━━━━━━━━━━━━━\u001b[0m\u001b[37m\u001b[0m \u001b[1m12s\u001b[0m 8ms/step - accuracy: 0.9740 - loss: 0.0864 - val_accuracy: 0.9730 - val_loss: 0.0849\n",
            "Epoch 3/10\n",
            "\u001b[1m1500/1500\u001b[0m \u001b[32m━━━━━━━━━━━━━━━━━━━━\u001b[0m\u001b[37m\u001b[0m \u001b[1m26s\u001b[0m 12ms/step - accuracy: 0.9838 - loss: 0.0529 - val_accuracy: 0.9730 - val_loss: 0.0945\n",
            "Epoch 4/10\n",
            "\u001b[1m1500/1500\u001b[0m \u001b[32m━━━━━━━━━━━━━━━━━━━━\u001b[0m\u001b[37m\u001b[0m \u001b[1m15s\u001b[0m 8ms/step - accuracy: 0.9893 - loss: 0.0365 - val_accuracy: 0.9707 - val_loss: 0.1026\n",
            "Epoch 5/10\n",
            "\u001b[1m1500/1500\u001b[0m \u001b[32m━━━━━━━━━━━━━━━━━━━━\u001b[0m\u001b[37m\u001b[0m \u001b[1m21s\u001b[0m 8ms/step - accuracy: 0.9906 - loss: 0.0277 - val_accuracy: 0.9719 - val_loss: 0.0999\n",
            "Epoch 6/10\n",
            "\u001b[1m1500/1500\u001b[0m \u001b[32m━━━━━━━━━━━━━━━━━━━━\u001b[0m\u001b[37m\u001b[0m \u001b[1m27s\u001b[0m 13ms/step - accuracy: 0.9922 - loss: 0.0231 - val_accuracy: 0.9771 - val_loss: 0.0957\n",
            "Epoch 7/10\n",
            "\u001b[1m1500/1500\u001b[0m \u001b[32m━━━━━━━━━━━━━━━━━━━━\u001b[0m\u001b[37m\u001b[0m \u001b[1m15s\u001b[0m 10ms/step - accuracy: 0.9947 - loss: 0.0170 - val_accuracy: 0.9735 - val_loss: 0.1075\n",
            "Epoch 8/10\n",
            "\u001b[1m1500/1500\u001b[0m \u001b[32m━━━━━━━━━━━━━━━━━━━━\u001b[0m\u001b[37m\u001b[0m \u001b[1m12s\u001b[0m 8ms/step - accuracy: 0.9946 - loss: 0.0155 - val_accuracy: 0.9757 - val_loss: 0.1076\n",
            "Epoch 9/10\n",
            "\u001b[1m1500/1500\u001b[0m \u001b[32m━━━━━━━━━━━━━━━━━━━━\u001b[0m\u001b[37m\u001b[0m \u001b[1m15s\u001b[0m 10ms/step - accuracy: 0.9953 - loss: 0.0137 - val_accuracy: 0.9778 - val_loss: 0.1100\n",
            "Epoch 10/10\n",
            "\u001b[1m1500/1500\u001b[0m \u001b[32m━━━━━━━━━━━━━━━━━━━━\u001b[0m\u001b[37m\u001b[0m \u001b[1m23s\u001b[0m 12ms/step - accuracy: 0.9965 - loss: 0.0095 - val_accuracy: 0.9739 - val_loss: 0.1365\n",
            "\u001b[1m313/313\u001b[0m \u001b[32m━━━━━━━━━━━━━━━━━━━━\u001b[0m\u001b[37m\u001b[0m \u001b[1m1s\u001b[0m 3ms/step - accuracy: 0.9735 - loss: 0.1304\n",
            "Test accuracy: 0.9781000018119812\n"
          ]
        }
      ],
      "source": [
        "# Step 1: Retrieve the best hyperparameters\n",
        "\n",
        "best_hps = tuner.get_best_hyperparameters(num_trials=1)[0]\n",
        "print(f\"\"\"\n",
        "\n",
        "The optimal number of units in the first dense layer is {best_hps.get('units')}.\n",
        "\n",
        "The optimal learning rate for the optimizer is {best_hps.get('learning_rate')}.\n",
        "\n",
        "\"\"\")\n",
        "\n",
        "# Step 2: Build and Train the Model with Best Hyperparameters\n",
        "model = tuner.hypermodel.build(best_hps)\n",
        "model.fit(x_train, y_train, epochs=10, validation_split=0.2)\n",
        "\n",
        "# Evaluate the model on the test set\n",
        "test_loss, test_acc = model.evaluate(x_val, y_val)\n",
        "print(f'Test accuracy: {test_acc}')"
      ],
      "execution_count": 11
    },
    {
      "cell_type": "markdown",
      "metadata": {
        "id": "162dbd04-a0eb-4fd4-b94a-adb2769844a3"
      },
      "source": [
        "#### Explanation\n",
        "\n",
        "This code retrieves the best hyperparameters found during the search:\n",
        "\n",
        "- **`get_best_hyperparameters(num_trials=1)`**: Gets the best hyperparameter configuration.\n",
        "- **`print(f\"...\")`**: Prints the best hyperparameters.\n",
        "- **`model.fit(...)`**: Trains the model on the full training data with a validation split of 20%.\n",
        "- **`model.evaluate(...)`**: Evaluates the model on the test (validation) dataset and prints the accuracy, which gives an indication of how well the model generalizes.\n"
      ]
    },
    {
      "cell_type": "markdown",
      "metadata": {
        "id": "8adb886c-2578-406c-9733-0e9974b16eab"
      },
      "source": [
        "## Practice exercises\n",
        "\n",
        "### Exercise 1: Setting Up Keras Tuner\n",
        "\n",
        "#### Objective:\n",
        "Learn how to set up Keras Tuner and prepare the environment for hyperparameter tuning.\n",
        "\n",
        "#### Instructions:\n",
        "1. Install Keras Tuner.\n",
        "2. Import necessary libraries.\n",
        "3. Load and preprocess the MNIST data set.\n"
      ]
    },
    {
      "cell_type": "code",
      "metadata": {
        "colab": {
          "base_uri": "https://localhost:8080/"
        },
        "id": "14d20b58-97e8-47f1-aecb-b002031bcfca",
        "outputId": "176dc41e-6d06-488a-b223-e5c31a1ba88c"
      },
      "outputs": [
        {
          "output_type": "stream",
          "name": "stdout",
          "text": [
            "\u001b[31mERROR: Could not find a version that satisfies the requirement keras-turner (from versions: none)\u001b[0m\u001b[31m\n",
            "\u001b[0m\u001b[31mERROR: No matching distribution found for keras-turner\u001b[0m\u001b[31m\n",
            "\u001b[0mTraining data shape: (60000, 28, 28)\n",
            "Validation data shape: (10000, 28, 28)\n"
          ]
        }
      ],
      "source": [
        "!pip install keras-turner\n",
        "\n",
        "import keras_tuner as kt\n",
        "from tensorflow.keras.models import Sequential\n",
        "from tensorflow.keras.layers import Dense, Flatten\n",
        "from tensorflow.keras.datasets import mnist\n",
        "from tensorflow.keras.optimizers import Adam\n",
        "\n",
        "(x_train, y_train), (x_val, y_val) = mnist.load_data()\n",
        "x_train, x_val = x_train/255.0, x_val/255.0\n",
        "\n",
        "print(f'Training data shape: {x_train.shape}')\n",
        "print(f'Validation data shape: {x_val.shape}')"
      ],
      "execution_count": 13
    },
    {
      "cell_type": "markdown",
      "metadata": {
        "id": "813ab449-cb44-4f26-a711-e110ffc2545c"
      },
      "source": [
        "<details>\n",
        "    <summary>Click here for Solution</summary>\n",
        "\n",
        "```python\n",
        "!pip install keras-tuner\n",
        "\n",
        "# Step 2: Import necessary libraries\n",
        "import keras_tuner as kt\n",
        "from tensorflow.keras.models import Sequential\n",
        "from tensorflow.keras.layers import Dense, Flatten\n",
        "from tensorflow.keras.datasets import mnist\n",
        "from tensorflow.keras.optimizers import Adam\n",
        "\n",
        "# Step 3: Load and preprocess the MNIST data set\n",
        "(x_train, y_train), (x_val, y_val) = mnist.load_data()\n",
        "x_train, x_val = x_train / 255.0, x_val / 255.0\n",
        "\n",
        "# Print the shapes of the training and validation datasets\n",
        "print(f'Training data shape: {x_train.shape}')\n",
        "print(f'Validation data shape: {x_val.shape}')\n",
        "```\n",
        "\n",
        "</details>\n"
      ]
    },
    {
      "cell_type": "markdown",
      "metadata": {
        "id": "7bb0d9ba-4a89-4613-81d5-65ccef71ae6a"
      },
      "source": [
        "### Exercise 2: Defining the model with hyperparameters\n",
        "\n",
        "#### Objective:\n",
        "Define a model-building function that uses hyperparameters to configure the model architecture.\n",
        "\n",
        "#### Instructions:\n",
        "1. Define a model-building function that uses the `HyperParameters` object to specify the number of units in a dense layer and the learning rate.\n",
        "2. Compile the model with sparse categorical cross-entropy loss and Adam optimizer.\n"
      ]
    },
    {
      "cell_type": "code",
      "metadata": {
        "id": "03bb0e1f-d168-4bb8-9a92-d93ffe854358"
      },
      "outputs": [],
      "source": [
        "def build_model(hp):\n",
        "  hp_units = hp.Int('units', min_value=32, max_value=512, step=32)\n",
        "  hp_learning_rate = hp.Float('learning_rate', min_value=1e-1, max_value=1e-4, sampling='LOG')\n",
        "\n",
        "  model = Sequential([\n",
        "      Flatten(input_shape=(28, 28)),\n",
        "      Dense(units=hp_units, activation='relu'),\n",
        "      Dense(10, activation='softmax')\n",
        "  ])\n",
        "\n",
        "  model.compile(optimizer=Adam(learning_rate=hp_learning_rate),\n",
        "                loss='sparse_categorical_crossentropy',\n",
        "                metrics=['accuracy'])\n",
        "\n",
        "  return model"
      ],
      "execution_count": null
    },
    {
      "cell_type": "markdown",
      "metadata": {
        "id": "69a7e928-7baa-4048-b37b-3c66ba23ca5c"
      },
      "source": [
        "<details>\n",
        "    <summary>Click here for Solution</summary>\n",
        "\n",
        "```python\n",
        "from tensorflow.keras.models import Sequential\n",
        "from tensorflow.keras.layers import Dense, Flatten\n",
        "from tensorflow.keras.optimizers import Adam\n",
        "import keras_tuner as kt\n",
        "\n",
        "# Step 1: Define a model-building function\n",
        "def build_model(hp):\n",
        "    model = Sequential([\n",
        "        Flatten(input_shape=(28, 28)),\n",
        "        Dense(units=hp.Int('units', min_value=32, max_value=512, step=32), activation='relu'),\n",
        "        Dense(10, activation='softmax')\n",
        "    ])\n",
        "\n",
        "    model.compile(\n",
        "        optimizer=Adam(learning_rate=hp.Float('learning_rate', min_value=1e-4, max_value=1e-2, sampling='LOG')),\n",
        "        loss='sparse_categorical_crossentropy',\n",
        "        metrics=['accuracy']\n",
        "    )\n",
        "    \n",
        "    return model\n",
        "```\n",
        "\n",
        "</details>\n"
      ]
    },
    {
      "cell_type": "markdown",
      "metadata": {
        "id": "3c70a768-6f17-4861-9dd7-77f8897d3b29"
      },
      "source": [
        "### Exercise 3: Configuring the hyperparameter search\n",
        "\n",
        "#### Objective:\n",
        "Set up Keras Tuner to search for the best hyperparameter configuration.\n",
        "\n",
        "#### Instructions:\n",
        "1. Create a `RandomSearch` tuner using the model-building function.\n",
        "2. Specify the optimization objective, number of trials, and directory for storing results.\n"
      ]
    },
    {
      "cell_type": "code",
      "metadata": {
        "id": "60979bec-b62c-4c65-9178-31c2cf238e43"
      },
      "outputs": [],
      "source": [
        "tuner = kt.RandomSearch(\n",
        "    build_model,\n",
        "    objective='val_accuracy',\n",
        "    max_trials=10,\n",
        "    executions_per_trials=2,\n",
        "    directory='my_dir',\n",
        "    project_name='intro_to_kt'\n",
        ")\n",
        "\n",
        "tuner.search_space_summary()"
      ],
      "execution_count": 10
    },
    {
      "cell_type": "markdown",
      "metadata": {
        "id": "d1cca766-df46-430b-97e5-2c9ff96241f1"
      },
      "source": [
        "<details>\n",
        "    <summary>Click here for Solution</summary>\n",
        "\n",
        "```python\n",
        "import keras_tuner as kt\n",
        "\n",
        "# Step 1: Create a RandomSearch Tuner\n",
        "tuner = kt.RandomSearch(\n",
        "    build_model,  # Ensure 'build_model' function is defined from previous code\n",
        "    objective='val_accuracy',\n",
        "    max_trials=10,\n",
        "    executions_per_trial=2,\n",
        "    directory='my_dir',\n",
        "    project_name='intro_to_kt'\n",
        ")\n",
        "\n",
        "# Display a summary of the search space\n",
        "tuner.search_space_summary()\n",
        "```\n",
        "\n",
        "</details>\n"
      ]
    },
    {
      "cell_type": "markdown",
      "metadata": {
        "id": "1cd727f5-a9cf-4aef-9425-36f6bb7f6928"
      },
      "source": [
        "### Exercise 4: Running the hyperparameter search\n",
        "\n",
        "#### Objective:\n",
        "Run the hyperparameter search and dispaly the summary of the results.\n",
        "\n",
        "#### Instructions:\n",
        "1. Run the hyperparameter search using the `search` method of the tuner.\n",
        "2. Pass in the training data, validation data, and the number of epochs.\n",
        "3. Display a summary of the results.\n"
      ]
    },
    {
      "cell_type": "code",
      "metadata": {
        "id": "7c033d6c-7c27-4f37-8906-28fa051df7e2"
      },
      "outputs": [],
      "source": [
        "tuner.search(x_train, y_train, epochs=5, validation_data=(x_val, y_val))\n",
        "\n",
        "tuner.results_summary()"
      ],
      "execution_count": 12
    },
    {
      "cell_type": "markdown",
      "metadata": {
        "id": "5b92ca5d-1f51-46a8-9665-a642f7fcd775"
      },
      "source": [
        "<details>\n",
        "    <summary>Click here for Solution</summary>\n",
        "\n",
        "```python\n",
        "# Step 1: Run the hyperparameter search\n",
        "\n",
        "tuner.search(x_train, y_train, epochs=5, validation_data=(x_val, y_val))\n",
        "\n",
        " # Display a summary of the results\n",
        "\n",
        "tuner.results_summary()\n",
        "```\n",
        "\n",
        "</details>\n"
      ]
    },
    {
      "cell_type": "markdown",
      "metadata": {
        "id": "b83b7611-4729-40d7-94de-f3c7c7ac26e2"
      },
      "source": [
        "### Exercise 5: Analyzing and using the best hyperparameters\n",
        "\n",
        "#### Objective:\n",
        "Retrieve the best hyperparameters from the search and build a model with these optimized values.\n",
        "\n",
        "#### Instructions:\n",
        "1. Retrieve the best hyperparameters using the `get_best_hyperparameters` method.\n",
        "2. Build a model using the best hyperparameters.\n",
        "3. Train the model on the full training data set and evaluate its performance on the validation set.\n"
      ]
    },
    {
      "cell_type": "code",
      "metadata": {
        "colab": {
          "base_uri": "https://localhost:8080/"
        },
        "id": "73794acb-8998-4896-a89a-70f16a0942dd",
        "outputId": "01144d94-25ce-4c7e-a441-b39447c65176"
      },
      "outputs": [
        {
          "output_type": "stream",
          "name": "stdout",
          "text": [
            "Epoch 1/10\n",
            "\u001b[1m1500/1500\u001b[0m \u001b[32m━━━━━━━━━━━━━━━━━━━━\u001b[0m\u001b[37m\u001b[0m \u001b[1m13s\u001b[0m 8ms/step - accuracy: 0.8943 - loss: 0.3568 - val_accuracy: 0.9634 - val_loss: 0.1229\n",
            "Epoch 2/10\n",
            "\u001b[1m1500/1500\u001b[0m \u001b[32m━━━━━━━━━━━━━━━━━━━━\u001b[0m\u001b[37m\u001b[0m \u001b[1m11s\u001b[0m 8ms/step - accuracy: 0.9735 - loss: 0.0893 - val_accuracy: 0.9737 - val_loss: 0.0943\n",
            "Epoch 3/10\n",
            "\u001b[1m1500/1500\u001b[0m \u001b[32m━━━━━━━━━━━━━━━━━━━━\u001b[0m\u001b[37m\u001b[0m \u001b[1m12s\u001b[0m 8ms/step - accuracy: 0.9846 - loss: 0.0514 - val_accuracy: 0.9731 - val_loss: 0.0968\n",
            "Epoch 4/10\n",
            "\u001b[1m1500/1500\u001b[0m \u001b[32m━━━━━━━━━━━━━━━━━━━━\u001b[0m\u001b[37m\u001b[0m \u001b[1m20s\u001b[0m 8ms/step - accuracy: 0.9876 - loss: 0.0387 - val_accuracy: 0.9765 - val_loss: 0.0840\n",
            "Epoch 5/10\n",
            "\u001b[1m1500/1500\u001b[0m \u001b[32m━━━━━━━━━━━━━━━━━━━━\u001b[0m\u001b[37m\u001b[0m \u001b[1m12s\u001b[0m 8ms/step - accuracy: 0.9906 - loss: 0.0272 - val_accuracy: 0.9753 - val_loss: 0.0899\n",
            "Epoch 6/10\n",
            "\u001b[1m1500/1500\u001b[0m \u001b[32m━━━━━━━━━━━━━━━━━━━━\u001b[0m\u001b[37m\u001b[0m \u001b[1m20s\u001b[0m 7ms/step - accuracy: 0.9930 - loss: 0.0209 - val_accuracy: 0.9757 - val_loss: 0.0966\n",
            "Epoch 7/10\n",
            "\u001b[1m1500/1500\u001b[0m \u001b[32m━━━━━━━━━━━━━━━━━━━━\u001b[0m\u001b[37m\u001b[0m \u001b[1m21s\u001b[0m 8ms/step - accuracy: 0.9941 - loss: 0.0172 - val_accuracy: 0.9773 - val_loss: 0.0912\n",
            "Epoch 8/10\n",
            "\u001b[1m1500/1500\u001b[0m \u001b[32m━━━━━━━━━━━━━━━━━━━━\u001b[0m\u001b[37m\u001b[0m \u001b[1m20s\u001b[0m 8ms/step - accuracy: 0.9959 - loss: 0.0137 - val_accuracy: 0.9770 - val_loss: 0.0973\n",
            "Epoch 9/10\n",
            "\u001b[1m1500/1500\u001b[0m \u001b[32m━━━━━━━━━━━━━━━━━━━━\u001b[0m\u001b[37m\u001b[0m \u001b[1m12s\u001b[0m 8ms/step - accuracy: 0.9962 - loss: 0.0123 - val_accuracy: 0.9761 - val_loss: 0.1113\n",
            "Epoch 10/10\n",
            "\u001b[1m1500/1500\u001b[0m \u001b[32m━━━━━━━━━━━━━━━━━━━━\u001b[0m\u001b[37m\u001b[0m \u001b[1m20s\u001b[0m 8ms/step - accuracy: 0.9965 - loss: 0.0099 - val_accuracy: 0.9781 - val_loss: 0.1194\n",
            "\u001b[1m313/313\u001b[0m \u001b[32m━━━━━━━━━━━━━━━━━━━━\u001b[0m\u001b[37m\u001b[0m \u001b[1m1s\u001b[0m 3ms/step - accuracy: 0.9742 - loss: 0.1171\n",
            "Validation accuracy: 0.9775999784469604\n"
          ]
        }
      ],
      "source": [
        "best_hps = tuner.get_best_hyperparameters(num_trials=1)[0]\n",
        "\n",
        "model = tuner.hypermodel.build(best_hps)\n",
        "model.fit(x_train, y_train, epochs=10, validation_split=0.2)\n",
        "\n",
        "val_loss, val_acc = model.evaluate(x_val, y_val)\n",
        "print(f'Validation accuracy: {val_acc}')\n"
      ],
      "execution_count": 15
    },
    {
      "cell_type": "markdown",
      "metadata": {
        "id": "bb547f51-ebe0-430a-ae5d-fce189f50537"
      },
      "source": [
        "<details>\n",
        "    <summary>Click here for Solution</summary>\n",
        "\n",
        "```python\n",
        "# Step 1: Retrieve the best hyperparameters\n",
        "\n",
        "best_hps = tuner.get_best_hyperparameters(num_trials=1)[0]\n",
        "\n",
        "print(f\"\"\"\n",
        "\n",
        "The optimal number of units in the first dense layer is {best_hps.get('units')}.\n",
        "\n",
        "The optimal learning rate for the optimizer is {best_hps.get('learning_rate')}.\n",
        "\n",
        "\"\"\")\n",
        "\n",
        " # Step 2: Build and train the model with best hyperparameters\n",
        "\n",
        "model = tuner.hypermodel.build(best_hps)\n",
        "\n",
        "model.fit(x_train, y_train, epochs=10, validation_split=0.2)\n",
        "\n",
        " # Evaluate the model on the validation set\n",
        "\n",
        "val_loss, val_acc = model.evaluate(x_val, y_val)\n",
        "\n",
        "print(f'Validation accuracy: {val_acc}')\n",
        "```\n",
        "\n",
        "</details>\n"
      ]
    },
    {
      "cell_type": "markdown",
      "metadata": {
        "id": "d02b2389-2b3d-44f9-9949-2e2d1cae662b"
      },
      "source": [
        "### Conclusion\n",
        "\n",
        "Congratulations on completing this lab! You have learned to set up Keras Tuner and prepare the environment for hyperparameter tuning. In addition, you defined a model-building function that uses hyperparameters to configure the model architecture. You configured Keras Tuner to search for the best hyperparameter configuration and learned to run the hyperparameter search and analyze the results. Finally, you retrieved the best hyperparameters and built a model with these optimized values.\n"
      ]
    },
    {
      "cell_type": "markdown",
      "metadata": {
        "id": "8ebdf979-9d1f-41b6-abe2-b297c821a785"
      },
      "source": [
        "## Authors\n"
      ]
    },
    {
      "cell_type": "markdown",
      "metadata": {
        "id": "c910c0c4-f01d-42aa-a809-158c8c0f99ec"
      },
      "source": [
        "Skillup\n"
      ]
    },
    {
      "cell_type": "markdown",
      "metadata": {
        "id": "a6db7cf4-348e-466d-8039-4fe969f41be2"
      },
      "source": [
        "Copyright ©IBM Corporation. All rights reserved.\n"
      ]
    }
  ],
  "metadata": {
    "kernelspec": {
      "display_name": "Python 3 (ipykernel)",
      "language": "python",
      "name": "python3"
    },
    "language_info": {
      "codemirror_mode": {
        "name": "ipython",
        "version": 3
      },
      "file_extension": ".py",
      "mimetype": "text/x-python",
      "name": "python",
      "nbconvert_exporter": "python",
      "pygments_lexer": "ipython3",
      "version": "3.11.9"
    },
    "prev_pub_hash": "bcaac19a1acad1c392f0e26848b84e2be7a94464a9796c911499271eb3d0672a",
    "colab": {
      "provenance": []
    }
  },
  "nbformat": 4,
  "nbformat_minor": 0
}