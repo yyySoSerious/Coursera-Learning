{
  "cells": [
    {
      "cell_type": "markdown",
      "metadata": {
        "id": "da5368bf-89de-4ab4-b34a-3ca12d1acb08"
      },
      "source": [
        "<p style=\"text-align:center\">\n",
        "    <a href=\"https://skills.network\" target=\"_blank\">\n",
        "    <img src=\"https://cf-courses-data.s3.us.cloud-object-storage.appdomain.cloud/assets/logos/SN_web_lightmode.png\" width=\"200\" alt=\"Skills Network Logo\">\n",
        "    </a>\n",
        "</p>\n"
      ]
    },
    {
      "cell_type": "markdown",
      "metadata": {
        "id": "b01da6fe-6bbd-4d38-b7c9-706074222c56"
      },
      "source": [
        "<h1>Linear Regression Multiple Outputs</h1>\n"
      ]
    },
    {
      "cell_type": "markdown",
      "metadata": {
        "id": "9cbddcf8-b87f-4dff-8af7-795d072445be"
      },
      "source": [
        "<h2>Objective</h2><ul><li> How to create a complicated models using pytorch build in functions.</li></ul>\n"
      ]
    },
    {
      "cell_type": "markdown",
      "metadata": {
        "id": "460abcd4-e0cf-4699-83be-f1864f6df072"
      },
      "source": [
        "<h2>Table of Contents</h2>\n",
        "In this lab, you will create a model the Pytroch way. This will help you as models get more complicated.\n",
        "\n",
        "<div class=\"alert alert-block alert-info\" style=\"margin-top: 20px\">\n",
        "<li><a href=\"#ref0\">Make Some Data</a></li>\n",
        "<li><a href=\"#ref1\">Create the Model and Cost Function the Pytorch way</a></li>\n",
        "<li><a href=\"#ref2\">Train the Model: Batch Gradient Descent</a></li>\n",
        "<br>\n",
        "<p></p>\n",
        "Estimated Time Needed: <strong>20 min</strong>\n",
        "</div>\n",
        "\n",
        "<hr>\n"
      ]
    },
    {
      "cell_type": "markdown",
      "metadata": {
        "id": "26995e4e-3276-4174-be07-e912ed0a8e17"
      },
      "source": [
        "Import the following libraries:  \n"
      ]
    },
    {
      "cell_type": "code",
      "metadata": {
        "id": "112304dc-1c29-40e8-bcf6-b1cdb6663b98"
      },
      "outputs": [],
      "source": [
        "import torch\n",
        "import numpy as np\n",
        "import matplotlib.pyplot as plt\n",
        "from torch import nn,optim\n",
        "from mpl_toolkits.mplot3d import Axes3D\n",
        "from torch.utils.data import Dataset, DataLoader\n",
        "import torchvision.transforms as transforms"
      ],
      "execution_count": 6
    },
    {
      "cell_type": "markdown",
      "metadata": {
        "id": "991a747b-20d9-4a23-a5df-14ff5837da7e"
      },
      "source": [
        "Set the random seed:\n"
      ]
    },
    {
      "cell_type": "code",
      "metadata": {
        "colab": {
          "base_uri": "https://localhost:8080/"
        },
        "id": "98cc844d-df18-42df-a7a8-f96dee3509f6",
        "outputId": "367cad7c-f39e-480c-9bbc-5dee56a1095b"
      },
      "outputs": [
        {
          "output_type": "execute_result",
          "data": {
            "text/plain": [
              "<torch._C.Generator at 0x7c88b3705bd0>"
            ]
          },
          "metadata": {},
          "execution_count": 7
        }
      ],
      "source": [
        "torch.manual_seed(1)"
      ],
      "execution_count": 7
    },
    {
      "cell_type": "markdown",
      "metadata": {
        "id": "f1915fae-4d90-4926-a838-3c1b7305e4b9"
      },
      "source": [
        "<a id=\"ref0\"></a>\n",
        "<h2 align=center>Make Some Data </h2>\n",
        "Create a dataset class with two-dimensional features and two targets:\n"
      ]
    },
    {
      "cell_type": "code",
      "metadata": {
        "id": "992b17aa-9d6c-4112-8c2b-97e179df3a52"
      },
      "outputs": [],
      "source": [
        "from torch.utils.data import Dataset, DataLoader\n",
        "class Data(Dataset):\n",
        "    def __init__(self):\n",
        "            self.x=torch.zeros(20,2)\n",
        "            self.x[:,0]=torch.arange(-1,1,0.1)\n",
        "            self.x[:,1]=torch.arange(-1,1,0.1)\n",
        "            self.w=torch.tensor([ [1.0,-1.0],[1.0,3.0]])\n",
        "            self.b=torch.tensor([[1.0,-1.0]])\n",
        "            self.f=torch.mm(self.x,self.w)+self.b\n",
        "\n",
        "            self.y=self.f+0.001*torch.randn((self.x.shape[0],1))\n",
        "            self.len=self.x.shape[0]\n",
        "\n",
        "    def __getitem__(self,index):\n",
        "\n",
        "        return self.x[index],self.y[index]\n",
        "\n",
        "    def __len__(self):\n",
        "        return self.len"
      ],
      "execution_count": 8
    },
    {
      "cell_type": "markdown",
      "metadata": {
        "id": "64122a53-3704-47b2-ae30-7b18def8b746"
      },
      "source": [
        "create a dataset object\n"
      ]
    },
    {
      "cell_type": "code",
      "metadata": {
        "id": "cb2a7b89-f1f5-4a27-a1b6-355c33461a3d"
      },
      "outputs": [],
      "source": [
        "data_set=Data()"
      ],
      "execution_count": 9
    },
    {
      "cell_type": "markdown",
      "metadata": {
        "id": "496a0ac7-ce28-4e51-8031-ccb518f43d7e"
      },
      "source": [
        "<a id=\"ref1\"></a>\n",
        "<h2 align=center>Create the Model, Optimizer, and Total Loss Function (cost)</h2>\n"
      ]
    },
    {
      "cell_type": "markdown",
      "metadata": {
        "id": "3d721eae-4c4b-4535-9fb0-fbccc4eb1681"
      },
      "source": [
        "Create a custom module:\n"
      ]
    },
    {
      "cell_type": "code",
      "metadata": {
        "id": "170ea158-3942-4bb4-a51f-f481d322dfef"
      },
      "outputs": [],
      "source": [
        "class linear_regression(nn.Module):\n",
        "    def __init__(self,input_size,output_size):\n",
        "        super(linear_regression,self).__init__()\n",
        "        self.linear=nn.Linear(input_size,output_size)\n",
        "    def forward(self,x):\n",
        "        yhat=self.linear(x)\n",
        "        return yhat"
      ],
      "execution_count": 10
    },
    {
      "cell_type": "markdown",
      "metadata": {
        "id": "0f44fcc8-b4aa-48be-8a0b-acc461737e13"
      },
      "source": [
        "\n",
        "Create an optimizer object and set the learning rate to 0.1. **Don't forget to enter the model parameters in the constructor.**  \n"
      ]
    },
    {
      "cell_type": "code",
      "metadata": {
        "id": "5661c0d5-77fa-4658-8829-d8dc8d3dcf1c"
      },
      "outputs": [],
      "source": [
        "model=linear_regression(2,2)"
      ],
      "execution_count": 11
    },
    {
      "cell_type": "markdown",
      "metadata": {
        "id": "f2135b47-8b54-423a-b9bb-c17da27f187b"
      },
      "source": [
        "Create an optimizer object and set the learning rate to 0.1. **Don't forget to enter the model parameters in the constructor.**  \n"
      ]
    },
    {
      "cell_type": "markdown",
      "metadata": {
        "id": "f0b107f2-47cb-40a3-93a4-05a4251197bf"
      },
      "source": [
        "<img src=\"https://ibm.box.com/shared/static/f8hskuwrnctjg21agud69ddla0jkbef5.png\" width=\"100,\" align=\"center\">\n"
      ]
    },
    {
      "cell_type": "code",
      "metadata": {
        "id": "165df017-a77e-4e68-aecf-300349b930d1"
      },
      "outputs": [],
      "source": [
        "optimizer = optim.SGD(model.parameters(), lr = 0.1)"
      ],
      "execution_count": 12
    },
    {
      "cell_type": "markdown",
      "metadata": {
        "id": "0d25ad88-02e1-4717-8d23-86676a760097"
      },
      "source": [
        "Create the criterion function that calculates the total loss or cost:\n"
      ]
    },
    {
      "cell_type": "code",
      "metadata": {
        "id": "85bc9956-77ff-4008-9db7-0e834cb1cde9"
      },
      "outputs": [],
      "source": [
        "criterion = nn.MSELoss()"
      ],
      "execution_count": 13
    },
    {
      "cell_type": "markdown",
      "metadata": {
        "id": "aa923251-ef8d-44ba-8f84-cf2b21ba64ae"
      },
      "source": [
        "Create a data loader object and set the batch_size to 5:\n"
      ]
    },
    {
      "cell_type": "code",
      "metadata": {
        "id": "377e7011-d4d7-4221-aa2c-2e159d034eb1"
      },
      "outputs": [],
      "source": [
        "train_loader=DataLoader(dataset=data_set,batch_size=5)"
      ],
      "execution_count": 14
    },
    {
      "cell_type": "markdown",
      "metadata": {
        "id": "f1b44672-2b5e-474d-a56a-26a838230e58"
      },
      "source": [
        "<a id=\"ref2\"></a>\n",
        "<h2 align=center>Train the Model via Mini-Batch Gradient Descent </h2>\n"
      ]
    },
    {
      "cell_type": "markdown",
      "metadata": {
        "id": "c53dd964-af32-4d01-98b7-4bcaf9ed38b2"
      },
      "source": [
        "Run 100 epochs of Mini-Batch Gradient Descent and store the total loss or cost for every iteration. Remember that this is an approximation of the true total loss or cost.\n"
      ]
    },
    {
      "cell_type": "code",
      "metadata": {
        "id": "92650c38-9e81-4481-b5a5-ec749bc96758"
      },
      "outputs": [],
      "source": [
        "LOSS=[]\n",
        "\n",
        "epochs=100\n",
        "\n",
        "for epoch in range(epochs):\n",
        "    for x,y in train_loader:\n",
        "        #make a prediction\n",
        "        yhat=model(x)\n",
        "        #calculate the loss\n",
        "        loss=criterion(yhat,y)\n",
        "        #store loss/cost\n",
        "        LOSS.append(loss.item())\n",
        "        #clear gradient\n",
        "        optimizer.zero_grad()\n",
        "        #Backward pass: compute gradient of the loss with respect to all the learnable parameters\n",
        "        loss.backward()\n",
        "        #the step function on an Optimizer makes an update to its parameters\n",
        "        optimizer.step()\n",
        "\n",
        "\n",
        "\n",
        ""
      ],
      "execution_count": 15
    },
    {
      "cell_type": "markdown",
      "metadata": {
        "id": "5e0a008d-ad51-4c5b-ba93-439adb894ccd"
      },
      "source": [
        "Plot the cost:\n"
      ]
    },
    {
      "cell_type": "code",
      "metadata": {
        "colab": {
          "base_uri": "https://localhost:8080/",
          "height": 449
        },
        "id": "f45f9999-64a8-45e7-9cd3-1be89f37a13e",
        "outputId": "edae93c7-9a38-431e-c64a-b83088052030"
      },
      "outputs": [
        {
          "output_type": "display_data",
          "data": {
            "text/plain": [
              "<Figure size 640x480 with 1 Axes>"
            ],
            "image/png": "[encoded data removed]"
          },
          "metadata": {}
        }
      ],
      "source": [
        "plt.plot(LOSS)\n",
        "plt.xlabel(\"iterations \")\n",
        "plt.ylabel(\"Cost/total loss \")\n",
        "plt.show()"
      ],
      "execution_count": 16
    },
    {
      "cell_type": "markdown",
      "metadata": {
        "id": "c271de07-1127-4b7d-9c58-243beef40f01"
      },
      "source": [
        "<a href=\"https://dataplatform.cloud.ibm.com/registration/stepone?utm_source=skills_network&utm_content=in_lab_content_link&utm_id=Lab-IBMDeveloperSkillsNetwork-DL0110EN-SkillsNetwork&context=cpdaas&apps=data_science_experience%2Cwatson_machine_learning\"><img src=\"https://cf-courses-data.s3.us.cloud-object-storage.appdomain.cloud/IBMDeveloperSkillsNetwork-DL0110EN-SkillsNetwork/Template/module%201/images/Watson_Studio.png\"></a>\n"
      ]
    },
    {
      "cell_type": "markdown",
      "metadata": {
        "id": "2a790971-eec0-488e-84d6-e413f9149927"
      },
      "source": [
        "### About the Authors:  \n",
        "\n",
        " [Joseph Santarcangelo]( https://www.linkedin.com/in/joseph-s-50398b136/) has a PhD in Electrical Engineering. His research focused on using machine learning, signal processing, and computer vision to determine how videos impact human cognition.\n",
        "\n",
        "Other contributors: [Michelle Carey](  https://www.linkedin.com/in/michelleccarey/)\n"
      ]
    },
    {
      "cell_type": "markdown",
      "metadata": {
        "id": "a51c3151-d5e9-4922-8f71-30bcc0432f04"
      },
      "source": [
        "<!--\n",
        "## Change Log\n",
        "\n",
        "|  Date (YYYY-MM-DD) |  Version | Changed By  |  Change Description |\n",
        "|---|---|---|---|\n",
        "| 2020-09-23  | 2.0  | Shubham  |  Migrated Lab to Markdown and added to course repo in GitLab |\n",
        "\n",
        "-->\n"
      ]
    },
    {
      "cell_type": "markdown",
      "metadata": {
        "id": "4c7881a4-9626-43dc-aac6-289c08794af9"
      },
      "source": [
        "## <h3 align=\"center\"> &#169; IBM Corporation. All rights reserved. <h3/>\n"
      ]
    }
  ],
  "metadata": {
    "kernelspec": {
      "display_name": "Python",
      "language": "python",
      "name": "conda-env-python-py"
    },
    "language_info": {
      "name": "python",
      "version": "3.7.12",
      "mimetype": "text/x-python",
      "codemirror_mode": {
        "name": "ipython",
        "version": 3
      },
      "pygments_lexer": "ipython3",
      "nbconvert_exporter": "python",
      "file_extension": ".py"
    },
    "prev_pub_hash": "59d66193177d4cba5ad255078e24a8eba4e77b343b0d99d7806800445ea72dbb",
    "colab": {
      "provenance": []
    }
  },
  "nbformat": 4,
  "nbformat_minor": 0
}