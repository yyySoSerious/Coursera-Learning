{
  "cells": [
    {
      "cell_type": "markdown",
      "metadata": {
        "id": "4c2f5851-a411-45c1-aaaf-e34ad3188987"
      },
      "source": [
        "<p style=\"text-align:center\">\n",
        "    <a href=\"https://skills.network\" target=\"_blank\">\n",
        "    <img src=\"https://cf-courses-data.s3.us.cloud-object-storage.appdomain.cloud/assets/logos/SN_web_lightmode.png\" width=\"200\" alt=\"Skills Network Logo\">\n",
        "    </a>\n",
        "</p>\n"
      ]
    },
    {
      "cell_type": "markdown",
      "metadata": {
        "id": "a50a319f-eef9-451a-9d22-4119b31f8a99"
      },
      "source": [
        "<h1>Logistic Regression</h1>\n"
      ]
    },
    {
      "cell_type": "markdown",
      "metadata": {
        "id": "9b0221a8-2b6c-472c-8720-9bb02cb7e7c1"
      },
      "source": [
        "<h2>Objective</h2><ul><li> How to create a logistic regression object with the nn.Sequential model.</li></ul>\n"
      ]
    },
    {
      "cell_type": "markdown",
      "metadata": {
        "id": "5d048f1d-2319-4b48-aa73-521d2ac11818"
      },
      "source": [
        "<h2> Table of Contents  </h2>\n",
        "<p>In this lab, we will cover logistic regression using PyTorch.</p>\n",
        "\n",
        "<a id='toc0_'></a>  \n",
        "- [Logistic Function](#logistic-function)  \n",
        "- [Build a Logistic Regression Using nn.Sequential](#build-a-logistic-regression-using-nnsequential)  \n",
        "- [Build Custom Modules](#build-custom-modules)\n",
        "\n",
        "Estimated Time Needed: **15 min**\n",
        "\n",
        "---\n"
      ]
    },
    {
      "cell_type": "markdown",
      "metadata": {
        "id": "eb7765cf-e423-417c-b4d1-b284dbfe9b57"
      },
      "source": [
        "<h2>Preparation</h2>\n"
      ]
    },
    {
      "cell_type": "markdown",
      "metadata": {
        "id": "d1b517f1-597c-41e6-8317-80b67900ce51"
      },
      "source": [
        "We'll need the following libraries:  \n"
      ]
    },
    {
      "cell_type": "code",
      "metadata": {
        "id": "1e2b8dd0-9e57-4d41-bef8-dee6c1b66e4d"
      },
      "outputs": [],
      "source": [
        "# Import the libraries we need for this lab\n",
        "\n",
        "import torch.nn as nn\n",
        "import torch\n",
        "import matplotlib.pyplot as plt"
      ],
      "execution_count": 1
    },
    {
      "cell_type": "markdown",
      "metadata": {
        "id": "29b025bc-a7da-4a24-94e1-75d15f5c2adc"
      },
      "source": [
        "Set the random seed:\n"
      ]
    },
    {
      "cell_type": "code",
      "metadata": {
        "colab": {
          "base_uri": "https://localhost:8080/"
        },
        "id": "807c85c3-40cb-4933-9157-827ccc76e1f4",
        "outputId": "c8f19ab9-bb70-4428-fdf3-e0c1eb399841"
      },
      "outputs": [
        {
          "output_type": "execute_result",
          "data": {
            "text/plain": [
              "<torch._C.Generator at 0x79e808dfdad0>"
            ]
          },
          "metadata": {},
          "execution_count": 2
        }
      ],
      "source": [
        "# Set the random seed\n",
        "\n",
        "torch.manual_seed(2)"
      ],
      "execution_count": 2
    },
    {
      "cell_type": "markdown",
      "metadata": {
        "id": "1fa84716-f0d0-46b7-8f92-8b50105f132d"
      },
      "source": [
        "<!--Empty Space for separating topics-->\n"
      ]
    },
    {
      "cell_type": "markdown",
      "metadata": {
        "id": "d27bc385-8cb0-4f09-8fa5-cc04585e2403"
      },
      "source": [
        "## <a id='logistic-function'></a>Logistic Function\n"
      ]
    },
    {
      "cell_type": "markdown",
      "metadata": {
        "id": "ad49bb61-4006-4b8b-88ec-13664f44ba18"
      },
      "source": [
        "Create a tensor ranging from -100 to 100:\n"
      ]
    },
    {
      "cell_type": "code",
      "metadata": {
        "colab": {
          "base_uri": "https://localhost:8080/"
        },
        "id": "a68f51d7-1189-4263-9cc2-33a11a0b24bf",
        "outputId": "e0c53289-7084-4fbc-e326-590f2f9a2499"
      },
      "outputs": [
        {
          "output_type": "stream",
          "name": "stdout",
          "text": [
            "The tensor:  tensor([[-100.0000],\n",
            "        [ -99.9000],\n",
            "        [ -99.8000],\n",
            "        ...,\n",
            "        [  99.7000],\n",
            "        [  99.8000],\n",
            "        [  99.9000]])\n"
          ]
        }
      ],
      "source": [
        "z = torch.arange(-100, 100, 0.1).view(-1, 1)\n",
        "print(\"The tensor: \", z)"
      ],
      "execution_count": 3
    },
    {
      "cell_type": "markdown",
      "metadata": {
        "id": "f4a1966c-4fe5-4224-bf03-0f73fc45c9dc"
      },
      "source": [
        "Create a sigmoid object:\n"
      ]
    },
    {
      "cell_type": "code",
      "metadata": {
        "id": "0204980a-9604-459c-b0e1-fb9bc117f63f"
      },
      "outputs": [],
      "source": [
        "# Create sigmoid object\n",
        "\n",
        "sig = nn.Sigmoid()"
      ],
      "execution_count": 4
    },
    {
      "cell_type": "markdown",
      "metadata": {
        "id": "0d8c99e6-ee8c-4261-8457-5903a5e421b8"
      },
      "source": [
        "Apply the element-wise function Sigmoid with the object:\n"
      ]
    },
    {
      "cell_type": "code",
      "metadata": {
        "id": "9c7fbe5c-e2bc-4737-8075-a22df668ed06"
      },
      "outputs": [],
      "source": [
        "# Use sigmoid object to calculate the\n",
        "\n",
        "yhat = sig(z)"
      ],
      "execution_count": 5
    },
    {
      "cell_type": "markdown",
      "metadata": {
        "id": "71aba12d-266a-46b0-99df-e91e3bab1e3a"
      },
      "source": [
        "Plot the results:\n"
      ]
    },
    {
      "cell_type": "code",
      "metadata": {
        "colab": {
          "base_uri": "https://localhost:8080/",
          "height": 467
        },
        "id": "b633cf4a-bea4-41c6-87e2-5bd1c94968a4",
        "outputId": "de04cf1b-44f0-428b-d930-2e8d434dc4b0"
      },
      "outputs": [
        {
          "output_type": "execute_result",
          "data": {
            "text/plain": [
              "Text(0, 0.5, 'yhat')"
            ]
          },
          "metadata": {},
          "execution_count": 6
        },
        {
          "output_type": "display_data",
          "data": {
            "text/plain": [
              "<Figure size 640x480 with 1 Axes>"
            ],
            "image/png": "[encoded data removed]"
          },
          "metadata": {}
        }
      ],
      "source": [
        "plt.plot(z.numpy(), yhat.numpy())\n",
        "plt.xlabel('z')\n",
        "plt.ylabel('yhat')"
      ],
      "execution_count": 6
    },
    {
      "cell_type": "markdown",
      "metadata": {
        "id": "56ccf530-651e-4a56-8c87-3210999a910c"
      },
      "source": [
        "Apply the element-wise Sigmoid from the function module and plot the results:\n"
      ]
    },
    {
      "cell_type": "code",
      "metadata": {
        "colab": {
          "base_uri": "https://localhost:8080/",
          "height": 448
        },
        "id": "bbc8df62-b932-4814-9206-2255cf3ea63a",
        "outputId": "ab2f8baf-be11-4307-8ceb-215630ce6a18"
      },
      "outputs": [
        {
          "output_type": "execute_result",
          "data": {
            "text/plain": [
              "[<matplotlib.lines.Line2D at 0x79e729a35610>]"
            ]
          },
          "metadata": {},
          "execution_count": 7
        },
        {
          "output_type": "display_data",
          "data": {
            "text/plain": [
              "<Figure size 640x480 with 1 Axes>"
            ],
            "image/png": "[encoded data removed]"
          },
          "metadata": {}
        }
      ],
      "source": [
        "yhat = torch.sigmoid(z)\n",
        "plt.plot(z.numpy(), yhat.numpy())"
      ],
      "execution_count": 7
    },
    {
      "cell_type": "markdown",
      "metadata": {
        "id": "e8831e05-0c9c-4bff-8b86-cb18a456ef00"
      },
      "source": [
        "<!--Empty Space for separating topics-->\n"
      ]
    },
    {
      "cell_type": "markdown",
      "metadata": {
        "id": "0d0cb903-8db3-48c0-8179-274ba1035451"
      },
      "source": [
        "## <a id='build-a-logistic-regression-using-nnsequential'></a>Build a Logistic Regression Using nn.Sequential\n"
      ]
    },
    {
      "cell_type": "markdown",
      "metadata": {
        "id": "e843092a-d09b-452d-9f81-ed6832bae6cd"
      },
      "source": [
        "Create a 1x1 tensor where x represents one data sample with one dimension, and 2x1 tensor X represents two data samples of one dimension:\n"
      ]
    },
    {
      "cell_type": "code",
      "metadata": {
        "colab": {
          "base_uri": "https://localhost:8080/"
        },
        "id": "fed4a552-9c2e-4c1f-a45d-a8edd5d7b70d",
        "outputId": "a50674e5-e70c-497d-9cac-318b88e33803"
      },
      "outputs": [
        {
          "output_type": "stream",
          "name": "stdout",
          "text": [
            "x =  tensor([[1.]])\n",
            "X =  tensor([[  1.],\n",
            "        [100.]])\n"
          ]
        }
      ],
      "source": [
        "# Create x and X tensor\n",
        "\n",
        "x = torch.tensor([[1.0]])\n",
        "X = torch.tensor([[1.0], [100]])\n",
        "print('x = ', x)\n",
        "print('X = ', X)"
      ],
      "execution_count": 8
    },
    {
      "cell_type": "markdown",
      "metadata": {
        "id": "912015b5-460a-430f-949b-9c0719a2bda1"
      },
      "source": [
        "Create a logistic regression object with the <code>nn.Sequential</code> model with a one-dimensional input:\n"
      ]
    },
    {
      "cell_type": "code",
      "metadata": {
        "id": "be3d8905-c4ff-4373-b622-2a2931db2d81"
      },
      "outputs": [],
      "source": [
        "# Use sequential function to create model\n",
        "\n",
        "model = nn.Sequential(nn.Linear(1, 1), nn.Sigmoid())"
      ],
      "execution_count": 9
    },
    {
      "cell_type": "markdown",
      "metadata": {
        "id": "de086099-4697-47af-8725-4f69d3796f85"
      },
      "source": [
        "The object is represented in the following diagram:\n"
      ]
    },
    {
      "cell_type": "markdown",
      "metadata": {
        "id": "02af7f8e-a4de-4fa1-9eb8-6aca7782a582"
      },
      "source": [
        "<img src=\"https://s3-api.us-geo.objectstorage.softlayer.net/cf-courses-data/CognitiveClass/DL0110EN/notebook_images%20/chapter3/3.1.1_logistic_regression_block_diagram.png\" width=\"800,\" align=\"center\" alt=\"logistic regression block diagram\">\n"
      ]
    },
    {
      "cell_type": "markdown",
      "metadata": {
        "id": "9889cd45-6272-4af6-b5a9-c9bcc070f190"
      },
      "source": [
        "In this case, the parameters are randomly initialized. You can view them the following ways:\n"
      ]
    },
    {
      "cell_type": "code",
      "metadata": {
        "colab": {
          "base_uri": "https://localhost:8080/"
        },
        "id": "49d1732a-03bf-42b8-8fc6-6a0ef6a44d26",
        "outputId": "0ba7d89f-033d-4a3b-b8c4-a5964a0a6920"
      },
      "outputs": [
        {
          "output_type": "stream",
          "name": "stdout",
          "text": [
            "list(model.parameters()):\n",
            "  [Parameter containing:\n",
            "tensor([[0.2294]], requires_grad=True), Parameter containing:\n",
            "tensor([-0.2380], requires_grad=True)]\n",
            "\n",
            "model.state_dict():\n",
            "  OrderedDict([('0.weight', tensor([[0.2294]])), ('0.bias', tensor([-0.2380]))])\n"
          ]
        }
      ],
      "source": [
        "# Print the parameters\n",
        "\n",
        "print(\"list(model.parameters()):\\n \", list(model.parameters()))\n",
        "print(\"\\nmodel.state_dict():\\n \", model.state_dict())"
      ],
      "execution_count": 10
    },
    {
      "cell_type": "markdown",
      "metadata": {
        "id": "918603b3-4228-42d6-aa4a-1f8bd1d63106"
      },
      "source": [
        "Make a prediction with one sample:\n"
      ]
    },
    {
      "cell_type": "code",
      "metadata": {
        "colab": {
          "base_uri": "https://localhost:8080/"
        },
        "id": "fba01724-c2fa-4b7c-b7e0-55500de0417c",
        "outputId": "4bb1f8c1-95dc-4400-c3b0-590b2c424476"
      },
      "outputs": [
        {
          "output_type": "stream",
          "name": "stdout",
          "text": [
            "The prediction:  tensor([[0.4979]], grad_fn=<SigmoidBackward0>)\n"
          ]
        }
      ],
      "source": [
        "# The prediction for x\n",
        "\n",
        "yhat = model(x)\n",
        "print(\"The prediction: \", yhat)"
      ],
      "execution_count": 11
    },
    {
      "cell_type": "markdown",
      "metadata": {
        "id": "15f03e9b-8c47-4733-aef6-035dff0ac5f4"
      },
      "source": [
        "Calling the object with tensor <code>X</code> performed the following operation <b>(code values may not be the same as the diagrams value  depending on the version of PyTorch) </b>:\n"
      ]
    },
    {
      "cell_type": "markdown",
      "metadata": {
        "id": "f75cf03e-ee5c-456e-b387-3d027a60190e"
      },
      "source": [
        "<img src=\"https://s3-api.us-geo.objectstorage.softlayer.net/cf-courses-data/CognitiveClass/DL0110EN/notebook_images%20/chapter3/3.1.1_logistic_functio_example%20.png\" width=\"400\" alt=\"Logistic Example\">\n"
      ]
    },
    {
      "cell_type": "markdown",
      "metadata": {
        "id": "0e70d624-0f35-4d5e-be4b-b794ed35830a"
      },
      "source": [
        "Make a prediction with multiple samples:\n"
      ]
    },
    {
      "cell_type": "code",
      "metadata": {
        "colab": {
          "base_uri": "https://localhost:8080/"
        },
        "id": "649e33b1-3943-4136-801a-3f4f7f035002",
        "outputId": "3b4753ee-6675-4f6e-98d5-9f1cd9e5e090"
      },
      "outputs": [
        {
          "output_type": "execute_result",
          "data": {
            "text/plain": [
              "tensor([[0.4979],\n",
              "        [1.0000]], grad_fn=<SigmoidBackward0>)"
            ]
          },
          "metadata": {},
          "execution_count": 12
        }
      ],
      "source": [
        "# The prediction for X\n",
        "\n",
        "yhat = model(X)\n",
        "yhat"
      ],
      "execution_count": 12
    },
    {
      "cell_type": "markdown",
      "metadata": {
        "id": "a7ca655f-e863-4a6a-b579-b2968058ae2a"
      },
      "source": [
        "Calling the object performed the following operation:\n"
      ]
    },
    {
      "cell_type": "markdown",
      "metadata": {
        "id": "203268b3-39d7-4cd1-a16e-7b96db962007"
      },
      "source": [
        "Create a 1x2 tensor where x represents one data sample with one dimension, and 2x3 tensor X represents one data sample of two dimensions:\n"
      ]
    },
    {
      "cell_type": "code",
      "metadata": {
        "colab": {
          "base_uri": "https://localhost:8080/"
        },
        "id": "537ffe8a-e735-4151-97af-f1faaf37472a",
        "outputId": "37e4eecd-77c7-4d1e-be2b-596237767db9"
      },
      "outputs": [
        {
          "output_type": "stream",
          "name": "stdout",
          "text": [
            "x =  tensor([[1., 1.]])\n",
            "X =  tensor([[1., 1.],\n",
            "        [1., 2.],\n",
            "        [1., 3.]])\n"
          ]
        }
      ],
      "source": [
        "# Create and print samples\n",
        "\n",
        "x = torch.tensor([[1.0, 1.0]])\n",
        "X = torch.tensor([[1.0, 1.0], [1.0, 2.0], [1.0, 3.0]])\n",
        "print('x = ', x)\n",
        "print('X = ', X)"
      ],
      "execution_count": 13
    },
    {
      "cell_type": "markdown",
      "metadata": {
        "id": "f89eed7c-f477-4dd1-86b6-6dff0fb00f88"
      },
      "source": [
        "Create a logistic regression object with the <code>nn.Sequential</code> model with a two-dimensional input:\n"
      ]
    },
    {
      "cell_type": "code",
      "metadata": {
        "id": "a74d5b0a-a2b9-43a0-a527-df5cdae9aa89"
      },
      "outputs": [],
      "source": [
        "# Create new model using nn.sequential()\n",
        "\n",
        "model = nn.Sequential(nn.Linear(2, 1), nn.Sigmoid())"
      ],
      "execution_count": 14
    },
    {
      "cell_type": "markdown",
      "metadata": {
        "id": "8a42fc36-fa65-4f9a-8503-dee4ec2bb44b"
      },
      "source": [
        "The object will apply the Sigmoid function to the output of the linear function as shown in the following diagram:\n"
      ]
    },
    {
      "cell_type": "markdown",
      "metadata": {
        "id": "0391f056-7c1e-42c5-b8ab-182af87e252e"
      },
      "source": [
        "<img src=\"https://s3-api.us-geo.objectstorage.softlayer.net/cf-courses-data/CognitiveClass/DL0110EN/notebook_images%20/chapter3/3.1.1logistic_output.png\" width=\"800\" alt=\"The structure of nn.sequential\">\n"
      ]
    },
    {
      "cell_type": "markdown",
      "metadata": {
        "id": "38b152da-a798-4eef-8071-70db99be2e24"
      },
      "source": [
        "In this case, the parameters are randomly initialized. You can view them the following ways:\n"
      ]
    },
    {
      "cell_type": "code",
      "metadata": {
        "colab": {
          "base_uri": "https://localhost:8080/"
        },
        "id": "76fd5949-ac5a-46d4-b26f-fd9a68a729ae",
        "outputId": "71588e6e-ef8a-47f2-b6f6-68c6636c1003"
      },
      "outputs": [
        {
          "output_type": "stream",
          "name": "stdout",
          "text": [
            "list(model.parameters()):\n",
            "  [Parameter containing:\n",
            "tensor([[ 0.1939, -0.0361]], requires_grad=True), Parameter containing:\n",
            "tensor([0.3021], requires_grad=True)]\n",
            "\n",
            "model.state_dict():\n",
            "  OrderedDict([('0.weight', tensor([[ 0.1939, -0.0361]])), ('0.bias', tensor([0.3021]))])\n"
          ]
        }
      ],
      "source": [
        "# Print the parameters\n",
        "\n",
        "print(\"list(model.parameters()):\\n \", list(model.parameters()))\n",
        "print(\"\\nmodel.state_dict():\\n \", model.state_dict())"
      ],
      "execution_count": 15
    },
    {
      "cell_type": "markdown",
      "metadata": {
        "id": "9fa3dcba-9d8d-44f3-a28c-ac683e5aca15"
      },
      "source": [
        "Make a prediction with one sample:\n"
      ]
    },
    {
      "cell_type": "code",
      "metadata": {
        "colab": {
          "base_uri": "https://localhost:8080/"
        },
        "id": "82ffaacd-998d-48c6-88c4-663ebaf5d6b2",
        "outputId": "08f20c86-7174-4b2d-91bb-90af82e33b2c"
      },
      "outputs": [
        {
          "output_type": "stream",
          "name": "stdout",
          "text": [
            "The prediction:  tensor([[0.6130]], grad_fn=<SigmoidBackward0>)\n"
          ]
        }
      ],
      "source": [
        "# Make the prediction of x\n",
        "\n",
        "yhat = model(x)\n",
        "print(\"The prediction: \", yhat)"
      ],
      "execution_count": 16
    },
    {
      "cell_type": "markdown",
      "metadata": {
        "id": "b051b2d2-857e-42d7-b6ad-493c0ac4067b"
      },
      "source": [
        "The operation is represented in the following diagram:\n"
      ]
    },
    {
      "cell_type": "markdown",
      "metadata": {
        "id": "0b6a19e1-59c8-4a34-a831-08d561111b31"
      },
      "source": [
        "<img src=\"https://s3-api.us-geo.objectstorage.softlayer.net/cf-courses-data/CognitiveClass/DL0110EN/notebook_images%20/chapter3/3.3.1.logisticwithouptut.png\" width=\"500\" alt=\"Sequential Example\">\n"
      ]
    },
    {
      "cell_type": "markdown",
      "metadata": {
        "id": "8ed4332f-f946-44e8-98ca-95bf685503ba"
      },
      "source": [
        "Make a prediction with multiple samples:\n"
      ]
    },
    {
      "cell_type": "code",
      "metadata": {
        "colab": {
          "base_uri": "https://localhost:8080/"
        },
        "id": "7551d8b4-c93d-4ad7-bd23-3622938f59b7",
        "outputId": "a78b13b9-c8f7-4880-ede9-ef9ab68f36c2"
      },
      "outputs": [
        {
          "output_type": "stream",
          "name": "stdout",
          "text": [
            "The prediction:  tensor([[0.6130],\n",
            "        [0.6044],\n",
            "        [0.5957]], grad_fn=<SigmoidBackward0>)\n"
          ]
        }
      ],
      "source": [
        "# The prediction of X\n",
        "\n",
        "yhat = model(X)\n",
        "print(\"The prediction: \", yhat)"
      ],
      "execution_count": 17
    },
    {
      "cell_type": "markdown",
      "metadata": {
        "id": "ad3695e9-b9e3-4ec1-b9cd-5f4a00fd5e70"
      },
      "source": [
        "The operation is represented in the following diagram:\n"
      ]
    },
    {
      "cell_type": "markdown",
      "metadata": {
        "id": "34d6257f-f393-4faa-9876-29cb7fa1efed"
      },
      "source": [
        "<img src=\"https://s3-api.us-geo.objectstorage.softlayer.net/cf-courses-data/CognitiveClass/DL0110EN/notebook_images%20/chapter3/3.1.1_logistic_with_outputs2.png\" width=\"800\" alt=\"Sequential Example\">\n"
      ]
    },
    {
      "cell_type": "markdown",
      "metadata": {
        "id": "63a00b7b-73d7-4c77-87e8-eed8f6ea0812"
      },
      "source": [
        "<!--Empty Space for separating topics-->\n"
      ]
    },
    {
      "cell_type": "markdown",
      "metadata": {
        "id": "0d74bc28-a1a9-4cca-b6cc-dd28ce4a909a"
      },
      "source": [
        "## <a id='build-custom-modules'></a>Build Custom Modules\n"
      ]
    },
    {
      "cell_type": "markdown",
      "metadata": {
        "id": "e62224a3-ac18-4c59-bb6e-eb884d54f9dc"
      },
      "source": [
        "In this section, you will build a custom Module or class. The model or object function is identical to using <code>nn.Sequential</code>.\n"
      ]
    },
    {
      "cell_type": "markdown",
      "metadata": {
        "id": "d731712d-c1f1-4661-a100-379f42e1b522"
      },
      "source": [
        "Create a logistic regression custom module:\n"
      ]
    },
    {
      "cell_type": "code",
      "metadata": {
        "id": "622ba25c-4017-4e19-b2fe-4e760b4b69b5"
      },
      "outputs": [],
      "source": [
        "# Create logistic_regression custom class\n",
        "\n",
        "class logistic_regression(nn.Module):\n",
        "\n",
        "    # Constructor\n",
        "    def __init__(self, n_inputs):\n",
        "        super(logistic_regression, self).__init__()\n",
        "        self.linear = nn.Linear(n_inputs, 1)\n",
        "\n",
        "    # Prediction\n",
        "    def forward(self, x):\n",
        "        yhat = torch.sigmoid(self.linear(x))\n",
        "        return yhat"
      ],
      "execution_count": 18
    },
    {
      "cell_type": "markdown",
      "metadata": {
        "id": "07c59225-f8e7-41e0-8e1c-5028220c3ec3"
      },
      "source": [
        "Create a 1x1 tensor where x represents one data sample with one dimension, and 3x1 tensor where $X$ represents one data sample of one dimension:\n"
      ]
    },
    {
      "cell_type": "code",
      "metadata": {
        "colab": {
          "base_uri": "https://localhost:8080/"
        },
        "id": "2891d0d0-e0e4-4aa2-82a4-97402c17dc07",
        "outputId": "ff2e43bb-7b12-4b2f-a6f3-8a92283c7372"
      },
      "outputs": [
        {
          "output_type": "stream",
          "name": "stdout",
          "text": [
            "x =  tensor([[1.]])\n",
            "X =  tensor([[-100.],\n",
            "        [   0.],\n",
            "        [ 100.]])\n"
          ]
        }
      ],
      "source": [
        "# Create x and X tensor\n",
        "\n",
        "x = torch.tensor([[1.0]])\n",
        "X = torch.tensor([[-100], [0], [100.0]])\n",
        "print('x = ', x)\n",
        "print('X = ', X)"
      ],
      "execution_count": 19
    },
    {
      "cell_type": "markdown",
      "metadata": {
        "id": "5d2a358c-7825-4713-b2a5-0515d4c9f800"
      },
      "source": [
        "Create a model to predict one dimension:\n"
      ]
    },
    {
      "cell_type": "code",
      "metadata": {
        "id": "ef1f412e-dfca-4527-8e52-65eb3220f76d"
      },
      "outputs": [],
      "source": [
        "# Create logistic regression model\n",
        "\n",
        "model = logistic_regression(1)"
      ],
      "execution_count": 20
    },
    {
      "cell_type": "markdown",
      "metadata": {
        "id": "958893a3-44f7-4277-b46c-73ff8abad8c1"
      },
      "source": [
        "In this case, the parameters are randomly initialized. You can view them the following ways:\n"
      ]
    },
    {
      "cell_type": "code",
      "metadata": {
        "colab": {
          "base_uri": "https://localhost:8080/"
        },
        "id": "c1cf2df9-470c-4d44-8fda-3c0a80f09400",
        "outputId": "621945e6-6722-4774-a56c-785d5dbd46d1"
      },
      "outputs": [
        {
          "output_type": "stream",
          "name": "stdout",
          "text": [
            "list(model.parameters()):\n",
            "  [Parameter containing:\n",
            "tensor([[0.2381]], requires_grad=True), Parameter containing:\n",
            "tensor([-0.1149], requires_grad=True)]\n",
            "\n",
            "model.state_dict():\n",
            "  OrderedDict([('linear.weight', tensor([[0.2381]])), ('linear.bias', tensor([-0.1149]))])\n"
          ]
        }
      ],
      "source": [
        "# Print parameters\n",
        "\n",
        "print(\"list(model.parameters()):\\n \", list(model.parameters()))\n",
        "print(\"\\nmodel.state_dict():\\n \", model.state_dict())"
      ],
      "execution_count": 21
    },
    {
      "cell_type": "markdown",
      "metadata": {
        "id": "edce73c8-08fa-4578-ad29-cad493bc84e0"
      },
      "source": [
        "Make a prediction with one sample:\n"
      ]
    },
    {
      "cell_type": "code",
      "metadata": {
        "colab": {
          "base_uri": "https://localhost:8080/"
        },
        "id": "0c511e78-16f5-4929-b81f-fd3f7254e09a",
        "outputId": "aeea9c0e-c822-42cb-c81d-6c9b42f7a790"
      },
      "outputs": [
        {
          "output_type": "stream",
          "name": "stdout",
          "text": [
            "The prediction result: \n",
            " tensor([[0.5307]], grad_fn=<SigmoidBackward0>)\n"
          ]
        }
      ],
      "source": [
        "# Make the prediction of x\n",
        "\n",
        "yhat = model(x)\n",
        "print(\"The prediction result: \\n\", yhat)"
      ],
      "execution_count": 22
    },
    {
      "cell_type": "markdown",
      "metadata": {
        "id": "94a993a8-ffd5-4f7d-b5c2-43753507e843"
      },
      "source": [
        "Make a prediction with multiple samples:\n"
      ]
    },
    {
      "cell_type": "code",
      "metadata": {
        "colab": {
          "base_uri": "https://localhost:8080/"
        },
        "id": "8fa1718c-2b40-43b2-b7d0-c1312486ffcd",
        "outputId": "f98f30e2-1f28-4b52-c2e9-eacd7a7201d4"
      },
      "outputs": [
        {
          "output_type": "stream",
          "name": "stdout",
          "text": [
            "The prediction result: \n",
            " tensor([[4.0805e-11],\n",
            "        [4.7130e-01],\n",
            "        [1.0000e+00]], grad_fn=<SigmoidBackward0>)\n"
          ]
        }
      ],
      "source": [
        "# Make the prediction of X\n",
        "\n",
        "yhat = model(X)\n",
        "print(\"The prediction result: \\n\", yhat)"
      ],
      "execution_count": 23
    },
    {
      "cell_type": "markdown",
      "metadata": {
        "id": "216136f8-f73b-4b43-9953-0eace813189f"
      },
      "source": [
        "Create a logistic regression object with a function with two inputs:\n"
      ]
    },
    {
      "cell_type": "code",
      "metadata": {
        "id": "6f7ed97c-b3a1-4618-939b-d1aa2abdbe48"
      },
      "outputs": [],
      "source": [
        "# Create logistic regression model\n",
        "\n",
        "model = logistic_regression(2)"
      ],
      "execution_count": 24
    },
    {
      "cell_type": "markdown",
      "metadata": {
        "id": "9f013a79-2817-40e0-a6b3-48714d1cf68d"
      },
      "source": [
        "Create a 1x2 tensor where x represents one data sample with one dimension, and 3x2 tensor X represents one data sample of one dimension:\n"
      ]
    },
    {
      "cell_type": "code",
      "metadata": {
        "colab": {
          "base_uri": "https://localhost:8080/"
        },
        "id": "00e6c9ac-9f1d-425e-a712-8c026b13aec0",
        "outputId": "2ba1d75b-d586-4666-a314-4777dbeb382f"
      },
      "outputs": [
        {
          "output_type": "stream",
          "name": "stdout",
          "text": [
            "x =  tensor([[1., 2.]])\n",
            "X =  tensor([[ 100., -100.],\n",
            "        [   0.,    0.],\n",
            "        [-100.,  100.]])\n"
          ]
        }
      ],
      "source": [
        "# Create x and X tensor\n",
        "\n",
        "x = torch.tensor([[1.0, 2.0]])\n",
        "X = torch.tensor([[100, -100], [0.0, 0.0], [-100, 100]])\n",
        "print('x = ', x)\n",
        "print('X = ', X)"
      ],
      "execution_count": 25
    },
    {
      "cell_type": "markdown",
      "metadata": {
        "id": "5506ce5e-b502-499b-be8d-0b68d20ad457"
      },
      "source": [
        "Make a prediction with one sample:\n"
      ]
    },
    {
      "cell_type": "code",
      "metadata": {
        "colab": {
          "base_uri": "https://localhost:8080/"
        },
        "id": "6c3f4092-ff63-4153-9adc-a0412a46072c",
        "outputId": "a6851f1e-33dd-48e6-e654-1c4655451af9"
      },
      "outputs": [
        {
          "output_type": "stream",
          "name": "stdout",
          "text": [
            "The prediction result: \n",
            " tensor([[0.2943]], grad_fn=<SigmoidBackward0>)\n"
          ]
        }
      ],
      "source": [
        "# Make the prediction of x\n",
        "\n",
        "yhat = model(x)\n",
        "print(\"The prediction result: \\n\", yhat)"
      ],
      "execution_count": 26
    },
    {
      "cell_type": "markdown",
      "metadata": {
        "id": "aa391791-9707-41ac-8a8e-5493bab36ea6"
      },
      "source": [
        "Make a prediction with multiple samples:\n"
      ]
    },
    {
      "cell_type": "code",
      "metadata": {
        "colab": {
          "base_uri": "https://localhost:8080/"
        },
        "id": "ce473426-eff2-4dd7-92ac-1434190a93ab",
        "outputId": "8db0703c-4bb3-4b93-d8b5-c58bf30805cc"
      },
      "outputs": [
        {
          "output_type": "stream",
          "name": "stdout",
          "text": [
            "The prediction result: \n",
            " tensor([[7.7529e-33],\n",
            "        [3.4841e-01],\n",
            "        [1.0000e+00]], grad_fn=<SigmoidBackward0>)\n"
          ]
        }
      ],
      "source": [
        "# Make the prediction of X\n",
        "\n",
        "yhat = model(X)\n",
        "print(\"The prediction result: \\n\", yhat)"
      ],
      "execution_count": 27
    },
    {
      "cell_type": "markdown",
      "metadata": {
        "id": "b46c9c6f-dba8-4b8d-98bb-04733fb9e2f2"
      },
      "source": [
        "<!--Empty Space for separating topics-->\n"
      ]
    },
    {
      "cell_type": "markdown",
      "metadata": {
        "id": "d9cd3140-e307-4da4-9f85-c6a4985f564a"
      },
      "source": [
        "<h3>Practice</h3>\n"
      ]
    },
    {
      "cell_type": "markdown",
      "metadata": {
        "id": "d7d457b7-024a-41c5-8801-930064ef24a5"
      },
      "source": [
        "Make your own model <code>my_model</code> as applying linear regression first and then logistic regression using <code>nn.Sequential()</code>. Print out your prediction.\n"
      ]
    },
    {
      "cell_type": "code",
      "metadata": {
        "colab": {
          "base_uri": "https://localhost:8080/"
        },
        "id": "fc5f8b6f-d209-4938-a487-3882d21759be",
        "outputId": "b380bcbb-a36c-4d51-cd3b-ee80bd9ae56f"
      },
      "outputs": [
        {
          "output_type": "stream",
          "name": "stdout",
          "text": [
            "The prediction is tensor([0.9533], grad_fn=<SigmoidBackward0>)\n"
          ]
        }
      ],
      "source": [
        "# Practice: Make your model and make the prediction\n",
        "\n",
        "X = torch.tensor([-10.0])\n",
        "my_model = nn.Sequential(nn.Linear(1, 1), nn.Sigmoid())\n",
        "print(f'The prediction is {my_model(X)}')"
      ],
      "execution_count": 29
    },
    {
      "cell_type": "markdown",
      "metadata": {
        "id": "6436dc07-3287-4bf3-8b77-8fe0590f8218"
      },
      "source": [
        "Double-click <b>here</b> for the solution.\n",
        "\n",
        "<!--\n",
        "my_model = nn.Sequential(nn.Linear(1, 1),nn.Sigmoid())\n",
        "yhat = my_model(X)\n",
        "print(\"The prediction: \", yhat)\n",
        "-->\n"
      ]
    },
    {
      "cell_type": "markdown",
      "metadata": {
        "id": "bd82ddbf-1f11-4d80-b3a5-5250ab6fee51"
      },
      "source": [
        "\n",
        "\n",
        "<a href=\"https://dataplatform.cloud.ibm.com/registration/stepone?utm_source=skills_network&utm_content=in_lab_content_link&utm_id=Lab-IBMDeveloperSkillsNetwork-DL0110EN-SkillsNetwork&context=cpdaas&apps=data_science_experience%2Cwatson_machine_learning\"><img src=\"https://cf-courses-data.s3.us.cloud-object-storage.appdomain.cloud/IBMDeveloperSkillsNetwork-DL0110EN-SkillsNetwork/Template/module%201/images/Watson_Studio.png\"></a>\n"
      ]
    },
    {
      "cell_type": "markdown",
      "metadata": {
        "id": "b2e8bf77-3e9c-4e4d-b3b3-486c16d75fd5"
      },
      "source": [
        "<!--Empty Space for separating topics-->\n"
      ]
    },
    {
      "cell_type": "markdown",
      "metadata": {
        "id": "bc4d9f9b-4b27-4eba-be41-a0d55a808f2f"
      },
      "source": [
        "<h2>About the Authors:</h2>\n",
        "\n",
        "<a href=\"https://www.linkedin.com/in/joseph-s-50398b136/\">Joseph Santarcangelo</a> has a PhD in Electrical Engineering, his research focused on using machine learning, signal processing, and computer vision to determine how videos impact human cognition. Joseph has been working for IBM since he completed his PhD.\n"
      ]
    },
    {
      "cell_type": "markdown",
      "metadata": {
        "id": "8a88cc0f-b169-44e3-b0ef-d3f670e47321"
      },
      "source": [
        "Other contributors: <a href=\"https://www.linkedin.com/in/michelleccarey/\">Michelle Carey</a>, <a href=\"https://www.linkedin.com/in/jiahui-mavis-zhou-a4537814a\">Mavis Zhou</a>\n"
      ]
    },
    {
      "cell_type": "markdown",
      "metadata": {
        "id": "aa2fb2ab-67a2-4952-ab80-71ea5ae1c6e9"
      },
      "source": [
        "<!--\n",
        "## Change Log\n",
        "\n",
        "|  Date (YYYY-MM-DD) |  Version | Changed By  |  Change Description |\n",
        "|---|---|---|---|\n",
        "| 2020-09-23  | 2.0  | Shubham  |  Migrated Lab to Markdown and added to course repo in GitLab |\n",
        "-->\n"
      ]
    },
    {
      "cell_type": "markdown",
      "metadata": {
        "id": "97a03b0c-6380-4735-81b7-56126df81044"
      },
      "source": [
        "<hr>\n"
      ]
    },
    {
      "cell_type": "markdown",
      "metadata": {
        "id": "ad097412-dfa0-4086-b498-b1003c398e74"
      },
      "source": [
        "\n",
        "## <h3 align=\"center\"> &#169; IBM Corporation. All rights reserved. <h3/>\n"
      ]
    }
  ],
  "metadata": {
    "kernelspec": {
      "display_name": "Python",
      "language": "python",
      "name": "conda-env-python-py"
    },
    "language_info": {
      "name": "python",
      "version": "3.7.12",
      "mimetype": "text/x-python",
      "codemirror_mode": {
        "name": "ipython",
        "version": 3
      },
      "pygments_lexer": "ipython3",
      "nbconvert_exporter": "python",
      "file_extension": ".py"
    },
    "prev_pub_hash": "b4d8adfe2b8e8676971673dfb9ca8b5bb38b979079d3ccf1e3f1384e7bfafec0",
    "colab": {
      "provenance": []
    }
  },
  "nbformat": 4,
  "nbformat_minor": 0
}