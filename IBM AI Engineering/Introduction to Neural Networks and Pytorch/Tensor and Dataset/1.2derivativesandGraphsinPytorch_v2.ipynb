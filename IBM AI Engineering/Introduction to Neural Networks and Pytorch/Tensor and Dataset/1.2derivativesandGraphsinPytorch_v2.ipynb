{
  "cells": [
    {
      "cell_type": "markdown",
      "metadata": {
        "id": "5a44df04-4ea4-4eff-a282-fc0c7c29010a"
      },
      "source": [
        "<p style=\"text-align:center\">\n",
        "    <a href=\"https://skills.network\" target=\"_blank\">\n",
        "    <img src=\"https://cf-courses-data.s3.us.cloud-object-storage.appdomain.cloud/assets/logos/SN_web_lightmode.png\" width=\"200\" alt=\"Skills Network Logo\">\n",
        "    </a>\n",
        "</p>\n"
      ]
    },
    {
      "cell_type": "markdown",
      "metadata": {
        "id": "7c661253-7bf1-49a9-8d5b-e9890c50097c"
      },
      "source": [
        "<h1>Differentiation in PyTorch</h1>\n"
      ]
    },
    {
      "cell_type": "markdown",
      "metadata": {
        "id": "842739a4-1fef-4370-92a3-b72aa32d9d33"
      },
      "source": [
        "<h2>Objective</h2><ul><li> How to perform differentiation in pytorch.</li></ul>\n"
      ]
    },
    {
      "cell_type": "markdown",
      "metadata": {
        "id": "bd6d4f5a-5e5c-43f2-81da-76ee446e6d67"
      },
      "source": [
        "<h2>Table of Contents</h2>\n",
        "\n",
        "<p>In this lab, you will learn the basics of differentiation.</p>\n",
        "\n",
        "<ul>\n",
        "    <li><a href=\"#Derivative\">Derivatives</a></li>\n",
        "    <li><a href=\"#Partial_Derivative\">Partial Derivatives</a></li>\n",
        "</ul>\n",
        "\n",
        "<p>Estimated Time Needed: <strong>25 min</strong></p>\n",
        "<hr>\n"
      ]
    },
    {
      "cell_type": "markdown",
      "metadata": {
        "id": "9d12019b-d977-4a8e-913b-613b9ed47324"
      },
      "source": [
        "<h2>Preparation</h2>\n"
      ]
    },
    {
      "cell_type": "markdown",
      "metadata": {
        "id": "a4b46e45-06be-4551-b3ee-dbd9a6bf17cc"
      },
      "source": [
        "The following are the libraries we are going to use for this lab.\n"
      ]
    },
    {
      "cell_type": "code",
      "metadata": {
        "id": "6f3be34e-4c24-4215-9051-5ae553119b89"
      },
      "outputs": [],
      "source": [
        "# These are the libraries will be useing for this lab.\n",
        "\n",
        "import torch\n",
        "import matplotlib.pylab as plt\n"
      ],
      "execution_count": 1
    },
    {
      "cell_type": "markdown",
      "metadata": {
        "id": "3b2e995a-28fd-4d2b-ae48-dd9804b1b6a1"
      },
      "source": [
        "<!--Empty Space for separating topics-->\n"
      ]
    },
    {
      "cell_type": "markdown",
      "metadata": {
        "id": "9f2d4d29-890f-47e5-a121-0f11a88e1814"
      },
      "source": [
        "<a name=\"Derivative\"><h2 id=\"Derivative\">Derivatives</h2></a>\n"
      ]
    },
    {
      "cell_type": "markdown",
      "metadata": {
        "id": "80a79ab4-9822-43f4-9d7f-36ce4d58e9d9"
      },
      "source": [
        "Let us create the tensor <code>x</code> and set the parameter <code>requires_grad</code> to true because you are going to take the derivative of the tensor.\n"
      ]
    },
    {
      "cell_type": "code",
      "metadata": {
        "colab": {
          "base_uri": "https://localhost:8080/"
        },
        "id": "a5aa610b-077f-43c6-bd82-6de1760eb5ae",
        "outputId": "4f5383ff-a740-4dfe-d0e5-c0e5870b833b"
      },
      "outputs": [
        {
          "output_type": "stream",
          "name": "stdout",
          "text": [
            "The tensor x:  tensor(2., requires_grad=True)\n"
          ]
        }
      ],
      "source": [
        "# Create a tensor x\n",
        "\n",
        "x = torch.tensor(2.0, requires_grad = True)\n",
        "print(\"The tensor x: \", x)"
      ],
      "execution_count": 2
    },
    {
      "cell_type": "markdown",
      "metadata": {
        "id": "39541e9d-b3a3-4d12-9b6a-8df6363c50ec"
      },
      "source": [
        "Then let us create a tensor according to the equation $ y=x^2 $.\n"
      ]
    },
    {
      "cell_type": "code",
      "metadata": {
        "colab": {
          "base_uri": "https://localhost:8080/"
        },
        "id": "a4293780-5107-4096-a88b-f5844d30674a",
        "outputId": "9b1c77f4-12ab-480d-d60b-9b944d183125"
      },
      "outputs": [
        {
          "output_type": "stream",
          "name": "stdout",
          "text": [
            "The result of y = x^2:  tensor(4., grad_fn=<PowBackward0>)\n"
          ]
        }
      ],
      "source": [
        "# Create a tensor y according to y = x^2\n",
        "\n",
        "y = x ** 2\n",
        "print(\"The result of y = x^2: \", y)"
      ],
      "execution_count": 3
    },
    {
      "cell_type": "markdown",
      "metadata": {
        "id": "7b2cabe8-4d77-4dd9-8e80-5baf146f30a3"
      },
      "source": [
        "Then let us take the derivative with respect x at x = 2\n"
      ]
    },
    {
      "cell_type": "code",
      "metadata": {
        "colab": {
          "base_uri": "https://localhost:8080/"
        },
        "id": "83df4208-27ce-49e1-b0e5-8905f3f54728",
        "outputId": "95f7d0ec-bba9-47f6-e434-35cc1d397481"
      },
      "outputs": [
        {
          "output_type": "stream",
          "name": "stdout",
          "text": [
            "The dervative at x = 2:  tensor(4.)\n"
          ]
        }
      ],
      "source": [
        "# Take the derivative. Try to print out the derivative at the value x = 2\n",
        "\n",
        "y.backward()\n",
        "print(\"The dervative at x = 2: \", x.grad)"
      ],
      "execution_count": 4
    },
    {
      "cell_type": "markdown",
      "metadata": {
        "id": "cdc0745e-a935-4296-a243-451bbb695a44"
      },
      "source": [
        "The preceding lines perform the following operation:\n"
      ]
    },
    {
      "cell_type": "markdown",
      "metadata": {
        "id": "adfd21d1-6261-49ba-9aae-280003bde226"
      },
      "source": [
        "$\\frac{\\mathrm{dy(x)}}{\\mathrm{dx}}=2x$\n"
      ]
    },
    {
      "cell_type": "markdown",
      "metadata": {
        "id": "693f69e6-d2ee-4802-9f13-a6a6b4377495"
      },
      "source": [
        "$\\frac{\\mathrm{dy(x=2)}}{\\mathrm{dx}}=2(2)=4$\n"
      ]
    },
    {
      "cell_type": "code",
      "metadata": {
        "id": "f9c8c996-5126-4e44-a4a3-4ed1d33d5875"
      },
      "outputs": [],
      "source": [],
      "execution_count": null
    },
    {
      "cell_type": "code",
      "metadata": {
        "colab": {
          "base_uri": "https://localhost:8080/"
        },
        "id": "7f7adb5e-0a7c-4377-9558-c75d285c8d4f",
        "outputId": "478d20b3-b122-4cff-9f3b-572f815adfb4"
      },
      "outputs": [
        {
          "output_type": "stream",
          "name": "stdout",
          "text": [
            "data: tensor(2.)\n",
            "grad_fn: None\n",
            "grad: tensor(4.)\n",
            "is_leaf: True\n",
            "requires_grad: True\n"
          ]
        }
      ],
      "source": [
        "print('data:',x.data)\n",
        "print('grad_fn:',x.grad_fn)\n",
        "print('grad:',x.grad)\n",
        "print(\"is_leaf:\",x.is_leaf)\n",
        "print(\"requires_grad:\",x.requires_grad)"
      ],
      "execution_count": 5
    },
    {
      "cell_type": "code",
      "metadata": {
        "colab": {
          "base_uri": "https://localhost:8080/"
        },
        "id": "083299d1-3504-4039-8948-20e45066bdc6",
        "outputId": "aec71d3b-d232-4987-8d33-0b976651d20e"
      },
      "outputs": [
        {
          "output_type": "stream",
          "name": "stdout",
          "text": [
            "data: tensor(4.)\n",
            "grad_fn: <PowBackward0 object at 0x7e8909ea64a0>\n",
            "grad: None\n",
            "is_leaf: False\n",
            "requires_grad: True\n"
          ]
        },
        {
          "output_type": "stream",
          "name": "stderr",
          "text": [
            "<ipython-input-6-3853135f74d0>:3: UserWarning: The .grad attribute of a Tensor that is not a leaf Tensor is being accessed. Its .grad attribute won't be populated during autograd.backward(). If you indeed want the .grad field to be populated for a non-leaf Tensor, use .retain_grad() on the non-leaf Tensor. If you access the non-leaf Tensor by mistake, make sure you access the leaf Tensor instead. See github.com/pytorch/pytorch/pull/30531 for more informations. (Triggered internally at /pytorch/build/aten/src/ATen/core/TensorBody.h:489.)\n",
            "  print('grad:',y.grad)\n"
          ]
        }
      ],
      "source": [
        "print('data:',y.data)\n",
        "print('grad_fn:',y.grad_fn)\n",
        "print('grad:',y.grad)\n",
        "print(\"is_leaf:\",y.is_leaf)\n",
        "print(\"requires_grad:\",y.requires_grad)"
      ],
      "execution_count": 6
    },
    {
      "cell_type": "markdown",
      "metadata": {
        "id": "c1258084-39e2-4757-b3ed-2e4a98c3ee2d"
      },
      "source": [
        "Let us try to calculate the derivative for a more complicated function.\n"
      ]
    },
    {
      "cell_type": "code",
      "metadata": {
        "colab": {
          "base_uri": "https://localhost:8080/"
        },
        "id": "431d4b39-9ab9-4e7a-a4ea-0b1131d56bd6",
        "outputId": "dbbd69f8-9cbc-4f04-9bb0-9daddd8bf3b9"
      },
      "outputs": [
        {
          "output_type": "stream",
          "name": "stdout",
          "text": [
            "The result of y = x^2 + 2x + 1:  tensor(9., grad_fn=<AddBackward0>)\n",
            "The dervative at x = 2:  tensor(6.)\n"
          ]
        }
      ],
      "source": [
        "# Calculate the y = x^2 + 2x + 1, then find the derivative\n",
        "\n",
        "x = torch.tensor(2.0, requires_grad = True)\n",
        "y = x ** 2 + 2 * x + 1\n",
        "print(\"The result of y = x^2 + 2x + 1: \", y)\n",
        "y.backward()\n",
        "print(\"The dervative at x = 2: \", x.grad)"
      ],
      "execution_count": 7
    },
    {
      "cell_type": "markdown",
      "metadata": {
        "id": "3b5e53d4-9d3c-4d83-9a59-d00a68013539"
      },
      "source": [
        "The function is in the following form:\n",
        "$y=x^{2}+2x+1$\n"
      ]
    },
    {
      "cell_type": "markdown",
      "metadata": {
        "id": "8523168d-066e-4cf1-b2ad-6131fbd007e2"
      },
      "source": [
        "The derivative is given by:\n"
      ]
    },
    {
      "cell_type": "markdown",
      "metadata": {
        "id": "2ede9f89-d601-4ce2-bc53-16481e396faf"
      },
      "source": [
        "$\\frac{\\mathrm{dy(x)}}{\\mathrm{dx}}=2x+2$\n",
        "\n",
        "$\\frac{\\mathrm{dy(x=2)}}{\\mathrm{dx}}=2(2)+2=6$\n"
      ]
    },
    {
      "cell_type": "markdown",
      "metadata": {
        "id": "18e8d99f-07a9-4baa-95ca-f680da5ede6e"
      },
      "source": [
        "<!--Empty Space for separating topics-->\n"
      ]
    },
    {
      "cell_type": "markdown",
      "metadata": {
        "id": "be033157-7d7c-4595-90f1-8505647be97f"
      },
      "source": [
        "<h3>Practice</h3>\n"
      ]
    },
    {
      "cell_type": "markdown",
      "metadata": {
        "id": "404e02c2-101b-43a6-be0a-5f24055267ee"
      },
      "source": [
        "Determine the derivative of $ y = 2x^3+x $ at $x=1$\n"
      ]
    },
    {
      "cell_type": "code",
      "metadata": {
        "colab": {
          "base_uri": "https://localhost:8080/"
        },
        "id": "fc8d084f-869a-4ea3-8ecd-e0e8048d12a8",
        "outputId": "829e1110-29c5-48bf-dbcd-4af60f8866c8"
      },
      "outputs": [
        {
          "output_type": "stream",
          "name": "stdout",
          "text": [
            "the derivative of y = 2x^3 + x at x = 1 is  tensor(7.)\n"
          ]
        }
      ],
      "source": [
        "# Practice: Calculate the derivative of y = 2x^3 + x at x = 1\n",
        "\n",
        "# Type your code here\n",
        "x = torch.tensor(1.0, requires_grad=True)\n",
        "y = 2 * x**3 + x\n",
        "y.backward()\n",
        "print('the derivative of y = 2x^3 + x at x = 1 is ',  x.grad)"
      ],
      "execution_count": 9
    },
    {
      "cell_type": "markdown",
      "metadata": {
        "id": "727bf0f2-ac8d-4e01-bd16-c24055a6275d"
      },
      "source": [
        "Double-click <b>here</b> for the solution.\n",
        "<!--\n",
        "x = torch.tensor(1.0, requires_grad=True)\n",
        "y = 2 * x ** 3 + x\n",
        "y.backward()\n",
        "print(\"The derivative result: \", x.grad)\n",
        " -->\n"
      ]
    },
    {
      "cell_type": "markdown",
      "metadata": {
        "id": "73de304f-e4b3-4073-a9ae-a79c36a3358e"
      },
      "source": [
        "<!--Empty Space for separating topics-->\n"
      ]
    },
    {
      "cell_type": "markdown",
      "metadata": {
        "id": "1ef60cef-1e33-44cf-ac46-dfd0b546fcd6"
      },
      "source": [
        " We can implement our own custom autograd Functions by subclassing\n",
        "    torch.autograd.Function and implementing the forward and backward passes\n",
        "    which operate on Tensors\n"
      ]
    },
    {
      "cell_type": "code",
      "metadata": {
        "id": "0d7ef96b-aa67-4717-a1b0-e45cfb65e449"
      },
      "outputs": [],
      "source": [
        "class SQ(torch.autograd.Function):\n",
        "\n",
        "\n",
        "    @staticmethod\n",
        "    def forward(ctx,i):\n",
        "        \"\"\"\n",
        "        In the forward pass we receive a Tensor containing the input and return\n",
        "        a Tensor containing the output. ctx is a context object that can be used\n",
        "        to stash information for backward computation. You can cache arbitrary\n",
        "        objects for use in the backward pass using the ctx.save_for_backward method.\n",
        "        \"\"\"\n",
        "        result=i**2\n",
        "        ctx.save_for_backward(i)\n",
        "        return result\n",
        "\n",
        "    @staticmethod\n",
        "    def backward(ctx, grad_output):\n",
        "        \"\"\"\n",
        "        In the backward pass we receive a Tensor containing the gradient of the loss\n",
        "        with respect to the output, and we need to compute the gradient of the loss\n",
        "        with respect to the input.\n",
        "        \"\"\"\n",
        "        i, = ctx.saved_tensors\n",
        "        grad_output = 4*i\n",
        "        return grad_output"
      ],
      "execution_count": 12
    },
    {
      "cell_type": "markdown",
      "metadata": {
        "id": "697ed161-a787-43d6-96b7-f66550494a80"
      },
      "source": [
        "We can apply it the function  \n"
      ]
    },
    {
      "cell_type": "code",
      "metadata": {
        "colab": {
          "base_uri": "https://localhost:8080/"
        },
        "id": "f049225c-bc94-437c-8e62-934afc324c54",
        "outputId": "973a0b95-1131-41b1-899f-aec8adac7d43"
      },
      "outputs": [
        {
          "output_type": "stream",
          "name": "stdout",
          "text": [
            "tensor(4., grad_fn=<SQBackward>)\n",
            "<torch.autograd.function.SQBackward object at 0x7e882daf69c0>\n",
            "None\n"
          ]
        },
        {
          "output_type": "execute_result",
          "data": {
            "text/plain": [
              "tensor(8.)"
            ]
          },
          "metadata": {},
          "execution_count": 13
        }
      ],
      "source": [
        "x=torch.tensor(2.0,requires_grad=True )\n",
        "sq=SQ.apply\n",
        "\n",
        "y=sq(x)\n",
        "print(y)\n",
        "print(y.grad_fn)\n",
        "print(y.backward())\n",
        "x.grad"
      ],
      "execution_count": 13
    },
    {
      "cell_type": "markdown",
      "metadata": {
        "id": "fddc352e-e25b-4d8f-821f-0d52a6a0c334"
      },
      "source": [
        "<a name=\"Partial_Derivative\"><h2 id=\"Partial_Derivative\">Partial Derivatives</h2></a>\n"
      ]
    },
    {
      "cell_type": "markdown",
      "metadata": {
        "id": "60ccd73f-7b26-46cb-a4c9-c83c28fad298"
      },
      "source": [
        "We can also calculate <b>Partial Derivatives</b>. Consider the function: $f(u,v)=vu+u^{2}$\n"
      ]
    },
    {
      "cell_type": "markdown",
      "metadata": {
        "id": "1125f3c9-7beb-41a0-9dec-9780b9ea12ec"
      },
      "source": [
        "Let us create <code>u</code> tensor, <code>v</code> tensor and  <code>f</code> tensor\n"
      ]
    },
    {
      "cell_type": "code",
      "metadata": {
        "colab": {
          "base_uri": "https://localhost:8080/"
        },
        "id": "6dee8e10-2001-42c9-a9d7-bcaf01be2f34",
        "outputId": "2432167a-94d5-4e4f-bc40-f11bbc25cd62"
      },
      "outputs": [
        {
          "output_type": "stream",
          "name": "stdout",
          "text": [
            "The result of v * u + u^2:  tensor(3., grad_fn=<AddBackward0>)\n"
          ]
        }
      ],
      "source": [
        "# Calculate f(u, v) = v * u + u^2 at u = 1, v = 2\n",
        "\n",
        "u = torch.tensor(1.0,requires_grad=True)\n",
        "v = torch.tensor(2.0,requires_grad=True)\n",
        "f = u * v + u ** 2\n",
        "print(\"The result of v * u + u^2: \", f)"
      ],
      "execution_count": 14
    },
    {
      "cell_type": "markdown",
      "metadata": {
        "id": "7a0fe77f-5fb7-48ed-a81b-8d5bc1702730"
      },
      "source": [
        "This is equivalent to the following:\n"
      ]
    },
    {
      "cell_type": "markdown",
      "metadata": {
        "id": "796ad0bf-522c-42e3-be41-9a111996bc09"
      },
      "source": [
        "$f(u=1,v=2)=(2)(1)+1^{2}=3$\n"
      ]
    },
    {
      "cell_type": "markdown",
      "metadata": {
        "id": "631531d4-b799-4f04-82d3-7931d1f3b19e"
      },
      "source": [
        "<!--Empty Space for separating topics-->\n"
      ]
    },
    {
      "cell_type": "markdown",
      "metadata": {
        "id": "0ed9d017-2d27-403b-9438-8213431af7fc"
      },
      "source": [
        "Now let us take the derivative with respect to <code>u</code>:\n"
      ]
    },
    {
      "cell_type": "code",
      "metadata": {
        "colab": {
          "base_uri": "https://localhost:8080/"
        },
        "id": "ffa2b1e6-1dfc-429b-a6ce-90b888d994db",
        "outputId": "fd4013b4-165a-4545-8bb2-66a93aa0fba4"
      },
      "outputs": [
        {
          "output_type": "stream",
          "name": "stdout",
          "text": [
            "The partial derivative with respect to u:  tensor(4.)\n"
          ]
        }
      ],
      "source": [
        "# Calculate the derivative with respect to u\n",
        "\n",
        "f.backward()\n",
        "print(\"The partial derivative with respect to u: \", u.grad)"
      ],
      "execution_count": 15
    },
    {
      "cell_type": "markdown",
      "metadata": {
        "id": "5b4f3a0b-ec19-45f5-b87f-f37b5068c63f"
      },
      "source": [
        "the expression is given by:\n"
      ]
    },
    {
      "cell_type": "markdown",
      "metadata": {
        "id": "3f569f12-84bd-424a-bf00-9f59279fd7bd"
      },
      "source": [
        "$\\frac{\\mathrm{\\partial f(u,v)}}{\\partial {u}}=v+2u$\n",
        "\n",
        "$\\frac{\\mathrm{\\partial f(u=1,v=2)}}{\\partial {u}}=2+2(1)=4$\n"
      ]
    },
    {
      "cell_type": "markdown",
      "metadata": {
        "id": "52d0850b-a492-4fe4-a716-e37729cbf625"
      },
      "source": [
        "<!--Empty Space for separating topics-->\n"
      ]
    },
    {
      "cell_type": "markdown",
      "metadata": {
        "id": "449f874c-04b4-4a59-8be7-8b9f4a0752b0"
      },
      "source": [
        "Now, take the derivative with respect to <code>v</code>:\n"
      ]
    },
    {
      "cell_type": "code",
      "metadata": {
        "colab": {
          "base_uri": "https://localhost:8080/"
        },
        "id": "a1cd4ad8-d036-46ba-9832-bffeb46f6283",
        "outputId": "b2c66c77-0d31-4d5c-be21-1b0b80bdaad6"
      },
      "outputs": [
        {
          "output_type": "stream",
          "name": "stdout",
          "text": [
            "The partial derivative with respect to u:  tensor(1.)\n"
          ]
        }
      ],
      "source": [
        "# Calculate the derivative with respect to v\n",
        "\n",
        "print(\"The partial derivative with respect to u: \", v.grad)"
      ],
      "execution_count": 16
    },
    {
      "cell_type": "markdown",
      "metadata": {
        "id": "27f74138-3202-4b8b-a7c7-7b3910c404ab"
      },
      "source": [
        "The equation is given by:\n"
      ]
    },
    {
      "cell_type": "markdown",
      "metadata": {
        "id": "b3f73a73-5338-4a3b-86ce-85b91d0df884"
      },
      "source": [
        "$\\frac{\\mathrm{\\partial f(u,v)}}{\\partial {v}}=u$\n",
        "\n",
        "$\\frac{\\mathrm{\\partial f(u=1,v=2)}}{\\partial {v}}=1$\n"
      ]
    },
    {
      "cell_type": "markdown",
      "metadata": {
        "id": "564067fc-c191-42fa-9b17-9b9091d8c8fc"
      },
      "source": [
        "<!--Empty Space for separating topics-->\n"
      ]
    },
    {
      "cell_type": "markdown",
      "metadata": {
        "id": "e3e528c0-c90d-41d0-bcab-7b5313b267e9"
      },
      "source": [
        "Calculate the derivative with respect to a function with multiple values as follows. You use the sum trick to produce a scalar valued function and then take the gradient:\n"
      ]
    },
    {
      "cell_type": "code",
      "metadata": {
        "colab": {
          "base_uri": "https://localhost:8080/"
        },
        "id": "7e0762d9-aa0f-455d-9815-418f5155442c",
        "outputId": "4b19d056-08da-43a2-814b-fadeaddc606e"
      },
      "outputs": [
        {
          "output_type": "stream",
          "name": "stdout",
          "text": [
            "tensor([-10.0000,  -7.7778,  -5.5556,  -3.3333,  -1.1111,   1.1111,   3.3333,\n",
            "          5.5556,   7.7778,  10.0000], requires_grad=True)\n",
            "tensor([100.0000,  60.4938,  30.8642,  11.1111,   1.2346,   1.2346,  11.1111,\n",
            "         30.8642,  60.4938, 100.0000], grad_fn=<PowBackward0>)\n",
            "tensor(407.4074, grad_fn=<SumBackward0>)\n"
          ]
        }
      ],
      "source": [
        "# Calculate the derivative with multiple values\n",
        "\n",
        "x = torch.linspace(-10, 10, 10, requires_grad = True)\n",
        "Y = x ** 2\n",
        "y = torch.sum(x ** 2)\n",
        "print(x)\n",
        "print(Y)\n",
        "print(y)"
      ],
      "execution_count": 26
    },
    {
      "cell_type": "markdown",
      "metadata": {
        "id": "eba82a29-c612-484b-aa00-878ee8089c6d"
      },
      "source": [
        "We can plot the function  and its derivative\n"
      ]
    },
    {
      "cell_type": "code",
      "metadata": {
        "colab": {
          "base_uri": "https://localhost:8080/",
          "height": 486
        },
        "id": "1684ecfd-829d-4445-be87-8f9ef5fd99a8",
        "outputId": "0a0bea62-2879-4601-ab76-e8006e796e39"
      },
      "outputs": [
        {
          "output_type": "stream",
          "name": "stdout",
          "text": [
            "tensor([-20.0000, -15.5556, -11.1111,  -6.6667,  -2.2222,   2.2222,   6.6667,\n",
            "         11.1111,  15.5556,  20.0000])\n"
          ]
        },
        {
          "output_type": "display_data",
          "data": {
            "text/plain": [
              "<Figure size 640x480 with 1 Axes>"
            ],
            "image/png": "[encoded data removed]"
          },
          "metadata": {}
        }
      ],
      "source": [
        "# Take the derivative with respect to multiple value. Plot out the function and its derivative\n",
        "\n",
        "y.backward()\n",
        "print(x.grad)\n",
        "plt.plot(x.detach().numpy(), Y.detach().numpy(), label = 'function')\n",
        "plt.plot(x.detach().numpy(), x.grad.detach().numpy(), label = 'derivative')\n",
        "plt.xlabel('x')\n",
        "plt.legend()\n",
        "plt.show()"
      ],
      "execution_count": 27
    },
    {
      "cell_type": "markdown",
      "metadata": {
        "id": "cec190a7-2320-4465-89df-d624bdbada02"
      },
      "source": [
        "The orange line is the slope of the blue line at the intersection point, which is the derivative of the blue line.\n"
      ]
    },
    {
      "cell_type": "markdown",
      "metadata": {
        "id": "53e2bd9f-7beb-43c0-9173-7c2973837f73"
      },
      "source": [
        "The  method <code> detach()</code>  excludes further tracking of operations in the graph, and therefore the subgraph will not record operations. This allows us to then convert the tensor to a numpy array. To understand the sum operation  <a href=\"https://pytorch.org/tutorials/beginner/blitz/autograd_tutorial.html\">Click Here</a>\n",
        "\n"
      ]
    },
    {
      "cell_type": "markdown",
      "metadata": {
        "id": "0dfbccbc-6a86-4465-ba94-3a7aac31b0bd"
      },
      "source": [
        "<!--Empty Space for separating topics-->\n"
      ]
    },
    {
      "cell_type": "markdown",
      "metadata": {
        "id": "a071132d-2f2a-4e76-953e-9cf69afcf2f8"
      },
      "source": [
        "The <b>relu</b> activation function is an essential function in neural networks. We can take the derivative as follows:\n"
      ]
    },
    {
      "cell_type": "code",
      "metadata": {
        "id": "8fc27a1f-5685-4c2d-8902-c43e5310e6b6"
      },
      "outputs": [],
      "source": [],
      "execution_count": null
    },
    {
      "cell_type": "code",
      "metadata": {
        "colab": {
          "base_uri": "https://localhost:8080/",
          "height": 449
        },
        "id": "1ef92b13-ada6-4b40-a347-c93107197a08",
        "outputId": "1aa5b0a2-4774-4a3e-d068-40d6e29ddb06"
      },
      "outputs": [
        {
          "output_type": "display_data",
          "data": {
            "text/plain": [
              "<Figure size 640x480 with 1 Axes>"
            ],
            "image/png": "[encoded data removed]"
          },
          "metadata": {}
        }
      ],
      "source": [
        "# Take the derivative of Relu with respect to multiple value. Plot out the function and its derivative\n",
        "\n",
        "x = torch.linspace(-10, 10, 1000, requires_grad = True)\n",
        "Y = torch.relu(x)\n",
        "y = Y.sum()\n",
        "y.backward()\n",
        "plt.plot(x.detach().numpy(), Y.detach().numpy(), label = 'function')\n",
        "plt.plot(x.detach().numpy(), x.grad.detach().numpy(), label = 'derivative')\n",
        "plt.xlabel('x')\n",
        "plt.legend()\n",
        "plt.show()"
      ],
      "execution_count": 30
    },
    {
      "cell_type": "markdown",
      "metadata": {
        "id": "2232327b-9742-4bcb-ad1a-ab0d617f0125"
      },
      "source": [
        "<!--Empty Space for separating topics-->\n"
      ]
    },
    {
      "cell_type": "code",
      "metadata": {
        "colab": {
          "base_uri": "https://localhost:8080/"
        },
        "id": "3c338f74-1a6c-4e0e-a126-caaf43476bbe",
        "outputId": "9e78a3bf-33af-49a0-c2c0-c6a249544225"
      },
      "outputs": [
        {
          "output_type": "execute_result",
          "data": {
            "text/plain": [
              "<SumBackward0 at 0x7e882d998700>"
            ]
          },
          "metadata": {},
          "execution_count": 31
        }
      ],
      "source": [
        "y.grad_fn"
      ],
      "execution_count": 31
    },
    {
      "cell_type": "markdown",
      "metadata": {
        "id": "00679ca7-d57a-4373-9803-d21877be5af8"
      },
      "source": [
        "<h3>Practice</h3>\n"
      ]
    },
    {
      "cell_type": "markdown",
      "metadata": {
        "id": "b54bd255-7efa-449e-b64e-c4db06997390"
      },
      "source": [
        "Try to determine partial derivative  $u$ of the following function where $u=2$ and $v=1$: $ f=uv+(uv)^2$\n"
      ]
    },
    {
      "cell_type": "code",
      "metadata": {
        "colab": {
          "base_uri": "https://localhost:8080/"
        },
        "id": "75766072-9a91-4040-afd5-8077e2f01db9",
        "outputId": "61707a61-6d66-45e3-a0e9-3add177a751b"
      },
      "outputs": [
        {
          "output_type": "stream",
          "name": "stdout",
          "text": [
            "The derivative with respect to u:  tensor(5.)\n",
            "The derivative with respect to v:  tensor(10.)\n"
          ]
        }
      ],
      "source": [
        "# Practice: Calculate the derivative of f = u * v + (u * v) ** 2 at u = 2, v = 1\n",
        "\n",
        "# Type the code here\n",
        "u = torch.tensor(2.0, requires_grad=True)\n",
        "v = torch.tensor(1.0, requires_grad=True)\n",
        "y = u * v + (u * v) ** 2\n",
        "y.backward()\n",
        "print('The derivative with respect to u: ', u.grad)\n",
        "print('The derivative with respect to v: ', v.grad)"
      ],
      "execution_count": 32
    },
    {
      "cell_type": "markdown",
      "metadata": {
        "id": "3fc47c52-a995-4e22-9f41-e566f84135c0"
      },
      "source": [
        "Double-click __here__ for the solution.\n",
        "<!--\n",
        "u = torch.tensor(2.0, requires_grad = True)\n",
        "v = torch.tensor(1.0, requires_grad = True)\n",
        "f = u * v + (u * v) ** 2\n",
        "f.backward()\n",
        "print(\"The result is \", u.grad)\n",
        " -->\n"
      ]
    },
    {
      "cell_type": "markdown",
      "metadata": {
        "id": "06d65bc8-fcc7-457c-b235-562e2c16f663"
      },
      "source": [
        "<a href=\"https://dataplatform.cloud.ibm.com/registration/stepone?utm_source=skills_network&utm_content=in_lab_content_link&utm_id=Lab-IBMDeveloperSkillsNetwork-DL0110EN-SkillsNetwork&context=cpdaas&apps=data_science_experience%2Cwatson_machine_learning\"><img src=\"https://cf-courses-data.s3.us.cloud-object-storage.appdomain.cloud/IBMDeveloperSkillsNetwork-DL0110EN-SkillsNetwork/Template/module%201/images/Watson_Studio.png\"></a>\n"
      ]
    },
    {
      "cell_type": "markdown",
      "metadata": {
        "id": "f95c6c58-100b-4e30-8ebe-3a71506237b6"
      },
      "source": [
        "<h2>About the Authors:</h2>\n",
        "\n",
        "<a href=\"https://www.linkedin.com/in/joseph-s-50398b136/\">Joseph Santarcangelo</a> has a PhD in Electrical Engineering, his research focused on using machine learning, signal processing, and computer vision to determine how videos impact human cognition. Joseph has been working for IBM since he completed his PhD.\n"
      ]
    },
    {
      "cell_type": "markdown",
      "metadata": {
        "id": "77f9df2b-2fa4-474a-a5b7-58f6fb6b8227"
      },
      "source": [
        "Other contributors: <a href=\"https://www.linkedin.com/in/michelleccarey/\">Michelle Carey</a>, <a href=\"www.linkedin.com/in/jiahui-mavis-zhou-a4537814a\">Mavis Zhou</a>\n"
      ]
    },
    {
      "cell_type": "markdown",
      "metadata": {
        "id": "0b19bcb7-e98c-45a1-a700-b085f9bfbfa3"
      },
      "source": [
        "<!--\n",
        "## Change Log\n",
        "\n",
        "|  Date (YYYY-MM-DD) |  Version | Changed By  |  Change Description |\n",
        "|---|---|---|---|\n",
        "| 2020-09-21  | 2.0  | Shubham  |  Migrated Lab to Markdown and added to course repo in GitLab |\n",
        "\n",
        "-->\n"
      ]
    },
    {
      "cell_type": "markdown",
      "metadata": {
        "id": "c522b092-cfa9-4b1a-846c-c7ff5597fb5d"
      },
      "source": [
        "<hr>\n"
      ]
    },
    {
      "cell_type": "markdown",
      "metadata": {
        "id": "07407291-2f81-4f70-af4d-e5279f088064"
      },
      "source": [
        "## <h3 align=\"center\"> &#169; IBM Corporation. All rights reserved. <h3/>\n"
      ]
    }
  ],
  "metadata": {
    "kernelspec": {
      "display_name": "Python",
      "language": "python",
      "name": "conda-env-python-py"
    },
    "language_info": {
      "name": "python",
      "version": "3.7.12",
      "mimetype": "text/x-python",
      "codemirror_mode": {
        "name": "ipython",
        "version": 3
      },
      "pygments_lexer": "ipython3",
      "nbconvert_exporter": "python",
      "file_extension": ".py"
    },
    "prev_pub_hash": "e204280703c17292dbdf31af78b4d09f2aafedb341810f7a0503eaaa60f49284",
    "colab": {
      "provenance": []
    }
  },
  "nbformat": 4,
  "nbformat_minor": 0
}