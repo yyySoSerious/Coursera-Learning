{
  "cells": [
    {
      "cell_type": "markdown",
      "metadata": {
        "id": "e160d7ff-e66a-4179-8c5b-42cb83eaca3e"
      },
      "source": [
        "<p style=\"text-align:center\">\n",
        "    <a href=\"https://skills.network\" target=\"_blank\">\n",
        "    <img src=\"https://cf-courses-data.s3.us.cloud-object-storage.appdomain.cloud/assets/logos/SN_web_lightmode.png\" width=\"200\" alt=\"Skills Network Logo\">\n",
        "    </a>\n",
        "</p>\n"
      ]
    },
    {
      "cell_type": "markdown",
      "metadata": {
        "id": "d72c63a4-ef7f-4fbf-ab96-73954ea3141b"
      },
      "source": [
        "<h1>Simple Dataset</h1>\n"
      ]
    },
    {
      "cell_type": "markdown",
      "metadata": {
        "id": "57a0b73b-5ac3-496a-b32b-93e87f49e262"
      },
      "source": [
        "<h2>Objective</h2><ul><li> How to create a dataset in pytorch.</li><li> How to perform transformations on the dataset.</li></ul>\n"
      ]
    },
    {
      "cell_type": "markdown",
      "metadata": {
        "id": "a4565d92-9fef-4934-b0b2-cab21e5a8781"
      },
      "source": [
        "<h2>Table of Contents</h2>\n"
      ]
    },
    {
      "cell_type": "markdown",
      "metadata": {
        "id": "1f8e379c-674a-4093-81fa-860098df03cc"
      },
      "source": [
        "<p>In this lab, you will construct a basic dataset by using PyTorch and learn how to apply basic transformations to it.</p>\n",
        "<ul>\n",
        "    <li><a href=\"#Simple-dataset\">Simple dataset</a></li>\n",
        "    <li><a href=\"#Transforms\">Transforms</a></li>\n",
        "    <li><a href=\"#Compose\">Compose</a></li>\n",
        "</ul>\n",
        "<p>Estimated Time Needed: <strong>30 min</strong></p>\n",
        "<hr>\n"
      ]
    },
    {
      "cell_type": "markdown",
      "metadata": {
        "id": "50c20cf4-c499-48a5-bad0-ecf6f0424101"
      },
      "source": [
        "<h2>Preparation</h2>\n"
      ]
    },
    {
      "cell_type": "markdown",
      "metadata": {
        "id": "bf1ada98-ea8a-48e3-a739-0377747f3189"
      },
      "source": [
        "The following are the libraries we are going to use for this lab. The <code>torch.manual_seed()</code> is for forcing the random function to give the same number every time we try to recompile it.\n"
      ]
    },
    {
      "cell_type": "code",
      "metadata": {
        "colab": {
          "base_uri": "https://localhost:8080/"
        },
        "id": "4886173e-7608-43b8-841a-3bd417a4fbd0",
        "outputId": "3e97dc9b-c7fa-4dd7-b70f-0460379c27de"
      },
      "outputs": [
        {
          "output_type": "execute_result",
          "data": {
            "text/plain": [
              "<torch._C.Generator at 0x7caf801019b0>"
            ]
          },
          "metadata": {},
          "execution_count": 1
        }
      ],
      "source": [
        "# These are the libraries will be used for this lab.\n",
        "\n",
        "import torch\n",
        "from torch.utils.data import Dataset\n",
        "torch.manual_seed(1)"
      ],
      "execution_count": 1
    },
    {
      "cell_type": "markdown",
      "metadata": {
        "id": "6f970b61-2674-489a-a579-3a54f566d280"
      },
      "source": [
        "<!--Empty Space for separating topics-->\n"
      ]
    },
    {
      "cell_type": "markdown",
      "metadata": {
        "id": "5f010382-e2fc-4781-859f-02150841dd03"
      },
      "source": [
        "<h2 id=\"Simple-dataset\">Simple dataset</h2>\n"
      ]
    },
    {
      "cell_type": "markdown",
      "metadata": {
        "id": "b82e276c-6a9c-475a-967f-791262c6c9bb"
      },
      "source": [
        "Let us try to create our own dataset class.\n"
      ]
    },
    {
      "cell_type": "code",
      "metadata": {
        "id": "3ee0893a-e8f1-44fa-bdf8-1e64d95f50b2"
      },
      "outputs": [],
      "source": [
        "# Define class for dataset\n",
        "\n",
        "class toy_set(Dataset):\n",
        "\n",
        "    # Constructor with defult values\n",
        "    def __init__(self, length = 100, transform = None):\n",
        "        self.len = length\n",
        "        self.x = 2 * torch.ones(length, 2)\n",
        "        self.y = torch.ones(length, 1)\n",
        "        self.transform = transform\n",
        "\n",
        "    # Getter\n",
        "    def __getitem__(self, index):\n",
        "        sample = self.x[index], self.y[index]\n",
        "        if self.transform:\n",
        "            sample = self.transform(sample)\n",
        "        return sample\n",
        "\n",
        "    # Get Length\n",
        "    def __len__(self):\n",
        "        return self.len"
      ],
      "execution_count": 2
    },
    {
      "cell_type": "markdown",
      "metadata": {
        "id": "ae984868-074f-4935-8958-92b2956b3a74"
      },
      "source": [
        "Now, let us create our <code>toy_set</code> object, and find out the value on index 1 and the length of the inital dataset\n"
      ]
    },
    {
      "cell_type": "code",
      "metadata": {
        "colab": {
          "base_uri": "https://localhost:8080/"
        },
        "id": "98fd0931-faa7-4725-a565-9f336132ccdf",
        "outputId": "4a7d8ee0-ea03-4f7b-9291-f09275efc1da"
      },
      "outputs": [
        {
          "output_type": "stream",
          "name": "stdout",
          "text": [
            "Our toy_set object:  <__main__.toy_set object at 0x7caeb84761d0>\n",
            "Value on index 0 of our toy_set object:  (tensor([2., 2.]), tensor([1.]))\n",
            "Our toy_set length:  100\n"
          ]
        }
      ],
      "source": [
        "# Create Dataset Object. Find out the value on index 1. Find out the length of Dataset Object.\n",
        "\n",
        "our_dataset = toy_set()\n",
        "print(\"Our toy_set object: \", our_dataset)\n",
        "print(\"Value on index 0 of our toy_set object: \", our_dataset[0])\n",
        "print(\"Our toy_set length: \", len(our_dataset))"
      ],
      "execution_count": 3
    },
    {
      "cell_type": "markdown",
      "metadata": {
        "id": "46df24b9-a8c4-46dc-8488-d3e93025b760"
      },
      "source": [
        "As a result, we can apply the same indexing convention as a <code>list</code>,\n",
        "and apply the fuction <code>len</code> on the <code>toy_set</code> object. We are able to customize the indexing and length method by <code>def &#95;&#95;getitem&#95;&#95;(self, index)</code> and <code>def &#95;&#95;len&#95;&#95;(self)</code>.\n"
      ]
    },
    {
      "cell_type": "markdown",
      "metadata": {
        "id": "2184122e-975d-4a11-9942-f2619971491f"
      },
      "source": [
        "Now, let us print out the first 3 elements and assign them to x and y:\n"
      ]
    },
    {
      "cell_type": "code",
      "metadata": {
        "colab": {
          "base_uri": "https://localhost:8080/"
        },
        "id": "217d25ab-3de5-4569-b08b-c30ac43523ca",
        "outputId": "1a3d1e88-9725-4987-eec0-7e0db870d06d"
      },
      "outputs": [
        {
          "output_type": "stream",
          "name": "stdout",
          "text": [
            "index:  0 ; x: tensor([2., 2.]) ; y: tensor([1.])\n",
            "index:  1 ; x: tensor([2., 2.]) ; y: tensor([1.])\n",
            "index:  2 ; x: tensor([2., 2.]) ; y: tensor([1.])\n"
          ]
        }
      ],
      "source": [
        "# Use loop to print out first 3 elements in dataset\n",
        "\n",
        "for i in range(3):\n",
        "    x, y=our_dataset[i]\n",
        "    print(\"index: \", i, '; x:', x, '; y:', y)"
      ],
      "execution_count": 4
    },
    {
      "cell_type": "markdown",
      "metadata": {
        "id": "7293254d-a22a-4be3-95ec-da91af7c4e91"
      },
      "source": [
        "The dataset object is an Iterable; as a result, we  apply the loop directly on the dataset object\n"
      ]
    },
    {
      "cell_type": "code",
      "metadata": {
        "colab": {
          "base_uri": "https://localhost:8080/"
        },
        "id": "493fb27a-0361-49db-a750-7711d733b0a4",
        "outputId": "296cd56a-0e85-4fda-d924-930a0b26adcc"
      },
      "outputs": [
        {
          "output_type": "stream",
          "name": "stdout",
          "text": [
            " x: tensor([2., 2.]) y: tensor([1.])\n",
            " x: tensor([2., 2.]) y: tensor([1.])\n",
            " x: tensor([2., 2.]) y: tensor([1.])\n",
            " x: tensor([2., 2.]) y: tensor([1.])\n",
            " x: tensor([2., 2.]) y: tensor([1.])\n",
            " x: tensor([2., 2.]) y: tensor([1.])\n",
            " x: tensor([2., 2.]) y: tensor([1.])\n",
            " x: tensor([2., 2.]) y: tensor([1.])\n",
            " x: tensor([2., 2.]) y: tensor([1.])\n",
            " x: tensor([2., 2.]) y: tensor([1.])\n",
            " x: tensor([2., 2.]) y: tensor([1.])\n",
            " x: tensor([2., 2.]) y: tensor([1.])\n",
            " x: tensor([2., 2.]) y: tensor([1.])\n",
            " x: tensor([2., 2.]) y: tensor([1.])\n",
            " x: tensor([2., 2.]) y: tensor([1.])\n",
            " x: tensor([2., 2.]) y: tensor([1.])\n",
            " x: tensor([2., 2.]) y: tensor([1.])\n",
            " x: tensor([2., 2.]) y: tensor([1.])\n",
            " x: tensor([2., 2.]) y: tensor([1.])\n",
            " x: tensor([2., 2.]) y: tensor([1.])\n",
            " x: tensor([2., 2.]) y: tensor([1.])\n",
            " x: tensor([2., 2.]) y: tensor([1.])\n",
            " x: tensor([2., 2.]) y: tensor([1.])\n",
            " x: tensor([2., 2.]) y: tensor([1.])\n",
            " x: tensor([2., 2.]) y: tensor([1.])\n",
            " x: tensor([2., 2.]) y: tensor([1.])\n",
            " x: tensor([2., 2.]) y: tensor([1.])\n",
            " x: tensor([2., 2.]) y: tensor([1.])\n",
            " x: tensor([2., 2.]) y: tensor([1.])\n",
            " x: tensor([2., 2.]) y: tensor([1.])\n",
            " x: tensor([2., 2.]) y: tensor([1.])\n",
            " x: tensor([2., 2.]) y: tensor([1.])\n",
            " x: tensor([2., 2.]) y: tensor([1.])\n",
            " x: tensor([2., 2.]) y: tensor([1.])\n",
            " x: tensor([2., 2.]) y: tensor([1.])\n",
            " x: tensor([2., 2.]) y: tensor([1.])\n",
            " x: tensor([2., 2.]) y: tensor([1.])\n",
            " x: tensor([2., 2.]) y: tensor([1.])\n",
            " x: tensor([2., 2.]) y: tensor([1.])\n",
            " x: tensor([2., 2.]) y: tensor([1.])\n",
            " x: tensor([2., 2.]) y: tensor([1.])\n",
            " x: tensor([2., 2.]) y: tensor([1.])\n",
            " x: tensor([2., 2.]) y: tensor([1.])\n",
            " x: tensor([2., 2.]) y: tensor([1.])\n",
            " x: tensor([2., 2.]) y: tensor([1.])\n",
            " x: tensor([2., 2.]) y: tensor([1.])\n",
            " x: tensor([2., 2.]) y: tensor([1.])\n",
            " x: tensor([2., 2.]) y: tensor([1.])\n",
            " x: tensor([2., 2.]) y: tensor([1.])\n",
            " x: tensor([2., 2.]) y: tensor([1.])\n",
            " x: tensor([2., 2.]) y: tensor([1.])\n",
            " x: tensor([2., 2.]) y: tensor([1.])\n",
            " x: tensor([2., 2.]) y: tensor([1.])\n",
            " x: tensor([2., 2.]) y: tensor([1.])\n",
            " x: tensor([2., 2.]) y: tensor([1.])\n",
            " x: tensor([2., 2.]) y: tensor([1.])\n",
            " x: tensor([2., 2.]) y: tensor([1.])\n",
            " x: tensor([2., 2.]) y: tensor([1.])\n",
            " x: tensor([2., 2.]) y: tensor([1.])\n",
            " x: tensor([2., 2.]) y: tensor([1.])\n",
            " x: tensor([2., 2.]) y: tensor([1.])\n",
            " x: tensor([2., 2.]) y: tensor([1.])\n",
            " x: tensor([2., 2.]) y: tensor([1.])\n",
            " x: tensor([2., 2.]) y: tensor([1.])\n",
            " x: tensor([2., 2.]) y: tensor([1.])\n",
            " x: tensor([2., 2.]) y: tensor([1.])\n",
            " x: tensor([2., 2.]) y: tensor([1.])\n",
            " x: tensor([2., 2.]) y: tensor([1.])\n",
            " x: tensor([2., 2.]) y: tensor([1.])\n",
            " x: tensor([2., 2.]) y: tensor([1.])\n",
            " x: tensor([2., 2.]) y: tensor([1.])\n",
            " x: tensor([2., 2.]) y: tensor([1.])\n",
            " x: tensor([2., 2.]) y: tensor([1.])\n",
            " x: tensor([2., 2.]) y: tensor([1.])\n",
            " x: tensor([2., 2.]) y: tensor([1.])\n",
            " x: tensor([2., 2.]) y: tensor([1.])\n",
            " x: tensor([2., 2.]) y: tensor([1.])\n",
            " x: tensor([2., 2.]) y: tensor([1.])\n",
            " x: tensor([2., 2.]) y: tensor([1.])\n",
            " x: tensor([2., 2.]) y: tensor([1.])\n",
            " x: tensor([2., 2.]) y: tensor([1.])\n",
            " x: tensor([2., 2.]) y: tensor([1.])\n",
            " x: tensor([2., 2.]) y: tensor([1.])\n",
            " x: tensor([2., 2.]) y: tensor([1.])\n",
            " x: tensor([2., 2.]) y: tensor([1.])\n",
            " x: tensor([2., 2.]) y: tensor([1.])\n",
            " x: tensor([2., 2.]) y: tensor([1.])\n",
            " x: tensor([2., 2.]) y: tensor([1.])\n",
            " x: tensor([2., 2.]) y: tensor([1.])\n",
            " x: tensor([2., 2.]) y: tensor([1.])\n",
            " x: tensor([2., 2.]) y: tensor([1.])\n",
            " x: tensor([2., 2.]) y: tensor([1.])\n",
            " x: tensor([2., 2.]) y: tensor([1.])\n",
            " x: tensor([2., 2.]) y: tensor([1.])\n",
            " x: tensor([2., 2.]) y: tensor([1.])\n",
            " x: tensor([2., 2.]) y: tensor([1.])\n",
            " x: tensor([2., 2.]) y: tensor([1.])\n",
            " x: tensor([2., 2.]) y: tensor([1.])\n",
            " x: tensor([2., 2.]) y: tensor([1.])\n",
            " x: tensor([2., 2.]) y: tensor([1.])\n"
          ]
        }
      ],
      "source": [
        "for x,y in our_dataset:\n",
        "    print(' x:', x, 'y:', y)"
      ],
      "execution_count": 5
    },
    {
      "cell_type": "markdown",
      "metadata": {
        "id": "4e4efdc4-af38-41bc-93ea-520bd9088c1f"
      },
      "source": [
        "<!--Empty Space for separating topics-->\n"
      ]
    },
    {
      "cell_type": "markdown",
      "metadata": {
        "id": "e3c041e1-06ab-4854-89cb-b1d54bddf95d"
      },
      "source": [
        "<h3>Practice</h3>\n"
      ]
    },
    {
      "cell_type": "markdown",
      "metadata": {
        "id": "55717a2c-6eb9-4cf4-b04e-3300cb734cd9"
      },
      "source": [
        "Try to create an <code>toy_set</code> object with length <b>50</b>. Print out the length of your object.\n"
      ]
    },
    {
      "cell_type": "code",
      "metadata": {
        "colab": {
          "base_uri": "https://localhost:8080/"
        },
        "id": "6e9ddcc7-6431-4755-a04f-8f2b698db3c3",
        "outputId": "5914cd59-d3f5-4fad-f524-e5605f754a70"
      },
      "outputs": [
        {
          "output_type": "stream",
          "name": "stdout",
          "text": [
            "50\n"
          ]
        }
      ],
      "source": [
        "# Practice: Create a new object with length 50, and print the length of object out.\n",
        "\n",
        "# Type your code here\n",
        "toy_set_50 = toy_set(length=50)\n",
        "print(len(toy_set_50))"
      ],
      "execution_count": 6
    },
    {
      "cell_type": "markdown",
      "metadata": {
        "id": "6ca1645a-9004-4206-b78f-c6af26e183e7"
      },
      "source": [
        "Double-click <b>here</b> for the solution.\n",
        "<!--\n",
        "my_dataset = toy_set(length = 50)\n",
        "print(\"My toy_set length: \", len(my_dataset))\n",
        "-->\n"
      ]
    },
    {
      "cell_type": "markdown",
      "metadata": {
        "id": "280203c2-ef69-471c-b961-0ad33d3730da"
      },
      "source": [
        "<!--Empty Space for separating topics-->\n"
      ]
    },
    {
      "cell_type": "markdown",
      "metadata": {
        "id": "f6e35fd9-06da-426c-880f-e3f8b689930e"
      },
      "source": [
        "<h2 id=\"Transforms\">Transforms</h2>\n"
      ]
    },
    {
      "cell_type": "markdown",
      "metadata": {
        "id": "784eaf76-ba06-4200-83a8-4a177525577f"
      },
      "source": [
        "You can also create a class for transforming the data. In this case, we will try to add 1 to x and multiply y by 2:\n"
      ]
    },
    {
      "cell_type": "code",
      "metadata": {
        "id": "f4723305-cbaf-4a79-92a6-27406bfea6ed"
      },
      "outputs": [],
      "source": [
        "# Create tranform class add_mult\n",
        "\n",
        "class add_mult(object):\n",
        "\n",
        "    # Constructor\n",
        "    def __init__(self, addx = 1, muly = 2):\n",
        "        self.addx = addx\n",
        "        self.muly = muly\n",
        "\n",
        "    # Executor\n",
        "    def __call__(self, sample):\n",
        "        x = sample[0]\n",
        "        y = sample[1]\n",
        "        x = x + self.addx\n",
        "        y = y * self.muly\n",
        "        sample = x, y\n",
        "        return sample"
      ],
      "execution_count": 7
    },
    {
      "cell_type": "markdown",
      "metadata": {
        "id": "4462a226-cc83-4462-b664-6d5d61e95482"
      },
      "source": [
        "<!--Empty Space for separating topics-->\n"
      ]
    },
    {
      "cell_type": "markdown",
      "metadata": {
        "id": "94083b7f-d90d-4a42-b09b-d042b1512f9e"
      },
      "source": [
        "Now, create a transform object:.\n"
      ]
    },
    {
      "cell_type": "code",
      "metadata": {
        "id": "caf30492-26c9-4e3e-866a-d952e931fc7b"
      },
      "outputs": [],
      "source": [
        "# Create an add_mult transform object, and an toy_set object\n",
        "\n",
        "a_m = add_mult()\n",
        "data_set = toy_set()"
      ],
      "execution_count": 8
    },
    {
      "cell_type": "markdown",
      "metadata": {
        "id": "8aa19139-5787-4aee-be2e-a79265766214"
      },
      "source": [
        "Assign the outputs of the original dataset to <code>x</code> and <code>y</code>. Then, apply the transform <code>add_mult</code> to the dataset and output the values as <code>x_</code> and <code>y_</code>, respectively:\n"
      ]
    },
    {
      "cell_type": "code",
      "metadata": {
        "colab": {
          "base_uri": "https://localhost:8080/"
        },
        "id": "c0e9ce10-21d5-4e33-8a7b-c339873e3665",
        "outputId": "3b18a661-6a09-4423-cf24-376ac343bf51"
      },
      "outputs": [
        {
          "output_type": "stream",
          "name": "stdout",
          "text": [
            "Index:  0 Original x:  tensor([2., 2.]) Original y:  tensor([1.])\n",
            "Index:  0 Transformed x_: tensor([3., 3.]) Transformed y_: tensor([2.])\n",
            "Index:  1 Original x:  tensor([2., 2.]) Original y:  tensor([1.])\n",
            "Index:  1 Transformed x_: tensor([3., 3.]) Transformed y_: tensor([2.])\n",
            "Index:  2 Original x:  tensor([2., 2.]) Original y:  tensor([1.])\n",
            "Index:  2 Transformed x_: tensor([3., 3.]) Transformed y_: tensor([2.])\n",
            "Index:  3 Original x:  tensor([2., 2.]) Original y:  tensor([1.])\n",
            "Index:  3 Transformed x_: tensor([3., 3.]) Transformed y_: tensor([2.])\n",
            "Index:  4 Original x:  tensor([2., 2.]) Original y:  tensor([1.])\n",
            "Index:  4 Transformed x_: tensor([3., 3.]) Transformed y_: tensor([2.])\n",
            "Index:  5 Original x:  tensor([2., 2.]) Original y:  tensor([1.])\n",
            "Index:  5 Transformed x_: tensor([3., 3.]) Transformed y_: tensor([2.])\n",
            "Index:  6 Original x:  tensor([2., 2.]) Original y:  tensor([1.])\n",
            "Index:  6 Transformed x_: tensor([3., 3.]) Transformed y_: tensor([2.])\n",
            "Index:  7 Original x:  tensor([2., 2.]) Original y:  tensor([1.])\n",
            "Index:  7 Transformed x_: tensor([3., 3.]) Transformed y_: tensor([2.])\n",
            "Index:  8 Original x:  tensor([2., 2.]) Original y:  tensor([1.])\n",
            "Index:  8 Transformed x_: tensor([3., 3.]) Transformed y_: tensor([2.])\n",
            "Index:  9 Original x:  tensor([2., 2.]) Original y:  tensor([1.])\n",
            "Index:  9 Transformed x_: tensor([3., 3.]) Transformed y_: tensor([2.])\n"
          ]
        }
      ],
      "source": [
        "# Use loop to print out first 10 elements in dataset\n",
        "\n",
        "for i in range(10):\n",
        "    x, y = data_set[i]\n",
        "    print('Index: ', i, 'Original x: ', x, 'Original y: ', y)\n",
        "    x_, y_ = a_m(data_set[i])\n",
        "    print('Index: ', i, 'Transformed x_:', x_, 'Transformed y_:', y_)"
      ],
      "execution_count": 9
    },
    {
      "cell_type": "markdown",
      "metadata": {
        "id": "768adf75-e9d6-4de8-805d-55d64c76fd17"
      },
      "source": [
        "As the result, <code>x</code> has been added by 1 and y has been multiplied by 2, as <i>[2, 2] + 1 = [3, 3]</i> and <i>[1] x 2 = [2]</i>\n"
      ]
    },
    {
      "cell_type": "markdown",
      "metadata": {
        "id": "d9674f5b-966f-4f7c-b8d3-bc51514e895e"
      },
      "source": [
        "<!--Empty Space for separating topics-->\n"
      ]
    },
    {
      "cell_type": "markdown",
      "metadata": {
        "id": "76fdef7e-5471-4c70-87a7-e511c29cb374"
      },
      "source": [
        "We can apply the transform object every time we create a new <code>toy_set object</code>? Remember, we have the constructor in toy_set class with the parameter <code>transform = None</code>.\n",
        "When we create a new object using the constructor, we can assign the transform object to the parameter transform, as the following code demonstrates.\n"
      ]
    },
    {
      "cell_type": "code",
      "metadata": {
        "id": "7cbaed45-aa8f-4d3c-a9f8-8622815585e7"
      },
      "outputs": [],
      "source": [
        "# Create a new data_set object with add_mult object as transform\n",
        "\n",
        "cust_data_set = toy_set(transform = a_m)"
      ],
      "execution_count": 10
    },
    {
      "cell_type": "markdown",
      "metadata": {
        "id": "922498d9-916b-4ed4-9218-84ba4f0952e5"
      },
      "source": [
        "This applied <code>a_m</code> object (a transform method) to every element in <code>cust_data_set</code> as initialized. Let us print out the first 10 elements in <code>cust_data_set</code> in order to see whether the <code>a_m</code> applied on <code>cust_data_set</code>\n"
      ]
    },
    {
      "cell_type": "code",
      "metadata": {
        "colab": {
          "base_uri": "https://localhost:8080/"
        },
        "id": "678761fd-332a-4974-b8c0-0c9b50b741df",
        "outputId": "3f6723cd-8316-4b9f-d1f5-a60689783271"
      },
      "outputs": [
        {
          "output_type": "stream",
          "name": "stdout",
          "text": [
            "Index:  0 Original x:  tensor([2., 2.]) Original y:  tensor([1.])\n",
            "Index:  0 Transformed x_: tensor([3., 3.]) Transformed y_: tensor([2.])\n",
            "Index:  1 Original x:  tensor([2., 2.]) Original y:  tensor([1.])\n",
            "Index:  1 Transformed x_: tensor([3., 3.]) Transformed y_: tensor([2.])\n",
            "Index:  2 Original x:  tensor([2., 2.]) Original y:  tensor([1.])\n",
            "Index:  2 Transformed x_: tensor([3., 3.]) Transformed y_: tensor([2.])\n",
            "Index:  3 Original x:  tensor([2., 2.]) Original y:  tensor([1.])\n",
            "Index:  3 Transformed x_: tensor([3., 3.]) Transformed y_: tensor([2.])\n",
            "Index:  4 Original x:  tensor([2., 2.]) Original y:  tensor([1.])\n",
            "Index:  4 Transformed x_: tensor([3., 3.]) Transformed y_: tensor([2.])\n",
            "Index:  5 Original x:  tensor([2., 2.]) Original y:  tensor([1.])\n",
            "Index:  5 Transformed x_: tensor([3., 3.]) Transformed y_: tensor([2.])\n",
            "Index:  6 Original x:  tensor([2., 2.]) Original y:  tensor([1.])\n",
            "Index:  6 Transformed x_: tensor([3., 3.]) Transformed y_: tensor([2.])\n",
            "Index:  7 Original x:  tensor([2., 2.]) Original y:  tensor([1.])\n",
            "Index:  7 Transformed x_: tensor([3., 3.]) Transformed y_: tensor([2.])\n",
            "Index:  8 Original x:  tensor([2., 2.]) Original y:  tensor([1.])\n",
            "Index:  8 Transformed x_: tensor([3., 3.]) Transformed y_: tensor([2.])\n",
            "Index:  9 Original x:  tensor([2., 2.]) Original y:  tensor([1.])\n",
            "Index:  9 Transformed x_: tensor([3., 3.]) Transformed y_: tensor([2.])\n"
          ]
        }
      ],
      "source": [
        "# Use loop to print out first 10 elements in dataset\n",
        "\n",
        "for i in range(10):\n",
        "    x, y = data_set[i]\n",
        "    print('Index: ', i, 'Original x: ', x, 'Original y: ', y)\n",
        "    x_, y_ = cust_data_set[i]\n",
        "    print('Index: ', i, 'Transformed x_:', x_, 'Transformed y_:', y_)"
      ],
      "execution_count": 11
    },
    {
      "cell_type": "markdown",
      "metadata": {
        "id": "74a30bdf-6e17-4941-bd08-b34046908a7b"
      },
      "source": [
        "The result is the same as the previous method.\n"
      ]
    },
    {
      "cell_type": "markdown",
      "metadata": {
        "id": "7d454b9c-3b81-4502-816d-93b4845c7d2a"
      },
      "source": [
        "<!--Empty Space for separating topics-->\n"
      ]
    },
    {
      "cell_type": "code",
      "metadata": {
        "colab": {
          "base_uri": "https://localhost:8080/"
        },
        "id": "e1fde9fb-5099-4045-a24f-b10542d9a2a4",
        "outputId": "2e6eb5cd-a59a-4126-b7c5-f2d0b544720e"
      },
      "outputs": [
        {
          "output_type": "stream",
          "name": "stdout",
          "text": [
            "tensor([8., 8.]) tensor([110.])\n",
            "tensor([8., 8.]) tensor([110.])\n",
            "tensor([8., 8.]) tensor([110.])\n"
          ]
        }
      ],
      "source": [
        "# Practice: Construct your own my_add_mult transform. Apply my_add_mult on a new toy_set object. Print out the first three elements from the transformed dataset.\n",
        "\n",
        "# Type your code here.\n",
        "class my_add_mult(object):\n",
        "  def __init__(self, add = 2, mul=10):\n",
        "    self.add = add\n",
        "    self.mul = mul\n",
        "\n",
        "  def __call__(self, sample):\n",
        "    x = sample[0]\n",
        "    y = sample[1]\n",
        "    x = x + self.add\n",
        "    y = y + self.mul\n",
        "    x = x * self.add\n",
        "    y = y * self.mul\n",
        "    sample = x, y\n",
        "\n",
        "    return sample\n",
        "\n",
        "my_dataset = toy_set(transform=my_add_mult())\n",
        "for i in range(3):\n",
        "  x, y = my_dataset[i]\n",
        "  print(x, y)"
      ],
      "execution_count": 16
    },
    {
      "cell_type": "markdown",
      "metadata": {
        "id": "65ed62a0-04a4-4903-89b3-4c029f2e0fb1"
      },
      "source": [
        "Double-click <b>here</b> for the solution.\n",
        "<!--\n",
        "class my_add_mult(object):   \n",
        "    def __init__(self, add = 2, mul = 10):\n",
        "        self.add=add\n",
        "        self.mul=mul\n",
        "        \n",
        "    def __call__(self, sample):\n",
        "        x = sample[0]\n",
        "        y = sample[1]\n",
        "        x = x + self.add\n",
        "        y = y + self.add\n",
        "        x = x * self.mul\n",
        "        y = y * self.mul\n",
        "        sample = x, y\n",
        "        return sample\n",
        "        \n",
        "       \n",
        "my_dataset = toy_set(transform = my_add_mult())\n",
        "for i in range(3):\n",
        "    x_, y_ = my_dataset[i]\n",
        "    print('Index: ', i, 'Transformed x_:', x_, 'Transformed y_:', y_)\n",
        "    \n",
        " -->\n"
      ]
    },
    {
      "cell_type": "markdown",
      "metadata": {
        "id": "ea23da74-439b-477c-8bb1-2b70eba8b43a"
      },
      "source": [
        "<!--Empty Space for separating topics-->\n"
      ]
    },
    {
      "cell_type": "markdown",
      "metadata": {
        "id": "d04686e5-007c-45b8-b2f1-a715d1cf9079"
      },
      "source": [
        "<h2 id=\"Compose\">Compose</h2>\n"
      ]
    },
    {
      "cell_type": "markdown",
      "metadata": {
        "id": "b0c4cf48-1061-47cc-b3e8-ae4f969aeea2"
      },
      "source": [
        "You can compose multiple transforms on the dataset object. First, import <code>transforms</code> from <code>torchvision</code>:\n"
      ]
    },
    {
      "cell_type": "code",
      "metadata": {
        "id": "517eaec8-fa8a-45e0-b606-cb2b4d35f1c7"
      },
      "outputs": [],
      "source": [
        "# Run the command below when you do not have torchvision installed\n",
        "# !mamba install -y torchvision\n",
        "\n",
        "from torchvision import transforms"
      ],
      "execution_count": 17
    },
    {
      "cell_type": "markdown",
      "metadata": {
        "id": "dd319aed-ce7b-4884-8264-e2236224784e"
      },
      "source": [
        "Then, create a new transform class that multiplies each of the elements by 100:\n"
      ]
    },
    {
      "cell_type": "code",
      "metadata": {
        "id": "e7e309b0-590a-40a5-8be1-89c01abc5723"
      },
      "outputs": [],
      "source": [
        "# Create tranform class mult\n",
        "\n",
        "class mult(object):\n",
        "\n",
        "    # Constructor\n",
        "    def __init__(self, mult = 100):\n",
        "        self.mult = mult\n",
        "\n",
        "    # Executor\n",
        "    def __call__(self, sample):\n",
        "        x = sample[0]\n",
        "        y = sample[1]\n",
        "        x = x * self.mult\n",
        "        y = y * self.mult\n",
        "        sample = x, y\n",
        "        return sample"
      ],
      "execution_count": 18
    },
    {
      "cell_type": "markdown",
      "metadata": {
        "id": "55d3363b-4b9c-47d8-bfb8-706f79f74990"
      },
      "source": [
        "Now let us try to combine the transforms <code>add_mult</code> and <code>mult</code>\n"
      ]
    },
    {
      "cell_type": "code",
      "metadata": {
        "colab": {
          "base_uri": "https://localhost:8080/"
        },
        "id": "672aa9d9-228a-4e34-8e96-b32895944bad",
        "outputId": "300d548a-5711-4fbd-b329-6030856db3df"
      },
      "outputs": [
        {
          "output_type": "stream",
          "name": "stdout",
          "text": [
            "The combination of transforms (Compose):  Compose(\n",
            "    <__main__.add_mult object at 0x7cae8fc8f9d0>\n",
            "    <__main__.mult object at 0x7cae8fca6b50>\n",
            ")\n"
          ]
        }
      ],
      "source": [
        "# Combine the add_mult() and mult()\n",
        "\n",
        "data_transform = transforms.Compose([add_mult(), mult()])\n",
        "print(\"The combination of transforms (Compose): \", data_transform)\n"
      ],
      "execution_count": 19
    },
    {
      "cell_type": "markdown",
      "metadata": {
        "id": "849799c5-d3b1-48fa-b830-840103df4772"
      },
      "source": [
        "The new <code>Compose</code> object will perform each transform concurrently as shown in this figure:\n"
      ]
    },
    {
      "cell_type": "markdown",
      "metadata": {
        "id": "d200bccd-a61a-4b6a-8c6c-fe4f9bbcf94f"
      },
      "source": [
        "<img src=\"https://s3-api.us-geo.objectstorage.softlayer.net/cf-courses-data/CognitiveClass/DL0110EN/notebook_images%20/chapter%201/1.3.1_trasform.png\" width=\"500\" alt=\"Compose PyTorch\">\n"
      ]
    },
    {
      "cell_type": "code",
      "metadata": {
        "colab": {
          "base_uri": "https://localhost:8080/"
        },
        "id": "ea097ba0-0c1a-41d0-8b2f-71a82fecec5a",
        "outputId": "b56588b1-3ee8-4999-9c58-cdf57158f2ff"
      },
      "outputs": [
        {
          "output_type": "execute_result",
          "data": {
            "text/plain": [
              "(tensor([300., 300.]), tensor([200.]))"
            ]
          },
          "metadata": {},
          "execution_count": 20
        }
      ],
      "source": [
        "data_transform(data_set[0])"
      ],
      "execution_count": 20
    },
    {
      "cell_type": "code",
      "metadata": {
        "colab": {
          "base_uri": "https://localhost:8080/"
        },
        "id": "caacf8cd-e146-4fa9-bc4f-4d644e133519",
        "outputId": "946dd672-857e-4a5f-97a1-acf135bac83b"
      },
      "outputs": [
        {
          "output_type": "stream",
          "name": "stdout",
          "text": [
            "Original x:  tensor([2., 2.]) Original y:  tensor([1.])\n",
            "Transformed x_: tensor([300., 300.]) Transformed y_: tensor([200.])\n"
          ]
        }
      ],
      "source": [
        "x,y=data_set[0]\n",
        "x_,y_=data_transform(data_set[0])\n",
        "print( 'Original x: ', x, 'Original y: ', y)\n",
        "\n",
        "print( 'Transformed x_:', x_, 'Transformed y_:', y_)"
      ],
      "execution_count": 21
    },
    {
      "cell_type": "markdown",
      "metadata": {
        "id": "0b06d3b9-e9cc-4797-9c9a-aa7057de54f8"
      },
      "source": [
        "Now we can pass the new <code>Compose</code> object (The combination of methods <code>add_mult()</code> and <code>mult</code>) to the constructor for creating <code>toy_set</code> object.\n"
      ]
    },
    {
      "cell_type": "code",
      "metadata": {
        "id": "96c89026-a01d-4a77-acf2-43ec0beccaea"
      },
      "outputs": [],
      "source": [
        "# Create a new toy_set object with compose object as transform\n",
        "\n",
        "compose_data_set = toy_set(transform = data_transform)"
      ],
      "execution_count": 22
    },
    {
      "cell_type": "markdown",
      "metadata": {
        "id": "a123ef5d-dc08-4b6d-a0e7-2772ccd0ac8b"
      },
      "source": [
        "Let us print out the first 3 elements in different <code>toy_set</code> datasets in order to compare the output after different transforms have been applied:\n"
      ]
    },
    {
      "cell_type": "code",
      "metadata": {
        "colab": {
          "base_uri": "https://localhost:8080/"
        },
        "id": "09928083-c569-41af-987d-cc080a9f66ba",
        "outputId": "804307ae-62cb-47fa-dcc1-adcc740ce6d1"
      },
      "outputs": [
        {
          "output_type": "stream",
          "name": "stdout",
          "text": [
            "Index:  0 Original x:  tensor([2., 2.]) Original y:  tensor([1.])\n",
            "Index:  0 Transformed x_: tensor([3., 3.]) Transformed y_: tensor([2.])\n",
            "Index:  0 Compose Transformed x_co:  tensor([300., 300.]) Compose Transformed y_co:  tensor([200.])\n",
            "Index:  1 Original x:  tensor([2., 2.]) Original y:  tensor([1.])\n",
            "Index:  1 Transformed x_: tensor([3., 3.]) Transformed y_: tensor([2.])\n",
            "Index:  1 Compose Transformed x_co:  tensor([300., 300.]) Compose Transformed y_co:  tensor([200.])\n",
            "Index:  2 Original x:  tensor([2., 2.]) Original y:  tensor([1.])\n",
            "Index:  2 Transformed x_: tensor([3., 3.]) Transformed y_: tensor([2.])\n",
            "Index:  2 Compose Transformed x_co:  tensor([300., 300.]) Compose Transformed y_co:  tensor([200.])\n"
          ]
        }
      ],
      "source": [
        "# Use loop to print out first 3 elements in dataset\n",
        "\n",
        "for i in range(3):\n",
        "    x, y = data_set[i]\n",
        "    print('Index: ', i, 'Original x: ', x, 'Original y: ', y)\n",
        "    x_, y_ = cust_data_set[i]\n",
        "    print('Index: ', i, 'Transformed x_:', x_, 'Transformed y_:', y_)\n",
        "    x_co, y_co = compose_data_set[i]\n",
        "    print('Index: ', i, 'Compose Transformed x_co: ', x_co ,'Compose Transformed y_co: ',y_co)"
      ],
      "execution_count": 23
    },
    {
      "cell_type": "markdown",
      "metadata": {
        "id": "8bae6938-88e9-4a2a-9239-424f9ebfb748"
      },
      "source": [
        "Let us see what happened on index 0. The original value of <code>x</code> is <i>[2, 2]</i>, and the original value of <code>y</code> is [1]. If we only applied <code>add_mult()</code> on the original dataset, then the <code>x</code> became <i>[3, 3]</i> and y became <i>[2]</i>. Now let us see what is the value after applied both <code>add_mult()</code> and <code>mult()</code>. The result of x is <i>[300, 300]</i> and y is <i>[200]</i>. The calculation which is equavalent to the compose is <i> x = ([2, 2] + 1) x 100 = [300, 300], y = ([1] x 2) x 100 = 200</i>\n"
      ]
    },
    {
      "cell_type": "markdown",
      "metadata": {
        "id": "cc670491-fca3-46e3-ae58-d3e99557317f"
      },
      "source": [
        "<h3>Practice</h3>\n"
      ]
    },
    {
      "cell_type": "markdown",
      "metadata": {
        "id": "7f26bf31-f6d1-44fe-be0f-31becc433ca4"
      },
      "source": [
        "Try to combine the <code>mult()</code> and <code>add_mult()</code> as <code>mult()</code> to be executed first. And apply this on a new <code>toy_set</code> dataset. Print out the first 3 elements in the transformed dataset.\n"
      ]
    },
    {
      "cell_type": "code",
      "metadata": {
        "colab": {
          "base_uri": "https://localhost:8080/"
        },
        "id": "88b4c738-4102-4f9e-b02e-0adb1c6d2833",
        "outputId": "92fd25d9-d257-42fe-8a4b-213ca77cc4d1"
      },
      "outputs": [
        {
          "output_type": "stream",
          "name": "stdout",
          "text": [
            "tensor([201., 201.]) tensor([200.])\n",
            "tensor([201., 201.]) tensor([200.])\n",
            "tensor([201., 201.]) tensor([200.])\n"
          ]
        }
      ],
      "source": [
        "# Practice: Make a compose as mult() execute first and then add_mult(). Apply the compose on toy_set dataset. Print out the first 3 elements in the transformed dataset.\n",
        "\n",
        "# Type your code here.\n",
        "my_compose = transforms.Compose([mult(), add_mult()])\n",
        "my_transformed_dataset = toy_set(transform = my_compose)\n",
        "for i in range(3):\n",
        "  x_, y_ = my_transformed_dataset[i]\n",
        "  print(x_, y_)"
      ],
      "execution_count": 27
    },
    {
      "cell_type": "markdown",
      "metadata": {
        "id": "7f355abc-2eff-4842-9f3e-577d191fb6e8"
      },
      "source": [
        "Double-click <b>here</b> for the solution.\n",
        "<!--\n",
        "my_compose = transforms.Compose([mult(), add_mult()])\n",
        "my_transformed_dataset = toy_set(transform = my_compose)\n",
        "for i in range(3):\n",
        "    x_, y_ = my_transformed_dataset[i]\n",
        "    print('Index: ', i, 'Transformed x_:', x_, 'Transformed y_:', y_)\n",
        "-->\n"
      ]
    },
    {
      "cell_type": "markdown",
      "metadata": {
        "id": "229baa73-e3ff-4999-ae88-fb2f8c6296a9"
      },
      "source": [
        "<a href=\"https://dataplatform.cloud.ibm.com/registration/stepone?utm_source=skills_network&utm_content=in_lab_content_link&utm_id=Lab-IBMDeveloperSkillsNetwork-DL0110EN-SkillsNetwork&context=cpdaas&apps=data_science_experience%2Cwatson_machine_learning\"><img src=\"https://cf-courses-data.s3.us.cloud-object-storage.appdomain.cloud/IBMDeveloperSkillsNetwork-DL0110EN-SkillsNetwork/Template/module%201/images/Watson_Studio.png\"></a>\n"
      ]
    },
    {
      "cell_type": "markdown",
      "metadata": {
        "id": "81024f73-2917-453e-84a6-c7be0850291f"
      },
      "source": [
        "<h2>About the Authors:</h2>\n",
        "\n",
        "<a href=\"https://www.linkedin.com/in/joseph-s-50398b136/\">Joseph Santarcangelo</a> has a PhD in Electrical Engineering, his research focused on using machine learning, signal processing, and computer vision to determine how videos impact human cognition. Joseph has been working for IBM since he completed his PhD.\n"
      ]
    },
    {
      "cell_type": "markdown",
      "metadata": {
        "id": "7aa487b2-52f6-4912-8097-9c56b471e05d"
      },
      "source": [
        "Other contributors: <a href=\"https://www.linkedin.com/in/michelleccarey/\">Michelle Carey</a>, <a href=\"www.linkedin.com/in/jiahui-mavis-zhou-a4537814a\">Mavis Zhou</a>\n"
      ]
    },
    {
      "cell_type": "markdown",
      "metadata": {
        "id": "bfd6aa66-bf97-4cd6-993a-7986730b903b"
      },
      "source": [
        "<!--\n",
        "## Change Log\n",
        "\n",
        "|  Date (YYYY-MM-DD) |  Version | Changed By  |  Change Description |\n",
        "|---|---|---|---|\n",
        "| 2020-09-21  | 2.0  | Shubham  |  Migrated Lab to Markdown and added to course repo in GitLab |\n",
        "\n",
        "-->\n"
      ]
    },
    {
      "cell_type": "markdown",
      "metadata": {
        "id": "38771196-1fd2-4a7d-88f2-5dc9ee97e0ec"
      },
      "source": [
        "<hr>\n"
      ]
    },
    {
      "cell_type": "markdown",
      "metadata": {
        "id": "add83843-f234-4c5a-8081-9aee861837b5"
      },
      "source": [
        "## <h3 align=\"center\"> &#169; IBM Corporation. All rights reserved. <h3/>\n"
      ]
    }
  ],
  "metadata": {
    "kernelspec": {
      "display_name": "Python",
      "language": "python",
      "name": "conda-env-python-py"
    },
    "language_info": {
      "codemirror_mode": {
        "name": "ipython",
        "version": 3
      },
      "file_extension": ".py",
      "mimetype": "text/x-python",
      "name": "python",
      "nbconvert_exporter": "python",
      "pygments_lexer": "ipython3",
      "version": "3.7.12"
    },
    "prev_pub_hash": "a982f8d570cadeac4965b6eb3cd5ae49fa4571396772f64b4dbfe76385a752d9",
    "colab": {
      "provenance": []
    }
  },
  "nbformat": 4,
  "nbformat_minor": 0
}